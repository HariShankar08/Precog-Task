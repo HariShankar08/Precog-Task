{
  "nbformat": 4,
  "nbformat_minor": 0,
  "metadata": {
    "colab": {
      "provenance": []
    },
    "kernelspec": {
      "name": "python3",
      "display_name": "Python 3"
    },
    "language_info": {
      "name": "python"
    }
  },
  "cells": [
    {
      "cell_type": "markdown",
      "source": [
        "# Word Similarity (Constrained)"
      ],
      "metadata": {
        "id": "h2-wVE5E_czA"
      }
    },
    {
      "cell_type": "markdown",
      "source": [
        "## Setup (General)"
      ],
      "metadata": {
        "id": "9-zTqdW4_ZWe"
      }
    },
    {
      "cell_type": "code",
      "execution_count": 1,
      "metadata": {
        "id": "yKAlUdxj_WCi"
      },
      "outputs": [],
      "source": [
        "import numpy as np\n",
        "import pandas as pd"
      ]
    },
    {
      "cell_type": "code",
      "source": [
        "df = pd.read_csv('SimLex-999.txt', delimiter='\\t')\n",
        "\n",
        "df"
      ],
      "metadata": {
        "colab": {
          "base_uri": "https://localhost:8080/",
          "height": 424
        },
        "id": "yUon0T6S_s8T",
        "outputId": "e9cb663c-6029-4d46-c26d-f879639a7008"
      },
      "execution_count": 2,
      "outputs": [
        {
          "output_type": "execute_result",
          "data": {
            "text/plain": [
              "      word1        word2 POS  SimLex999  conc(w1)  conc(w2)  concQ  \\\n",
              "0       old          new   A       1.58      2.72      2.81      2   \n",
              "1     smart  intelligent   A       9.20      1.75      2.46      1   \n",
              "2      hard    difficult   A       8.77      3.76      2.21      2   \n",
              "3     happy     cheerful   A       9.55      2.56      2.34      1   \n",
              "4      hard         easy   A       0.95      3.76      2.07      2   \n",
              "..      ...          ...  ..        ...       ...       ...    ...   \n",
              "994    join      acquire   V       2.85      2.86      2.93      2   \n",
              "995    send       attend   V       1.67      2.70      3.17      2   \n",
              "996  gather       attend   V       4.80      2.75      3.17      2   \n",
              "997  absorb     withdraw   V       2.97      3.11      3.04      2   \n",
              "998  attend       arrive   V       6.08      3.17      3.22      2   \n",
              "\n",
              "     Assoc(USF)  SimAssoc333  SD(SimLex)  \n",
              "0          7.25            1        0.41  \n",
              "1          7.11            1        0.67  \n",
              "2          5.94            1        1.19  \n",
              "3          5.85            1        2.18  \n",
              "4          5.82            1        0.93  \n",
              "..          ...          ...         ...  \n",
              "994        0.00            0        0.99  \n",
              "995        0.00            0        1.44  \n",
              "996        0.00            0        1.97  \n",
              "997        0.00            0        1.75  \n",
              "998        0.00            0        1.18  \n",
              "\n",
              "[999 rows x 10 columns]"
            ],
            "text/html": [
              "\n",
              "  <div id=\"df-48d10082-0304-4663-bac9-566b2b2bc0e8\" class=\"colab-df-container\">\n",
              "    <div>\n",
              "<style scoped>\n",
              "    .dataframe tbody tr th:only-of-type {\n",
              "        vertical-align: middle;\n",
              "    }\n",
              "\n",
              "    .dataframe tbody tr th {\n",
              "        vertical-align: top;\n",
              "    }\n",
              "\n",
              "    .dataframe thead th {\n",
              "        text-align: right;\n",
              "    }\n",
              "</style>\n",
              "<table border=\"1\" class=\"dataframe\">\n",
              "  <thead>\n",
              "    <tr style=\"text-align: right;\">\n",
              "      <th></th>\n",
              "      <th>word1</th>\n",
              "      <th>word2</th>\n",
              "      <th>POS</th>\n",
              "      <th>SimLex999</th>\n",
              "      <th>conc(w1)</th>\n",
              "      <th>conc(w2)</th>\n",
              "      <th>concQ</th>\n",
              "      <th>Assoc(USF)</th>\n",
              "      <th>SimAssoc333</th>\n",
              "      <th>SD(SimLex)</th>\n",
              "    </tr>\n",
              "  </thead>\n",
              "  <tbody>\n",
              "    <tr>\n",
              "      <th>0</th>\n",
              "      <td>old</td>\n",
              "      <td>new</td>\n",
              "      <td>A</td>\n",
              "      <td>1.58</td>\n",
              "      <td>2.72</td>\n",
              "      <td>2.81</td>\n",
              "      <td>2</td>\n",
              "      <td>7.25</td>\n",
              "      <td>1</td>\n",
              "      <td>0.41</td>\n",
              "    </tr>\n",
              "    <tr>\n",
              "      <th>1</th>\n",
              "      <td>smart</td>\n",
              "      <td>intelligent</td>\n",
              "      <td>A</td>\n",
              "      <td>9.20</td>\n",
              "      <td>1.75</td>\n",
              "      <td>2.46</td>\n",
              "      <td>1</td>\n",
              "      <td>7.11</td>\n",
              "      <td>1</td>\n",
              "      <td>0.67</td>\n",
              "    </tr>\n",
              "    <tr>\n",
              "      <th>2</th>\n",
              "      <td>hard</td>\n",
              "      <td>difficult</td>\n",
              "      <td>A</td>\n",
              "      <td>8.77</td>\n",
              "      <td>3.76</td>\n",
              "      <td>2.21</td>\n",
              "      <td>2</td>\n",
              "      <td>5.94</td>\n",
              "      <td>1</td>\n",
              "      <td>1.19</td>\n",
              "    </tr>\n",
              "    <tr>\n",
              "      <th>3</th>\n",
              "      <td>happy</td>\n",
              "      <td>cheerful</td>\n",
              "      <td>A</td>\n",
              "      <td>9.55</td>\n",
              "      <td>2.56</td>\n",
              "      <td>2.34</td>\n",
              "      <td>1</td>\n",
              "      <td>5.85</td>\n",
              "      <td>1</td>\n",
              "      <td>2.18</td>\n",
              "    </tr>\n",
              "    <tr>\n",
              "      <th>4</th>\n",
              "      <td>hard</td>\n",
              "      <td>easy</td>\n",
              "      <td>A</td>\n",
              "      <td>0.95</td>\n",
              "      <td>3.76</td>\n",
              "      <td>2.07</td>\n",
              "      <td>2</td>\n",
              "      <td>5.82</td>\n",
              "      <td>1</td>\n",
              "      <td>0.93</td>\n",
              "    </tr>\n",
              "    <tr>\n",
              "      <th>...</th>\n",
              "      <td>...</td>\n",
              "      <td>...</td>\n",
              "      <td>...</td>\n",
              "      <td>...</td>\n",
              "      <td>...</td>\n",
              "      <td>...</td>\n",
              "      <td>...</td>\n",
              "      <td>...</td>\n",
              "      <td>...</td>\n",
              "      <td>...</td>\n",
              "    </tr>\n",
              "    <tr>\n",
              "      <th>994</th>\n",
              "      <td>join</td>\n",
              "      <td>acquire</td>\n",
              "      <td>V</td>\n",
              "      <td>2.85</td>\n",
              "      <td>2.86</td>\n",
              "      <td>2.93</td>\n",
              "      <td>2</td>\n",
              "      <td>0.00</td>\n",
              "      <td>0</td>\n",
              "      <td>0.99</td>\n",
              "    </tr>\n",
              "    <tr>\n",
              "      <th>995</th>\n",
              "      <td>send</td>\n",
              "      <td>attend</td>\n",
              "      <td>V</td>\n",
              "      <td>1.67</td>\n",
              "      <td>2.70</td>\n",
              "      <td>3.17</td>\n",
              "      <td>2</td>\n",
              "      <td>0.00</td>\n",
              "      <td>0</td>\n",
              "      <td>1.44</td>\n",
              "    </tr>\n",
              "    <tr>\n",
              "      <th>996</th>\n",
              "      <td>gather</td>\n",
              "      <td>attend</td>\n",
              "      <td>V</td>\n",
              "      <td>4.80</td>\n",
              "      <td>2.75</td>\n",
              "      <td>3.17</td>\n",
              "      <td>2</td>\n",
              "      <td>0.00</td>\n",
              "      <td>0</td>\n",
              "      <td>1.97</td>\n",
              "    </tr>\n",
              "    <tr>\n",
              "      <th>997</th>\n",
              "      <td>absorb</td>\n",
              "      <td>withdraw</td>\n",
              "      <td>V</td>\n",
              "      <td>2.97</td>\n",
              "      <td>3.11</td>\n",
              "      <td>3.04</td>\n",
              "      <td>2</td>\n",
              "      <td>0.00</td>\n",
              "      <td>0</td>\n",
              "      <td>1.75</td>\n",
              "    </tr>\n",
              "    <tr>\n",
              "      <th>998</th>\n",
              "      <td>attend</td>\n",
              "      <td>arrive</td>\n",
              "      <td>V</td>\n",
              "      <td>6.08</td>\n",
              "      <td>3.17</td>\n",
              "      <td>3.22</td>\n",
              "      <td>2</td>\n",
              "      <td>0.00</td>\n",
              "      <td>0</td>\n",
              "      <td>1.18</td>\n",
              "    </tr>\n",
              "  </tbody>\n",
              "</table>\n",
              "<p>999 rows × 10 columns</p>\n",
              "</div>\n",
              "    <div class=\"colab-df-buttons\">\n",
              "\n",
              "  <div class=\"colab-df-container\">\n",
              "    <button class=\"colab-df-convert\" onclick=\"convertToInteractive('df-48d10082-0304-4663-bac9-566b2b2bc0e8')\"\n",
              "            title=\"Convert this dataframe to an interactive table.\"\n",
              "            style=\"display:none;\">\n",
              "\n",
              "  <svg xmlns=\"http://www.w3.org/2000/svg\" height=\"24px\" viewBox=\"0 -960 960 960\">\n",
              "    <path d=\"M120-120v-720h720v720H120Zm60-500h600v-160H180v160Zm220 220h160v-160H400v160Zm0 220h160v-160H400v160ZM180-400h160v-160H180v160Zm440 0h160v-160H620v160ZM180-180h160v-160H180v160Zm440 0h160v-160H620v160Z\"/>\n",
              "  </svg>\n",
              "    </button>\n",
              "\n",
              "  <style>\n",
              "    .colab-df-container {\n",
              "      display:flex;\n",
              "      gap: 12px;\n",
              "    }\n",
              "\n",
              "    .colab-df-convert {\n",
              "      background-color: #E8F0FE;\n",
              "      border: none;\n",
              "      border-radius: 50%;\n",
              "      cursor: pointer;\n",
              "      display: none;\n",
              "      fill: #1967D2;\n",
              "      height: 32px;\n",
              "      padding: 0 0 0 0;\n",
              "      width: 32px;\n",
              "    }\n",
              "\n",
              "    .colab-df-convert:hover {\n",
              "      background-color: #E2EBFA;\n",
              "      box-shadow: 0px 1px 2px rgba(60, 64, 67, 0.3), 0px 1px 3px 1px rgba(60, 64, 67, 0.15);\n",
              "      fill: #174EA6;\n",
              "    }\n",
              "\n",
              "    .colab-df-buttons div {\n",
              "      margin-bottom: 4px;\n",
              "    }\n",
              "\n",
              "    [theme=dark] .colab-df-convert {\n",
              "      background-color: #3B4455;\n",
              "      fill: #D2E3FC;\n",
              "    }\n",
              "\n",
              "    [theme=dark] .colab-df-convert:hover {\n",
              "      background-color: #434B5C;\n",
              "      box-shadow: 0px 1px 3px 1px rgba(0, 0, 0, 0.15);\n",
              "      filter: drop-shadow(0px 1px 2px rgba(0, 0, 0, 0.3));\n",
              "      fill: #FFFFFF;\n",
              "    }\n",
              "  </style>\n",
              "\n",
              "    <script>\n",
              "      const buttonEl =\n",
              "        document.querySelector('#df-48d10082-0304-4663-bac9-566b2b2bc0e8 button.colab-df-convert');\n",
              "      buttonEl.style.display =\n",
              "        google.colab.kernel.accessAllowed ? 'block' : 'none';\n",
              "\n",
              "      async function convertToInteractive(key) {\n",
              "        const element = document.querySelector('#df-48d10082-0304-4663-bac9-566b2b2bc0e8');\n",
              "        const dataTable =\n",
              "          await google.colab.kernel.invokeFunction('convertToInteractive',\n",
              "                                                    [key], {});\n",
              "        if (!dataTable) return;\n",
              "\n",
              "        const docLinkHtml = 'Like what you see? Visit the ' +\n",
              "          '<a target=\"_blank\" href=https://colab.research.google.com/notebooks/data_table.ipynb>data table notebook</a>'\n",
              "          + ' to learn more about interactive tables.';\n",
              "        element.innerHTML = '';\n",
              "        dataTable['output_type'] = 'display_data';\n",
              "        await google.colab.output.renderOutput(dataTable, element);\n",
              "        const docLink = document.createElement('div');\n",
              "        docLink.innerHTML = docLinkHtml;\n",
              "        element.appendChild(docLink);\n",
              "      }\n",
              "    </script>\n",
              "  </div>\n",
              "\n",
              "\n",
              "<div id=\"df-767b226f-1449-4358-9f88-4a613d94b2cf\">\n",
              "  <button class=\"colab-df-quickchart\" onclick=\"quickchart('df-767b226f-1449-4358-9f88-4a613d94b2cf')\"\n",
              "            title=\"Suggest charts\"\n",
              "            style=\"display:none;\">\n",
              "\n",
              "<svg xmlns=\"http://www.w3.org/2000/svg\" height=\"24px\"viewBox=\"0 0 24 24\"\n",
              "     width=\"24px\">\n",
              "    <g>\n",
              "        <path d=\"M19 3H5c-1.1 0-2 .9-2 2v14c0 1.1.9 2 2 2h14c1.1 0 2-.9 2-2V5c0-1.1-.9-2-2-2zM9 17H7v-7h2v7zm4 0h-2V7h2v10zm4 0h-2v-4h2v4z\"/>\n",
              "    </g>\n",
              "</svg>\n",
              "  </button>\n",
              "\n",
              "<style>\n",
              "  .colab-df-quickchart {\n",
              "      --bg-color: #E8F0FE;\n",
              "      --fill-color: #1967D2;\n",
              "      --hover-bg-color: #E2EBFA;\n",
              "      --hover-fill-color: #174EA6;\n",
              "      --disabled-fill-color: #AAA;\n",
              "      --disabled-bg-color: #DDD;\n",
              "  }\n",
              "\n",
              "  [theme=dark] .colab-df-quickchart {\n",
              "      --bg-color: #3B4455;\n",
              "      --fill-color: #D2E3FC;\n",
              "      --hover-bg-color: #434B5C;\n",
              "      --hover-fill-color: #FFFFFF;\n",
              "      --disabled-bg-color: #3B4455;\n",
              "      --disabled-fill-color: #666;\n",
              "  }\n",
              "\n",
              "  .colab-df-quickchart {\n",
              "    background-color: var(--bg-color);\n",
              "    border: none;\n",
              "    border-radius: 50%;\n",
              "    cursor: pointer;\n",
              "    display: none;\n",
              "    fill: var(--fill-color);\n",
              "    height: 32px;\n",
              "    padding: 0;\n",
              "    width: 32px;\n",
              "  }\n",
              "\n",
              "  .colab-df-quickchart:hover {\n",
              "    background-color: var(--hover-bg-color);\n",
              "    box-shadow: 0 1px 2px rgba(60, 64, 67, 0.3), 0 1px 3px 1px rgba(60, 64, 67, 0.15);\n",
              "    fill: var(--button-hover-fill-color);\n",
              "  }\n",
              "\n",
              "  .colab-df-quickchart-complete:disabled,\n",
              "  .colab-df-quickchart-complete:disabled:hover {\n",
              "    background-color: var(--disabled-bg-color);\n",
              "    fill: var(--disabled-fill-color);\n",
              "    box-shadow: none;\n",
              "  }\n",
              "\n",
              "  .colab-df-spinner {\n",
              "    border: 2px solid var(--fill-color);\n",
              "    border-color: transparent;\n",
              "    border-bottom-color: var(--fill-color);\n",
              "    animation:\n",
              "      spin 1s steps(1) infinite;\n",
              "  }\n",
              "\n",
              "  @keyframes spin {\n",
              "    0% {\n",
              "      border-color: transparent;\n",
              "      border-bottom-color: var(--fill-color);\n",
              "      border-left-color: var(--fill-color);\n",
              "    }\n",
              "    20% {\n",
              "      border-color: transparent;\n",
              "      border-left-color: var(--fill-color);\n",
              "      border-top-color: var(--fill-color);\n",
              "    }\n",
              "    30% {\n",
              "      border-color: transparent;\n",
              "      border-left-color: var(--fill-color);\n",
              "      border-top-color: var(--fill-color);\n",
              "      border-right-color: var(--fill-color);\n",
              "    }\n",
              "    40% {\n",
              "      border-color: transparent;\n",
              "      border-right-color: var(--fill-color);\n",
              "      border-top-color: var(--fill-color);\n",
              "    }\n",
              "    60% {\n",
              "      border-color: transparent;\n",
              "      border-right-color: var(--fill-color);\n",
              "    }\n",
              "    80% {\n",
              "      border-color: transparent;\n",
              "      border-right-color: var(--fill-color);\n",
              "      border-bottom-color: var(--fill-color);\n",
              "    }\n",
              "    90% {\n",
              "      border-color: transparent;\n",
              "      border-bottom-color: var(--fill-color);\n",
              "    }\n",
              "  }\n",
              "</style>\n",
              "\n",
              "  <script>\n",
              "    async function quickchart(key) {\n",
              "      const quickchartButtonEl =\n",
              "        document.querySelector('#' + key + ' button');\n",
              "      quickchartButtonEl.disabled = true;  // To prevent multiple clicks.\n",
              "      quickchartButtonEl.classList.add('colab-df-spinner');\n",
              "      try {\n",
              "        const charts = await google.colab.kernel.invokeFunction(\n",
              "            'suggestCharts', [key], {});\n",
              "      } catch (error) {\n",
              "        console.error('Error during call to suggestCharts:', error);\n",
              "      }\n",
              "      quickchartButtonEl.classList.remove('colab-df-spinner');\n",
              "      quickchartButtonEl.classList.add('colab-df-quickchart-complete');\n",
              "    }\n",
              "    (() => {\n",
              "      let quickchartButtonEl =\n",
              "        document.querySelector('#df-767b226f-1449-4358-9f88-4a613d94b2cf button');\n",
              "      quickchartButtonEl.style.display =\n",
              "        google.colab.kernel.accessAllowed ? 'block' : 'none';\n",
              "    })();\n",
              "  </script>\n",
              "</div>\n",
              "\n",
              "  <div id=\"id_8aaf9226-264c-4570-b54d-784646650ed2\">\n",
              "    <style>\n",
              "      .colab-df-generate {\n",
              "        background-color: #E8F0FE;\n",
              "        border: none;\n",
              "        border-radius: 50%;\n",
              "        cursor: pointer;\n",
              "        display: none;\n",
              "        fill: #1967D2;\n",
              "        height: 32px;\n",
              "        padding: 0 0 0 0;\n",
              "        width: 32px;\n",
              "      }\n",
              "\n",
              "      .colab-df-generate:hover {\n",
              "        background-color: #E2EBFA;\n",
              "        box-shadow: 0px 1px 2px rgba(60, 64, 67, 0.3), 0px 1px 3px 1px rgba(60, 64, 67, 0.15);\n",
              "        fill: #174EA6;\n",
              "      }\n",
              "\n",
              "      [theme=dark] .colab-df-generate {\n",
              "        background-color: #3B4455;\n",
              "        fill: #D2E3FC;\n",
              "      }\n",
              "\n",
              "      [theme=dark] .colab-df-generate:hover {\n",
              "        background-color: #434B5C;\n",
              "        box-shadow: 0px 1px 3px 1px rgba(0, 0, 0, 0.15);\n",
              "        filter: drop-shadow(0px 1px 2px rgba(0, 0, 0, 0.3));\n",
              "        fill: #FFFFFF;\n",
              "      }\n",
              "    </style>\n",
              "    <button class=\"colab-df-generate\" onclick=\"generateWithVariable('df')\"\n",
              "            title=\"Generate code using this dataframe.\"\n",
              "            style=\"display:none;\">\n",
              "\n",
              "  <svg xmlns=\"http://www.w3.org/2000/svg\" height=\"24px\"viewBox=\"0 0 24 24\"\n",
              "       width=\"24px\">\n",
              "    <path d=\"M7,19H8.4L18.45,9,17,7.55,7,17.6ZM5,21V16.75L18.45,3.32a2,2,0,0,1,2.83,0l1.4,1.43a1.91,1.91,0,0,1,.58,1.4,1.91,1.91,0,0,1-.58,1.4L9.25,21ZM18.45,9,17,7.55Zm-12,3A5.31,5.31,0,0,0,4.9,8.1,5.31,5.31,0,0,0,1,6.5,5.31,5.31,0,0,0,4.9,4.9,5.31,5.31,0,0,0,6.5,1,5.31,5.31,0,0,0,8.1,4.9,5.31,5.31,0,0,0,12,6.5,5.46,5.46,0,0,0,6.5,12Z\"/>\n",
              "  </svg>\n",
              "    </button>\n",
              "    <script>\n",
              "      (() => {\n",
              "      const buttonEl =\n",
              "        document.querySelector('#id_8aaf9226-264c-4570-b54d-784646650ed2 button.colab-df-generate');\n",
              "      buttonEl.style.display =\n",
              "        google.colab.kernel.accessAllowed ? 'block' : 'none';\n",
              "\n",
              "      buttonEl.onclick = () => {\n",
              "        google.colab.notebook.generateWithVariable('df');\n",
              "      }\n",
              "      })();\n",
              "    </script>\n",
              "  </div>\n",
              "\n",
              "    </div>\n",
              "  </div>\n"
            ]
          },
          "metadata": {},
          "execution_count": 2
        }
      ]
    },
    {
      "cell_type": "code",
      "source": [
        "df.POS.unique()"
      ],
      "metadata": {
        "colab": {
          "base_uri": "https://localhost:8080/"
        },
        "id": "gaPqb5I4Ad_I",
        "outputId": "b4376757-7ce0-4fbb-9822-6ded83f3ac9a"
      },
      "execution_count": 3,
      "outputs": [
        {
          "output_type": "execute_result",
          "data": {
            "text/plain": [
              "array(['A', 'N', 'V'], dtype=object)"
            ]
          },
          "metadata": {},
          "execution_count": 3
        }
      ]
    },
    {
      "cell_type": "code",
      "source": [
        "# Setup for accessing VAD scores\n",
        "nrc = pd.read_csv('NRC-VAD-Lexicon.txt', delimiter='\\t', header=None)\n",
        "\n",
        "nrc.columns = ['word', 'valence', 'arousal', 'dominance']\n",
        "nrc = nrc.set_index('word')\n",
        "\n",
        "nrc"
      ],
      "metadata": {
        "colab": {
          "base_uri": "https://localhost:8080/",
          "height": 455
        },
        "id": "5NCY4k9yAg3O",
        "outputId": "3cdd095b-1036-4b36-b3a0-4013c6092d74"
      },
      "execution_count": 4,
      "outputs": [
        {
          "output_type": "execute_result",
          "data": {
            "text/plain": [
              "            valence  arousal  dominance\n",
              "word                                   \n",
              "aaaaaaah      0.479    0.606      0.291\n",
              "aaaah         0.520    0.636      0.282\n",
              "aardvark      0.427    0.490      0.437\n",
              "aback         0.385    0.407      0.288\n",
              "abacus        0.510    0.276      0.485\n",
              "...             ...      ...        ...\n",
              "zoo           0.760    0.520      0.580\n",
              "zoological    0.667    0.458      0.492\n",
              "zoology       0.568    0.347      0.509\n",
              "zoom          0.490    0.520      0.462\n",
              "zucchini      0.510    0.321      0.250\n",
              "\n",
              "[19971 rows x 3 columns]"
            ],
            "text/html": [
              "\n",
              "  <div id=\"df-f7326a2f-6d68-40a8-8cad-20bcfcb24795\" class=\"colab-df-container\">\n",
              "    <div>\n",
              "<style scoped>\n",
              "    .dataframe tbody tr th:only-of-type {\n",
              "        vertical-align: middle;\n",
              "    }\n",
              "\n",
              "    .dataframe tbody tr th {\n",
              "        vertical-align: top;\n",
              "    }\n",
              "\n",
              "    .dataframe thead th {\n",
              "        text-align: right;\n",
              "    }\n",
              "</style>\n",
              "<table border=\"1\" class=\"dataframe\">\n",
              "  <thead>\n",
              "    <tr style=\"text-align: right;\">\n",
              "      <th></th>\n",
              "      <th>valence</th>\n",
              "      <th>arousal</th>\n",
              "      <th>dominance</th>\n",
              "    </tr>\n",
              "    <tr>\n",
              "      <th>word</th>\n",
              "      <th></th>\n",
              "      <th></th>\n",
              "      <th></th>\n",
              "    </tr>\n",
              "  </thead>\n",
              "  <tbody>\n",
              "    <tr>\n",
              "      <th>aaaaaaah</th>\n",
              "      <td>0.479</td>\n",
              "      <td>0.606</td>\n",
              "      <td>0.291</td>\n",
              "    </tr>\n",
              "    <tr>\n",
              "      <th>aaaah</th>\n",
              "      <td>0.520</td>\n",
              "      <td>0.636</td>\n",
              "      <td>0.282</td>\n",
              "    </tr>\n",
              "    <tr>\n",
              "      <th>aardvark</th>\n",
              "      <td>0.427</td>\n",
              "      <td>0.490</td>\n",
              "      <td>0.437</td>\n",
              "    </tr>\n",
              "    <tr>\n",
              "      <th>aback</th>\n",
              "      <td>0.385</td>\n",
              "      <td>0.407</td>\n",
              "      <td>0.288</td>\n",
              "    </tr>\n",
              "    <tr>\n",
              "      <th>abacus</th>\n",
              "      <td>0.510</td>\n",
              "      <td>0.276</td>\n",
              "      <td>0.485</td>\n",
              "    </tr>\n",
              "    <tr>\n",
              "      <th>...</th>\n",
              "      <td>...</td>\n",
              "      <td>...</td>\n",
              "      <td>...</td>\n",
              "    </tr>\n",
              "    <tr>\n",
              "      <th>zoo</th>\n",
              "      <td>0.760</td>\n",
              "      <td>0.520</td>\n",
              "      <td>0.580</td>\n",
              "    </tr>\n",
              "    <tr>\n",
              "      <th>zoological</th>\n",
              "      <td>0.667</td>\n",
              "      <td>0.458</td>\n",
              "      <td>0.492</td>\n",
              "    </tr>\n",
              "    <tr>\n",
              "      <th>zoology</th>\n",
              "      <td>0.568</td>\n",
              "      <td>0.347</td>\n",
              "      <td>0.509</td>\n",
              "    </tr>\n",
              "    <tr>\n",
              "      <th>zoom</th>\n",
              "      <td>0.490</td>\n",
              "      <td>0.520</td>\n",
              "      <td>0.462</td>\n",
              "    </tr>\n",
              "    <tr>\n",
              "      <th>zucchini</th>\n",
              "      <td>0.510</td>\n",
              "      <td>0.321</td>\n",
              "      <td>0.250</td>\n",
              "    </tr>\n",
              "  </tbody>\n",
              "</table>\n",
              "<p>19971 rows × 3 columns</p>\n",
              "</div>\n",
              "    <div class=\"colab-df-buttons\">\n",
              "\n",
              "  <div class=\"colab-df-container\">\n",
              "    <button class=\"colab-df-convert\" onclick=\"convertToInteractive('df-f7326a2f-6d68-40a8-8cad-20bcfcb24795')\"\n",
              "            title=\"Convert this dataframe to an interactive table.\"\n",
              "            style=\"display:none;\">\n",
              "\n",
              "  <svg xmlns=\"http://www.w3.org/2000/svg\" height=\"24px\" viewBox=\"0 -960 960 960\">\n",
              "    <path d=\"M120-120v-720h720v720H120Zm60-500h600v-160H180v160Zm220 220h160v-160H400v160Zm0 220h160v-160H400v160ZM180-400h160v-160H180v160Zm440 0h160v-160H620v160ZM180-180h160v-160H180v160Zm440 0h160v-160H620v160Z\"/>\n",
              "  </svg>\n",
              "    </button>\n",
              "\n",
              "  <style>\n",
              "    .colab-df-container {\n",
              "      display:flex;\n",
              "      gap: 12px;\n",
              "    }\n",
              "\n",
              "    .colab-df-convert {\n",
              "      background-color: #E8F0FE;\n",
              "      border: none;\n",
              "      border-radius: 50%;\n",
              "      cursor: pointer;\n",
              "      display: none;\n",
              "      fill: #1967D2;\n",
              "      height: 32px;\n",
              "      padding: 0 0 0 0;\n",
              "      width: 32px;\n",
              "    }\n",
              "\n",
              "    .colab-df-convert:hover {\n",
              "      background-color: #E2EBFA;\n",
              "      box-shadow: 0px 1px 2px rgba(60, 64, 67, 0.3), 0px 1px 3px 1px rgba(60, 64, 67, 0.15);\n",
              "      fill: #174EA6;\n",
              "    }\n",
              "\n",
              "    .colab-df-buttons div {\n",
              "      margin-bottom: 4px;\n",
              "    }\n",
              "\n",
              "    [theme=dark] .colab-df-convert {\n",
              "      background-color: #3B4455;\n",
              "      fill: #D2E3FC;\n",
              "    }\n",
              "\n",
              "    [theme=dark] .colab-df-convert:hover {\n",
              "      background-color: #434B5C;\n",
              "      box-shadow: 0px 1px 3px 1px rgba(0, 0, 0, 0.15);\n",
              "      filter: drop-shadow(0px 1px 2px rgba(0, 0, 0, 0.3));\n",
              "      fill: #FFFFFF;\n",
              "    }\n",
              "  </style>\n",
              "\n",
              "    <script>\n",
              "      const buttonEl =\n",
              "        document.querySelector('#df-f7326a2f-6d68-40a8-8cad-20bcfcb24795 button.colab-df-convert');\n",
              "      buttonEl.style.display =\n",
              "        google.colab.kernel.accessAllowed ? 'block' : 'none';\n",
              "\n",
              "      async function convertToInteractive(key) {\n",
              "        const element = document.querySelector('#df-f7326a2f-6d68-40a8-8cad-20bcfcb24795');\n",
              "        const dataTable =\n",
              "          await google.colab.kernel.invokeFunction('convertToInteractive',\n",
              "                                                    [key], {});\n",
              "        if (!dataTable) return;\n",
              "\n",
              "        const docLinkHtml = 'Like what you see? Visit the ' +\n",
              "          '<a target=\"_blank\" href=https://colab.research.google.com/notebooks/data_table.ipynb>data table notebook</a>'\n",
              "          + ' to learn more about interactive tables.';\n",
              "        element.innerHTML = '';\n",
              "        dataTable['output_type'] = 'display_data';\n",
              "        await google.colab.output.renderOutput(dataTable, element);\n",
              "        const docLink = document.createElement('div');\n",
              "        docLink.innerHTML = docLinkHtml;\n",
              "        element.appendChild(docLink);\n",
              "      }\n",
              "    </script>\n",
              "  </div>\n",
              "\n",
              "\n",
              "<div id=\"df-fb267f48-c6ef-43f5-812d-d05562561830\">\n",
              "  <button class=\"colab-df-quickchart\" onclick=\"quickchart('df-fb267f48-c6ef-43f5-812d-d05562561830')\"\n",
              "            title=\"Suggest charts\"\n",
              "            style=\"display:none;\">\n",
              "\n",
              "<svg xmlns=\"http://www.w3.org/2000/svg\" height=\"24px\"viewBox=\"0 0 24 24\"\n",
              "     width=\"24px\">\n",
              "    <g>\n",
              "        <path d=\"M19 3H5c-1.1 0-2 .9-2 2v14c0 1.1.9 2 2 2h14c1.1 0 2-.9 2-2V5c0-1.1-.9-2-2-2zM9 17H7v-7h2v7zm4 0h-2V7h2v10zm4 0h-2v-4h2v4z\"/>\n",
              "    </g>\n",
              "</svg>\n",
              "  </button>\n",
              "\n",
              "<style>\n",
              "  .colab-df-quickchart {\n",
              "      --bg-color: #E8F0FE;\n",
              "      --fill-color: #1967D2;\n",
              "      --hover-bg-color: #E2EBFA;\n",
              "      --hover-fill-color: #174EA6;\n",
              "      --disabled-fill-color: #AAA;\n",
              "      --disabled-bg-color: #DDD;\n",
              "  }\n",
              "\n",
              "  [theme=dark] .colab-df-quickchart {\n",
              "      --bg-color: #3B4455;\n",
              "      --fill-color: #D2E3FC;\n",
              "      --hover-bg-color: #434B5C;\n",
              "      --hover-fill-color: #FFFFFF;\n",
              "      --disabled-bg-color: #3B4455;\n",
              "      --disabled-fill-color: #666;\n",
              "  }\n",
              "\n",
              "  .colab-df-quickchart {\n",
              "    background-color: var(--bg-color);\n",
              "    border: none;\n",
              "    border-radius: 50%;\n",
              "    cursor: pointer;\n",
              "    display: none;\n",
              "    fill: var(--fill-color);\n",
              "    height: 32px;\n",
              "    padding: 0;\n",
              "    width: 32px;\n",
              "  }\n",
              "\n",
              "  .colab-df-quickchart:hover {\n",
              "    background-color: var(--hover-bg-color);\n",
              "    box-shadow: 0 1px 2px rgba(60, 64, 67, 0.3), 0 1px 3px 1px rgba(60, 64, 67, 0.15);\n",
              "    fill: var(--button-hover-fill-color);\n",
              "  }\n",
              "\n",
              "  .colab-df-quickchart-complete:disabled,\n",
              "  .colab-df-quickchart-complete:disabled:hover {\n",
              "    background-color: var(--disabled-bg-color);\n",
              "    fill: var(--disabled-fill-color);\n",
              "    box-shadow: none;\n",
              "  }\n",
              "\n",
              "  .colab-df-spinner {\n",
              "    border: 2px solid var(--fill-color);\n",
              "    border-color: transparent;\n",
              "    border-bottom-color: var(--fill-color);\n",
              "    animation:\n",
              "      spin 1s steps(1) infinite;\n",
              "  }\n",
              "\n",
              "  @keyframes spin {\n",
              "    0% {\n",
              "      border-color: transparent;\n",
              "      border-bottom-color: var(--fill-color);\n",
              "      border-left-color: var(--fill-color);\n",
              "    }\n",
              "    20% {\n",
              "      border-color: transparent;\n",
              "      border-left-color: var(--fill-color);\n",
              "      border-top-color: var(--fill-color);\n",
              "    }\n",
              "    30% {\n",
              "      border-color: transparent;\n",
              "      border-left-color: var(--fill-color);\n",
              "      border-top-color: var(--fill-color);\n",
              "      border-right-color: var(--fill-color);\n",
              "    }\n",
              "    40% {\n",
              "      border-color: transparent;\n",
              "      border-right-color: var(--fill-color);\n",
              "      border-top-color: var(--fill-color);\n",
              "    }\n",
              "    60% {\n",
              "      border-color: transparent;\n",
              "      border-right-color: var(--fill-color);\n",
              "    }\n",
              "    80% {\n",
              "      border-color: transparent;\n",
              "      border-right-color: var(--fill-color);\n",
              "      border-bottom-color: var(--fill-color);\n",
              "    }\n",
              "    90% {\n",
              "      border-color: transparent;\n",
              "      border-bottom-color: var(--fill-color);\n",
              "    }\n",
              "  }\n",
              "</style>\n",
              "\n",
              "  <script>\n",
              "    async function quickchart(key) {\n",
              "      const quickchartButtonEl =\n",
              "        document.querySelector('#' + key + ' button');\n",
              "      quickchartButtonEl.disabled = true;  // To prevent multiple clicks.\n",
              "      quickchartButtonEl.classList.add('colab-df-spinner');\n",
              "      try {\n",
              "        const charts = await google.colab.kernel.invokeFunction(\n",
              "            'suggestCharts', [key], {});\n",
              "      } catch (error) {\n",
              "        console.error('Error during call to suggestCharts:', error);\n",
              "      }\n",
              "      quickchartButtonEl.classList.remove('colab-df-spinner');\n",
              "      quickchartButtonEl.classList.add('colab-df-quickchart-complete');\n",
              "    }\n",
              "    (() => {\n",
              "      let quickchartButtonEl =\n",
              "        document.querySelector('#df-fb267f48-c6ef-43f5-812d-d05562561830 button');\n",
              "      quickchartButtonEl.style.display =\n",
              "        google.colab.kernel.accessAllowed ? 'block' : 'none';\n",
              "    })();\n",
              "  </script>\n",
              "</div>\n",
              "\n",
              "  <div id=\"id_139ee3e0-33a6-4a14-bc34-4b798f3da7b5\">\n",
              "    <style>\n",
              "      .colab-df-generate {\n",
              "        background-color: #E8F0FE;\n",
              "        border: none;\n",
              "        border-radius: 50%;\n",
              "        cursor: pointer;\n",
              "        display: none;\n",
              "        fill: #1967D2;\n",
              "        height: 32px;\n",
              "        padding: 0 0 0 0;\n",
              "        width: 32px;\n",
              "      }\n",
              "\n",
              "      .colab-df-generate:hover {\n",
              "        background-color: #E2EBFA;\n",
              "        box-shadow: 0px 1px 2px rgba(60, 64, 67, 0.3), 0px 1px 3px 1px rgba(60, 64, 67, 0.15);\n",
              "        fill: #174EA6;\n",
              "      }\n",
              "\n",
              "      [theme=dark] .colab-df-generate {\n",
              "        background-color: #3B4455;\n",
              "        fill: #D2E3FC;\n",
              "      }\n",
              "\n",
              "      [theme=dark] .colab-df-generate:hover {\n",
              "        background-color: #434B5C;\n",
              "        box-shadow: 0px 1px 3px 1px rgba(0, 0, 0, 0.15);\n",
              "        filter: drop-shadow(0px 1px 2px rgba(0, 0, 0, 0.3));\n",
              "        fill: #FFFFFF;\n",
              "      }\n",
              "    </style>\n",
              "    <button class=\"colab-df-generate\" onclick=\"generateWithVariable('nrc')\"\n",
              "            title=\"Generate code using this dataframe.\"\n",
              "            style=\"display:none;\">\n",
              "\n",
              "  <svg xmlns=\"http://www.w3.org/2000/svg\" height=\"24px\"viewBox=\"0 0 24 24\"\n",
              "       width=\"24px\">\n",
              "    <path d=\"M7,19H8.4L18.45,9,17,7.55,7,17.6ZM5,21V16.75L18.45,3.32a2,2,0,0,1,2.83,0l1.4,1.43a1.91,1.91,0,0,1,.58,1.4,1.91,1.91,0,0,1-.58,1.4L9.25,21ZM18.45,9,17,7.55Zm-12,3A5.31,5.31,0,0,0,4.9,8.1,5.31,5.31,0,0,0,1,6.5,5.31,5.31,0,0,0,4.9,4.9,5.31,5.31,0,0,0,6.5,1,5.31,5.31,0,0,0,8.1,4.9,5.31,5.31,0,0,0,12,6.5,5.46,5.46,0,0,0,6.5,12Z\"/>\n",
              "  </svg>\n",
              "    </button>\n",
              "    <script>\n",
              "      (() => {\n",
              "      const buttonEl =\n",
              "        document.querySelector('#id_139ee3e0-33a6-4a14-bc34-4b798f3da7b5 button.colab-df-generate');\n",
              "      buttonEl.style.display =\n",
              "        google.colab.kernel.accessAllowed ? 'block' : 'none';\n",
              "\n",
              "      buttonEl.onclick = () => {\n",
              "        google.colab.notebook.generateWithVariable('nrc');\n",
              "      }\n",
              "      })();\n",
              "    </script>\n",
              "  </div>\n",
              "\n",
              "    </div>\n",
              "  </div>\n"
            ]
          },
          "metadata": {},
          "execution_count": 4
        }
      ]
    },
    {
      "cell_type": "code",
      "source": [
        "nrc.at['bee', 'valence']"
      ],
      "metadata": {
        "colab": {
          "base_uri": "https://localhost:8080/"
        },
        "id": "VZgaZKEhAqs5",
        "outputId": "cb9bdc06-97cf-4051-9f68-4bbd4f17929f"
      },
      "execution_count": 5,
      "outputs": [
        {
          "output_type": "execute_result",
          "data": {
            "text/plain": [
              "0.52"
            ]
          },
          "metadata": {},
          "execution_count": 5
        }
      ]
    },
    {
      "cell_type": "code",
      "source": [
        "# Store pair-wise SD for each word\n",
        "pairwise_sd = {}\n",
        "\n",
        "for _, row in df.iterrows():\n",
        "  pairwise_sd[row['word1'], row['word2']] = row['SD(SimLex)']"
      ],
      "metadata": {
        "id": "NaelSyoxAthF"
      },
      "execution_count": 6,
      "outputs": []
    },
    {
      "cell_type": "code",
      "source": [
        "from sklearn.model_selection import train_test_split\n",
        "\n",
        "# Split the data into training and testing sets (80% train, 20% test)\n",
        "train, test = train_test_split(df.loc[:, ['word1', 'word2', 'SimLex999']], test_size=0.2, random_state=42)\n",
        "\n",
        "# Further split the training data into training and validation sets (75% train, 25% validation)\n",
        "train, val = train_test_split(train, test_size=0.25, random_state=42)\n"
      ],
      "metadata": {
        "id": "5I4tQQ0DA0y6"
      },
      "execution_count": 7,
      "outputs": []
    },
    {
      "cell_type": "code",
      "source": [
        "train"
      ],
      "metadata": {
        "colab": {
          "base_uri": "https://localhost:8080/",
          "height": 424
        },
        "id": "tJ8Uw693BqgH",
        "outputId": "6bb0cfd4-ffdb-47ac-8373-b8e55df2a023"
      },
      "execution_count": 8,
      "outputs": [
        {
          "output_type": "execute_result",
          "data": {
            "text/plain": [
              "             word1       word2  SimLex999\n",
              "755           meal       waist       0.98\n",
              "667          belly     abdomen       8.13\n",
              "704          anger        mood       4.10\n",
              "608            guy     partner       3.57\n",
              "605  communication  television       5.60\n",
              "..             ...         ...        ...\n",
              "869            get         put       1.98\n",
              "575        despair      misery       7.22\n",
              "756         camera   president       0.48\n",
              "26           happy       angry       1.28\n",
              "394     basketball    baseball       4.92\n",
              "\n",
              "[599 rows x 3 columns]"
            ],
            "text/html": [
              "\n",
              "  <div id=\"df-a4d671b9-04b6-4623-9f73-7a04145601e6\" class=\"colab-df-container\">\n",
              "    <div>\n",
              "<style scoped>\n",
              "    .dataframe tbody tr th:only-of-type {\n",
              "        vertical-align: middle;\n",
              "    }\n",
              "\n",
              "    .dataframe tbody tr th {\n",
              "        vertical-align: top;\n",
              "    }\n",
              "\n",
              "    .dataframe thead th {\n",
              "        text-align: right;\n",
              "    }\n",
              "</style>\n",
              "<table border=\"1\" class=\"dataframe\">\n",
              "  <thead>\n",
              "    <tr style=\"text-align: right;\">\n",
              "      <th></th>\n",
              "      <th>word1</th>\n",
              "      <th>word2</th>\n",
              "      <th>SimLex999</th>\n",
              "    </tr>\n",
              "  </thead>\n",
              "  <tbody>\n",
              "    <tr>\n",
              "      <th>755</th>\n",
              "      <td>meal</td>\n",
              "      <td>waist</td>\n",
              "      <td>0.98</td>\n",
              "    </tr>\n",
              "    <tr>\n",
              "      <th>667</th>\n",
              "      <td>belly</td>\n",
              "      <td>abdomen</td>\n",
              "      <td>8.13</td>\n",
              "    </tr>\n",
              "    <tr>\n",
              "      <th>704</th>\n",
              "      <td>anger</td>\n",
              "      <td>mood</td>\n",
              "      <td>4.10</td>\n",
              "    </tr>\n",
              "    <tr>\n",
              "      <th>608</th>\n",
              "      <td>guy</td>\n",
              "      <td>partner</td>\n",
              "      <td>3.57</td>\n",
              "    </tr>\n",
              "    <tr>\n",
              "      <th>605</th>\n",
              "      <td>communication</td>\n",
              "      <td>television</td>\n",
              "      <td>5.60</td>\n",
              "    </tr>\n",
              "    <tr>\n",
              "      <th>...</th>\n",
              "      <td>...</td>\n",
              "      <td>...</td>\n",
              "      <td>...</td>\n",
              "    </tr>\n",
              "    <tr>\n",
              "      <th>869</th>\n",
              "      <td>get</td>\n",
              "      <td>put</td>\n",
              "      <td>1.98</td>\n",
              "    </tr>\n",
              "    <tr>\n",
              "      <th>575</th>\n",
              "      <td>despair</td>\n",
              "      <td>misery</td>\n",
              "      <td>7.22</td>\n",
              "    </tr>\n",
              "    <tr>\n",
              "      <th>756</th>\n",
              "      <td>camera</td>\n",
              "      <td>president</td>\n",
              "      <td>0.48</td>\n",
              "    </tr>\n",
              "    <tr>\n",
              "      <th>26</th>\n",
              "      <td>happy</td>\n",
              "      <td>angry</td>\n",
              "      <td>1.28</td>\n",
              "    </tr>\n",
              "    <tr>\n",
              "      <th>394</th>\n",
              "      <td>basketball</td>\n",
              "      <td>baseball</td>\n",
              "      <td>4.92</td>\n",
              "    </tr>\n",
              "  </tbody>\n",
              "</table>\n",
              "<p>599 rows × 3 columns</p>\n",
              "</div>\n",
              "    <div class=\"colab-df-buttons\">\n",
              "\n",
              "  <div class=\"colab-df-container\">\n",
              "    <button class=\"colab-df-convert\" onclick=\"convertToInteractive('df-a4d671b9-04b6-4623-9f73-7a04145601e6')\"\n",
              "            title=\"Convert this dataframe to an interactive table.\"\n",
              "            style=\"display:none;\">\n",
              "\n",
              "  <svg xmlns=\"http://www.w3.org/2000/svg\" height=\"24px\" viewBox=\"0 -960 960 960\">\n",
              "    <path d=\"M120-120v-720h720v720H120Zm60-500h600v-160H180v160Zm220 220h160v-160H400v160Zm0 220h160v-160H400v160ZM180-400h160v-160H180v160Zm440 0h160v-160H620v160ZM180-180h160v-160H180v160Zm440 0h160v-160H620v160Z\"/>\n",
              "  </svg>\n",
              "    </button>\n",
              "\n",
              "  <style>\n",
              "    .colab-df-container {\n",
              "      display:flex;\n",
              "      gap: 12px;\n",
              "    }\n",
              "\n",
              "    .colab-df-convert {\n",
              "      background-color: #E8F0FE;\n",
              "      border: none;\n",
              "      border-radius: 50%;\n",
              "      cursor: pointer;\n",
              "      display: none;\n",
              "      fill: #1967D2;\n",
              "      height: 32px;\n",
              "      padding: 0 0 0 0;\n",
              "      width: 32px;\n",
              "    }\n",
              "\n",
              "    .colab-df-convert:hover {\n",
              "      background-color: #E2EBFA;\n",
              "      box-shadow: 0px 1px 2px rgba(60, 64, 67, 0.3), 0px 1px 3px 1px rgba(60, 64, 67, 0.15);\n",
              "      fill: #174EA6;\n",
              "    }\n",
              "\n",
              "    .colab-df-buttons div {\n",
              "      margin-bottom: 4px;\n",
              "    }\n",
              "\n",
              "    [theme=dark] .colab-df-convert {\n",
              "      background-color: #3B4455;\n",
              "      fill: #D2E3FC;\n",
              "    }\n",
              "\n",
              "    [theme=dark] .colab-df-convert:hover {\n",
              "      background-color: #434B5C;\n",
              "      box-shadow: 0px 1px 3px 1px rgba(0, 0, 0, 0.15);\n",
              "      filter: drop-shadow(0px 1px 2px rgba(0, 0, 0, 0.3));\n",
              "      fill: #FFFFFF;\n",
              "    }\n",
              "  </style>\n",
              "\n",
              "    <script>\n",
              "      const buttonEl =\n",
              "        document.querySelector('#df-a4d671b9-04b6-4623-9f73-7a04145601e6 button.colab-df-convert');\n",
              "      buttonEl.style.display =\n",
              "        google.colab.kernel.accessAllowed ? 'block' : 'none';\n",
              "\n",
              "      async function convertToInteractive(key) {\n",
              "        const element = document.querySelector('#df-a4d671b9-04b6-4623-9f73-7a04145601e6');\n",
              "        const dataTable =\n",
              "          await google.colab.kernel.invokeFunction('convertToInteractive',\n",
              "                                                    [key], {});\n",
              "        if (!dataTable) return;\n",
              "\n",
              "        const docLinkHtml = 'Like what you see? Visit the ' +\n",
              "          '<a target=\"_blank\" href=https://colab.research.google.com/notebooks/data_table.ipynb>data table notebook</a>'\n",
              "          + ' to learn more about interactive tables.';\n",
              "        element.innerHTML = '';\n",
              "        dataTable['output_type'] = 'display_data';\n",
              "        await google.colab.output.renderOutput(dataTable, element);\n",
              "        const docLink = document.createElement('div');\n",
              "        docLink.innerHTML = docLinkHtml;\n",
              "        element.appendChild(docLink);\n",
              "      }\n",
              "    </script>\n",
              "  </div>\n",
              "\n",
              "\n",
              "<div id=\"df-0c81a583-3963-4dee-9679-815ca37f81d9\">\n",
              "  <button class=\"colab-df-quickchart\" onclick=\"quickchart('df-0c81a583-3963-4dee-9679-815ca37f81d9')\"\n",
              "            title=\"Suggest charts\"\n",
              "            style=\"display:none;\">\n",
              "\n",
              "<svg xmlns=\"http://www.w3.org/2000/svg\" height=\"24px\"viewBox=\"0 0 24 24\"\n",
              "     width=\"24px\">\n",
              "    <g>\n",
              "        <path d=\"M19 3H5c-1.1 0-2 .9-2 2v14c0 1.1.9 2 2 2h14c1.1 0 2-.9 2-2V5c0-1.1-.9-2-2-2zM9 17H7v-7h2v7zm4 0h-2V7h2v10zm4 0h-2v-4h2v4z\"/>\n",
              "    </g>\n",
              "</svg>\n",
              "  </button>\n",
              "\n",
              "<style>\n",
              "  .colab-df-quickchart {\n",
              "      --bg-color: #E8F0FE;\n",
              "      --fill-color: #1967D2;\n",
              "      --hover-bg-color: #E2EBFA;\n",
              "      --hover-fill-color: #174EA6;\n",
              "      --disabled-fill-color: #AAA;\n",
              "      --disabled-bg-color: #DDD;\n",
              "  }\n",
              "\n",
              "  [theme=dark] .colab-df-quickchart {\n",
              "      --bg-color: #3B4455;\n",
              "      --fill-color: #D2E3FC;\n",
              "      --hover-bg-color: #434B5C;\n",
              "      --hover-fill-color: #FFFFFF;\n",
              "      --disabled-bg-color: #3B4455;\n",
              "      --disabled-fill-color: #666;\n",
              "  }\n",
              "\n",
              "  .colab-df-quickchart {\n",
              "    background-color: var(--bg-color);\n",
              "    border: none;\n",
              "    border-radius: 50%;\n",
              "    cursor: pointer;\n",
              "    display: none;\n",
              "    fill: var(--fill-color);\n",
              "    height: 32px;\n",
              "    padding: 0;\n",
              "    width: 32px;\n",
              "  }\n",
              "\n",
              "  .colab-df-quickchart:hover {\n",
              "    background-color: var(--hover-bg-color);\n",
              "    box-shadow: 0 1px 2px rgba(60, 64, 67, 0.3), 0 1px 3px 1px rgba(60, 64, 67, 0.15);\n",
              "    fill: var(--button-hover-fill-color);\n",
              "  }\n",
              "\n",
              "  .colab-df-quickchart-complete:disabled,\n",
              "  .colab-df-quickchart-complete:disabled:hover {\n",
              "    background-color: var(--disabled-bg-color);\n",
              "    fill: var(--disabled-fill-color);\n",
              "    box-shadow: none;\n",
              "  }\n",
              "\n",
              "  .colab-df-spinner {\n",
              "    border: 2px solid var(--fill-color);\n",
              "    border-color: transparent;\n",
              "    border-bottom-color: var(--fill-color);\n",
              "    animation:\n",
              "      spin 1s steps(1) infinite;\n",
              "  }\n",
              "\n",
              "  @keyframes spin {\n",
              "    0% {\n",
              "      border-color: transparent;\n",
              "      border-bottom-color: var(--fill-color);\n",
              "      border-left-color: var(--fill-color);\n",
              "    }\n",
              "    20% {\n",
              "      border-color: transparent;\n",
              "      border-left-color: var(--fill-color);\n",
              "      border-top-color: var(--fill-color);\n",
              "    }\n",
              "    30% {\n",
              "      border-color: transparent;\n",
              "      border-left-color: var(--fill-color);\n",
              "      border-top-color: var(--fill-color);\n",
              "      border-right-color: var(--fill-color);\n",
              "    }\n",
              "    40% {\n",
              "      border-color: transparent;\n",
              "      border-right-color: var(--fill-color);\n",
              "      border-top-color: var(--fill-color);\n",
              "    }\n",
              "    60% {\n",
              "      border-color: transparent;\n",
              "      border-right-color: var(--fill-color);\n",
              "    }\n",
              "    80% {\n",
              "      border-color: transparent;\n",
              "      border-right-color: var(--fill-color);\n",
              "      border-bottom-color: var(--fill-color);\n",
              "    }\n",
              "    90% {\n",
              "      border-color: transparent;\n",
              "      border-bottom-color: var(--fill-color);\n",
              "    }\n",
              "  }\n",
              "</style>\n",
              "\n",
              "  <script>\n",
              "    async function quickchart(key) {\n",
              "      const quickchartButtonEl =\n",
              "        document.querySelector('#' + key + ' button');\n",
              "      quickchartButtonEl.disabled = true;  // To prevent multiple clicks.\n",
              "      quickchartButtonEl.classList.add('colab-df-spinner');\n",
              "      try {\n",
              "        const charts = await google.colab.kernel.invokeFunction(\n",
              "            'suggestCharts', [key], {});\n",
              "      } catch (error) {\n",
              "        console.error('Error during call to suggestCharts:', error);\n",
              "      }\n",
              "      quickchartButtonEl.classList.remove('colab-df-spinner');\n",
              "      quickchartButtonEl.classList.add('colab-df-quickchart-complete');\n",
              "    }\n",
              "    (() => {\n",
              "      let quickchartButtonEl =\n",
              "        document.querySelector('#df-0c81a583-3963-4dee-9679-815ca37f81d9 button');\n",
              "      quickchartButtonEl.style.display =\n",
              "        google.colab.kernel.accessAllowed ? 'block' : 'none';\n",
              "    })();\n",
              "  </script>\n",
              "</div>\n",
              "\n",
              "  <div id=\"id_082e0d02-70d7-4fb1-ab8f-be75800e754e\">\n",
              "    <style>\n",
              "      .colab-df-generate {\n",
              "        background-color: #E8F0FE;\n",
              "        border: none;\n",
              "        border-radius: 50%;\n",
              "        cursor: pointer;\n",
              "        display: none;\n",
              "        fill: #1967D2;\n",
              "        height: 32px;\n",
              "        padding: 0 0 0 0;\n",
              "        width: 32px;\n",
              "      }\n",
              "\n",
              "      .colab-df-generate:hover {\n",
              "        background-color: #E2EBFA;\n",
              "        box-shadow: 0px 1px 2px rgba(60, 64, 67, 0.3), 0px 1px 3px 1px rgba(60, 64, 67, 0.15);\n",
              "        fill: #174EA6;\n",
              "      }\n",
              "\n",
              "      [theme=dark] .colab-df-generate {\n",
              "        background-color: #3B4455;\n",
              "        fill: #D2E3FC;\n",
              "      }\n",
              "\n",
              "      [theme=dark] .colab-df-generate:hover {\n",
              "        background-color: #434B5C;\n",
              "        box-shadow: 0px 1px 3px 1px rgba(0, 0, 0, 0.15);\n",
              "        filter: drop-shadow(0px 1px 2px rgba(0, 0, 0, 0.3));\n",
              "        fill: #FFFFFF;\n",
              "      }\n",
              "    </style>\n",
              "    <button class=\"colab-df-generate\" onclick=\"generateWithVariable('train')\"\n",
              "            title=\"Generate code using this dataframe.\"\n",
              "            style=\"display:none;\">\n",
              "\n",
              "  <svg xmlns=\"http://www.w3.org/2000/svg\" height=\"24px\"viewBox=\"0 0 24 24\"\n",
              "       width=\"24px\">\n",
              "    <path d=\"M7,19H8.4L18.45,9,17,7.55,7,17.6ZM5,21V16.75L18.45,3.32a2,2,0,0,1,2.83,0l1.4,1.43a1.91,1.91,0,0,1,.58,1.4,1.91,1.91,0,0,1-.58,1.4L9.25,21ZM18.45,9,17,7.55Zm-12,3A5.31,5.31,0,0,0,4.9,8.1,5.31,5.31,0,0,0,1,6.5,5.31,5.31,0,0,0,4.9,4.9,5.31,5.31,0,0,0,6.5,1,5.31,5.31,0,0,0,8.1,4.9,5.31,5.31,0,0,0,12,6.5,5.46,5.46,0,0,0,6.5,12Z\"/>\n",
              "  </svg>\n",
              "    </button>\n",
              "    <script>\n",
              "      (() => {\n",
              "      const buttonEl =\n",
              "        document.querySelector('#id_082e0d02-70d7-4fb1-ab8f-be75800e754e button.colab-df-generate');\n",
              "      buttonEl.style.display =\n",
              "        google.colab.kernel.accessAllowed ? 'block' : 'none';\n",
              "\n",
              "      buttonEl.onclick = () => {\n",
              "        google.colab.notebook.generateWithVariable('train');\n",
              "      }\n",
              "      })();\n",
              "    </script>\n",
              "  </div>\n",
              "\n",
              "    </div>\n",
              "  </div>\n"
            ]
          },
          "metadata": {},
          "execution_count": 8
        }
      ]
    },
    {
      "cell_type": "code",
      "source": [
        "def generate_dataset(df, similarity_functions=None):\n",
        "  rows = []\n",
        "  for _, row in df.iterrows():\n",
        "    word1 = row['word1']\n",
        "    word2 = row['word2']\n",
        "\n",
        "    score = row['SimLex999']\n",
        "\n",
        "    try:\n",
        "      row = [\n",
        "              word1,\n",
        "              word2,\n",
        "              nrc.at[word1, 'valence'],\n",
        "              nrc.at[word1, 'arousal'],\n",
        "              nrc.at[word1, 'dominance'],\n",
        "              nrc.at[word2, 'valence'],\n",
        "              nrc.at[word2, 'arousal'],\n",
        "              nrc.at[word2, 'dominance'],\n",
        "          ]\n",
        "\n",
        "      if similarity_functions is not None:\n",
        "        for func in similarity_functions:\n",
        "          row.append(func(word1, word2))\n",
        "\n",
        "      row.append(score)\n",
        "\n",
        "      rows.append(row)\n",
        "\n",
        "    except KeyError:\n",
        "      continue\n",
        "\n",
        "  return pd.DataFrame(rows)"
      ],
      "metadata": {
        "id": "gYH0jFWaBsmx"
      },
      "execution_count": 9,
      "outputs": []
    },
    {
      "cell_type": "markdown",
      "source": [
        "## Using ONLY VAD"
      ],
      "metadata": {
        "id": "7geY2aXrEFbC"
      }
    },
    {
      "cell_type": "code",
      "source": [
        "train_VAD = generate_dataset(train)\n",
        "test_VAD = generate_dataset(test)\n",
        "val_VAD = generate_dataset(val)\n",
        "\n",
        "all_VAD = generate_dataset(df.loc[:, ['word1', 'word2', 'SimLex999']])"
      ],
      "metadata": {
        "id": "9d6-nLb1BzmC"
      },
      "execution_count": 10,
      "outputs": []
    },
    {
      "cell_type": "markdown",
      "source": [
        "### SVM"
      ],
      "metadata": {
        "id": "bEG_1g7361aC"
      }
    },
    {
      "cell_type": "code",
      "source": [
        "from sklearn.linear_model import LinearRegression\n",
        "from sklearn.model_selection import cross_val_score\n",
        "\n",
        "cross_val_score(LinearRegression(), all_VAD.iloc[:, 2:-1], all_VAD.iloc[:, -1], cv=5).mean()"
      ],
      "metadata": {
        "colab": {
          "base_uri": "https://localhost:8080/"
        },
        "id": "y6VVF6XWEPMd",
        "outputId": "3abab41a-6cdc-4436-ef3f-097e518a9504"
      },
      "execution_count": 11,
      "outputs": [
        {
          "output_type": "execute_result",
          "data": {
            "text/plain": [
              "-0.06451575276478642"
            ]
          },
          "metadata": {},
          "execution_count": 11
        }
      ]
    },
    {
      "cell_type": "code",
      "source": [
        "from sklearn.svm import SVR\n",
        "\n",
        "cross_val_score(SVR(), all_VAD.iloc[:, 2:-1], all_VAD.iloc[:, -1], cv=5).mean()"
      ],
      "metadata": {
        "colab": {
          "base_uri": "https://localhost:8080/"
        },
        "id": "qbJpcZ-VE_Hl",
        "outputId": "3d97f699-0053-40d1-c255-893e31348080"
      },
      "execution_count": 12,
      "outputs": [
        {
          "output_type": "execute_result",
          "data": {
            "text/plain": [
              "0.08234493656036967"
            ]
          },
          "metadata": {},
          "execution_count": 12
        }
      ]
    },
    {
      "cell_type": "code",
      "source": [
        "from sklearn.ensemble import RandomForestRegressor\n",
        "\n",
        "cross_val_score(RandomForestRegressor(n_estimators=100), all_VAD.iloc[:, 2:-1], all_VAD.iloc[:, -1], cv=5).mean()"
      ],
      "metadata": {
        "colab": {
          "base_uri": "https://localhost:8080/"
        },
        "id": "rZq6h8YsFQZk",
        "outputId": "e925d7fd-ce77-4e01-aaa8-09119e354dc2"
      },
      "execution_count": 13,
      "outputs": [
        {
          "output_type": "execute_result",
          "data": {
            "text/plain": [
              "0.047966431780471705"
            ]
          },
          "metadata": {},
          "execution_count": 13
        }
      ]
    },
    {
      "cell_type": "code",
      "source": [
        "svr_VAD = SVR()\n",
        "\n",
        "svr_VAD.fit(train_VAD.iloc[:, 2:-1], train_VAD.iloc[:, -1])"
      ],
      "metadata": {
        "colab": {
          "base_uri": "https://localhost:8080/",
          "height": 75
        },
        "id": "f4zGXZ_MFYzA",
        "outputId": "16ebdf29-caf3-4f20-b6ae-924c5970a9ee"
      },
      "execution_count": 14,
      "outputs": [
        {
          "output_type": "execute_result",
          "data": {
            "text/plain": [
              "SVR()"
            ],
            "text/html": [
              "<style>#sk-container-id-1 {color: black;background-color: white;}#sk-container-id-1 pre{padding: 0;}#sk-container-id-1 div.sk-toggleable {background-color: white;}#sk-container-id-1 label.sk-toggleable__label {cursor: pointer;display: block;width: 100%;margin-bottom: 0;padding: 0.3em;box-sizing: border-box;text-align: center;}#sk-container-id-1 label.sk-toggleable__label-arrow:before {content: \"▸\";float: left;margin-right: 0.25em;color: #696969;}#sk-container-id-1 label.sk-toggleable__label-arrow:hover:before {color: black;}#sk-container-id-1 div.sk-estimator:hover label.sk-toggleable__label-arrow:before {color: black;}#sk-container-id-1 div.sk-toggleable__content {max-height: 0;max-width: 0;overflow: hidden;text-align: left;background-color: #f0f8ff;}#sk-container-id-1 div.sk-toggleable__content pre {margin: 0.2em;color: black;border-radius: 0.25em;background-color: #f0f8ff;}#sk-container-id-1 input.sk-toggleable__control:checked~div.sk-toggleable__content {max-height: 200px;max-width: 100%;overflow: auto;}#sk-container-id-1 input.sk-toggleable__control:checked~label.sk-toggleable__label-arrow:before {content: \"▾\";}#sk-container-id-1 div.sk-estimator input.sk-toggleable__control:checked~label.sk-toggleable__label {background-color: #d4ebff;}#sk-container-id-1 div.sk-label input.sk-toggleable__control:checked~label.sk-toggleable__label {background-color: #d4ebff;}#sk-container-id-1 input.sk-hidden--visually {border: 0;clip: rect(1px 1px 1px 1px);clip: rect(1px, 1px, 1px, 1px);height: 1px;margin: -1px;overflow: hidden;padding: 0;position: absolute;width: 1px;}#sk-container-id-1 div.sk-estimator {font-family: monospace;background-color: #f0f8ff;border: 1px dotted black;border-radius: 0.25em;box-sizing: border-box;margin-bottom: 0.5em;}#sk-container-id-1 div.sk-estimator:hover {background-color: #d4ebff;}#sk-container-id-1 div.sk-parallel-item::after {content: \"\";width: 100%;border-bottom: 1px solid gray;flex-grow: 1;}#sk-container-id-1 div.sk-label:hover label.sk-toggleable__label {background-color: #d4ebff;}#sk-container-id-1 div.sk-serial::before {content: \"\";position: absolute;border-left: 1px solid gray;box-sizing: border-box;top: 0;bottom: 0;left: 50%;z-index: 0;}#sk-container-id-1 div.sk-serial {display: flex;flex-direction: column;align-items: center;background-color: white;padding-right: 0.2em;padding-left: 0.2em;position: relative;}#sk-container-id-1 div.sk-item {position: relative;z-index: 1;}#sk-container-id-1 div.sk-parallel {display: flex;align-items: stretch;justify-content: center;background-color: white;position: relative;}#sk-container-id-1 div.sk-item::before, #sk-container-id-1 div.sk-parallel-item::before {content: \"\";position: absolute;border-left: 1px solid gray;box-sizing: border-box;top: 0;bottom: 0;left: 50%;z-index: -1;}#sk-container-id-1 div.sk-parallel-item {display: flex;flex-direction: column;z-index: 1;position: relative;background-color: white;}#sk-container-id-1 div.sk-parallel-item:first-child::after {align-self: flex-end;width: 50%;}#sk-container-id-1 div.sk-parallel-item:last-child::after {align-self: flex-start;width: 50%;}#sk-container-id-1 div.sk-parallel-item:only-child::after {width: 0;}#sk-container-id-1 div.sk-dashed-wrapped {border: 1px dashed gray;margin: 0 0.4em 0.5em 0.4em;box-sizing: border-box;padding-bottom: 0.4em;background-color: white;}#sk-container-id-1 div.sk-label label {font-family: monospace;font-weight: bold;display: inline-block;line-height: 1.2em;}#sk-container-id-1 div.sk-label-container {text-align: center;}#sk-container-id-1 div.sk-container {/* jupyter's `normalize.less` sets `[hidden] { display: none; }` but bootstrap.min.css set `[hidden] { display: none !important; }` so we also need the `!important` here to be able to override the default hidden behavior on the sphinx rendered scikit-learn.org. See: https://github.com/scikit-learn/scikit-learn/issues/21755 */display: inline-block !important;position: relative;}#sk-container-id-1 div.sk-text-repr-fallback {display: none;}</style><div id=\"sk-container-id-1\" class=\"sk-top-container\"><div class=\"sk-text-repr-fallback\"><pre>SVR()</pre><b>In a Jupyter environment, please rerun this cell to show the HTML representation or trust the notebook. <br />On GitHub, the HTML representation is unable to render, please try loading this page with nbviewer.org.</b></div><div class=\"sk-container\" hidden><div class=\"sk-item\"><div class=\"sk-estimator sk-toggleable\"><input class=\"sk-toggleable__control sk-hidden--visually\" id=\"sk-estimator-id-1\" type=\"checkbox\" checked><label for=\"sk-estimator-id-1\" class=\"sk-toggleable__label sk-toggleable__label-arrow\">SVR</label><div class=\"sk-toggleable__content\"><pre>SVR()</pre></div></div></div></div></div>"
            ]
          },
          "metadata": {},
          "execution_count": 14
        }
      ]
    },
    {
      "cell_type": "code",
      "source": [
        "from sklearn.metrics import mean_squared_error\n",
        "\n",
        "y_pred = svr_VAD.predict(test_VAD.iloc[:, 2:-1])\n",
        "y_test = test_VAD.iloc[:, -1].values\n",
        "\n",
        "mean_squared_error(y_test, y_pred)"
      ],
      "metadata": {
        "colab": {
          "base_uri": "https://localhost:8080/"
        },
        "id": "fpk98RdKF5-e",
        "outputId": "682fd808-26f0-46cd-db74-5d644c27d440"
      },
      "execution_count": 19,
      "outputs": [
        {
          "output_type": "execute_result",
          "data": {
            "text/plain": [
              "5.264556766795256"
            ]
          },
          "metadata": {},
          "execution_count": 19
        }
      ]
    },
    {
      "cell_type": "code",
      "source": [
        "def report_performance(df, y_pred, y_test):\n",
        "  df4 = pd.DataFrame(list(zip(y_test, y_pred)), columns=['True', 'Pred'])\n",
        "\n",
        "  df4['word1'] = df.iloc[:, 0]\n",
        "  df4['word2'] = df.iloc[:, 1]\n",
        "\n",
        "  df4['abs_error'] = (df4['True'] - df4['Pred']).apply(lambda x: abs(x))\n",
        "\n",
        "  SD_ratio = []\n",
        "  for _, row in df4.iterrows():\n",
        "    SD_ratio.append(row['abs_error'] / pairwise_sd[(row.word1, row.word2)])\n",
        "\n",
        "  df4['SD_ratio'] = np.array(SD_ratio)\n",
        "\n",
        "  return {\n",
        "      '<=1': len(df4[df4['SD_ratio'].apply(lambda x: x<=1)]),\n",
        "      '<=2': len(df4[df4['SD_ratio'].apply(lambda x: x<=2)])\n",
        "  }"
      ],
      "metadata": {
        "id": "aFUYW05GGG7W"
      },
      "execution_count": 26,
      "outputs": []
    },
    {
      "cell_type": "code",
      "source": [
        "report_performance(test_VAD, y_test, y_pred)"
      ],
      "metadata": {
        "colab": {
          "base_uri": "https://localhost:8080/"
        },
        "id": "5E7efPkh5AcU",
        "outputId": "f41efe95-4647-4cc5-9576-d31a2b47207c"
      },
      "execution_count": 27,
      "outputs": [
        {
          "output_type": "execute_result",
          "data": {
            "text/plain": [
              "{'<=1': 78, '<=2': 134}"
            ]
          },
          "metadata": {},
          "execution_count": 27
        }
      ]
    },
    {
      "cell_type": "code",
      "source": [
        "report = {}"
      ],
      "metadata": {
        "id": "lAYCkjtc6Ewe"
      },
      "execution_count": 28,
      "outputs": []
    },
    {
      "cell_type": "code",
      "source": [
        "report['SVM_VAD'] = report_performance(test_VAD, y_test, y_pred)"
      ],
      "metadata": {
        "id": "SDx9AICl6l3Q"
      },
      "execution_count": 29,
      "outputs": []
    },
    {
      "cell_type": "code",
      "source": [
        "report_df = pd.DataFrame.from_dict(report, orient='index')\n",
        "report_df"
      ],
      "metadata": {
        "colab": {
          "base_uri": "https://localhost:8080/",
          "height": 89
        },
        "id": "khnrUecW6tCS",
        "outputId": "bc333f22-2427-4fee-abde-8cf206b87271"
      },
      "execution_count": 31,
      "outputs": [
        {
          "output_type": "execute_result",
          "data": {
            "text/plain": [
              "         <=1  <=2\n",
              "SVM_VAD   78  134"
            ],
            "text/html": [
              "\n",
              "  <div id=\"df-e04c20df-c093-40f1-87a7-43113472316f\" class=\"colab-df-container\">\n",
              "    <div>\n",
              "<style scoped>\n",
              "    .dataframe tbody tr th:only-of-type {\n",
              "        vertical-align: middle;\n",
              "    }\n",
              "\n",
              "    .dataframe tbody tr th {\n",
              "        vertical-align: top;\n",
              "    }\n",
              "\n",
              "    .dataframe thead th {\n",
              "        text-align: right;\n",
              "    }\n",
              "</style>\n",
              "<table border=\"1\" class=\"dataframe\">\n",
              "  <thead>\n",
              "    <tr style=\"text-align: right;\">\n",
              "      <th></th>\n",
              "      <th>&lt;=1</th>\n",
              "      <th>&lt;=2</th>\n",
              "    </tr>\n",
              "  </thead>\n",
              "  <tbody>\n",
              "    <tr>\n",
              "      <th>SVM_VAD</th>\n",
              "      <td>78</td>\n",
              "      <td>134</td>\n",
              "    </tr>\n",
              "  </tbody>\n",
              "</table>\n",
              "</div>\n",
              "    <div class=\"colab-df-buttons\">\n",
              "\n",
              "  <div class=\"colab-df-container\">\n",
              "    <button class=\"colab-df-convert\" onclick=\"convertToInteractive('df-e04c20df-c093-40f1-87a7-43113472316f')\"\n",
              "            title=\"Convert this dataframe to an interactive table.\"\n",
              "            style=\"display:none;\">\n",
              "\n",
              "  <svg xmlns=\"http://www.w3.org/2000/svg\" height=\"24px\" viewBox=\"0 -960 960 960\">\n",
              "    <path d=\"M120-120v-720h720v720H120Zm60-500h600v-160H180v160Zm220 220h160v-160H400v160Zm0 220h160v-160H400v160ZM180-400h160v-160H180v160Zm440 0h160v-160H620v160ZM180-180h160v-160H180v160Zm440 0h160v-160H620v160Z\"/>\n",
              "  </svg>\n",
              "    </button>\n",
              "\n",
              "  <style>\n",
              "    .colab-df-container {\n",
              "      display:flex;\n",
              "      gap: 12px;\n",
              "    }\n",
              "\n",
              "    .colab-df-convert {\n",
              "      background-color: #E8F0FE;\n",
              "      border: none;\n",
              "      border-radius: 50%;\n",
              "      cursor: pointer;\n",
              "      display: none;\n",
              "      fill: #1967D2;\n",
              "      height: 32px;\n",
              "      padding: 0 0 0 0;\n",
              "      width: 32px;\n",
              "    }\n",
              "\n",
              "    .colab-df-convert:hover {\n",
              "      background-color: #E2EBFA;\n",
              "      box-shadow: 0px 1px 2px rgba(60, 64, 67, 0.3), 0px 1px 3px 1px rgba(60, 64, 67, 0.15);\n",
              "      fill: #174EA6;\n",
              "    }\n",
              "\n",
              "    .colab-df-buttons div {\n",
              "      margin-bottom: 4px;\n",
              "    }\n",
              "\n",
              "    [theme=dark] .colab-df-convert {\n",
              "      background-color: #3B4455;\n",
              "      fill: #D2E3FC;\n",
              "    }\n",
              "\n",
              "    [theme=dark] .colab-df-convert:hover {\n",
              "      background-color: #434B5C;\n",
              "      box-shadow: 0px 1px 3px 1px rgba(0, 0, 0, 0.15);\n",
              "      filter: drop-shadow(0px 1px 2px rgba(0, 0, 0, 0.3));\n",
              "      fill: #FFFFFF;\n",
              "    }\n",
              "  </style>\n",
              "\n",
              "    <script>\n",
              "      const buttonEl =\n",
              "        document.querySelector('#df-e04c20df-c093-40f1-87a7-43113472316f button.colab-df-convert');\n",
              "      buttonEl.style.display =\n",
              "        google.colab.kernel.accessAllowed ? 'block' : 'none';\n",
              "\n",
              "      async function convertToInteractive(key) {\n",
              "        const element = document.querySelector('#df-e04c20df-c093-40f1-87a7-43113472316f');\n",
              "        const dataTable =\n",
              "          await google.colab.kernel.invokeFunction('convertToInteractive',\n",
              "                                                    [key], {});\n",
              "        if (!dataTable) return;\n",
              "\n",
              "        const docLinkHtml = 'Like what you see? Visit the ' +\n",
              "          '<a target=\"_blank\" href=https://colab.research.google.com/notebooks/data_table.ipynb>data table notebook</a>'\n",
              "          + ' to learn more about interactive tables.';\n",
              "        element.innerHTML = '';\n",
              "        dataTable['output_type'] = 'display_data';\n",
              "        await google.colab.output.renderOutput(dataTable, element);\n",
              "        const docLink = document.createElement('div');\n",
              "        docLink.innerHTML = docLinkHtml;\n",
              "        element.appendChild(docLink);\n",
              "      }\n",
              "    </script>\n",
              "  </div>\n",
              "\n",
              "\n",
              "  <div id=\"id_4fbd510f-7f3c-4ddc-bc4e-6de2f8fe134b\">\n",
              "    <style>\n",
              "      .colab-df-generate {\n",
              "        background-color: #E8F0FE;\n",
              "        border: none;\n",
              "        border-radius: 50%;\n",
              "        cursor: pointer;\n",
              "        display: none;\n",
              "        fill: #1967D2;\n",
              "        height: 32px;\n",
              "        padding: 0 0 0 0;\n",
              "        width: 32px;\n",
              "      }\n",
              "\n",
              "      .colab-df-generate:hover {\n",
              "        background-color: #E2EBFA;\n",
              "        box-shadow: 0px 1px 2px rgba(60, 64, 67, 0.3), 0px 1px 3px 1px rgba(60, 64, 67, 0.15);\n",
              "        fill: #174EA6;\n",
              "      }\n",
              "\n",
              "      [theme=dark] .colab-df-generate {\n",
              "        background-color: #3B4455;\n",
              "        fill: #D2E3FC;\n",
              "      }\n",
              "\n",
              "      [theme=dark] .colab-df-generate:hover {\n",
              "        background-color: #434B5C;\n",
              "        box-shadow: 0px 1px 3px 1px rgba(0, 0, 0, 0.15);\n",
              "        filter: drop-shadow(0px 1px 2px rgba(0, 0, 0, 0.3));\n",
              "        fill: #FFFFFF;\n",
              "      }\n",
              "    </style>\n",
              "    <button class=\"colab-df-generate\" onclick=\"generateWithVariable('report_df')\"\n",
              "            title=\"Generate code using this dataframe.\"\n",
              "            style=\"display:none;\">\n",
              "\n",
              "  <svg xmlns=\"http://www.w3.org/2000/svg\" height=\"24px\"viewBox=\"0 0 24 24\"\n",
              "       width=\"24px\">\n",
              "    <path d=\"M7,19H8.4L18.45,9,17,7.55,7,17.6ZM5,21V16.75L18.45,3.32a2,2,0,0,1,2.83,0l1.4,1.43a1.91,1.91,0,0,1,.58,1.4,1.91,1.91,0,0,1-.58,1.4L9.25,21ZM18.45,9,17,7.55Zm-12,3A5.31,5.31,0,0,0,4.9,8.1,5.31,5.31,0,0,0,1,6.5,5.31,5.31,0,0,0,4.9,4.9,5.31,5.31,0,0,0,6.5,1,5.31,5.31,0,0,0,8.1,4.9,5.31,5.31,0,0,0,12,6.5,5.46,5.46,0,0,0,6.5,12Z\"/>\n",
              "  </svg>\n",
              "    </button>\n",
              "    <script>\n",
              "      (() => {\n",
              "      const buttonEl =\n",
              "        document.querySelector('#id_4fbd510f-7f3c-4ddc-bc4e-6de2f8fe134b button.colab-df-generate');\n",
              "      buttonEl.style.display =\n",
              "        google.colab.kernel.accessAllowed ? 'block' : 'none';\n",
              "\n",
              "      buttonEl.onclick = () => {\n",
              "        google.colab.notebook.generateWithVariable('report_df');\n",
              "      }\n",
              "      })();\n",
              "    </script>\n",
              "  </div>\n",
              "\n",
              "    </div>\n",
              "  </div>\n"
            ]
          },
          "metadata": {},
          "execution_count": 31
        }
      ]
    },
    {
      "cell_type": "markdown",
      "source": [
        "### NN"
      ],
      "metadata": {
        "id": "mHWIdsOu63g1"
      }
    },
    {
      "cell_type": "code",
      "source": [
        "X_train = train_VAD.iloc[:, :-1].values\n",
        "y_train = train_VAD.iloc[:, -1].values\n",
        "\n",
        "X_test = test_VAD.iloc[:, :-1].values\n",
        "y_test = test_VAD.iloc[:, -1].values\n",
        "\n",
        "X_val = val_VAD.iloc[:, :-1].values\n",
        "y_val = val_VAD.iloc[:, -1].values"
      ],
      "metadata": {
        "id": "dFlD9usH6_Ud"
      },
      "execution_count": 34,
      "outputs": []
    },
    {
      "cell_type": "code",
      "source": [
        "import numpy as np\n",
        "import tensorflow as tf\n",
        "from tensorflow.keras import layers, models\n",
        "\n",
        "\n",
        "model = models.Sequential([\n",
        "    layers.Dense(128, activation='relu', input_shape=(6,)),\n",
        "    layers.Dense(64, activation='relu'),\n",
        "    layers.Dense(1)\n",
        "])\n",
        "\n",
        "model.compile(optimizer='adam',\n",
        "              loss='mean_squared_error',  # Use Mean Squared Error for regression\n",
        "              metrics=['mean_squared_error'])  # Use Mean Absolute Error as metric\n",
        "\n",
        "model.fit(X_train[:, 2:].astype(np.float64), y_train,\n",
        "          epochs=100, batch_size=16,\n",
        "          validation_data=(X_val[:, 2:].astype(np.float64), y_val))\n",
        "\n",
        "test_loss, test_mse = model.evaluate(X_test[:, 2:].astype(np.float64), y_test)\n",
        "print('Test Mean Squared Error:', test_mse)"
      ],
      "metadata": {
        "colab": {
          "base_uri": "https://localhost:8080/"
        },
        "id": "UmEXMwti6xlo",
        "outputId": "a9bb9e44-5369-4b25-8928-af185dde8010"
      },
      "execution_count": 35,
      "outputs": [
        {
          "output_type": "stream",
          "name": "stdout",
          "text": [
            "Epoch 1/100\n",
            "36/36 [==============================] - 2s 10ms/step - loss: 15.4217 - mean_squared_error: 15.4217 - val_loss: 7.3787 - val_mean_squared_error: 7.3787\n",
            "Epoch 2/100\n",
            "36/36 [==============================] - 0s 3ms/step - loss: 6.8867 - mean_squared_error: 6.8867 - val_loss: 7.3488 - val_mean_squared_error: 7.3488\n",
            "Epoch 3/100\n",
            "36/36 [==============================] - 0s 3ms/step - loss: 6.7210 - mean_squared_error: 6.7210 - val_loss: 6.8348 - val_mean_squared_error: 6.8348\n",
            "Epoch 4/100\n",
            "36/36 [==============================] - 0s 3ms/step - loss: 6.6128 - mean_squared_error: 6.6128 - val_loss: 6.6702 - val_mean_squared_error: 6.6702\n",
            "Epoch 5/100\n",
            "36/36 [==============================] - 0s 3ms/step - loss: 6.5909 - mean_squared_error: 6.5909 - val_loss: 6.8982 - val_mean_squared_error: 6.8982\n",
            "Epoch 6/100\n",
            "36/36 [==============================] - 0s 3ms/step - loss: 6.4683 - mean_squared_error: 6.4683 - val_loss: 6.5447 - val_mean_squared_error: 6.5447\n",
            "Epoch 7/100\n",
            "36/36 [==============================] - 0s 3ms/step - loss: 6.4157 - mean_squared_error: 6.4157 - val_loss: 6.4118 - val_mean_squared_error: 6.4118\n",
            "Epoch 8/100\n",
            "36/36 [==============================] - 0s 3ms/step - loss: 6.3376 - mean_squared_error: 6.3376 - val_loss: 6.3213 - val_mean_squared_error: 6.3213\n",
            "Epoch 9/100\n",
            "36/36 [==============================] - 0s 3ms/step - loss: 6.3133 - mean_squared_error: 6.3133 - val_loss: 6.2930 - val_mean_squared_error: 6.2930\n",
            "Epoch 10/100\n",
            "36/36 [==============================] - 0s 3ms/step - loss: 6.1892 - mean_squared_error: 6.1892 - val_loss: 6.1775 - val_mean_squared_error: 6.1775\n",
            "Epoch 11/100\n",
            "36/36 [==============================] - 0s 3ms/step - loss: 6.0982 - mean_squared_error: 6.0982 - val_loss: 6.3228 - val_mean_squared_error: 6.3228\n",
            "Epoch 12/100\n",
            "36/36 [==============================] - 0s 3ms/step - loss: 6.0215 - mean_squared_error: 6.0215 - val_loss: 6.4934 - val_mean_squared_error: 6.4934\n",
            "Epoch 13/100\n",
            "36/36 [==============================] - 0s 3ms/step - loss: 5.9999 - mean_squared_error: 5.9999 - val_loss: 6.2840 - val_mean_squared_error: 6.2840\n",
            "Epoch 14/100\n",
            "36/36 [==============================] - 0s 3ms/step - loss: 5.9956 - mean_squared_error: 5.9956 - val_loss: 6.0384 - val_mean_squared_error: 6.0384\n",
            "Epoch 15/100\n",
            "36/36 [==============================] - 0s 3ms/step - loss: 5.8303 - mean_squared_error: 5.8303 - val_loss: 6.1793 - val_mean_squared_error: 6.1793\n",
            "Epoch 16/100\n",
            "36/36 [==============================] - 0s 3ms/step - loss: 5.8068 - mean_squared_error: 5.8068 - val_loss: 5.7861 - val_mean_squared_error: 5.7861\n",
            "Epoch 17/100\n",
            "36/36 [==============================] - 0s 3ms/step - loss: 5.7491 - mean_squared_error: 5.7491 - val_loss: 5.7579 - val_mean_squared_error: 5.7579\n",
            "Epoch 18/100\n",
            "36/36 [==============================] - 0s 3ms/step - loss: 5.6178 - mean_squared_error: 5.6178 - val_loss: 5.7633 - val_mean_squared_error: 5.7633\n",
            "Epoch 19/100\n",
            "36/36 [==============================] - 0s 3ms/step - loss: 5.5801 - mean_squared_error: 5.5801 - val_loss: 5.6459 - val_mean_squared_error: 5.6459\n",
            "Epoch 20/100\n",
            "36/36 [==============================] - 0s 3ms/step - loss: 5.5062 - mean_squared_error: 5.5062 - val_loss: 5.6094 - val_mean_squared_error: 5.6094\n",
            "Epoch 21/100\n",
            "36/36 [==============================] - 0s 3ms/step - loss: 5.4669 - mean_squared_error: 5.4669 - val_loss: 5.5393 - val_mean_squared_error: 5.5393\n",
            "Epoch 22/100\n",
            "36/36 [==============================] - 0s 3ms/step - loss: 5.3805 - mean_squared_error: 5.3805 - val_loss: 5.7555 - val_mean_squared_error: 5.7555\n",
            "Epoch 23/100\n",
            "36/36 [==============================] - 0s 3ms/step - loss: 5.3706 - mean_squared_error: 5.3706 - val_loss: 5.4386 - val_mean_squared_error: 5.4386\n",
            "Epoch 24/100\n",
            "36/36 [==============================] - 0s 3ms/step - loss: 5.3484 - mean_squared_error: 5.3484 - val_loss: 5.4225 - val_mean_squared_error: 5.4225\n",
            "Epoch 25/100\n",
            "36/36 [==============================] - 0s 3ms/step - loss: 5.2683 - mean_squared_error: 5.2683 - val_loss: 5.4784 - val_mean_squared_error: 5.4784\n",
            "Epoch 26/100\n",
            "36/36 [==============================] - 0s 3ms/step - loss: 5.4428 - mean_squared_error: 5.4428 - val_loss: 5.3703 - val_mean_squared_error: 5.3703\n",
            "Epoch 27/100\n",
            "36/36 [==============================] - 0s 3ms/step - loss: 5.3120 - mean_squared_error: 5.3120 - val_loss: 5.4219 - val_mean_squared_error: 5.4219\n",
            "Epoch 28/100\n",
            "36/36 [==============================] - 0s 3ms/step - loss: 5.1696 - mean_squared_error: 5.1696 - val_loss: 5.5341 - val_mean_squared_error: 5.5341\n",
            "Epoch 29/100\n",
            "36/36 [==============================] - 0s 3ms/step - loss: 5.1395 - mean_squared_error: 5.1395 - val_loss: 5.3922 - val_mean_squared_error: 5.3922\n",
            "Epoch 30/100\n",
            "36/36 [==============================] - 0s 3ms/step - loss: 5.1676 - mean_squared_error: 5.1676 - val_loss: 5.3641 - val_mean_squared_error: 5.3641\n",
            "Epoch 31/100\n",
            "36/36 [==============================] - 0s 3ms/step - loss: 5.0932 - mean_squared_error: 5.0932 - val_loss: 5.5328 - val_mean_squared_error: 5.5328\n",
            "Epoch 32/100\n",
            "36/36 [==============================] - 0s 3ms/step - loss: 5.1065 - mean_squared_error: 5.1065 - val_loss: 5.2636 - val_mean_squared_error: 5.2636\n",
            "Epoch 33/100\n",
            "36/36 [==============================] - 0s 3ms/step - loss: 5.0435 - mean_squared_error: 5.0435 - val_loss: 5.5999 - val_mean_squared_error: 5.5999\n",
            "Epoch 34/100\n",
            "36/36 [==============================] - 0s 4ms/step - loss: 5.1029 - mean_squared_error: 5.1029 - val_loss: 5.4898 - val_mean_squared_error: 5.4898\n",
            "Epoch 35/100\n",
            "36/36 [==============================] - 0s 3ms/step - loss: 5.0422 - mean_squared_error: 5.0422 - val_loss: 5.2284 - val_mean_squared_error: 5.2284\n",
            "Epoch 36/100\n",
            "36/36 [==============================] - 0s 3ms/step - loss: 5.3226 - mean_squared_error: 5.3226 - val_loss: 5.2179 - val_mean_squared_error: 5.2179\n",
            "Epoch 37/100\n",
            "36/36 [==============================] - 0s 3ms/step - loss: 5.0943 - mean_squared_error: 5.0943 - val_loss: 5.3424 - val_mean_squared_error: 5.3424\n",
            "Epoch 38/100\n",
            "36/36 [==============================] - 0s 3ms/step - loss: 4.9635 - mean_squared_error: 4.9635 - val_loss: 5.2426 - val_mean_squared_error: 5.2426\n",
            "Epoch 39/100\n",
            "36/36 [==============================] - 0s 3ms/step - loss: 4.9821 - mean_squared_error: 4.9821 - val_loss: 5.3963 - val_mean_squared_error: 5.3963\n",
            "Epoch 40/100\n",
            "36/36 [==============================] - 0s 3ms/step - loss: 4.9682 - mean_squared_error: 4.9682 - val_loss: 5.2520 - val_mean_squared_error: 5.2520\n",
            "Epoch 41/100\n",
            "36/36 [==============================] - 0s 3ms/step - loss: 4.9676 - mean_squared_error: 4.9676 - val_loss: 5.4676 - val_mean_squared_error: 5.4676\n",
            "Epoch 42/100\n",
            "36/36 [==============================] - 0s 3ms/step - loss: 4.9523 - mean_squared_error: 4.9523 - val_loss: 5.5146 - val_mean_squared_error: 5.5146\n",
            "Epoch 43/100\n",
            "36/36 [==============================] - 0s 3ms/step - loss: 4.8704 - mean_squared_error: 4.8704 - val_loss: 5.1330 - val_mean_squared_error: 5.1330\n",
            "Epoch 44/100\n",
            "36/36 [==============================] - 0s 3ms/step - loss: 4.8137 - mean_squared_error: 4.8137 - val_loss: 5.3782 - val_mean_squared_error: 5.3782\n",
            "Epoch 45/100\n",
            "36/36 [==============================] - 0s 3ms/step - loss: 4.8664 - mean_squared_error: 4.8664 - val_loss: 5.1010 - val_mean_squared_error: 5.1010\n",
            "Epoch 46/100\n",
            "36/36 [==============================] - 0s 3ms/step - loss: 4.8706 - mean_squared_error: 4.8706 - val_loss: 5.3160 - val_mean_squared_error: 5.3160\n",
            "Epoch 47/100\n",
            "36/36 [==============================] - 0s 3ms/step - loss: 4.8671 - mean_squared_error: 4.8671 - val_loss: 5.5276 - val_mean_squared_error: 5.5276\n",
            "Epoch 48/100\n",
            "36/36 [==============================] - 0s 3ms/step - loss: 4.8850 - mean_squared_error: 4.8850 - val_loss: 5.1469 - val_mean_squared_error: 5.1469\n",
            "Epoch 49/100\n",
            "36/36 [==============================] - 0s 3ms/step - loss: 4.7870 - mean_squared_error: 4.7870 - val_loss: 5.2553 - val_mean_squared_error: 5.2553\n",
            "Epoch 50/100\n",
            "36/36 [==============================] - 0s 3ms/step - loss: 4.8988 - mean_squared_error: 4.8988 - val_loss: 5.3473 - val_mean_squared_error: 5.3473\n",
            "Epoch 51/100\n",
            "36/36 [==============================] - 0s 3ms/step - loss: 4.8250 - mean_squared_error: 4.8250 - val_loss: 5.1946 - val_mean_squared_error: 5.1946\n",
            "Epoch 52/100\n",
            "36/36 [==============================] - 0s 3ms/step - loss: 4.8210 - mean_squared_error: 4.8210 - val_loss: 5.2368 - val_mean_squared_error: 5.2368\n",
            "Epoch 53/100\n",
            "36/36 [==============================] - 0s 4ms/step - loss: 4.7815 - mean_squared_error: 4.7815 - val_loss: 5.3976 - val_mean_squared_error: 5.3976\n",
            "Epoch 54/100\n",
            "36/36 [==============================] - 0s 5ms/step - loss: 4.7907 - mean_squared_error: 4.7907 - val_loss: 5.1504 - val_mean_squared_error: 5.1504\n",
            "Epoch 55/100\n",
            "36/36 [==============================] - 0s 5ms/step - loss: 4.7852 - mean_squared_error: 4.7852 - val_loss: 5.2515 - val_mean_squared_error: 5.2515\n",
            "Epoch 56/100\n",
            "36/36 [==============================] - 0s 5ms/step - loss: 4.7390 - mean_squared_error: 4.7390 - val_loss: 5.2474 - val_mean_squared_error: 5.2474\n",
            "Epoch 57/100\n",
            "36/36 [==============================] - 0s 5ms/step - loss: 4.7950 - mean_squared_error: 4.7950 - val_loss: 5.2938 - val_mean_squared_error: 5.2938\n",
            "Epoch 58/100\n",
            "36/36 [==============================] - 0s 7ms/step - loss: 4.8259 - mean_squared_error: 4.8259 - val_loss: 5.3047 - val_mean_squared_error: 5.3047\n",
            "Epoch 59/100\n",
            "36/36 [==============================] - 0s 6ms/step - loss: 4.7572 - mean_squared_error: 4.7572 - val_loss: 5.2051 - val_mean_squared_error: 5.2051\n",
            "Epoch 60/100\n",
            "36/36 [==============================] - 0s 6ms/step - loss: 4.7531 - mean_squared_error: 4.7531 - val_loss: 5.1584 - val_mean_squared_error: 5.1584\n",
            "Epoch 61/100\n",
            "36/36 [==============================] - 0s 5ms/step - loss: 4.8220 - mean_squared_error: 4.8220 - val_loss: 5.2707 - val_mean_squared_error: 5.2707\n",
            "Epoch 62/100\n",
            "36/36 [==============================] - 0s 6ms/step - loss: 4.6797 - mean_squared_error: 4.6797 - val_loss: 5.1878 - val_mean_squared_error: 5.1878\n",
            "Epoch 63/100\n",
            "36/36 [==============================] - 0s 6ms/step - loss: 4.6815 - mean_squared_error: 4.6815 - val_loss: 5.1931 - val_mean_squared_error: 5.1931\n",
            "Epoch 64/100\n",
            "36/36 [==============================] - 0s 6ms/step - loss: 4.7032 - mean_squared_error: 4.7032 - val_loss: 5.1171 - val_mean_squared_error: 5.1171\n",
            "Epoch 65/100\n",
            "36/36 [==============================] - 0s 3ms/step - loss: 4.7133 - mean_squared_error: 4.7133 - val_loss: 5.0851 - val_mean_squared_error: 5.0851\n",
            "Epoch 66/100\n",
            "36/36 [==============================] - 0s 3ms/step - loss: 4.6419 - mean_squared_error: 4.6419 - val_loss: 5.1466 - val_mean_squared_error: 5.1466\n",
            "Epoch 67/100\n",
            "36/36 [==============================] - 0s 3ms/step - loss: 4.6284 - mean_squared_error: 4.6284 - val_loss: 5.2067 - val_mean_squared_error: 5.2067\n",
            "Epoch 68/100\n",
            "36/36 [==============================] - 0s 3ms/step - loss: 4.6747 - mean_squared_error: 4.6747 - val_loss: 5.8623 - val_mean_squared_error: 5.8623\n",
            "Epoch 69/100\n",
            "36/36 [==============================] - 0s 3ms/step - loss: 4.5723 - mean_squared_error: 4.5723 - val_loss: 5.1383 - val_mean_squared_error: 5.1383\n",
            "Epoch 70/100\n",
            "36/36 [==============================] - 0s 3ms/step - loss: 4.6466 - mean_squared_error: 4.6466 - val_loss: 5.3549 - val_mean_squared_error: 5.3549\n",
            "Epoch 71/100\n",
            "36/36 [==============================] - 0s 3ms/step - loss: 4.6131 - mean_squared_error: 4.6131 - val_loss: 5.2150 - val_mean_squared_error: 5.2150\n",
            "Epoch 72/100\n",
            "36/36 [==============================] - 0s 3ms/step - loss: 4.5833 - mean_squared_error: 4.5833 - val_loss: 5.2321 - val_mean_squared_error: 5.2321\n",
            "Epoch 73/100\n",
            "36/36 [==============================] - 0s 3ms/step - loss: 4.6360 - mean_squared_error: 4.6360 - val_loss: 5.3514 - val_mean_squared_error: 5.3514\n",
            "Epoch 74/100\n",
            "36/36 [==============================] - 0s 3ms/step - loss: 4.6042 - mean_squared_error: 4.6042 - val_loss: 5.2444 - val_mean_squared_error: 5.2444\n",
            "Epoch 75/100\n",
            "36/36 [==============================] - 0s 3ms/step - loss: 4.5802 - mean_squared_error: 4.5802 - val_loss: 5.2483 - val_mean_squared_error: 5.2483\n",
            "Epoch 76/100\n",
            "36/36 [==============================] - 0s 3ms/step - loss: 4.6209 - mean_squared_error: 4.6209 - val_loss: 5.3505 - val_mean_squared_error: 5.3505\n",
            "Epoch 77/100\n",
            "36/36 [==============================] - 0s 3ms/step - loss: 4.5452 - mean_squared_error: 4.5452 - val_loss: 5.1809 - val_mean_squared_error: 5.1809\n",
            "Epoch 78/100\n",
            "36/36 [==============================] - 0s 3ms/step - loss: 4.5789 - mean_squared_error: 4.5789 - val_loss: 5.2042 - val_mean_squared_error: 5.2042\n",
            "Epoch 79/100\n",
            "36/36 [==============================] - 0s 3ms/step - loss: 4.5447 - mean_squared_error: 4.5447 - val_loss: 5.1432 - val_mean_squared_error: 5.1432\n",
            "Epoch 80/100\n",
            "36/36 [==============================] - 0s 3ms/step - loss: 4.5287 - mean_squared_error: 4.5287 - val_loss: 5.2300 - val_mean_squared_error: 5.2300\n",
            "Epoch 81/100\n",
            "36/36 [==============================] - 0s 3ms/step - loss: 4.5151 - mean_squared_error: 4.5151 - val_loss: 5.2538 - val_mean_squared_error: 5.2538\n",
            "Epoch 82/100\n",
            "36/36 [==============================] - 0s 3ms/step - loss: 4.5692 - mean_squared_error: 4.5692 - val_loss: 5.1969 - val_mean_squared_error: 5.1969\n",
            "Epoch 83/100\n",
            "36/36 [==============================] - 0s 5ms/step - loss: 4.5697 - mean_squared_error: 4.5697 - val_loss: 5.4123 - val_mean_squared_error: 5.4123\n",
            "Epoch 84/100\n",
            "36/36 [==============================] - 0s 3ms/step - loss: 4.5519 - mean_squared_error: 4.5519 - val_loss: 5.2759 - val_mean_squared_error: 5.2759\n",
            "Epoch 85/100\n",
            "36/36 [==============================] - 0s 3ms/step - loss: 4.5384 - mean_squared_error: 4.5384 - val_loss: 5.2062 - val_mean_squared_error: 5.2062\n",
            "Epoch 86/100\n",
            "36/36 [==============================] - 0s 4ms/step - loss: 4.5408 - mean_squared_error: 4.5408 - val_loss: 5.1974 - val_mean_squared_error: 5.1974\n",
            "Epoch 87/100\n",
            "36/36 [==============================] - 0s 3ms/step - loss: 4.5953 - mean_squared_error: 4.5953 - val_loss: 5.2004 - val_mean_squared_error: 5.2004\n",
            "Epoch 88/100\n",
            "36/36 [==============================] - 0s 3ms/step - loss: 4.5416 - mean_squared_error: 4.5416 - val_loss: 5.2174 - val_mean_squared_error: 5.2174\n",
            "Epoch 89/100\n",
            "36/36 [==============================] - 0s 3ms/step - loss: 4.5074 - mean_squared_error: 4.5074 - val_loss: 5.1856 - val_mean_squared_error: 5.1856\n",
            "Epoch 90/100\n",
            "36/36 [==============================] - 0s 3ms/step - loss: 4.5477 - mean_squared_error: 4.5477 - val_loss: 5.3415 - val_mean_squared_error: 5.3415\n",
            "Epoch 91/100\n",
            "36/36 [==============================] - 0s 3ms/step - loss: 4.4994 - mean_squared_error: 4.4994 - val_loss: 5.2700 - val_mean_squared_error: 5.2700\n",
            "Epoch 92/100\n",
            "36/36 [==============================] - 0s 3ms/step - loss: 4.5463 - mean_squared_error: 4.5463 - val_loss: 5.2598 - val_mean_squared_error: 5.2598\n",
            "Epoch 93/100\n",
            "36/36 [==============================] - 0s 3ms/step - loss: 4.4621 - mean_squared_error: 4.4621 - val_loss: 5.2282 - val_mean_squared_error: 5.2282\n",
            "Epoch 94/100\n",
            "36/36 [==============================] - 0s 5ms/step - loss: 4.4641 - mean_squared_error: 4.4641 - val_loss: 5.2797 - val_mean_squared_error: 5.2797\n",
            "Epoch 95/100\n",
            "36/36 [==============================] - 0s 3ms/step - loss: 4.4479 - mean_squared_error: 4.4479 - val_loss: 5.3802 - val_mean_squared_error: 5.3802\n",
            "Epoch 96/100\n",
            "36/36 [==============================] - 0s 3ms/step - loss: 4.4596 - mean_squared_error: 4.4596 - val_loss: 5.7762 - val_mean_squared_error: 5.7762\n",
            "Epoch 97/100\n",
            "36/36 [==============================] - 0s 3ms/step - loss: 4.5417 - mean_squared_error: 4.5417 - val_loss: 5.5191 - val_mean_squared_error: 5.5191\n",
            "Epoch 98/100\n",
            "36/36 [==============================] - 0s 3ms/step - loss: 4.5512 - mean_squared_error: 4.5512 - val_loss: 5.2209 - val_mean_squared_error: 5.2209\n",
            "Epoch 99/100\n",
            "36/36 [==============================] - 0s 3ms/step - loss: 4.4780 - mean_squared_error: 4.4780 - val_loss: 5.5624 - val_mean_squared_error: 5.5624\n",
            "Epoch 100/100\n",
            "36/36 [==============================] - 0s 3ms/step - loss: 4.4568 - mean_squared_error: 4.4568 - val_loss: 5.2192 - val_mean_squared_error: 5.2192\n",
            "7/7 [==============================] - 0s 2ms/step - loss: 5.2896 - mean_squared_error: 5.2896\n",
            "Test Mean Squared Error: 5.28956937789917\n"
          ]
        }
      ]
    },
    {
      "cell_type": "code",
      "source": [
        "y_pred = model.predict(X_test[:, 2:].astype(np.float64))"
      ],
      "metadata": {
        "colab": {
          "base_uri": "https://localhost:8080/"
        },
        "id": "lotFSzlH7Mh9",
        "outputId": "7939c707-0a48-49f9-e644-c15e8d5965b7"
      },
      "execution_count": 37,
      "outputs": [
        {
          "output_type": "stream",
          "name": "stdout",
          "text": [
            "7/7 [==============================] - 0s 4ms/step\n"
          ]
        }
      ]
    },
    {
      "cell_type": "code",
      "source": [
        "report_performance(test_VAD, y_test, y_pred)"
      ],
      "metadata": {
        "colab": {
          "base_uri": "https://localhost:8080/"
        },
        "id": "PtmWjMfj7p72",
        "outputId": "8c6846d7-6624-436b-d52c-745d6e2fcac1"
      },
      "execution_count": 39,
      "outputs": [
        {
          "output_type": "execute_result",
          "data": {
            "text/plain": [
              "{'<=1': 80, '<=2': 130}"
            ]
          },
          "metadata": {},
          "execution_count": 39
        }
      ]
    },
    {
      "cell_type": "markdown",
      "source": [
        "## VAD + Word2Vec"
      ],
      "metadata": {
        "id": "xmJw47FH8CEo"
      }
    },
    {
      "cell_type": "markdown",
      "source": [
        "### Setup"
      ],
      "metadata": {
        "id": "vWng-AmF8N5n"
      }
    },
    {
      "cell_type": "code",
      "source": [
        "import nltk\n",
        "nltk.download('brown')\n",
        "\n",
        "from nltk.corpus import brown"
      ],
      "metadata": {
        "colab": {
          "base_uri": "https://localhost:8080/"
        },
        "id": "KmLOR38R786y",
        "outputId": "206f3a21-d8a6-47ab-c77c-6089f174f71e"
      },
      "execution_count": 40,
      "outputs": [
        {
          "output_type": "stream",
          "name": "stderr",
          "text": [
            "[nltk_data] Downloading package brown to /root/nltk_data...\n",
            "[nltk_data]   Unzipping corpora/brown.zip.\n"
          ]
        }
      ]
    },
    {
      "cell_type": "code",
      "source": [
        "import gensim\n",
        "from gensim.models import Word2Vec\n",
        "\n",
        "w2v = Word2Vec(brown.sents(), min_count=1, vector_size=100, window=5)"
      ],
      "metadata": {
        "id": "c8a4-WvF8R9P"
      },
      "execution_count": 41,
      "outputs": []
    },
    {
      "cell_type": "code",
      "source": [
        "def wordvec_similarity(word1, word2):\n",
        "  return w2v.wv.similarity(word1, word2)"
      ],
      "metadata": {
        "id": "5i5PqW2L8SM2"
      },
      "execution_count": 42,
      "outputs": []
    },
    {
      "cell_type": "code",
      "source": [
        "train_VAD_WV = generate_dataset(train, [wordvec_similarity])\n",
        "test_VAD_WV = generate_dataset(test, [wordvec_similarity])\n",
        "val_VAD_WV = generate_dataset(val, [wordvec_similarity])\n",
        "\n",
        "\n",
        "X_train = train_VAD_WV.iloc[:, :-1].values\n",
        "y_train = train_VAD_WV.iloc[:, -1].values\n",
        "\n",
        "X_test = test_VAD_WV.iloc[:, :-1].values\n",
        "y_test = test_VAD_WV.iloc[:, -1].values\n",
        "\n",
        "X_val = val_VAD_WV.iloc[:, :-1].values\n",
        "y_val = val_VAD_WV.iloc[:, -1].values"
      ],
      "metadata": {
        "id": "4Cy2ajW58fl7"
      },
      "execution_count": 44,
      "outputs": []
    },
    {
      "cell_type": "code",
      "source": [
        "svr_VAD_WV = SVR()\n",
        "\n",
        "svr_VAD_WV.fit(X_train[:, 2:].astype(np.float64), y_train)"
      ],
      "metadata": {
        "colab": {
          "base_uri": "https://localhost:8080/",
          "height": 75
        },
        "id": "tdwFt2Jv8xPE",
        "outputId": "f374d0ee-720e-422c-8ac6-e07aa13a3414"
      },
      "execution_count": 45,
      "outputs": [
        {
          "output_type": "execute_result",
          "data": {
            "text/plain": [
              "SVR()"
            ],
            "text/html": [
              "<style>#sk-container-id-2 {color: black;background-color: white;}#sk-container-id-2 pre{padding: 0;}#sk-container-id-2 div.sk-toggleable {background-color: white;}#sk-container-id-2 label.sk-toggleable__label {cursor: pointer;display: block;width: 100%;margin-bottom: 0;padding: 0.3em;box-sizing: border-box;text-align: center;}#sk-container-id-2 label.sk-toggleable__label-arrow:before {content: \"▸\";float: left;margin-right: 0.25em;color: #696969;}#sk-container-id-2 label.sk-toggleable__label-arrow:hover:before {color: black;}#sk-container-id-2 div.sk-estimator:hover label.sk-toggleable__label-arrow:before {color: black;}#sk-container-id-2 div.sk-toggleable__content {max-height: 0;max-width: 0;overflow: hidden;text-align: left;background-color: #f0f8ff;}#sk-container-id-2 div.sk-toggleable__content pre {margin: 0.2em;color: black;border-radius: 0.25em;background-color: #f0f8ff;}#sk-container-id-2 input.sk-toggleable__control:checked~div.sk-toggleable__content {max-height: 200px;max-width: 100%;overflow: auto;}#sk-container-id-2 input.sk-toggleable__control:checked~label.sk-toggleable__label-arrow:before {content: \"▾\";}#sk-container-id-2 div.sk-estimator input.sk-toggleable__control:checked~label.sk-toggleable__label {background-color: #d4ebff;}#sk-container-id-2 div.sk-label input.sk-toggleable__control:checked~label.sk-toggleable__label {background-color: #d4ebff;}#sk-container-id-2 input.sk-hidden--visually {border: 0;clip: rect(1px 1px 1px 1px);clip: rect(1px, 1px, 1px, 1px);height: 1px;margin: -1px;overflow: hidden;padding: 0;position: absolute;width: 1px;}#sk-container-id-2 div.sk-estimator {font-family: monospace;background-color: #f0f8ff;border: 1px dotted black;border-radius: 0.25em;box-sizing: border-box;margin-bottom: 0.5em;}#sk-container-id-2 div.sk-estimator:hover {background-color: #d4ebff;}#sk-container-id-2 div.sk-parallel-item::after {content: \"\";width: 100%;border-bottom: 1px solid gray;flex-grow: 1;}#sk-container-id-2 div.sk-label:hover label.sk-toggleable__label {background-color: #d4ebff;}#sk-container-id-2 div.sk-serial::before {content: \"\";position: absolute;border-left: 1px solid gray;box-sizing: border-box;top: 0;bottom: 0;left: 50%;z-index: 0;}#sk-container-id-2 div.sk-serial {display: flex;flex-direction: column;align-items: center;background-color: white;padding-right: 0.2em;padding-left: 0.2em;position: relative;}#sk-container-id-2 div.sk-item {position: relative;z-index: 1;}#sk-container-id-2 div.sk-parallel {display: flex;align-items: stretch;justify-content: center;background-color: white;position: relative;}#sk-container-id-2 div.sk-item::before, #sk-container-id-2 div.sk-parallel-item::before {content: \"\";position: absolute;border-left: 1px solid gray;box-sizing: border-box;top: 0;bottom: 0;left: 50%;z-index: -1;}#sk-container-id-2 div.sk-parallel-item {display: flex;flex-direction: column;z-index: 1;position: relative;background-color: white;}#sk-container-id-2 div.sk-parallel-item:first-child::after {align-self: flex-end;width: 50%;}#sk-container-id-2 div.sk-parallel-item:last-child::after {align-self: flex-start;width: 50%;}#sk-container-id-2 div.sk-parallel-item:only-child::after {width: 0;}#sk-container-id-2 div.sk-dashed-wrapped {border: 1px dashed gray;margin: 0 0.4em 0.5em 0.4em;box-sizing: border-box;padding-bottom: 0.4em;background-color: white;}#sk-container-id-2 div.sk-label label {font-family: monospace;font-weight: bold;display: inline-block;line-height: 1.2em;}#sk-container-id-2 div.sk-label-container {text-align: center;}#sk-container-id-2 div.sk-container {/* jupyter's `normalize.less` sets `[hidden] { display: none; }` but bootstrap.min.css set `[hidden] { display: none !important; }` so we also need the `!important` here to be able to override the default hidden behavior on the sphinx rendered scikit-learn.org. See: https://github.com/scikit-learn/scikit-learn/issues/21755 */display: inline-block !important;position: relative;}#sk-container-id-2 div.sk-text-repr-fallback {display: none;}</style><div id=\"sk-container-id-2\" class=\"sk-top-container\"><div class=\"sk-text-repr-fallback\"><pre>SVR()</pre><b>In a Jupyter environment, please rerun this cell to show the HTML representation or trust the notebook. <br />On GitHub, the HTML representation is unable to render, please try loading this page with nbviewer.org.</b></div><div class=\"sk-container\" hidden><div class=\"sk-item\"><div class=\"sk-estimator sk-toggleable\"><input class=\"sk-toggleable__control sk-hidden--visually\" id=\"sk-estimator-id-2\" type=\"checkbox\" checked><label for=\"sk-estimator-id-2\" class=\"sk-toggleable__label sk-toggleable__label-arrow\">SVR</label><div class=\"sk-toggleable__content\"><pre>SVR()</pre></div></div></div></div></div>"
            ]
          },
          "metadata": {},
          "execution_count": 45
        }
      ]
    },
    {
      "cell_type": "code",
      "source": [
        "y_pred = svr_VAD_WV.predict(X_test[:, 2:].astype(np.float64))\n",
        "\n",
        "mean_squared_error(y_test, y_pred)\n",
        "\n",
        "# 5.53500159519488"
      ],
      "metadata": {
        "colab": {
          "base_uri": "https://localhost:8080/"
        },
        "id": "-MctZvtf9GXS",
        "outputId": "4be10e80-7c1f-416c-a597-f64f13174c25"
      },
      "execution_count": 46,
      "outputs": [
        {
          "output_type": "execute_result",
          "data": {
            "text/plain": [
              "5.331635730757275"
            ]
          },
          "metadata": {},
          "execution_count": 46
        }
      ]
    },
    {
      "cell_type": "code",
      "source": [
        "report_performance(test_VAD_WV, y_test, y_pred)"
      ],
      "metadata": {
        "colab": {
          "base_uri": "https://localhost:8080/"
        },
        "id": "BegOCKGC9O6T",
        "outputId": "5e20674d-12f4-474e-f632-9d140db46c61"
      },
      "execution_count": 47,
      "outputs": [
        {
          "output_type": "execute_result",
          "data": {
            "text/plain": [
              "{'<=1': 80, '<=2': 130}"
            ]
          },
          "metadata": {},
          "execution_count": 47
        }
      ]
    },
    {
      "cell_type": "markdown",
      "source": [
        "### NN"
      ],
      "metadata": {
        "id": "x2Lq-5Qc9kfF"
      }
    },
    {
      "cell_type": "code",
      "source": [
        "import numpy as np\n",
        "import tensorflow as tf\n",
        "from tensorflow.keras import layers, models\n",
        "\n",
        "\n",
        "model = models.Sequential([\n",
        "    layers.Dense(128, activation='relu', input_shape=(7,)),\n",
        "    layers.Dense(64, activation='relu'),\n",
        "    layers.Dense(1)\n",
        "])\n",
        "\n",
        "model.compile(optimizer='adam',\n",
        "              loss='mean_squared_error',  # Use Mean Squared Error for regression\n",
        "              metrics=['mean_squared_error'])  # Use Mean Absolute Error as metric\n",
        "\n",
        "model.fit(X_train[:, 2:].astype(np.float64), y_train,\n",
        "          epochs=100, batch_size=16,\n",
        "          validation_data=(X_val[:, 2:].astype(np.float64), y_val))\n",
        "\n",
        "test_loss, test_mse = model.evaluate(X_test[:, 2:].astype(np.float64), y_test)\n",
        "print('Test Mean Squared Error:', test_mse)"
      ],
      "metadata": {
        "colab": {
          "base_uri": "https://localhost:8080/"
        },
        "id": "p7fTBBFt9cX0",
        "outputId": "121489ae-4266-4964-d89d-2f388e3d12ef"
      },
      "execution_count": 49,
      "outputs": [
        {
          "output_type": "stream",
          "name": "stdout",
          "text": [
            "Epoch 1/100\n",
            "36/36 [==============================] - 3s 30ms/step - loss: 17.5167 - mean_squared_error: 17.5167 - val_loss: 8.8648 - val_mean_squared_error: 8.8648\n",
            "Epoch 2/100\n",
            "36/36 [==============================] - 0s 7ms/step - loss: 6.7426 - mean_squared_error: 6.7426 - val_loss: 6.8069 - val_mean_squared_error: 6.8069\n",
            "Epoch 3/100\n",
            "36/36 [==============================] - 0s 5ms/step - loss: 6.5927 - mean_squared_error: 6.5927 - val_loss: 6.7757 - val_mean_squared_error: 6.7757\n",
            "Epoch 4/100\n",
            "36/36 [==============================] - 0s 5ms/step - loss: 6.5477 - mean_squared_error: 6.5477 - val_loss: 6.7611 - val_mean_squared_error: 6.7611\n",
            "Epoch 5/100\n",
            "36/36 [==============================] - 0s 6ms/step - loss: 6.4780 - mean_squared_error: 6.4780 - val_loss: 6.6379 - val_mean_squared_error: 6.6379\n",
            "Epoch 6/100\n",
            "36/36 [==============================] - 0s 5ms/step - loss: 6.4541 - mean_squared_error: 6.4541 - val_loss: 6.6566 - val_mean_squared_error: 6.6566\n",
            "Epoch 7/100\n",
            "36/36 [==============================] - 0s 3ms/step - loss: 6.4011 - mean_squared_error: 6.4011 - val_loss: 6.9344 - val_mean_squared_error: 6.9344\n",
            "Epoch 8/100\n",
            "36/36 [==============================] - 0s 3ms/step - loss: 6.3634 - mean_squared_error: 6.3634 - val_loss: 6.4397 - val_mean_squared_error: 6.4397\n",
            "Epoch 9/100\n",
            "36/36 [==============================] - 0s 3ms/step - loss: 6.3011 - mean_squared_error: 6.3011 - val_loss: 6.5755 - val_mean_squared_error: 6.5755\n",
            "Epoch 10/100\n",
            "36/36 [==============================] - 0s 3ms/step - loss: 6.2593 - mean_squared_error: 6.2593 - val_loss: 6.3990 - val_mean_squared_error: 6.3990\n",
            "Epoch 11/100\n",
            "36/36 [==============================] - 0s 3ms/step - loss: 6.2719 - mean_squared_error: 6.2719 - val_loss: 6.4580 - val_mean_squared_error: 6.4580\n",
            "Epoch 12/100\n",
            "36/36 [==============================] - 0s 3ms/step - loss: 6.1104 - mean_squared_error: 6.1104 - val_loss: 6.3946 - val_mean_squared_error: 6.3946\n",
            "Epoch 13/100\n",
            "36/36 [==============================] - 0s 3ms/step - loss: 6.0735 - mean_squared_error: 6.0735 - val_loss: 6.1423 - val_mean_squared_error: 6.1423\n",
            "Epoch 14/100\n",
            "36/36 [==============================] - 0s 3ms/step - loss: 5.9676 - mean_squared_error: 5.9676 - val_loss: 5.9945 - val_mean_squared_error: 5.9945\n",
            "Epoch 15/100\n",
            "36/36 [==============================] - 0s 3ms/step - loss: 5.8947 - mean_squared_error: 5.8947 - val_loss: 6.2746 - val_mean_squared_error: 6.2746\n",
            "Epoch 16/100\n",
            "36/36 [==============================] - 0s 3ms/step - loss: 5.8482 - mean_squared_error: 5.8482 - val_loss: 6.0966 - val_mean_squared_error: 6.0966\n",
            "Epoch 17/100\n",
            "36/36 [==============================] - 0s 3ms/step - loss: 5.7126 - mean_squared_error: 5.7126 - val_loss: 5.8764 - val_mean_squared_error: 5.8764\n",
            "Epoch 18/100\n",
            "36/36 [==============================] - 0s 3ms/step - loss: 5.7278 - mean_squared_error: 5.7278 - val_loss: 5.8171 - val_mean_squared_error: 5.8171\n",
            "Epoch 19/100\n",
            "36/36 [==============================] - 0s 4ms/step - loss: 5.5599 - mean_squared_error: 5.5599 - val_loss: 5.6574 - val_mean_squared_error: 5.6574\n",
            "Epoch 20/100\n",
            "36/36 [==============================] - 0s 3ms/step - loss: 5.5610 - mean_squared_error: 5.5610 - val_loss: 5.5952 - val_mean_squared_error: 5.5952\n",
            "Epoch 21/100\n",
            "36/36 [==============================] - 0s 4ms/step - loss: 5.4788 - mean_squared_error: 5.4788 - val_loss: 5.5572 - val_mean_squared_error: 5.5572\n",
            "Epoch 22/100\n",
            "36/36 [==============================] - 0s 3ms/step - loss: 5.3526 - mean_squared_error: 5.3526 - val_loss: 5.6621 - val_mean_squared_error: 5.6621\n",
            "Epoch 23/100\n",
            "36/36 [==============================] - 0s 4ms/step - loss: 5.2934 - mean_squared_error: 5.2934 - val_loss: 6.1978 - val_mean_squared_error: 6.1978\n",
            "Epoch 24/100\n",
            "36/36 [==============================] - 0s 3ms/step - loss: 5.3003 - mean_squared_error: 5.3003 - val_loss: 5.6812 - val_mean_squared_error: 5.6812\n",
            "Epoch 25/100\n",
            "36/36 [==============================] - 0s 3ms/step - loss: 5.2613 - mean_squared_error: 5.2613 - val_loss: 5.3138 - val_mean_squared_error: 5.3138\n",
            "Epoch 26/100\n",
            "36/36 [==============================] - 0s 3ms/step - loss: 5.2681 - mean_squared_error: 5.2681 - val_loss: 5.6100 - val_mean_squared_error: 5.6100\n",
            "Epoch 27/100\n",
            "36/36 [==============================] - 0s 4ms/step - loss: 5.2573 - mean_squared_error: 5.2573 - val_loss: 6.0007 - val_mean_squared_error: 6.0007\n",
            "Epoch 28/100\n",
            "36/36 [==============================] - 0s 3ms/step - loss: 5.1344 - mean_squared_error: 5.1344 - val_loss: 5.2205 - val_mean_squared_error: 5.2205\n",
            "Epoch 29/100\n",
            "36/36 [==============================] - 0s 3ms/step - loss: 5.1412 - mean_squared_error: 5.1412 - val_loss: 5.2081 - val_mean_squared_error: 5.2081\n",
            "Epoch 30/100\n",
            "36/36 [==============================] - 0s 3ms/step - loss: 5.0629 - mean_squared_error: 5.0629 - val_loss: 5.1849 - val_mean_squared_error: 5.1849\n",
            "Epoch 31/100\n",
            "36/36 [==============================] - 0s 3ms/step - loss: 5.0392 - mean_squared_error: 5.0392 - val_loss: 5.1807 - val_mean_squared_error: 5.1807\n",
            "Epoch 32/100\n",
            "36/36 [==============================] - 0s 3ms/step - loss: 5.0192 - mean_squared_error: 5.0192 - val_loss: 5.4545 - val_mean_squared_error: 5.4545\n",
            "Epoch 33/100\n",
            "36/36 [==============================] - 0s 3ms/step - loss: 5.0077 - mean_squared_error: 5.0077 - val_loss: 5.3417 - val_mean_squared_error: 5.3417\n",
            "Epoch 34/100\n",
            "36/36 [==============================] - 0s 3ms/step - loss: 5.1050 - mean_squared_error: 5.1050 - val_loss: 5.4130 - val_mean_squared_error: 5.4130\n",
            "Epoch 35/100\n",
            "36/36 [==============================] - 0s 5ms/step - loss: 5.1262 - mean_squared_error: 5.1262 - val_loss: 5.2172 - val_mean_squared_error: 5.2172\n",
            "Epoch 36/100\n",
            "36/36 [==============================] - 0s 3ms/step - loss: 5.0827 - mean_squared_error: 5.0827 - val_loss: 5.5638 - val_mean_squared_error: 5.5638\n",
            "Epoch 37/100\n",
            "36/36 [==============================] - 0s 3ms/step - loss: 5.0282 - mean_squared_error: 5.0282 - val_loss: 5.1074 - val_mean_squared_error: 5.1074\n",
            "Epoch 38/100\n",
            "36/36 [==============================] - 0s 3ms/step - loss: 4.9848 - mean_squared_error: 4.9848 - val_loss: 5.1113 - val_mean_squared_error: 5.1113\n",
            "Epoch 39/100\n",
            "36/36 [==============================] - 0s 3ms/step - loss: 4.9901 - mean_squared_error: 4.9901 - val_loss: 5.1341 - val_mean_squared_error: 5.1341\n",
            "Epoch 40/100\n",
            "36/36 [==============================] - 0s 3ms/step - loss: 5.0036 - mean_squared_error: 5.0036 - val_loss: 5.1509 - val_mean_squared_error: 5.1509\n",
            "Epoch 41/100\n",
            "36/36 [==============================] - 0s 3ms/step - loss: 4.9423 - mean_squared_error: 4.9423 - val_loss: 5.1513 - val_mean_squared_error: 5.1513\n",
            "Epoch 42/100\n",
            "36/36 [==============================] - 0s 3ms/step - loss: 5.0841 - mean_squared_error: 5.0841 - val_loss: 5.2054 - val_mean_squared_error: 5.2054\n",
            "Epoch 43/100\n",
            "36/36 [==============================] - 0s 5ms/step - loss: 4.9594 - mean_squared_error: 4.9594 - val_loss: 5.1483 - val_mean_squared_error: 5.1483\n",
            "Epoch 44/100\n",
            "36/36 [==============================] - 0s 3ms/step - loss: 4.8838 - mean_squared_error: 4.8838 - val_loss: 5.0727 - val_mean_squared_error: 5.0727\n",
            "Epoch 45/100\n",
            "36/36 [==============================] - 0s 3ms/step - loss: 4.9445 - mean_squared_error: 4.9445 - val_loss: 5.1120 - val_mean_squared_error: 5.1120\n",
            "Epoch 46/100\n",
            "36/36 [==============================] - 0s 3ms/step - loss: 4.9363 - mean_squared_error: 4.9363 - val_loss: 5.2287 - val_mean_squared_error: 5.2287\n",
            "Epoch 47/100\n",
            "36/36 [==============================] - 0s 4ms/step - loss: 4.8644 - mean_squared_error: 4.8644 - val_loss: 5.2046 - val_mean_squared_error: 5.2046\n",
            "Epoch 48/100\n",
            "36/36 [==============================] - 0s 3ms/step - loss: 4.8890 - mean_squared_error: 4.8890 - val_loss: 5.2849 - val_mean_squared_error: 5.2849\n",
            "Epoch 49/100\n",
            "36/36 [==============================] - 0s 3ms/step - loss: 4.9469 - mean_squared_error: 4.9469 - val_loss: 5.1829 - val_mean_squared_error: 5.1829\n",
            "Epoch 50/100\n",
            "36/36 [==============================] - 0s 3ms/step - loss: 4.8523 - mean_squared_error: 4.8523 - val_loss: 5.0792 - val_mean_squared_error: 5.0792\n",
            "Epoch 51/100\n",
            "36/36 [==============================] - 0s 3ms/step - loss: 4.9472 - mean_squared_error: 4.9472 - val_loss: 5.2927 - val_mean_squared_error: 5.2927\n",
            "Epoch 52/100\n",
            "36/36 [==============================] - 0s 3ms/step - loss: 4.9079 - mean_squared_error: 4.9079 - val_loss: 5.0749 - val_mean_squared_error: 5.0749\n",
            "Epoch 53/100\n",
            "36/36 [==============================] - 0s 3ms/step - loss: 4.8565 - mean_squared_error: 4.8565 - val_loss: 5.1673 - val_mean_squared_error: 5.1673\n",
            "Epoch 54/100\n",
            "36/36 [==============================] - 0s 3ms/step - loss: 4.7758 - mean_squared_error: 4.7758 - val_loss: 5.1017 - val_mean_squared_error: 5.1017\n",
            "Epoch 55/100\n",
            "36/36 [==============================] - 0s 3ms/step - loss: 4.8283 - mean_squared_error: 4.8283 - val_loss: 5.1232 - val_mean_squared_error: 5.1232\n",
            "Epoch 56/100\n",
            "36/36 [==============================] - 0s 3ms/step - loss: 4.8605 - mean_squared_error: 4.8605 - val_loss: 5.3058 - val_mean_squared_error: 5.3058\n",
            "Epoch 57/100\n",
            "36/36 [==============================] - 0s 3ms/step - loss: 4.8201 - mean_squared_error: 4.8201 - val_loss: 5.3840 - val_mean_squared_error: 5.3840\n",
            "Epoch 58/100\n",
            "36/36 [==============================] - 0s 4ms/step - loss: 4.8688 - mean_squared_error: 4.8688 - val_loss: 5.1020 - val_mean_squared_error: 5.1020\n",
            "Epoch 59/100\n",
            "36/36 [==============================] - 0s 5ms/step - loss: 4.8134 - mean_squared_error: 4.8134 - val_loss: 5.1320 - val_mean_squared_error: 5.1320\n",
            "Epoch 60/100\n",
            "36/36 [==============================] - 0s 3ms/step - loss: 4.7434 - mean_squared_error: 4.7434 - val_loss: 5.1428 - val_mean_squared_error: 5.1428\n",
            "Epoch 61/100\n",
            "36/36 [==============================] - 0s 3ms/step - loss: 4.7881 - mean_squared_error: 4.7881 - val_loss: 5.1693 - val_mean_squared_error: 5.1693\n",
            "Epoch 62/100\n",
            "36/36 [==============================] - 0s 3ms/step - loss: 4.8593 - mean_squared_error: 4.8593 - val_loss: 5.3572 - val_mean_squared_error: 5.3572\n",
            "Epoch 63/100\n",
            "36/36 [==============================] - 0s 3ms/step - loss: 4.7785 - mean_squared_error: 4.7785 - val_loss: 5.0557 - val_mean_squared_error: 5.0557\n",
            "Epoch 64/100\n",
            "36/36 [==============================] - 0s 3ms/step - loss: 4.8029 - mean_squared_error: 4.8029 - val_loss: 5.7205 - val_mean_squared_error: 5.7205\n",
            "Epoch 65/100\n",
            "36/36 [==============================] - 0s 3ms/step - loss: 4.7984 - mean_squared_error: 4.7984 - val_loss: 5.1074 - val_mean_squared_error: 5.1074\n",
            "Epoch 66/100\n",
            "36/36 [==============================] - 0s 3ms/step - loss: 4.7927 - mean_squared_error: 4.7927 - val_loss: 5.2447 - val_mean_squared_error: 5.2447\n",
            "Epoch 67/100\n",
            "36/36 [==============================] - 0s 4ms/step - loss: 4.8266 - mean_squared_error: 4.8266 - val_loss: 5.0627 - val_mean_squared_error: 5.0627\n",
            "Epoch 68/100\n",
            "36/36 [==============================] - 0s 3ms/step - loss: 4.7022 - mean_squared_error: 4.7022 - val_loss: 5.1706 - val_mean_squared_error: 5.1706\n",
            "Epoch 69/100\n",
            "36/36 [==============================] - 0s 3ms/step - loss: 4.8907 - mean_squared_error: 4.8907 - val_loss: 5.0558 - val_mean_squared_error: 5.0558\n",
            "Epoch 70/100\n",
            "36/36 [==============================] - 0s 3ms/step - loss: 4.9140 - mean_squared_error: 4.9140 - val_loss: 5.2427 - val_mean_squared_error: 5.2427\n",
            "Epoch 71/100\n",
            "36/36 [==============================] - 0s 3ms/step - loss: 4.6987 - mean_squared_error: 4.6987 - val_loss: 5.1223 - val_mean_squared_error: 5.1223\n",
            "Epoch 72/100\n",
            "36/36 [==============================] - 0s 3ms/step - loss: 4.7089 - mean_squared_error: 4.7089 - val_loss: 5.5524 - val_mean_squared_error: 5.5524\n",
            "Epoch 73/100\n",
            "36/36 [==============================] - 0s 3ms/step - loss: 4.6832 - mean_squared_error: 4.6832 - val_loss: 5.0794 - val_mean_squared_error: 5.0794\n",
            "Epoch 74/100\n",
            "36/36 [==============================] - 0s 3ms/step - loss: 4.6652 - mean_squared_error: 4.6652 - val_loss: 5.0864 - val_mean_squared_error: 5.0864\n",
            "Epoch 75/100\n",
            "36/36 [==============================] - 0s 4ms/step - loss: 4.6922 - mean_squared_error: 4.6922 - val_loss: 5.2159 - val_mean_squared_error: 5.2159\n",
            "Epoch 76/100\n",
            "36/36 [==============================] - 0s 3ms/step - loss: 4.6965 - mean_squared_error: 4.6965 - val_loss: 5.0977 - val_mean_squared_error: 5.0977\n",
            "Epoch 77/100\n",
            "36/36 [==============================] - 0s 3ms/step - loss: 4.5909 - mean_squared_error: 4.5909 - val_loss: 5.1213 - val_mean_squared_error: 5.1213\n",
            "Epoch 78/100\n",
            "36/36 [==============================] - 0s 3ms/step - loss: 4.6566 - mean_squared_error: 4.6566 - val_loss: 5.0898 - val_mean_squared_error: 5.0898\n",
            "Epoch 79/100\n",
            "36/36 [==============================] - 0s 3ms/step - loss: 4.6361 - mean_squared_error: 4.6361 - val_loss: 5.1243 - val_mean_squared_error: 5.1243\n",
            "Epoch 80/100\n",
            "36/36 [==============================] - 0s 3ms/step - loss: 4.5617 - mean_squared_error: 4.5617 - val_loss: 5.1604 - val_mean_squared_error: 5.1604\n",
            "Epoch 81/100\n",
            "36/36 [==============================] - 0s 3ms/step - loss: 4.6307 - mean_squared_error: 4.6307 - val_loss: 5.1858 - val_mean_squared_error: 5.1858\n",
            "Epoch 82/100\n",
            "36/36 [==============================] - 0s 3ms/step - loss: 4.6436 - mean_squared_error: 4.6436 - val_loss: 5.3230 - val_mean_squared_error: 5.3230\n",
            "Epoch 83/100\n",
            "36/36 [==============================] - 0s 3ms/step - loss: 4.7124 - mean_squared_error: 4.7124 - val_loss: 5.2430 - val_mean_squared_error: 5.2430\n",
            "Epoch 84/100\n",
            "36/36 [==============================] - 0s 4ms/step - loss: 4.6591 - mean_squared_error: 4.6591 - val_loss: 5.1369 - val_mean_squared_error: 5.1369\n",
            "Epoch 85/100\n",
            "36/36 [==============================] - 0s 5ms/step - loss: 4.5688 - mean_squared_error: 4.5688 - val_loss: 5.1443 - val_mean_squared_error: 5.1443\n",
            "Epoch 86/100\n",
            "36/36 [==============================] - 0s 4ms/step - loss: 4.5654 - mean_squared_error: 4.5654 - val_loss: 5.1471 - val_mean_squared_error: 5.1471\n",
            "Epoch 87/100\n",
            "36/36 [==============================] - 0s 6ms/step - loss: 4.5564 - mean_squared_error: 4.5564 - val_loss: 5.5491 - val_mean_squared_error: 5.5491\n",
            "Epoch 88/100\n",
            "36/36 [==============================] - 0s 6ms/step - loss: 4.5996 - mean_squared_error: 4.5996 - val_loss: 5.1990 - val_mean_squared_error: 5.1990\n",
            "Epoch 89/100\n",
            "36/36 [==============================] - 0s 6ms/step - loss: 4.5123 - mean_squared_error: 4.5123 - val_loss: 5.1533 - val_mean_squared_error: 5.1533\n",
            "Epoch 90/100\n",
            "36/36 [==============================] - 0s 5ms/step - loss: 4.6316 - mean_squared_error: 4.6316 - val_loss: 5.1965 - val_mean_squared_error: 5.1965\n",
            "Epoch 91/100\n",
            "36/36 [==============================] - 0s 5ms/step - loss: 4.6156 - mean_squared_error: 4.6156 - val_loss: 5.1344 - val_mean_squared_error: 5.1344\n",
            "Epoch 92/100\n",
            "36/36 [==============================] - 0s 7ms/step - loss: 4.5315 - mean_squared_error: 4.5315 - val_loss: 5.1288 - val_mean_squared_error: 5.1288\n",
            "Epoch 93/100\n",
            "36/36 [==============================] - 0s 8ms/step - loss: 4.5363 - mean_squared_error: 4.5363 - val_loss: 5.0956 - val_mean_squared_error: 5.0956\n",
            "Epoch 94/100\n",
            "36/36 [==============================] - 0s 7ms/step - loss: 4.5441 - mean_squared_error: 4.5441 - val_loss: 5.1393 - val_mean_squared_error: 5.1393\n",
            "Epoch 95/100\n",
            "36/36 [==============================] - 0s 7ms/step - loss: 4.5351 - mean_squared_error: 4.5351 - val_loss: 5.1301 - val_mean_squared_error: 5.1301\n",
            "Epoch 96/100\n",
            "36/36 [==============================] - 0s 4ms/step - loss: 4.5165 - mean_squared_error: 4.5165 - val_loss: 5.1655 - val_mean_squared_error: 5.1655\n",
            "Epoch 97/100\n",
            "36/36 [==============================] - 0s 3ms/step - loss: 4.5068 - mean_squared_error: 4.5068 - val_loss: 5.1920 - val_mean_squared_error: 5.1920\n",
            "Epoch 98/100\n",
            "36/36 [==============================] - 0s 3ms/step - loss: 4.4596 - mean_squared_error: 4.4596 - val_loss: 5.2615 - val_mean_squared_error: 5.2615\n",
            "Epoch 99/100\n",
            "36/36 [==============================] - 0s 5ms/step - loss: 4.5824 - mean_squared_error: 4.5824 - val_loss: 5.1356 - val_mean_squared_error: 5.1356\n",
            "Epoch 100/100\n",
            "36/36 [==============================] - 0s 3ms/step - loss: 4.4147 - mean_squared_error: 4.4147 - val_loss: 5.1706 - val_mean_squared_error: 5.1706\n",
            "7/7 [==============================] - 0s 3ms/step - loss: 5.4334 - mean_squared_error: 5.4334\n",
            "Test Mean Squared Error: 5.433444023132324\n"
          ]
        }
      ]
    },
    {
      "cell_type": "code",
      "source": [
        "y_pred = model.predict(X_test[:, 2:].astype(np.float64))\n",
        "\n",
        "report_performance(test_VAD_WV, y_test, y_pred)"
      ],
      "metadata": {
        "colab": {
          "base_uri": "https://localhost:8080/"
        },
        "id": "NtO-QHg_9luV",
        "outputId": "915f5bef-dd6b-4e18-e96d-1343d432a539"
      },
      "execution_count": 50,
      "outputs": [
        {
          "output_type": "stream",
          "name": "stdout",
          "text": [
            "7/7 [==============================] - 0s 2ms/step\n"
          ]
        },
        {
          "output_type": "execute_result",
          "data": {
            "text/plain": [
              "{'<=1': 71, '<=2': 129}"
            ]
          },
          "metadata": {},
          "execution_count": 50
        }
      ]
    },
    {
      "cell_type": "markdown",
      "source": [
        "## WordNet"
      ],
      "metadata": {
        "id": "BTg90FBx97lr"
      }
    },
    {
      "cell_type": "code",
      "source": [
        "import nltk\n",
        "nltk.download('wordnet')\n",
        "\n",
        "from nltk.corpus import wordnet\n",
        "\n",
        "def word_similarity(word1, word2):\n",
        "    # Get synsets for each word\n",
        "    synsets1 = wordnet.synsets(word1)\n",
        "    synsets2 = wordnet.synsets(word2)\n",
        "\n",
        "    max_similarity = 0.0\n",
        "\n",
        "    for synset1 in synsets1:\n",
        "        for synset2 in synsets2:\n",
        "            # Calculate similarity between synsets\n",
        "            similarity = synset1.wup_similarity(synset2)\n",
        "            if similarity is not None and similarity > max_similarity:\n",
        "                max_similarity = similarity\n",
        "\n",
        "    return max_similarity\n",
        "\n",
        "word1 = \"agreement\"\n",
        "word2 = \"argument\"\n",
        "similarity_score = word_similarity(word1, word2)\n",
        "print(f\"Similarity between '{word1}' and '{word2}': {similarity_score}\")\n"
      ],
      "metadata": {
        "colab": {
          "base_uri": "https://localhost:8080/"
        },
        "id": "6Cpogu2b92YM",
        "outputId": "f89dccdf-6641-42b2-ef6a-87dd3079c49e"
      },
      "execution_count": 51,
      "outputs": [
        {
          "output_type": "stream",
          "name": "stderr",
          "text": [
            "[nltk_data] Downloading package wordnet to /root/nltk_data...\n"
          ]
        },
        {
          "output_type": "stream",
          "name": "stdout",
          "text": [
            "Similarity between 'agreement' and 'argument': 0.7777777777777778\n"
          ]
        }
      ]
    },
    {
      "cell_type": "code",
      "source": [
        "train_VAD_WN = generate_dataset(train, [word_similarity])\n",
        "test_VAD_WN = generate_dataset(test, [word_similarity])\n",
        "val_VAD_WN = generate_dataset(val, [word_similarity])\n",
        "\n",
        "\n",
        "X_train = train_VAD_WN.iloc[:, :-1].values\n",
        "y_train = train_VAD_WN.iloc[:, -1].values\n",
        "\n",
        "X_test = test_VAD_WN.iloc[:, :-1].values\n",
        "y_test = test_VAD_WN.iloc[:, -1].values\n",
        "\n",
        "X_val = val_VAD_WN.iloc[:, :-1].values\n",
        "y_val = val_VAD_WN.iloc[:, -1].values"
      ],
      "metadata": {
        "id": "DMeJlUP--Bm8"
      },
      "execution_count": 52,
      "outputs": []
    },
    {
      "cell_type": "markdown",
      "source": [
        "### SVM"
      ],
      "metadata": {
        "id": "441Qoy2c-TJ9"
      }
    },
    {
      "cell_type": "code",
      "source": [
        "svr_VAD_WN = SVR()\n",
        "\n",
        "svr_VAD_WN.fit(X_train[:, 2:].astype(np.float64), y_train)"
      ],
      "metadata": {
        "colab": {
          "base_uri": "https://localhost:8080/",
          "height": 75
        },
        "id": "avTHUWvu-O-u",
        "outputId": "b1244952-cd63-4777-84b7-f4bfc1324ba7"
      },
      "execution_count": 53,
      "outputs": [
        {
          "output_type": "execute_result",
          "data": {
            "text/plain": [
              "SVR()"
            ],
            "text/html": [
              "<style>#sk-container-id-3 {color: black;background-color: white;}#sk-container-id-3 pre{padding: 0;}#sk-container-id-3 div.sk-toggleable {background-color: white;}#sk-container-id-3 label.sk-toggleable__label {cursor: pointer;display: block;width: 100%;margin-bottom: 0;padding: 0.3em;box-sizing: border-box;text-align: center;}#sk-container-id-3 label.sk-toggleable__label-arrow:before {content: \"▸\";float: left;margin-right: 0.25em;color: #696969;}#sk-container-id-3 label.sk-toggleable__label-arrow:hover:before {color: black;}#sk-container-id-3 div.sk-estimator:hover label.sk-toggleable__label-arrow:before {color: black;}#sk-container-id-3 div.sk-toggleable__content {max-height: 0;max-width: 0;overflow: hidden;text-align: left;background-color: #f0f8ff;}#sk-container-id-3 div.sk-toggleable__content pre {margin: 0.2em;color: black;border-radius: 0.25em;background-color: #f0f8ff;}#sk-container-id-3 input.sk-toggleable__control:checked~div.sk-toggleable__content {max-height: 200px;max-width: 100%;overflow: auto;}#sk-container-id-3 input.sk-toggleable__control:checked~label.sk-toggleable__label-arrow:before {content: \"▾\";}#sk-container-id-3 div.sk-estimator input.sk-toggleable__control:checked~label.sk-toggleable__label {background-color: #d4ebff;}#sk-container-id-3 div.sk-label input.sk-toggleable__control:checked~label.sk-toggleable__label {background-color: #d4ebff;}#sk-container-id-3 input.sk-hidden--visually {border: 0;clip: rect(1px 1px 1px 1px);clip: rect(1px, 1px, 1px, 1px);height: 1px;margin: -1px;overflow: hidden;padding: 0;position: absolute;width: 1px;}#sk-container-id-3 div.sk-estimator {font-family: monospace;background-color: #f0f8ff;border: 1px dotted black;border-radius: 0.25em;box-sizing: border-box;margin-bottom: 0.5em;}#sk-container-id-3 div.sk-estimator:hover {background-color: #d4ebff;}#sk-container-id-3 div.sk-parallel-item::after {content: \"\";width: 100%;border-bottom: 1px solid gray;flex-grow: 1;}#sk-container-id-3 div.sk-label:hover label.sk-toggleable__label {background-color: #d4ebff;}#sk-container-id-3 div.sk-serial::before {content: \"\";position: absolute;border-left: 1px solid gray;box-sizing: border-box;top: 0;bottom: 0;left: 50%;z-index: 0;}#sk-container-id-3 div.sk-serial {display: flex;flex-direction: column;align-items: center;background-color: white;padding-right: 0.2em;padding-left: 0.2em;position: relative;}#sk-container-id-3 div.sk-item {position: relative;z-index: 1;}#sk-container-id-3 div.sk-parallel {display: flex;align-items: stretch;justify-content: center;background-color: white;position: relative;}#sk-container-id-3 div.sk-item::before, #sk-container-id-3 div.sk-parallel-item::before {content: \"\";position: absolute;border-left: 1px solid gray;box-sizing: border-box;top: 0;bottom: 0;left: 50%;z-index: -1;}#sk-container-id-3 div.sk-parallel-item {display: flex;flex-direction: column;z-index: 1;position: relative;background-color: white;}#sk-container-id-3 div.sk-parallel-item:first-child::after {align-self: flex-end;width: 50%;}#sk-container-id-3 div.sk-parallel-item:last-child::after {align-self: flex-start;width: 50%;}#sk-container-id-3 div.sk-parallel-item:only-child::after {width: 0;}#sk-container-id-3 div.sk-dashed-wrapped {border: 1px dashed gray;margin: 0 0.4em 0.5em 0.4em;box-sizing: border-box;padding-bottom: 0.4em;background-color: white;}#sk-container-id-3 div.sk-label label {font-family: monospace;font-weight: bold;display: inline-block;line-height: 1.2em;}#sk-container-id-3 div.sk-label-container {text-align: center;}#sk-container-id-3 div.sk-container {/* jupyter's `normalize.less` sets `[hidden] { display: none; }` but bootstrap.min.css set `[hidden] { display: none !important; }` so we also need the `!important` here to be able to override the default hidden behavior on the sphinx rendered scikit-learn.org. See: https://github.com/scikit-learn/scikit-learn/issues/21755 */display: inline-block !important;position: relative;}#sk-container-id-3 div.sk-text-repr-fallback {display: none;}</style><div id=\"sk-container-id-3\" class=\"sk-top-container\"><div class=\"sk-text-repr-fallback\"><pre>SVR()</pre><b>In a Jupyter environment, please rerun this cell to show the HTML representation or trust the notebook. <br />On GitHub, the HTML representation is unable to render, please try loading this page with nbviewer.org.</b></div><div class=\"sk-container\" hidden><div class=\"sk-item\"><div class=\"sk-estimator sk-toggleable\"><input class=\"sk-toggleable__control sk-hidden--visually\" id=\"sk-estimator-id-3\" type=\"checkbox\" checked><label for=\"sk-estimator-id-3\" class=\"sk-toggleable__label sk-toggleable__label-arrow\">SVR</label><div class=\"sk-toggleable__content\"><pre>SVR()</pre></div></div></div></div></div>"
            ]
          },
          "metadata": {},
          "execution_count": 53
        }
      ]
    },
    {
      "cell_type": "code",
      "source": [
        "y_pred = svr_VAD_WN.predict(X_test[:, 2:].astype(np.float64))\n",
        "\n",
        "mean_squared_error(y_test, y_pred)\n"
      ],
      "metadata": {
        "colab": {
          "base_uri": "https://localhost:8080/"
        },
        "id": "hnVtW3to-Wt-",
        "outputId": "6831ae89-dd97-40c8-c2c9-387ac8084fdc"
      },
      "execution_count": 55,
      "outputs": [
        {
          "output_type": "execute_result",
          "data": {
            "text/plain": [
              "4.078742705415954"
            ]
          },
          "metadata": {},
          "execution_count": 55
        }
      ]
    },
    {
      "cell_type": "code",
      "source": [
        "report_performance(test_VAD_WN, y_test, y_pred)"
      ],
      "metadata": {
        "colab": {
          "base_uri": "https://localhost:8080/"
        },
        "id": "rNdxCYvH-ZqN",
        "outputId": "7dd081ac-29c8-4cfe-8e06-4824ab0fd511"
      },
      "execution_count": 56,
      "outputs": [
        {
          "output_type": "execute_result",
          "data": {
            "text/plain": [
              "{'<=1': 89, '<=2': 151}"
            ]
          },
          "metadata": {},
          "execution_count": 56
        }
      ]
    },
    {
      "cell_type": "markdown",
      "source": [
        "### NN"
      ],
      "metadata": {
        "id": "_8Xaf4w4-nHt"
      }
    },
    {
      "cell_type": "code",
      "source": [
        "import numpy as np\n",
        "import tensorflow as tf\n",
        "from tensorflow.keras import layers, models\n",
        "\n",
        "\n",
        "model = models.Sequential([\n",
        "    layers.Dense(128, activation='relu', input_shape=(7,)),\n",
        "    layers.Dense(64, activation='relu'),\n",
        "    layers.Dense(1)\n",
        "])\n",
        "\n",
        "model.compile(optimizer='adam',\n",
        "              loss='mean_squared_error',  # Use Mean Squared Error for regression\n",
        "              metrics=['mean_squared_error'])  # Use Mean Absolute Error as metric\n",
        "\n",
        "model.fit(X_train[:, 2:].astype(np.float64), y_train,\n",
        "          epochs=100, batch_size=16,\n",
        "          validation_data=(X_val[:, 2:].astype(np.float64), y_val))\n",
        "\n",
        "test_loss, test_mse = model.evaluate(X_test[:, 2:].astype(np.float64), y_test)\n",
        "print('Test Mean Squared Error:', test_mse)"
      ],
      "metadata": {
        "colab": {
          "base_uri": "https://localhost:8080/"
        },
        "id": "Vg1x0l50-iK_",
        "outputId": "83126a11-a3d6-4058-defd-cbd2c9ee3f77"
      },
      "execution_count": 57,
      "outputs": [
        {
          "output_type": "stream",
          "name": "stdout",
          "text": [
            "Epoch 1/100\n",
            "36/36 [==============================] - 1s 7ms/step - loss: 16.3666 - mean_squared_error: 16.3666 - val_loss: 8.4015 - val_mean_squared_error: 8.4015\n",
            "Epoch 2/100\n",
            "36/36 [==============================] - 0s 3ms/step - loss: 6.5304 - mean_squared_error: 6.5304 - val_loss: 6.3095 - val_mean_squared_error: 6.3095\n",
            "Epoch 3/100\n",
            "36/36 [==============================] - 0s 3ms/step - loss: 6.0188 - mean_squared_error: 6.0188 - val_loss: 6.1990 - val_mean_squared_error: 6.1990\n",
            "Epoch 4/100\n",
            "36/36 [==============================] - 0s 3ms/step - loss: 5.8852 - mean_squared_error: 5.8852 - val_loss: 6.1350 - val_mean_squared_error: 6.1350\n",
            "Epoch 5/100\n",
            "36/36 [==============================] - 0s 4ms/step - loss: 5.7023 - mean_squared_error: 5.7023 - val_loss: 5.6819 - val_mean_squared_error: 5.6819\n",
            "Epoch 6/100\n",
            "36/36 [==============================] - 0s 6ms/step - loss: 5.5163 - mean_squared_error: 5.5163 - val_loss: 5.4281 - val_mean_squared_error: 5.4281\n",
            "Epoch 7/100\n",
            "36/36 [==============================] - 0s 7ms/step - loss: 5.5398 - mean_squared_error: 5.5398 - val_loss: 5.3247 - val_mean_squared_error: 5.3247\n",
            "Epoch 8/100\n",
            "36/36 [==============================] - 0s 5ms/step - loss: 5.3441 - mean_squared_error: 5.3441 - val_loss: 5.4841 - val_mean_squared_error: 5.4841\n",
            "Epoch 9/100\n",
            "36/36 [==============================] - 0s 6ms/step - loss: 5.3144 - mean_squared_error: 5.3144 - val_loss: 5.3233 - val_mean_squared_error: 5.3233\n",
            "Epoch 10/100\n",
            "36/36 [==============================] - 0s 6ms/step - loss: 5.2427 - mean_squared_error: 5.2427 - val_loss: 5.0321 - val_mean_squared_error: 5.0321\n",
            "Epoch 11/100\n",
            "36/36 [==============================] - 0s 5ms/step - loss: 5.1258 - mean_squared_error: 5.1258 - val_loss: 5.1056 - val_mean_squared_error: 5.1056\n",
            "Epoch 12/100\n",
            "36/36 [==============================] - 0s 6ms/step - loss: 5.0651 - mean_squared_error: 5.0651 - val_loss: 4.8901 - val_mean_squared_error: 4.8901\n",
            "Epoch 13/100\n",
            "36/36 [==============================] - 0s 6ms/step - loss: 4.9459 - mean_squared_error: 4.9459 - val_loss: 4.8970 - val_mean_squared_error: 4.8970\n",
            "Epoch 14/100\n",
            "36/36 [==============================] - 0s 6ms/step - loss: 4.9023 - mean_squared_error: 4.9023 - val_loss: 4.7296 - val_mean_squared_error: 4.7296\n",
            "Epoch 15/100\n",
            "36/36 [==============================] - 0s 7ms/step - loss: 4.8395 - mean_squared_error: 4.8395 - val_loss: 4.7157 - val_mean_squared_error: 4.7157\n",
            "Epoch 16/100\n",
            "36/36 [==============================] - 0s 5ms/step - loss: 4.8099 - mean_squared_error: 4.8099 - val_loss: 4.6140 - val_mean_squared_error: 4.6140\n",
            "Epoch 17/100\n",
            "36/36 [==============================] - 0s 3ms/step - loss: 4.8704 - mean_squared_error: 4.8704 - val_loss: 4.5660 - val_mean_squared_error: 4.5660\n",
            "Epoch 18/100\n",
            "36/36 [==============================] - 0s 4ms/step - loss: 4.7626 - mean_squared_error: 4.7626 - val_loss: 4.6008 - val_mean_squared_error: 4.6008\n",
            "Epoch 19/100\n",
            "36/36 [==============================] - 0s 3ms/step - loss: 4.6868 - mean_squared_error: 4.6868 - val_loss: 4.7276 - val_mean_squared_error: 4.7276\n",
            "Epoch 20/100\n",
            "36/36 [==============================] - 0s 4ms/step - loss: 4.6137 - mean_squared_error: 4.6137 - val_loss: 4.5445 - val_mean_squared_error: 4.5445\n",
            "Epoch 21/100\n",
            "36/36 [==============================] - 0s 3ms/step - loss: 4.6164 - mean_squared_error: 4.6164 - val_loss: 4.4334 - val_mean_squared_error: 4.4334\n",
            "Epoch 22/100\n",
            "36/36 [==============================] - 0s 4ms/step - loss: 4.4930 - mean_squared_error: 4.4930 - val_loss: 4.2906 - val_mean_squared_error: 4.2906\n",
            "Epoch 23/100\n",
            "36/36 [==============================] - 0s 3ms/step - loss: 4.4856 - mean_squared_error: 4.4856 - val_loss: 4.2863 - val_mean_squared_error: 4.2863\n",
            "Epoch 24/100\n",
            "36/36 [==============================] - 0s 3ms/step - loss: 4.4682 - mean_squared_error: 4.4682 - val_loss: 4.4835 - val_mean_squared_error: 4.4835\n",
            "Epoch 25/100\n",
            "36/36 [==============================] - 0s 3ms/step - loss: 4.4571 - mean_squared_error: 4.4571 - val_loss: 4.2196 - val_mean_squared_error: 4.2196\n",
            "Epoch 26/100\n",
            "36/36 [==============================] - 0s 3ms/step - loss: 4.4431 - mean_squared_error: 4.4431 - val_loss: 4.1504 - val_mean_squared_error: 4.1504\n",
            "Epoch 27/100\n",
            "36/36 [==============================] - 0s 3ms/step - loss: 4.4205 - mean_squared_error: 4.4205 - val_loss: 4.2708 - val_mean_squared_error: 4.2708\n",
            "Epoch 28/100\n",
            "36/36 [==============================] - 0s 4ms/step - loss: 4.3483 - mean_squared_error: 4.3483 - val_loss: 4.2307 - val_mean_squared_error: 4.2307\n",
            "Epoch 29/100\n",
            "36/36 [==============================] - 0s 7ms/step - loss: 4.3371 - mean_squared_error: 4.3371 - val_loss: 4.1573 - val_mean_squared_error: 4.1573\n",
            "Epoch 30/100\n",
            "36/36 [==============================] - 0s 3ms/step - loss: 4.2878 - mean_squared_error: 4.2878 - val_loss: 4.0698 - val_mean_squared_error: 4.0698\n",
            "Epoch 31/100\n",
            "36/36 [==============================] - 0s 6ms/step - loss: 4.2404 - mean_squared_error: 4.2404 - val_loss: 4.0310 - val_mean_squared_error: 4.0310\n",
            "Epoch 32/100\n",
            "36/36 [==============================] - 0s 4ms/step - loss: 4.3159 - mean_squared_error: 4.3159 - val_loss: 4.1612 - val_mean_squared_error: 4.1612\n",
            "Epoch 33/100\n",
            "36/36 [==============================] - 0s 7ms/step - loss: 4.3021 - mean_squared_error: 4.3021 - val_loss: 4.0190 - val_mean_squared_error: 4.0190\n",
            "Epoch 34/100\n",
            "36/36 [==============================] - 0s 7ms/step - loss: 4.2532 - mean_squared_error: 4.2532 - val_loss: 4.0233 - val_mean_squared_error: 4.0233\n",
            "Epoch 35/100\n",
            "36/36 [==============================] - 0s 3ms/step - loss: 4.1882 - mean_squared_error: 4.1882 - val_loss: 4.0357 - val_mean_squared_error: 4.0357\n",
            "Epoch 36/100\n",
            "36/36 [==============================] - 0s 4ms/step - loss: 4.1940 - mean_squared_error: 4.1940 - val_loss: 4.1482 - val_mean_squared_error: 4.1482\n",
            "Epoch 37/100\n",
            "36/36 [==============================] - 0s 3ms/step - loss: 4.2606 - mean_squared_error: 4.2606 - val_loss: 4.0813 - val_mean_squared_error: 4.0813\n",
            "Epoch 38/100\n",
            "36/36 [==============================] - 0s 6ms/step - loss: 4.2219 - mean_squared_error: 4.2219 - val_loss: 4.3463 - val_mean_squared_error: 4.3463\n",
            "Epoch 39/100\n",
            "36/36 [==============================] - 0s 8ms/step - loss: 4.2599 - mean_squared_error: 4.2599 - val_loss: 3.9711 - val_mean_squared_error: 3.9711\n",
            "Epoch 40/100\n",
            "36/36 [==============================] - 0s 5ms/step - loss: 4.1445 - mean_squared_error: 4.1445 - val_loss: 4.0100 - val_mean_squared_error: 4.0100\n",
            "Epoch 41/100\n",
            "36/36 [==============================] - 0s 6ms/step - loss: 4.1754 - mean_squared_error: 4.1754 - val_loss: 3.9501 - val_mean_squared_error: 3.9501\n",
            "Epoch 42/100\n",
            "36/36 [==============================] - 0s 6ms/step - loss: 4.2047 - mean_squared_error: 4.2047 - val_loss: 4.1494 - val_mean_squared_error: 4.1494\n",
            "Epoch 43/100\n",
            "36/36 [==============================] - 0s 10ms/step - loss: 4.1169 - mean_squared_error: 4.1169 - val_loss: 3.9517 - val_mean_squared_error: 3.9517\n",
            "Epoch 44/100\n",
            "36/36 [==============================] - 0s 6ms/step - loss: 4.1597 - mean_squared_error: 4.1597 - val_loss: 4.1016 - val_mean_squared_error: 4.1016\n",
            "Epoch 45/100\n",
            "36/36 [==============================] - 0s 6ms/step - loss: 4.1106 - mean_squared_error: 4.1106 - val_loss: 3.9442 - val_mean_squared_error: 3.9442\n",
            "Epoch 46/100\n",
            "36/36 [==============================] - 0s 5ms/step - loss: 4.1453 - mean_squared_error: 4.1453 - val_loss: 3.9560 - val_mean_squared_error: 3.9560\n",
            "Epoch 47/100\n",
            "36/36 [==============================] - 0s 9ms/step - loss: 4.0807 - mean_squared_error: 4.0807 - val_loss: 3.9650 - val_mean_squared_error: 3.9650\n",
            "Epoch 48/100\n",
            "36/36 [==============================] - 0s 7ms/step - loss: 4.0783 - mean_squared_error: 4.0783 - val_loss: 3.9491 - val_mean_squared_error: 3.9491\n",
            "Epoch 49/100\n",
            "36/36 [==============================] - 0s 7ms/step - loss: 4.0436 - mean_squared_error: 4.0436 - val_loss: 3.9304 - val_mean_squared_error: 3.9304\n",
            "Epoch 50/100\n",
            "36/36 [==============================] - 0s 6ms/step - loss: 4.0907 - mean_squared_error: 4.0907 - val_loss: 3.9375 - val_mean_squared_error: 3.9375\n",
            "Epoch 51/100\n",
            "36/36 [==============================] - 0s 6ms/step - loss: 4.0094 - mean_squared_error: 4.0094 - val_loss: 4.1402 - val_mean_squared_error: 4.1402\n",
            "Epoch 52/100\n",
            "36/36 [==============================] - 0s 13ms/step - loss: 4.0575 - mean_squared_error: 4.0575 - val_loss: 4.0047 - val_mean_squared_error: 4.0047\n",
            "Epoch 53/100\n",
            "36/36 [==============================] - 0s 9ms/step - loss: 3.9732 - mean_squared_error: 3.9732 - val_loss: 4.0364 - val_mean_squared_error: 4.0364\n",
            "Epoch 54/100\n",
            "36/36 [==============================] - 0s 6ms/step - loss: 4.0164 - mean_squared_error: 4.0164 - val_loss: 4.1220 - val_mean_squared_error: 4.1220\n",
            "Epoch 55/100\n",
            "36/36 [==============================] - 0s 6ms/step - loss: 3.9886 - mean_squared_error: 3.9886 - val_loss: 4.1308 - val_mean_squared_error: 4.1308\n",
            "Epoch 56/100\n",
            "36/36 [==============================] - 0s 6ms/step - loss: 4.0270 - mean_squared_error: 4.0270 - val_loss: 3.9357 - val_mean_squared_error: 3.9357\n",
            "Epoch 57/100\n",
            "36/36 [==============================] - 0s 6ms/step - loss: 3.9184 - mean_squared_error: 3.9184 - val_loss: 3.9962 - val_mean_squared_error: 3.9962\n",
            "Epoch 58/100\n",
            "36/36 [==============================] - 0s 4ms/step - loss: 4.0783 - mean_squared_error: 4.0783 - val_loss: 4.1259 - val_mean_squared_error: 4.1259\n",
            "Epoch 59/100\n",
            "36/36 [==============================] - 0s 3ms/step - loss: 3.9480 - mean_squared_error: 3.9480 - val_loss: 3.9955 - val_mean_squared_error: 3.9955\n",
            "Epoch 60/100\n",
            "36/36 [==============================] - 0s 5ms/step - loss: 3.9388 - mean_squared_error: 3.9388 - val_loss: 4.0111 - val_mean_squared_error: 4.0111\n",
            "Epoch 61/100\n",
            "36/36 [==============================] - 0s 5ms/step - loss: 4.1118 - mean_squared_error: 4.1118 - val_loss: 4.2206 - val_mean_squared_error: 4.2206\n",
            "Epoch 62/100\n",
            "36/36 [==============================] - 0s 7ms/step - loss: 3.9838 - mean_squared_error: 3.9838 - val_loss: 3.9292 - val_mean_squared_error: 3.9292\n",
            "Epoch 63/100\n",
            "36/36 [==============================] - 0s 5ms/step - loss: 3.9474 - mean_squared_error: 3.9474 - val_loss: 3.9687 - val_mean_squared_error: 3.9687\n",
            "Epoch 64/100\n",
            "36/36 [==============================] - 0s 6ms/step - loss: 3.9775 - mean_squared_error: 3.9775 - val_loss: 4.0024 - val_mean_squared_error: 4.0024\n",
            "Epoch 65/100\n",
            "36/36 [==============================] - 0s 6ms/step - loss: 4.0430 - mean_squared_error: 4.0430 - val_loss: 4.0003 - val_mean_squared_error: 4.0003\n",
            "Epoch 66/100\n",
            "36/36 [==============================] - 0s 6ms/step - loss: 3.8703 - mean_squared_error: 3.8703 - val_loss: 3.9651 - val_mean_squared_error: 3.9651\n",
            "Epoch 67/100\n",
            "36/36 [==============================] - 0s 9ms/step - loss: 3.8595 - mean_squared_error: 3.8595 - val_loss: 3.9987 - val_mean_squared_error: 3.9987\n",
            "Epoch 68/100\n",
            "36/36 [==============================] - 0s 11ms/step - loss: 3.9379 - mean_squared_error: 3.9379 - val_loss: 4.1312 - val_mean_squared_error: 4.1312\n",
            "Epoch 69/100\n",
            "36/36 [==============================] - 1s 24ms/step - loss: 3.8331 - mean_squared_error: 3.8331 - val_loss: 3.9900 - val_mean_squared_error: 3.9900\n",
            "Epoch 70/100\n",
            "36/36 [==============================] - 1s 23ms/step - loss: 3.8704 - mean_squared_error: 3.8704 - val_loss: 4.0316 - val_mean_squared_error: 4.0316\n",
            "Epoch 71/100\n",
            "36/36 [==============================] - 0s 8ms/step - loss: 3.8359 - mean_squared_error: 3.8359 - val_loss: 4.4624 - val_mean_squared_error: 4.4624\n",
            "Epoch 72/100\n",
            "36/36 [==============================] - 0s 7ms/step - loss: 3.8883 - mean_squared_error: 3.8883 - val_loss: 4.1827 - val_mean_squared_error: 4.1827\n",
            "Epoch 73/100\n",
            "36/36 [==============================] - 0s 6ms/step - loss: 3.8189 - mean_squared_error: 3.8189 - val_loss: 4.0124 - val_mean_squared_error: 4.0124\n",
            "Epoch 74/100\n",
            "36/36 [==============================] - 0s 6ms/step - loss: 3.7866 - mean_squared_error: 3.7866 - val_loss: 4.0429 - val_mean_squared_error: 4.0429\n",
            "Epoch 75/100\n",
            "36/36 [==============================] - 0s 6ms/step - loss: 3.9096 - mean_squared_error: 3.9096 - val_loss: 3.9456 - val_mean_squared_error: 3.9456\n",
            "Epoch 76/100\n",
            "36/36 [==============================] - 0s 7ms/step - loss: 3.8678 - mean_squared_error: 3.8678 - val_loss: 4.3683 - val_mean_squared_error: 4.3683\n",
            "Epoch 77/100\n",
            "36/36 [==============================] - 0s 8ms/step - loss: 3.9035 - mean_squared_error: 3.9035 - val_loss: 4.0017 - val_mean_squared_error: 4.0017\n",
            "Epoch 78/100\n",
            "36/36 [==============================] - 0s 8ms/step - loss: 3.8065 - mean_squared_error: 3.8065 - val_loss: 4.0142 - val_mean_squared_error: 4.0142\n",
            "Epoch 79/100\n",
            "36/36 [==============================] - 0s 7ms/step - loss: 3.8195 - mean_squared_error: 3.8195 - val_loss: 4.0002 - val_mean_squared_error: 4.0002\n",
            "Epoch 80/100\n",
            "36/36 [==============================] - 0s 9ms/step - loss: 3.7644 - mean_squared_error: 3.7644 - val_loss: 4.2185 - val_mean_squared_error: 4.2185\n",
            "Epoch 81/100\n",
            "36/36 [==============================] - 0s 6ms/step - loss: 3.7543 - mean_squared_error: 3.7543 - val_loss: 3.9717 - val_mean_squared_error: 3.9717\n",
            "Epoch 82/100\n",
            "36/36 [==============================] - 0s 7ms/step - loss: 3.7881 - mean_squared_error: 3.7881 - val_loss: 4.0106 - val_mean_squared_error: 4.0106\n",
            "Epoch 83/100\n",
            "36/36 [==============================] - 0s 6ms/step - loss: 3.7788 - mean_squared_error: 3.7788 - val_loss: 4.2264 - val_mean_squared_error: 4.2264\n",
            "Epoch 84/100\n",
            "36/36 [==============================] - 0s 6ms/step - loss: 3.7505 - mean_squared_error: 3.7505 - val_loss: 4.2587 - val_mean_squared_error: 4.2587\n",
            "Epoch 85/100\n",
            "36/36 [==============================] - 0s 6ms/step - loss: 3.7984 - mean_squared_error: 3.7984 - val_loss: 4.0341 - val_mean_squared_error: 4.0341\n",
            "Epoch 86/100\n",
            "36/36 [==============================] - 0s 5ms/step - loss: 3.7879 - mean_squared_error: 3.7879 - val_loss: 3.9652 - val_mean_squared_error: 3.9652\n",
            "Epoch 87/100\n",
            "36/36 [==============================] - 0s 5ms/step - loss: 3.7896 - mean_squared_error: 3.7896 - val_loss: 4.2202 - val_mean_squared_error: 4.2202\n",
            "Epoch 88/100\n",
            "36/36 [==============================] - 0s 7ms/step - loss: 3.7078 - mean_squared_error: 3.7078 - val_loss: 4.0677 - val_mean_squared_error: 4.0677\n",
            "Epoch 89/100\n",
            "36/36 [==============================] - 0s 5ms/step - loss: 3.7189 - mean_squared_error: 3.7189 - val_loss: 4.0581 - val_mean_squared_error: 4.0581\n",
            "Epoch 90/100\n",
            "36/36 [==============================] - 0s 7ms/step - loss: 3.6676 - mean_squared_error: 3.6676 - val_loss: 4.5908 - val_mean_squared_error: 4.5908\n",
            "Epoch 91/100\n",
            "36/36 [==============================] - 0s 5ms/step - loss: 3.6941 - mean_squared_error: 3.6941 - val_loss: 4.0375 - val_mean_squared_error: 4.0375\n",
            "Epoch 92/100\n",
            "36/36 [==============================] - 0s 6ms/step - loss: 3.6413 - mean_squared_error: 3.6413 - val_loss: 4.0248 - val_mean_squared_error: 4.0248\n",
            "Epoch 93/100\n",
            "36/36 [==============================] - 0s 9ms/step - loss: 3.6314 - mean_squared_error: 3.6314 - val_loss: 4.0559 - val_mean_squared_error: 4.0559\n",
            "Epoch 94/100\n",
            "36/36 [==============================] - 0s 10ms/step - loss: 3.6878 - mean_squared_error: 3.6878 - val_loss: 4.1408 - val_mean_squared_error: 4.1408\n",
            "Epoch 95/100\n",
            "36/36 [==============================] - 0s 9ms/step - loss: 3.6274 - mean_squared_error: 3.6274 - val_loss: 4.0468 - val_mean_squared_error: 4.0468\n",
            "Epoch 96/100\n",
            "36/36 [==============================] - 0s 6ms/step - loss: 3.6466 - mean_squared_error: 3.6466 - val_loss: 4.0083 - val_mean_squared_error: 4.0083\n",
            "Epoch 97/100\n",
            "36/36 [==============================] - 0s 5ms/step - loss: 3.6444 - mean_squared_error: 3.6444 - val_loss: 4.0422 - val_mean_squared_error: 4.0422\n",
            "Epoch 98/100\n",
            "36/36 [==============================] - 0s 6ms/step - loss: 3.5762 - mean_squared_error: 3.5762 - val_loss: 3.9663 - val_mean_squared_error: 3.9663\n",
            "Epoch 99/100\n",
            "36/36 [==============================] - 0s 6ms/step - loss: 3.6637 - mean_squared_error: 3.6637 - val_loss: 4.0939 - val_mean_squared_error: 4.0939\n",
            "Epoch 100/100\n",
            "36/36 [==============================] - 0s 7ms/step - loss: 3.6732 - mean_squared_error: 3.6732 - val_loss: 4.1147 - val_mean_squared_error: 4.1147\n",
            "7/7 [==============================] - 0s 4ms/step - loss: 4.4832 - mean_squared_error: 4.4832\n",
            "Test Mean Squared Error: 4.483157157897949\n"
          ]
        }
      ]
    },
    {
      "cell_type": "code",
      "source": [
        "y_pred = model.predict(X_test[:, 2:].astype(np.float64))\n",
        "\n",
        "report_performance(test_VAD_WN, y_test, y_pred)"
      ],
      "metadata": {
        "colab": {
          "base_uri": "https://localhost:8080/"
        },
        "id": "HyrALHEG-qWI",
        "outputId": "88d0f049-db8d-421b-e5b7-13e560f94412"
      },
      "execution_count": 58,
      "outputs": [
        {
          "output_type": "stream",
          "name": "stdout",
          "text": [
            "7/7 [==============================] - 0s 3ms/step\n"
          ]
        },
        {
          "output_type": "execute_result",
          "data": {
            "text/plain": [
              "{'<=1': 89, '<=2': 144}"
            ]
          },
          "metadata": {},
          "execution_count": 58
        }
      ]
    },
    {
      "cell_type": "markdown",
      "source": [
        "## All Combined"
      ],
      "metadata": {
        "id": "Anc_035V_Guc"
      }
    },
    {
      "cell_type": "code",
      "source": [
        "train_ALL = generate_dataset(train, [word_similarity, wordvec_similarity])\n",
        "test_ALL = generate_dataset(test, [word_similarity, wordvec_similarity])\n",
        "val_ALL = generate_dataset(val, [word_similarity, wordvec_similarity])\n",
        "\n",
        "\n",
        "X_train = train_ALL.iloc[:, :-1].values\n",
        "y_train = train_ALL.iloc[:, -1].values\n",
        "\n",
        "X_test = test_ALL.iloc[:, :-1].values\n",
        "y_test = test_ALL.iloc[:, -1].values\n",
        "\n",
        "X_val = val_ALL.iloc[:, :-1].values\n",
        "y_val = val_ALL.iloc[:, -1].values"
      ],
      "metadata": {
        "id": "lHUJBIXw-43-"
      },
      "execution_count": 60,
      "outputs": []
    },
    {
      "cell_type": "markdown",
      "source": [
        "### SVM"
      ],
      "metadata": {
        "id": "pZEXAsZF_dDb"
      }
    },
    {
      "cell_type": "code",
      "source": [
        "svr_ALL = SVR()\n",
        "\n",
        "svr_ALL.fit(X_train[:, 2:].astype(np.float64), y_train)"
      ],
      "metadata": {
        "colab": {
          "base_uri": "https://localhost:8080/",
          "height": 75
        },
        "id": "twXAMCKD_Qru",
        "outputId": "96400aba-afa3-40bb-c3f5-d08b083b6c16"
      },
      "execution_count": 61,
      "outputs": [
        {
          "output_type": "execute_result",
          "data": {
            "text/plain": [
              "SVR()"
            ],
            "text/html": [
              "<style>#sk-container-id-4 {color: black;background-color: white;}#sk-container-id-4 pre{padding: 0;}#sk-container-id-4 div.sk-toggleable {background-color: white;}#sk-container-id-4 label.sk-toggleable__label {cursor: pointer;display: block;width: 100%;margin-bottom: 0;padding: 0.3em;box-sizing: border-box;text-align: center;}#sk-container-id-4 label.sk-toggleable__label-arrow:before {content: \"▸\";float: left;margin-right: 0.25em;color: #696969;}#sk-container-id-4 label.sk-toggleable__label-arrow:hover:before {color: black;}#sk-container-id-4 div.sk-estimator:hover label.sk-toggleable__label-arrow:before {color: black;}#sk-container-id-4 div.sk-toggleable__content {max-height: 0;max-width: 0;overflow: hidden;text-align: left;background-color: #f0f8ff;}#sk-container-id-4 div.sk-toggleable__content pre {margin: 0.2em;color: black;border-radius: 0.25em;background-color: #f0f8ff;}#sk-container-id-4 input.sk-toggleable__control:checked~div.sk-toggleable__content {max-height: 200px;max-width: 100%;overflow: auto;}#sk-container-id-4 input.sk-toggleable__control:checked~label.sk-toggleable__label-arrow:before {content: \"▾\";}#sk-container-id-4 div.sk-estimator input.sk-toggleable__control:checked~label.sk-toggleable__label {background-color: #d4ebff;}#sk-container-id-4 div.sk-label input.sk-toggleable__control:checked~label.sk-toggleable__label {background-color: #d4ebff;}#sk-container-id-4 input.sk-hidden--visually {border: 0;clip: rect(1px 1px 1px 1px);clip: rect(1px, 1px, 1px, 1px);height: 1px;margin: -1px;overflow: hidden;padding: 0;position: absolute;width: 1px;}#sk-container-id-4 div.sk-estimator {font-family: monospace;background-color: #f0f8ff;border: 1px dotted black;border-radius: 0.25em;box-sizing: border-box;margin-bottom: 0.5em;}#sk-container-id-4 div.sk-estimator:hover {background-color: #d4ebff;}#sk-container-id-4 div.sk-parallel-item::after {content: \"\";width: 100%;border-bottom: 1px solid gray;flex-grow: 1;}#sk-container-id-4 div.sk-label:hover label.sk-toggleable__label {background-color: #d4ebff;}#sk-container-id-4 div.sk-serial::before {content: \"\";position: absolute;border-left: 1px solid gray;box-sizing: border-box;top: 0;bottom: 0;left: 50%;z-index: 0;}#sk-container-id-4 div.sk-serial {display: flex;flex-direction: column;align-items: center;background-color: white;padding-right: 0.2em;padding-left: 0.2em;position: relative;}#sk-container-id-4 div.sk-item {position: relative;z-index: 1;}#sk-container-id-4 div.sk-parallel {display: flex;align-items: stretch;justify-content: center;background-color: white;position: relative;}#sk-container-id-4 div.sk-item::before, #sk-container-id-4 div.sk-parallel-item::before {content: \"\";position: absolute;border-left: 1px solid gray;box-sizing: border-box;top: 0;bottom: 0;left: 50%;z-index: -1;}#sk-container-id-4 div.sk-parallel-item {display: flex;flex-direction: column;z-index: 1;position: relative;background-color: white;}#sk-container-id-4 div.sk-parallel-item:first-child::after {align-self: flex-end;width: 50%;}#sk-container-id-4 div.sk-parallel-item:last-child::after {align-self: flex-start;width: 50%;}#sk-container-id-4 div.sk-parallel-item:only-child::after {width: 0;}#sk-container-id-4 div.sk-dashed-wrapped {border: 1px dashed gray;margin: 0 0.4em 0.5em 0.4em;box-sizing: border-box;padding-bottom: 0.4em;background-color: white;}#sk-container-id-4 div.sk-label label {font-family: monospace;font-weight: bold;display: inline-block;line-height: 1.2em;}#sk-container-id-4 div.sk-label-container {text-align: center;}#sk-container-id-4 div.sk-container {/* jupyter's `normalize.less` sets `[hidden] { display: none; }` but bootstrap.min.css set `[hidden] { display: none !important; }` so we also need the `!important` here to be able to override the default hidden behavior on the sphinx rendered scikit-learn.org. See: https://github.com/scikit-learn/scikit-learn/issues/21755 */display: inline-block !important;position: relative;}#sk-container-id-4 div.sk-text-repr-fallback {display: none;}</style><div id=\"sk-container-id-4\" class=\"sk-top-container\"><div class=\"sk-text-repr-fallback\"><pre>SVR()</pre><b>In a Jupyter environment, please rerun this cell to show the HTML representation or trust the notebook. <br />On GitHub, the HTML representation is unable to render, please try loading this page with nbviewer.org.</b></div><div class=\"sk-container\" hidden><div class=\"sk-item\"><div class=\"sk-estimator sk-toggleable\"><input class=\"sk-toggleable__control sk-hidden--visually\" id=\"sk-estimator-id-4\" type=\"checkbox\" checked><label for=\"sk-estimator-id-4\" class=\"sk-toggleable__label sk-toggleable__label-arrow\">SVR</label><div class=\"sk-toggleable__content\"><pre>SVR()</pre></div></div></div></div></div>"
            ]
          },
          "metadata": {},
          "execution_count": 61
        }
      ]
    },
    {
      "cell_type": "code",
      "source": [
        "y_pred = svr_ALL.predict(X_test[:, 2:].astype(np.float64))\n",
        "\n",
        "mean_squared_error(y_test, y_pred)\n",
        "\n",
        "# 5.53500159519488"
      ],
      "metadata": {
        "colab": {
          "base_uri": "https://localhost:8080/"
        },
        "id": "CqgHk1OH_nps",
        "outputId": "a523ef33-85c3-4e68-d94c-37e6d5ecbe31"
      },
      "execution_count": 63,
      "outputs": [
        {
          "output_type": "execute_result",
          "data": {
            "text/plain": [
              "4.048851009062132"
            ]
          },
          "metadata": {},
          "execution_count": 63
        }
      ]
    },
    {
      "cell_type": "code",
      "source": [
        "report_performance(test_ALL, y_test, y_pred)"
      ],
      "metadata": {
        "colab": {
          "base_uri": "https://localhost:8080/"
        },
        "id": "h-4G_O0P_qSX",
        "outputId": "1fa39f58-b983-43e1-9011-6aafa1bf8a08"
      },
      "execution_count": 64,
      "outputs": [
        {
          "output_type": "execute_result",
          "data": {
            "text/plain": [
              "{'<=1': 91, '<=2': 152}"
            ]
          },
          "metadata": {},
          "execution_count": 64
        }
      ]
    },
    {
      "cell_type": "markdown",
      "source": [
        "### NN"
      ],
      "metadata": {
        "id": "6I_sSMtQ_7VF"
      }
    },
    {
      "cell_type": "code",
      "source": [
        "import numpy as np\n",
        "import tensorflow as tf\n",
        "from tensorflow.keras import layers, models\n",
        "\n",
        "\n",
        "model = models.Sequential([\n",
        "    layers.Dense(128, activation='relu', input_shape=(8,)),\n",
        "    layers.Dense(64, activation='relu'),\n",
        "    layers.Dense(1)\n",
        "])\n",
        "\n",
        "model.compile(optimizer='adam',\n",
        "              loss='mean_squared_error',  # Use Mean Squared Error for regression\n",
        "              metrics=['mean_squared_error'])  # Use Mean Absolute Error as metric\n",
        "\n",
        "model.fit(X_train[:, 2:].astype(np.float64), y_train,\n",
        "          epochs=100, batch_size=16,\n",
        "          validation_data=(X_val[:, 2:].astype(np.float64), y_val))\n",
        "\n",
        "test_loss, test_mse = model.evaluate(X_test[:, 2:].astype(np.float64), y_test)\n",
        "print('Test Mean Squared Error:', test_mse)"
      ],
      "metadata": {
        "colab": {
          "base_uri": "https://localhost:8080/"
        },
        "id": "OLtIq9Et_2_z",
        "outputId": "e411dcd4-7007-4d1c-9569-49c7dc5ccb74"
      },
      "execution_count": 65,
      "outputs": [
        {
          "output_type": "stream",
          "name": "stdout",
          "text": [
            "Epoch 1/100\n",
            "36/36 [==============================] - 2s 17ms/step - loss: 17.1659 - mean_squared_error: 17.1659 - val_loss: 7.2218 - val_mean_squared_error: 7.2218\n",
            "Epoch 2/100\n",
            "36/36 [==============================] - 0s 7ms/step - loss: 6.3467 - mean_squared_error: 6.3467 - val_loss: 6.2572 - val_mean_squared_error: 6.2572\n",
            "Epoch 3/100\n",
            "36/36 [==============================] - 0s 7ms/step - loss: 5.9580 - mean_squared_error: 5.9580 - val_loss: 5.7545 - val_mean_squared_error: 5.7545\n",
            "Epoch 4/100\n",
            "36/36 [==============================] - 0s 9ms/step - loss: 5.8843 - mean_squared_error: 5.8843 - val_loss: 5.5850 - val_mean_squared_error: 5.5850\n",
            "Epoch 5/100\n",
            "36/36 [==============================] - 0s 6ms/step - loss: 5.7327 - mean_squared_error: 5.7327 - val_loss: 5.4757 - val_mean_squared_error: 5.4757\n",
            "Epoch 6/100\n",
            "36/36 [==============================] - 0s 4ms/step - loss: 5.5045 - mean_squared_error: 5.5045 - val_loss: 5.4161 - val_mean_squared_error: 5.4161\n",
            "Epoch 7/100\n",
            "36/36 [==============================] - 0s 5ms/step - loss: 5.4033 - mean_squared_error: 5.4033 - val_loss: 5.1837 - val_mean_squared_error: 5.1837\n",
            "Epoch 8/100\n",
            "36/36 [==============================] - 0s 7ms/step - loss: 5.3120 - mean_squared_error: 5.3120 - val_loss: 5.2265 - val_mean_squared_error: 5.2265\n",
            "Epoch 9/100\n",
            "36/36 [==============================] - 0s 7ms/step - loss: 5.2270 - mean_squared_error: 5.2270 - val_loss: 5.1851 - val_mean_squared_error: 5.1851\n",
            "Epoch 10/100\n",
            "36/36 [==============================] - 0s 5ms/step - loss: 5.1687 - mean_squared_error: 5.1687 - val_loss: 4.9067 - val_mean_squared_error: 4.9067\n",
            "Epoch 11/100\n",
            "36/36 [==============================] - 0s 4ms/step - loss: 5.0905 - mean_squared_error: 5.0905 - val_loss: 4.9361 - val_mean_squared_error: 4.9361\n",
            "Epoch 12/100\n",
            "36/36 [==============================] - 0s 4ms/step - loss: 5.0603 - mean_squared_error: 5.0603 - val_loss: 4.8502 - val_mean_squared_error: 4.8502\n",
            "Epoch 13/100\n",
            "36/36 [==============================] - 0s 6ms/step - loss: 4.9969 - mean_squared_error: 4.9969 - val_loss: 4.6548 - val_mean_squared_error: 4.6548\n",
            "Epoch 14/100\n",
            "36/36 [==============================] - 0s 6ms/step - loss: 5.1672 - mean_squared_error: 5.1672 - val_loss: 5.1882 - val_mean_squared_error: 5.1882\n",
            "Epoch 15/100\n",
            "36/36 [==============================] - 0s 5ms/step - loss: 4.9545 - mean_squared_error: 4.9545 - val_loss: 4.5725 - val_mean_squared_error: 4.5725\n",
            "Epoch 16/100\n",
            "36/36 [==============================] - 0s 6ms/step - loss: 4.8679 - mean_squared_error: 4.8679 - val_loss: 4.6356 - val_mean_squared_error: 4.6356\n",
            "Epoch 17/100\n",
            "36/36 [==============================] - 0s 5ms/step - loss: 4.8204 - mean_squared_error: 4.8204 - val_loss: 4.5285 - val_mean_squared_error: 4.5285\n",
            "Epoch 18/100\n",
            "36/36 [==============================] - 0s 4ms/step - loss: 4.8186 - mean_squared_error: 4.8186 - val_loss: 4.6358 - val_mean_squared_error: 4.6358\n",
            "Epoch 19/100\n",
            "36/36 [==============================] - 0s 3ms/step - loss: 4.7838 - mean_squared_error: 4.7838 - val_loss: 4.3905 - val_mean_squared_error: 4.3905\n",
            "Epoch 20/100\n",
            "36/36 [==============================] - 0s 3ms/step - loss: 4.6827 - mean_squared_error: 4.6827 - val_loss: 4.3541 - val_mean_squared_error: 4.3541\n",
            "Epoch 21/100\n",
            "36/36 [==============================] - 0s 3ms/step - loss: 4.7550 - mean_squared_error: 4.7550 - val_loss: 4.3570 - val_mean_squared_error: 4.3570\n",
            "Epoch 22/100\n",
            "36/36 [==============================] - 0s 3ms/step - loss: 4.7314 - mean_squared_error: 4.7314 - val_loss: 4.4119 - val_mean_squared_error: 4.4119\n",
            "Epoch 23/100\n",
            "36/36 [==============================] - 0s 3ms/step - loss: 4.5551 - mean_squared_error: 4.5551 - val_loss: 4.2599 - val_mean_squared_error: 4.2599\n",
            "Epoch 24/100\n",
            "36/36 [==============================] - 0s 3ms/step - loss: 4.5775 - mean_squared_error: 4.5775 - val_loss: 4.1887 - val_mean_squared_error: 4.1887\n",
            "Epoch 25/100\n",
            "36/36 [==============================] - 0s 3ms/step - loss: 4.5894 - mean_squared_error: 4.5894 - val_loss: 4.2037 - val_mean_squared_error: 4.2037\n",
            "Epoch 26/100\n",
            "36/36 [==============================] - 0s 3ms/step - loss: 4.4377 - mean_squared_error: 4.4377 - val_loss: 4.0980 - val_mean_squared_error: 4.0980\n",
            "Epoch 27/100\n",
            "36/36 [==============================] - 0s 3ms/step - loss: 4.4521 - mean_squared_error: 4.4521 - val_loss: 4.2690 - val_mean_squared_error: 4.2690\n",
            "Epoch 28/100\n",
            "36/36 [==============================] - 0s 4ms/step - loss: 4.4380 - mean_squared_error: 4.4380 - val_loss: 4.0837 - val_mean_squared_error: 4.0837\n",
            "Epoch 29/100\n",
            "36/36 [==============================] - 0s 3ms/step - loss: 4.4823 - mean_squared_error: 4.4823 - val_loss: 4.0611 - val_mean_squared_error: 4.0611\n",
            "Epoch 30/100\n",
            "36/36 [==============================] - 0s 3ms/step - loss: 4.3465 - mean_squared_error: 4.3465 - val_loss: 4.0517 - val_mean_squared_error: 4.0517\n",
            "Epoch 31/100\n",
            "36/36 [==============================] - 0s 3ms/step - loss: 4.3414 - mean_squared_error: 4.3414 - val_loss: 3.9934 - val_mean_squared_error: 3.9934\n",
            "Epoch 32/100\n",
            "36/36 [==============================] - 0s 3ms/step - loss: 4.3221 - mean_squared_error: 4.3221 - val_loss: 4.0169 - val_mean_squared_error: 4.0169\n",
            "Epoch 33/100\n",
            "36/36 [==============================] - 0s 3ms/step - loss: 4.2674 - mean_squared_error: 4.2674 - val_loss: 4.2786 - val_mean_squared_error: 4.2786\n",
            "Epoch 34/100\n",
            "36/36 [==============================] - 0s 3ms/step - loss: 4.3516 - mean_squared_error: 4.3516 - val_loss: 3.9255 - val_mean_squared_error: 3.9255\n",
            "Epoch 35/100\n",
            "36/36 [==============================] - 0s 3ms/step - loss: 4.2507 - mean_squared_error: 4.2507 - val_loss: 3.8948 - val_mean_squared_error: 3.8948\n",
            "Epoch 36/100\n",
            "36/36 [==============================] - 0s 4ms/step - loss: 4.2271 - mean_squared_error: 4.2271 - val_loss: 3.9004 - val_mean_squared_error: 3.9004\n",
            "Epoch 37/100\n",
            "36/36 [==============================] - 0s 3ms/step - loss: 4.2215 - mean_squared_error: 4.2215 - val_loss: 3.8824 - val_mean_squared_error: 3.8824\n",
            "Epoch 38/100\n",
            "36/36 [==============================] - 0s 3ms/step - loss: 4.1844 - mean_squared_error: 4.1844 - val_loss: 3.8470 - val_mean_squared_error: 3.8470\n",
            "Epoch 39/100\n",
            "36/36 [==============================] - 0s 3ms/step - loss: 4.1557 - mean_squared_error: 4.1557 - val_loss: 3.8594 - val_mean_squared_error: 3.8594\n",
            "Epoch 40/100\n",
            "36/36 [==============================] - 0s 3ms/step - loss: 4.2224 - mean_squared_error: 4.2224 - val_loss: 3.8294 - val_mean_squared_error: 3.8294\n",
            "Epoch 41/100\n",
            "36/36 [==============================] - 0s 3ms/step - loss: 4.1471 - mean_squared_error: 4.1471 - val_loss: 4.0779 - val_mean_squared_error: 4.0779\n",
            "Epoch 42/100\n",
            "36/36 [==============================] - 0s 3ms/step - loss: 4.1264 - mean_squared_error: 4.1264 - val_loss: 3.9432 - val_mean_squared_error: 3.9432\n",
            "Epoch 43/100\n",
            "36/36 [==============================] - 0s 3ms/step - loss: 4.1768 - mean_squared_error: 4.1768 - val_loss: 3.8489 - val_mean_squared_error: 3.8489\n",
            "Epoch 44/100\n",
            "36/36 [==============================] - 0s 3ms/step - loss: 4.0599 - mean_squared_error: 4.0599 - val_loss: 3.7949 - val_mean_squared_error: 3.7949\n",
            "Epoch 45/100\n",
            "36/36 [==============================] - 0s 4ms/step - loss: 4.0924 - mean_squared_error: 4.0924 - val_loss: 3.7969 - val_mean_squared_error: 3.7969\n",
            "Epoch 46/100\n",
            "36/36 [==============================] - 0s 3ms/step - loss: 4.2129 - mean_squared_error: 4.2129 - val_loss: 4.0926 - val_mean_squared_error: 4.0926\n",
            "Epoch 47/100\n",
            "36/36 [==============================] - 0s 4ms/step - loss: 4.0683 - mean_squared_error: 4.0683 - val_loss: 3.7680 - val_mean_squared_error: 3.7680\n",
            "Epoch 48/100\n",
            "36/36 [==============================] - 0s 3ms/step - loss: 4.0963 - mean_squared_error: 4.0963 - val_loss: 3.8256 - val_mean_squared_error: 3.8256\n",
            "Epoch 49/100\n",
            "36/36 [==============================] - 0s 3ms/step - loss: 4.0213 - mean_squared_error: 4.0213 - val_loss: 3.8022 - val_mean_squared_error: 3.8022\n",
            "Epoch 50/100\n",
            "36/36 [==============================] - 0s 3ms/step - loss: 4.0312 - mean_squared_error: 4.0312 - val_loss: 3.8766 - val_mean_squared_error: 3.8766\n",
            "Epoch 51/100\n",
            "36/36 [==============================] - 0s 3ms/step - loss: 4.0074 - mean_squared_error: 4.0074 - val_loss: 3.8285 - val_mean_squared_error: 3.8285\n",
            "Epoch 52/100\n",
            "36/36 [==============================] - 0s 3ms/step - loss: 4.0333 - mean_squared_error: 4.0333 - val_loss: 3.9823 - val_mean_squared_error: 3.9823\n",
            "Epoch 53/100\n",
            "36/36 [==============================] - 0s 4ms/step - loss: 3.9875 - mean_squared_error: 3.9875 - val_loss: 3.7812 - val_mean_squared_error: 3.7812\n",
            "Epoch 54/100\n",
            "36/36 [==============================] - 0s 3ms/step - loss: 3.9239 - mean_squared_error: 3.9239 - val_loss: 3.8425 - val_mean_squared_error: 3.8425\n",
            "Epoch 55/100\n",
            "36/36 [==============================] - 0s 3ms/step - loss: 3.9492 - mean_squared_error: 3.9492 - val_loss: 4.1900 - val_mean_squared_error: 4.1900\n",
            "Epoch 56/100\n",
            "36/36 [==============================] - 0s 3ms/step - loss: 3.9774 - mean_squared_error: 3.9774 - val_loss: 3.7341 - val_mean_squared_error: 3.7341\n",
            "Epoch 57/100\n",
            "36/36 [==============================] - 0s 3ms/step - loss: 3.9497 - mean_squared_error: 3.9497 - val_loss: 3.8256 - val_mean_squared_error: 3.8256\n",
            "Epoch 58/100\n",
            "36/36 [==============================] - 0s 3ms/step - loss: 3.9366 - mean_squared_error: 3.9366 - val_loss: 3.9835 - val_mean_squared_error: 3.9835\n",
            "Epoch 59/100\n",
            "36/36 [==============================] - 0s 3ms/step - loss: 3.9030 - mean_squared_error: 3.9030 - val_loss: 3.7723 - val_mean_squared_error: 3.7723\n",
            "Epoch 60/100\n",
            "36/36 [==============================] - 0s 3ms/step - loss: 3.8538 - mean_squared_error: 3.8538 - val_loss: 3.7762 - val_mean_squared_error: 3.7762\n",
            "Epoch 61/100\n",
            "36/36 [==============================] - 0s 3ms/step - loss: 3.8931 - mean_squared_error: 3.8931 - val_loss: 3.9371 - val_mean_squared_error: 3.9371\n",
            "Epoch 62/100\n",
            "36/36 [==============================] - 0s 3ms/step - loss: 3.8758 - mean_squared_error: 3.8758 - val_loss: 4.0762 - val_mean_squared_error: 4.0762\n",
            "Epoch 63/100\n",
            "36/36 [==============================] - 0s 3ms/step - loss: 3.8294 - mean_squared_error: 3.8294 - val_loss: 3.8111 - val_mean_squared_error: 3.8111\n",
            "Epoch 64/100\n",
            "36/36 [==============================] - 0s 3ms/step - loss: 3.8315 - mean_squared_error: 3.8315 - val_loss: 3.7273 - val_mean_squared_error: 3.7273\n",
            "Epoch 65/100\n",
            "36/36 [==============================] - 0s 3ms/step - loss: 3.8338 - mean_squared_error: 3.8338 - val_loss: 3.7644 - val_mean_squared_error: 3.7644\n",
            "Epoch 66/100\n",
            "36/36 [==============================] - 0s 3ms/step - loss: 3.8752 - mean_squared_error: 3.8752 - val_loss: 3.7822 - val_mean_squared_error: 3.7822\n",
            "Epoch 67/100\n",
            "36/36 [==============================] - 0s 3ms/step - loss: 3.7978 - mean_squared_error: 3.7978 - val_loss: 3.7281 - val_mean_squared_error: 3.7281\n",
            "Epoch 68/100\n",
            "36/36 [==============================] - 0s 3ms/step - loss: 3.7941 - mean_squared_error: 3.7941 - val_loss: 3.7521 - val_mean_squared_error: 3.7521\n",
            "Epoch 69/100\n",
            "36/36 [==============================] - 0s 3ms/step - loss: 3.8617 - mean_squared_error: 3.8617 - val_loss: 4.0668 - val_mean_squared_error: 4.0668\n",
            "Epoch 70/100\n",
            "36/36 [==============================] - 0s 3ms/step - loss: 3.8684 - mean_squared_error: 3.8684 - val_loss: 4.0352 - val_mean_squared_error: 4.0352\n",
            "Epoch 71/100\n",
            "36/36 [==============================] - 0s 3ms/step - loss: 3.8793 - mean_squared_error: 3.8793 - val_loss: 4.0765 - val_mean_squared_error: 4.0765\n",
            "Epoch 72/100\n",
            "36/36 [==============================] - 0s 3ms/step - loss: 3.7511 - mean_squared_error: 3.7511 - val_loss: 3.8210 - val_mean_squared_error: 3.8210\n",
            "Epoch 73/100\n",
            "36/36 [==============================] - 0s 3ms/step - loss: 3.6975 - mean_squared_error: 3.6975 - val_loss: 3.8144 - val_mean_squared_error: 3.8144\n",
            "Epoch 74/100\n",
            "36/36 [==============================] - 0s 3ms/step - loss: 3.7229 - mean_squared_error: 3.7229 - val_loss: 3.7643 - val_mean_squared_error: 3.7643\n",
            "Epoch 75/100\n",
            "36/36 [==============================] - 0s 3ms/step - loss: 3.7416 - mean_squared_error: 3.7416 - val_loss: 3.7679 - val_mean_squared_error: 3.7679\n",
            "Epoch 76/100\n",
            "36/36 [==============================] - 0s 3ms/step - loss: 3.6897 - mean_squared_error: 3.6897 - val_loss: 3.7374 - val_mean_squared_error: 3.7374\n",
            "Epoch 77/100\n",
            "36/36 [==============================] - 0s 3ms/step - loss: 3.7549 - mean_squared_error: 3.7549 - val_loss: 3.7436 - val_mean_squared_error: 3.7436\n",
            "Epoch 78/100\n",
            "36/36 [==============================] - 0s 3ms/step - loss: 3.6998 - mean_squared_error: 3.6998 - val_loss: 3.9140 - val_mean_squared_error: 3.9140\n",
            "Epoch 79/100\n",
            "36/36 [==============================] - 0s 3ms/step - loss: 3.6895 - mean_squared_error: 3.6895 - val_loss: 3.7954 - val_mean_squared_error: 3.7954\n",
            "Epoch 80/100\n",
            "36/36 [==============================] - 0s 3ms/step - loss: 3.6636 - mean_squared_error: 3.6636 - val_loss: 3.8082 - val_mean_squared_error: 3.8082\n",
            "Epoch 81/100\n",
            "36/36 [==============================] - 0s 3ms/step - loss: 3.6145 - mean_squared_error: 3.6145 - val_loss: 3.7558 - val_mean_squared_error: 3.7558\n",
            "Epoch 82/100\n",
            "36/36 [==============================] - 0s 3ms/step - loss: 3.6979 - mean_squared_error: 3.6979 - val_loss: 3.7907 - val_mean_squared_error: 3.7907\n",
            "Epoch 83/100\n",
            "36/36 [==============================] - 0s 3ms/step - loss: 3.7949 - mean_squared_error: 3.7949 - val_loss: 3.8132 - val_mean_squared_error: 3.8132\n",
            "Epoch 84/100\n",
            "36/36 [==============================] - 0s 3ms/step - loss: 3.5912 - mean_squared_error: 3.5912 - val_loss: 3.9235 - val_mean_squared_error: 3.9235\n",
            "Epoch 85/100\n",
            "36/36 [==============================] - 0s 3ms/step - loss: 3.5833 - mean_squared_error: 3.5833 - val_loss: 3.9026 - val_mean_squared_error: 3.9026\n",
            "Epoch 86/100\n",
            "36/36 [==============================] - 0s 3ms/step - loss: 3.6537 - mean_squared_error: 3.6537 - val_loss: 3.8198 - val_mean_squared_error: 3.8198\n",
            "Epoch 87/100\n",
            "36/36 [==============================] - 0s 4ms/step - loss: 3.6048 - mean_squared_error: 3.6048 - val_loss: 3.7734 - val_mean_squared_error: 3.7734\n",
            "Epoch 88/100\n",
            "36/36 [==============================] - 0s 4ms/step - loss: 3.5597 - mean_squared_error: 3.5597 - val_loss: 4.0246 - val_mean_squared_error: 4.0246\n",
            "Epoch 89/100\n",
            "36/36 [==============================] - 0s 4ms/step - loss: 3.5914 - mean_squared_error: 3.5914 - val_loss: 4.1119 - val_mean_squared_error: 4.1119\n",
            "Epoch 90/100\n",
            "36/36 [==============================] - 0s 3ms/step - loss: 3.5262 - mean_squared_error: 3.5262 - val_loss: 3.7717 - val_mean_squared_error: 3.7717\n",
            "Epoch 91/100\n",
            "36/36 [==============================] - 0s 4ms/step - loss: 3.5357 - mean_squared_error: 3.5357 - val_loss: 3.7434 - val_mean_squared_error: 3.7434\n",
            "Epoch 92/100\n",
            "36/36 [==============================] - 0s 4ms/step - loss: 3.5998 - mean_squared_error: 3.5998 - val_loss: 4.6417 - val_mean_squared_error: 4.6417\n",
            "Epoch 93/100\n",
            "36/36 [==============================] - 0s 3ms/step - loss: 3.6780 - mean_squared_error: 3.6780 - val_loss: 3.7646 - val_mean_squared_error: 3.7646\n",
            "Epoch 94/100\n",
            "36/36 [==============================] - 0s 3ms/step - loss: 3.5758 - mean_squared_error: 3.5758 - val_loss: 3.8981 - val_mean_squared_error: 3.8981\n",
            "Epoch 95/100\n",
            "36/36 [==============================] - 0s 4ms/step - loss: 3.5907 - mean_squared_error: 3.5907 - val_loss: 4.2632 - val_mean_squared_error: 4.2632\n",
            "Epoch 96/100\n",
            "36/36 [==============================] - 0s 3ms/step - loss: 3.6179 - mean_squared_error: 3.6179 - val_loss: 3.7763 - val_mean_squared_error: 3.7763\n",
            "Epoch 97/100\n",
            "36/36 [==============================] - 0s 3ms/step - loss: 3.4768 - mean_squared_error: 3.4768 - val_loss: 3.7909 - val_mean_squared_error: 3.7909\n",
            "Epoch 98/100\n",
            "36/36 [==============================] - 0s 3ms/step - loss: 3.4953 - mean_squared_error: 3.4953 - val_loss: 3.8174 - val_mean_squared_error: 3.8174\n",
            "Epoch 99/100\n",
            "36/36 [==============================] - 0s 3ms/step - loss: 3.4869 - mean_squared_error: 3.4869 - val_loss: 3.8366 - val_mean_squared_error: 3.8366\n",
            "Epoch 100/100\n",
            "36/36 [==============================] - 0s 6ms/step - loss: 3.5412 - mean_squared_error: 3.5412 - val_loss: 4.0386 - val_mean_squared_error: 4.0386\n",
            "7/7 [==============================] - 0s 3ms/step - loss: 4.4524 - mean_squared_error: 4.4524\n",
            "Test Mean Squared Error: 4.452398300170898\n"
          ]
        }
      ]
    },
    {
      "cell_type": "code",
      "source": [
        "y_pred = model.predict(X_test[:, 2:].astype(np.float64))\n",
        "\n",
        "report_performance(test_ALL, y_test, y_pred)"
      ],
      "metadata": {
        "colab": {
          "base_uri": "https://localhost:8080/"
        },
        "id": "jNZQTxyt_93y",
        "outputId": "a280505b-85d6-4287-b8f0-e324fe34ce8c"
      },
      "execution_count": 66,
      "outputs": [
        {
          "output_type": "stream",
          "name": "stdout",
          "text": [
            "7/7 [==============================] - 0s 2ms/step\n"
          ]
        },
        {
          "output_type": "execute_result",
          "data": {
            "text/plain": [
              "{'<=1': 88, '<=2': 145}"
            ]
          },
          "metadata": {},
          "execution_count": 66
        }
      ]
    },
    {
      "cell_type": "code",
      "source": [
        "w2v.wv['quick'].shape"
      ],
      "metadata": {
        "colab": {
          "base_uri": "https://localhost:8080/"
        },
        "id": "vv260R6CAJF2",
        "outputId": "e72b2927-cb84-4821-9d6d-6c3f7e95cbbe"
      },
      "execution_count": 69,
      "outputs": [
        {
          "output_type": "execute_result",
          "data": {
            "text/plain": [
              "(100,)"
            ]
          },
          "metadata": {},
          "execution_count": 69
        }
      ]
    },
    {
      "cell_type": "code",
      "source": [
        "v1 = list(w2v.wv['quick'])\n",
        "v2 = list(w2v.wv['rapid'])\n",
        "\n",
        "\n",
        "np.dot(v1, v2) / ((np.dot(v1, v1) * np.dot(v2, v2)) ** 0.5)"
      ],
      "metadata": {
        "colab": {
          "base_uri": "https://localhost:8080/"
        },
        "id": "rsTVDcR2N4bj",
        "outputId": "088a3122-ad2b-4f27-8aa9-254de1aae037"
      },
      "execution_count": 72,
      "outputs": [
        {
          "output_type": "execute_result",
          "data": {
            "text/plain": [
              "0.881017730225204"
            ]
          },
          "metadata": {},
          "execution_count": 72
        }
      ]
    },
    {
      "cell_type": "code",
      "source": [
        "w2v.wv.similarity('quick', 'rapid')"
      ],
      "metadata": {
        "colab": {
          "base_uri": "https://localhost:8080/"
        },
        "id": "i_G25anQON8J",
        "outputId": "df7f902a-446a-4e83-e15e-4208e72c1c4d"
      },
      "execution_count": 71,
      "outputs": [
        {
          "output_type": "execute_result",
          "data": {
            "text/plain": [
              "0.8810177"
            ]
          },
          "metadata": {},
          "execution_count": 71
        }
      ]
    },
    {
      "cell_type": "code",
      "source": [
        "v1_ = v1 + [nrc.at['quick', 'valence'], nrc.at['quick', 'arousal'],\n",
        "            nrc.at['quick', 'dominance']]\n",
        "v2_ = v2 + [nrc.at['rapid', 'valence'], nrc.at['rapid', 'arousal'],\n",
        "            nrc.at['rapid', 'dominance']]"
      ],
      "metadata": {
        "id": "ijLuCNEoOYIP"
      },
      "execution_count": 73,
      "outputs": []
    },
    {
      "cell_type": "code",
      "source": [
        "np.dot(v1_, v2_)"
      ],
      "metadata": {
        "colab": {
          "base_uri": "https://localhost:8080/"
        },
        "id": "FXcJONYbO3NA",
        "outputId": "71c46915-63e5-43a2-88d7-cd7c5c00c203"
      },
      "execution_count": 74,
      "outputs": [
        {
          "output_type": "execute_result",
          "data": {
            "text/plain": [
              "5.909096714668699"
            ]
          },
          "metadata": {},
          "execution_count": 74
        }
      ]
    },
    {
      "cell_type": "code",
      "source": [
        "np.dot(v1_, v2_) / ((np.dot(v1_, v1_) * np.dot(v2_, v2_)) ** 0.5)"
      ],
      "metadata": {
        "colab": {
          "base_uri": "https://localhost:8080/"
        },
        "id": "ppGCVmW-O5Hh",
        "outputId": "0dbed10f-4798-4ba5-9d8b-8cab310db675"
      },
      "execution_count": 75,
      "outputs": [
        {
          "output_type": "execute_result",
          "data": {
            "text/plain": [
              "0.9081777548879469"
            ]
          },
          "metadata": {},
          "execution_count": 75
        }
      ]
    },
    {
      "cell_type": "code",
      "source": [
        "def sim(w1, w2):\n",
        "  v1 = list(w2v.wv[w1])\n",
        "  v2 = list(w2v.wv[w2])\n",
        "\n",
        "  v1_ = v1 + [nrc.at[w1, 'valence'], nrc.at[w1, 'arousal'],\n",
        "            nrc.at[w1, 'dominance']]\n",
        "  v2_ = v2 + [nrc.at[w2, 'valence'], nrc.at[w2, 'arousal'],\n",
        "            nrc.at[w2, 'dominance']]\n",
        "  return np.dot(v1_, v2_) / ((np.dot(v1_, v1_) * np.dot(v2_, v2_)) ** 0.5)"
      ],
      "metadata": {
        "id": "L6fBJK3hO9nk"
      },
      "execution_count": 76,
      "outputs": []
    },
    {
      "cell_type": "code",
      "source": [
        "sim('quick', 'rapid')"
      ],
      "metadata": {
        "colab": {
          "base_uri": "https://localhost:8080/"
        },
        "id": "2HfaNH4MPja5",
        "outputId": "70112428-e608-4251-c9b3-c45a0371adc7"
      },
      "execution_count": 78,
      "outputs": [
        {
          "output_type": "execute_result",
          "data": {
            "text/plain": [
              "0.9081777548879469"
            ]
          },
          "metadata": {},
          "execution_count": 78
        }
      ]
    },
    {
      "cell_type": "code",
      "source": [
        "sim('sharp', 'dull')"
      ],
      "metadata": {
        "colab": {
          "base_uri": "https://localhost:8080/"
        },
        "id": "K05JADVtPkwR",
        "outputId": "2a2c6089-4393-40c1-93a7-94c7ce6dc477"
      },
      "execution_count": 79,
      "outputs": [
        {
          "output_type": "execute_result",
          "data": {
            "text/plain": [
              "0.9233064857658595"
            ]
          },
          "metadata": {},
          "execution_count": 79
        }
      ]
    },
    {
      "cell_type": "code",
      "source": [
        "def sim_(w1, w2):\n",
        "  v1_ = list(w2v.wv[w1])\n",
        "  v2_ = list(w2v.wv[w2])\n",
        "\n",
        "  # v1_ = v1 + [nrc.at[w1, 'valence'], nrc.at[w1, 'arousal'],\n",
        "  #          nrc.at[w1, 'dominance']]\n",
        "  # v2_ = v2 + [nrc.at[w2, 'valence'], nrc.at[w2, 'arousal'],\n",
        "  #          nrc.at[w2, 'dominance']]\n",
        "  return np.dot(v1_, v2_) / ((np.dot(v1_, v1_) * np.dot(v2_, v2_)) ** 0.5)"
      ],
      "metadata": {
        "id": "W89iz_6UPr1f"
      },
      "execution_count": 81,
      "outputs": []
    },
    {
      "cell_type": "code",
      "source": [
        "sim_('sharp', 'dull')"
      ],
      "metadata": {
        "colab": {
          "base_uri": "https://localhost:8080/"
        },
        "id": "gbqrIjmnQHTM",
        "outputId": "753e0130-ecec-450e-f9f4-035fb9573ff2"
      },
      "execution_count": 82,
      "outputs": [
        {
          "output_type": "execute_result",
          "data": {
            "text/plain": [
              "0.9250461166623755"
            ]
          },
          "metadata": {},
          "execution_count": 82
        }
      ]
    },
    {
      "cell_type": "code",
      "source": [],
      "metadata": {
        "id": "CyCQV4LpQLzR"
      },
      "execution_count": null,
      "outputs": []
    }
  ]
}