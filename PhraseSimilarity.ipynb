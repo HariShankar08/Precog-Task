{
 "cells": [
  {
   "cell_type": "code",
   "execution_count": 1,
   "metadata": {
    "colab": {
     "base_uri": "https://localhost:8080/",
     "height": 1000,
     "referenced_widgets": [
      "6742594b20b64574a1f3f77e1a585698",
      "bb51a8e0d52e4aef83e9f94bf2645afc",
      "081eb4be25084fcfa177eb13a8dce9cc",
      "0bae0e3120e0473498ecdfcca2f34902",
      "897359da5d0a4c30b2739fc5b9744557",
      "bbb241ce5b2542e88f9d8d6868974817",
      "105fe7d7c1b849b486110dd1cc58c6b3",
      "b633141221034e82ad1c231e880c6cce",
      "c9834bc962ea46f9acd7829ed6b17278",
      "c43eb7aabfd84178aec0fce0e5779a8e",
      "20ad4823fd874a9b9d7eedf755ed94c4",
      "c65e6ee1781744f08874b448f127db98",
      "926cc05437b94ba693de33db18564146",
      "1b7ef4b20f4a4fdb9364fcf32f09f80e",
      "6d0fffd8096c4893958bc6c8b45461cb",
      "22ecd295b46549ea9b758bc1b6004486",
      "b42feb25fc5443a0aa660a24536690ab",
      "e01e07d998d44041a024475144f2486d",
      "e7f855e299df4947a6713e9243e7d4f6",
      "1cae174588924ff6bdd9ba7ef64d0462",
      "436ba13003544cd69d8c7d70bdc9ab5c",
      "da3d52654326435bb27523e27d970581",
      "f4395ded93504d3cb5e984c73194d8b1",
      "1d2cc93841ab464e90ae48ad02ab1cc6",
      "0f38ec1580ad4108a502b3a05ec75863",
      "34ca5abb764f481881a681b87ac0c138",
      "dca66a11646b426b8bf17dc4f55170d2",
      "796631dad761497581992b0ece6ff772",
      "d1296a65773b4b2ca4c2337a929590c8",
      "8d842a656ebf45729b2466d59474a07b",
      "3db84fb5556e40d88836503b19a052b6",
      "007a81f025134ca494ab190a3615ff78",
      "28b55a91eadf4dc3b55823a9aec34a0b",
      "bbcf6dee07b9482f832ecf82fd0aa956",
      "48539b6a805f4c439669013fc3147b7e",
      "4fb441385a634d57a0133836aab14624",
      "695a9692a04a48c2942837ed3878380c",
      "19f4e085a1144120a2e0e1e75847e7ac",
      "ced64c63d7a54181bb118cb6d66cfb16",
      "11736bbe3d474ecf91e918c77d065384",
      "bb8bb9ecd8c344e08a40320add50525f",
      "d837a241ec004d1eb1ceb06391df9a3b",
      "b83bf1426ede4436b9ae7ad4fb667a20",
      "1f8cccd9e1184e70a96a8b1174d925a8",
      "204e741f8d76474b972e47b6e77ad44a",
      "0f22fb9775ea42b7b71457833d252e3b",
      "b7e9e47bd9514015a10587643a58c254",
      "f5108357b53041ffab4682ea12224b1b",
      "1b0a774c41c3408ca085c703ea172807",
      "9e626345c0ac44b1995d7eda95b079c1",
      "37ed329cb7a4470bbcf750f355e52520",
      "e4e610f0c7ce4b27aacf329c8a6689a2",
      "288c9b8c6b3e4045b5a1b23d9a0a472f",
      "e3d045c2bd21433399d5841deb351c8d",
      "bda79f68b6244d4db7072b5f0a3e8a74",
      "b471132f79f84c5bb1b3e9f4c8875ab2",
      "da229c984c374e38833c2faa3443cfe9",
      "291d980dfaea4c2a91d2c56981230c6e",
      "9bf725e6736e433ba00481164a8f4a6e",
      "edf6121c296e443aa26582effb456d7c",
      "ba845c2c29b84043991fe0e21bbc882c",
      "6401ffe7631a403ba0a8b9d0ebfb2322",
      "9ba32169136d495f99d5f666d853b27f",
      "06746fbd74d242f79f7dc6fe6db46204",
      "bd6382aabd844ab0bb5b3b9dc5a64ec7",
      "4f2c1d9e82ca4fa0a366e9a46d04acf4"
     ]
    },
    "id": "GBf284roqAy_",
    "outputId": "f8804448-c285-4ae5-ef82-b214fc26a50f"
   },
   "outputs": [
    {
     "name": "stdout",
     "output_type": "stream",
     "text": [
      "Requirement already satisfied: datasets in /home/hari/anaconda3/lib/python3.9/site-packages (2.17.0)\n",
      "Requirement already satisfied: filelock in /home/hari/anaconda3/lib/python3.9/site-packages (from datasets) (3.6.0)\n",
      "Requirement already satisfied: requests>=2.19.0 in /home/hari/anaconda3/lib/python3.9/site-packages (from datasets) (2.22.0)\n",
      "Requirement already satisfied: aiohttp in /home/hari/anaconda3/lib/python3.9/site-packages (from datasets) (3.8.4)\n",
      "Requirement already satisfied: huggingface-hub>=0.19.4 in /home/hari/anaconda3/lib/python3.9/site-packages (from datasets) (0.20.3)\n",
      "Requirement already satisfied: pyarrow>=12.0.0 in /home/hari/anaconda3/lib/python3.9/site-packages (from datasets) (15.0.0)\n",
      "Requirement already satisfied: pyyaml>=5.1 in /home/hari/anaconda3/lib/python3.9/site-packages (from datasets) (6.0)\n",
      "Requirement already satisfied: numpy>=1.17 in /home/hari/anaconda3/lib/python3.9/site-packages (from datasets) (1.26.4)\n",
      "Requirement already satisfied: multiprocess in /home/hari/anaconda3/lib/python3.9/site-packages (from datasets) (0.70.16)\n",
      "Requirement already satisfied: pyarrow-hotfix in /home/hari/anaconda3/lib/python3.9/site-packages (from datasets) (0.6)\n",
      "Requirement already satisfied: packaging in /home/hari/anaconda3/lib/python3.9/site-packages (from datasets) (23.1)\n",
      "Requirement already satisfied: xxhash in /home/hari/anaconda3/lib/python3.9/site-packages (from datasets) (3.4.1)\n",
      "Requirement already satisfied: dill<0.3.9,>=0.3.0 in /home/hari/anaconda3/lib/python3.9/site-packages (from datasets) (0.3.8)\n",
      "Requirement already satisfied: fsspec[http]<=2023.10.0,>=2023.1.0 in /home/hari/anaconda3/lib/python3.9/site-packages (from datasets) (2023.10.0)\n",
      "Requirement already satisfied: pandas in /home/hari/anaconda3/lib/python3.9/site-packages (from datasets) (1.4.4)\n",
      "Requirement already satisfied: tqdm>=4.62.1 in /home/hari/anaconda3/lib/python3.9/site-packages (from datasets) (4.64.1)\n",
      "Requirement already satisfied: async-timeout<5.0,>=4.0.0a3 in /home/hari/anaconda3/lib/python3.9/site-packages (from aiohttp->datasets) (4.0.2)\n",
      "Requirement already satisfied: frozenlist>=1.1.1 in /home/hari/anaconda3/lib/python3.9/site-packages (from aiohttp->datasets) (1.3.3)\n",
      "Requirement already satisfied: multidict<7.0,>=4.5 in /home/hari/anaconda3/lib/python3.9/site-packages (from aiohttp->datasets) (6.0.4)\n",
      "Requirement already satisfied: charset-normalizer<4.0,>=2.0 in /home/hari/anaconda3/lib/python3.9/site-packages (from aiohttp->datasets) (2.0.4)\n",
      "Requirement already satisfied: yarl<2.0,>=1.0 in /home/hari/anaconda3/lib/python3.9/site-packages (from aiohttp->datasets) (1.9.2)\n",
      "Requirement already satisfied: aiosignal>=1.1.2 in /home/hari/anaconda3/lib/python3.9/site-packages (from aiohttp->datasets) (1.3.1)\n",
      "Requirement already satisfied: attrs>=17.3.0 in /home/hari/anaconda3/lib/python3.9/site-packages (from aiohttp->datasets) (21.4.0)\n",
      "Requirement already satisfied: typing-extensions>=3.7.4.3 in /home/hari/anaconda3/lib/python3.9/site-packages (from huggingface-hub>=0.19.4->datasets) (4.9.0)\n",
      "Requirement already satisfied: urllib3!=1.25.0,!=1.25.1,<1.26,>=1.21.1 in /home/hari/anaconda3/lib/python3.9/site-packages (from requests>=2.19.0->datasets) (1.25.8)\n",
      "Requirement already satisfied: chardet<3.1.0,>=3.0.2 in /home/hari/anaconda3/lib/python3.9/site-packages (from requests>=2.19.0->datasets) (3.0.4)\n",
      "Requirement already satisfied: certifi>=2017.4.17 in /home/hari/anaconda3/lib/python3.9/site-packages (from requests>=2.19.0->datasets) (2019.11.28)\n",
      "Requirement already satisfied: idna<2.9,>=2.5 in /home/hari/anaconda3/lib/python3.9/site-packages (from requests>=2.19.0->datasets) (2.8)\n",
      "Requirement already satisfied: python-dateutil>=2.8.1 in /home/hari/anaconda3/lib/python3.9/site-packages (from pandas->datasets) (2.8.2)\n",
      "Requirement already satisfied: pytz>=2020.1 in /home/hari/anaconda3/lib/python3.9/site-packages (from pandas->datasets) (2022.1)\n",
      "Requirement already satisfied: six>=1.5 in /home/hari/anaconda3/lib/python3.9/site-packages (from python-dateutil>=2.8.1->pandas->datasets) (1.14.0)\n"
     ]
    },
    {
     "name": "stderr",
     "output_type": "stream",
     "text": [
      "/home/hari/anaconda3/lib/python3.9/site-packages/scipy/__init__.py:155: UserWarning: A NumPy version >=1.18.5 and <1.25.0 is required for this version of SciPy (detected version 1.26.4\n",
      "  warnings.warn(f\"A NumPy version >={np_minversion} and <{np_maxversion}\"\n"
     ]
    },
    {
     "data": {
      "application/vnd.jupyter.widget-view+json": {
       "model_id": "b5f0ec886d174c39b8f159f10f1c6437",
       "version_major": 2,
       "version_minor": 0
      },
      "text/plain": [
       "Downloading data:   0%|          | 0.00/1.42M [00:00<?, ?B/s]"
      ]
     },
     "metadata": {},
     "output_type": "display_data"
    },
    {
     "data": {
      "application/vnd.jupyter.widget-view+json": {
       "model_id": "0ce3f31ba44b4a9bae728acc1eb1a221",
       "version_major": 2,
       "version_minor": 0
      },
      "text/plain": [
       "Downloading data:   0%|          | 0.00/202k [00:00<?, ?B/s]"
      ]
     },
     "metadata": {},
     "output_type": "display_data"
    },
    {
     "data": {
      "application/vnd.jupyter.widget-view+json": {
       "model_id": "76be02d69b5b4726a6a3053ce746094e",
       "version_major": 2,
       "version_minor": 0
      },
      "text/plain": [
       "Downloading data:   0%|          | 0.00/403k [00:00<?, ?B/s]"
      ]
     },
     "metadata": {},
     "output_type": "display_data"
    },
    {
     "data": {
      "application/vnd.jupyter.widget-view+json": {
       "model_id": "9564d6b200bd4f628b7ad1295f0a9c5f",
       "version_major": 2,
       "version_minor": 0
      },
      "text/plain": [
       "Generating train split:   0%|          | 0/7004 [00:00<?, ? examples/s]"
      ]
     },
     "metadata": {},
     "output_type": "display_data"
    },
    {
     "data": {
      "application/vnd.jupyter.widget-view+json": {
       "model_id": "ccc8c0613ec94f6b89c3fb26c3dcaaf9",
       "version_major": 2,
       "version_minor": 0
      },
      "text/plain": [
       "Generating validation split:   0%|          | 0/1000 [00:00<?, ? examples/s]"
      ]
     },
     "metadata": {},
     "output_type": "display_data"
    },
    {
     "data": {
      "application/vnd.jupyter.widget-view+json": {
       "model_id": "183db09a20d947ebbf0f0d122b792c5e",
       "version_major": 2,
       "version_minor": 0
      },
      "text/plain": [
       "Generating test split:   0%|          | 0/2000 [00:00<?, ? examples/s]"
      ]
     },
     "metadata": {},
     "output_type": "display_data"
    }
   ],
   "source": [
    "!pip install datasets\n",
    "from datasets import load_dataset\n",
    "\n",
    "dataset = load_dataset(\"PiC/phrase_similarity\")"
   ]
  },
  {
   "cell_type": "markdown",
   "metadata": {
    "id": "DBj5WC7xrGYu"
   },
   "source": [
    "Features that could be important:\n",
    "\n",
    "- Greedy word-wise similarity of phrase\n",
    "- Lesk overlap with content words in context sentence\n"
   ]
  },
  {
   "cell_type": "code",
   "execution_count": 2,
   "metadata": {
    "id": "eC-KkNhKrgX3"
   },
   "outputs": [],
   "source": [
    "import pandas as pd\n",
    "\n",
    "\n",
    "train = pd.DataFrame(dataset['train'])\n",
    "test = pd.DataFrame(dataset['test'])\n",
    "val = pd.DataFrame(dataset['validation'])"
   ]
  },
  {
   "cell_type": "code",
   "execution_count": 3,
   "metadata": {
    "colab": {
     "base_uri": "https://localhost:8080/",
     "height": 424
    },
    "id": "Uc1WN0zdrha1",
    "outputId": "f7bfc2b0-bfec-42d2-c0da-d41864cf72a1"
   },
   "outputs": [
    {
     "data": {
      "text/html": [
       "<div>\n",
       "<style scoped>\n",
       "    .dataframe tbody tr th:only-of-type {\n",
       "        vertical-align: middle;\n",
       "    }\n",
       "\n",
       "    .dataframe tbody tr th {\n",
       "        vertical-align: top;\n",
       "    }\n",
       "\n",
       "    .dataframe thead th {\n",
       "        text-align: right;\n",
       "    }\n",
       "</style>\n",
       "<table border=\"1\" class=\"dataframe\">\n",
       "  <thead>\n",
       "    <tr style=\"text-align: right;\">\n",
       "      <th></th>\n",
       "      <th>phrase1</th>\n",
       "      <th>phrase2</th>\n",
       "      <th>sentence1</th>\n",
       "      <th>sentence2</th>\n",
       "      <th>label</th>\n",
       "      <th>idx</th>\n",
       "    </tr>\n",
       "  </thead>\n",
       "  <tbody>\n",
       "    <tr>\n",
       "      <th>0</th>\n",
       "      <td>newly formed camp</td>\n",
       "      <td>recently made encampment</td>\n",
       "      <td>newly formed camp is released from the membran...</td>\n",
       "      <td>recently made encampment is released from the ...</td>\n",
       "      <td>0</td>\n",
       "      <td>0</td>\n",
       "    </tr>\n",
       "    <tr>\n",
       "      <th>1</th>\n",
       "      <td>one data</td>\n",
       "      <td>a particular statistic</td>\n",
       "      <td>According to one data, in 1910, on others – in...</td>\n",
       "      <td>According to a particular statistic, in 1910, ...</td>\n",
       "      <td>1</td>\n",
       "      <td>1</td>\n",
       "    </tr>\n",
       "    <tr>\n",
       "      <th>2</th>\n",
       "      <td>particular structure</td>\n",
       "      <td>specific edifice</td>\n",
       "      <td>Note that Fact 1 does not assume any particula...</td>\n",
       "      <td>Note that Fact 1 does not assume any specific ...</td>\n",
       "      <td>0</td>\n",
       "      <td>2</td>\n",
       "    </tr>\n",
       "    <tr>\n",
       "      <th>3</th>\n",
       "      <td>involved people</td>\n",
       "      <td>participating individuals</td>\n",
       "      <td>Assessment-Center are usually group-processes ...</td>\n",
       "      <td>Assessment-Center are usually group-processes ...</td>\n",
       "      <td>1</td>\n",
       "      <td>3</td>\n",
       "    </tr>\n",
       "    <tr>\n",
       "      <th>4</th>\n",
       "      <td>different cross</td>\n",
       "      <td>opposing inquiries</td>\n",
       "      <td>At the end of the 1980s, a different cross had...</td>\n",
       "      <td>At the end of the 1980s, a opposing inquiries ...</td>\n",
       "      <td>0</td>\n",
       "      <td>4</td>\n",
       "    </tr>\n",
       "    <tr>\n",
       "      <th>...</th>\n",
       "      <td>...</td>\n",
       "      <td>...</td>\n",
       "      <td>...</td>\n",
       "      <td>...</td>\n",
       "      <td>...</td>\n",
       "      <td>...</td>\n",
       "    </tr>\n",
       "    <tr>\n",
       "      <th>6999</th>\n",
       "      <td>similar notice</td>\n",
       "      <td>comparable notification</td>\n",
       "      <td>Nereus and Achilleus a similar notice was admi...</td>\n",
       "      <td>Nereus and Achilleus a comparable notification...</td>\n",
       "      <td>1</td>\n",
       "      <td>6999</td>\n",
       "    </tr>\n",
       "    <tr>\n",
       "      <th>7000</th>\n",
       "      <td>color map</td>\n",
       "      <td>painted chart</td>\n",
       "      <td>Color quantization is the process of creating ...</td>\n",
       "      <td>Color quantization is the process of creating ...</td>\n",
       "      <td>0</td>\n",
       "      <td>7000</td>\n",
       "    </tr>\n",
       "    <tr>\n",
       "      <th>7001</th>\n",
       "      <td>dutch tool</td>\n",
       "      <td>device from the people of the Netherlands</td>\n",
       "      <td>petra is a dutch tool with which patients and ...</td>\n",
       "      <td>petra is a device from the people of the Nethe...</td>\n",
       "      <td>1</td>\n",
       "      <td>7001</td>\n",
       "    </tr>\n",
       "    <tr>\n",
       "      <th>7002</th>\n",
       "      <td>secondary concern</td>\n",
       "      <td>less serious issue</td>\n",
       "      <td>However, granting this access, especially to a...</td>\n",
       "      <td>However, granting this access, especially to a...</td>\n",
       "      <td>1</td>\n",
       "      <td>7002</td>\n",
       "    </tr>\n",
       "    <tr>\n",
       "      <th>7003</th>\n",
       "      <td>full order</td>\n",
       "      <td>comprehensive commission</td>\n",
       "      <td>The show was immediately picked up for a full ...</td>\n",
       "      <td>The show was immediately picked up for a compr...</td>\n",
       "      <td>1</td>\n",
       "      <td>7003</td>\n",
       "    </tr>\n",
       "  </tbody>\n",
       "</table>\n",
       "<p>7004 rows × 6 columns</p>\n",
       "</div>"
      ],
      "text/plain": [
       "                   phrase1                                    phrase2  \\\n",
       "0        newly formed camp                   recently made encampment   \n",
       "1                 one data                     a particular statistic   \n",
       "2     particular structure                           specific edifice   \n",
       "3          involved people                  participating individuals   \n",
       "4          different cross                         opposing inquiries   \n",
       "...                    ...                                        ...   \n",
       "6999        similar notice                    comparable notification   \n",
       "7000             color map                              painted chart   \n",
       "7001            dutch tool  device from the people of the Netherlands   \n",
       "7002     secondary concern                         less serious issue   \n",
       "7003            full order                   comprehensive commission   \n",
       "\n",
       "                                              sentence1  \\\n",
       "0     newly formed camp is released from the membran...   \n",
       "1     According to one data, in 1910, on others – in...   \n",
       "2     Note that Fact 1 does not assume any particula...   \n",
       "3     Assessment-Center are usually group-processes ...   \n",
       "4     At the end of the 1980s, a different cross had...   \n",
       "...                                                 ...   \n",
       "6999  Nereus and Achilleus a similar notice was admi...   \n",
       "7000  Color quantization is the process of creating ...   \n",
       "7001  petra is a dutch tool with which patients and ...   \n",
       "7002  However, granting this access, especially to a...   \n",
       "7003  The show was immediately picked up for a full ...   \n",
       "\n",
       "                                              sentence2  label   idx  \n",
       "0     recently made encampment is released from the ...      0     0  \n",
       "1     According to a particular statistic, in 1910, ...      1     1  \n",
       "2     Note that Fact 1 does not assume any specific ...      0     2  \n",
       "3     Assessment-Center are usually group-processes ...      1     3  \n",
       "4     At the end of the 1980s, a opposing inquiries ...      0     4  \n",
       "...                                                 ...    ...   ...  \n",
       "6999  Nereus and Achilleus a comparable notification...      1  6999  \n",
       "7000  Color quantization is the process of creating ...      0  7000  \n",
       "7001  petra is a device from the people of the Nethe...      1  7001  \n",
       "7002  However, granting this access, especially to a...      1  7002  \n",
       "7003  The show was immediately picked up for a compr...      1  7003  \n",
       "\n",
       "[7004 rows x 6 columns]"
      ]
     },
     "execution_count": 3,
     "metadata": {},
     "output_type": "execute_result"
    }
   ],
   "source": [
    "train"
   ]
  },
  {
   "cell_type": "code",
   "execution_count": 4,
   "metadata": {
    "colab": {
     "base_uri": "https://localhost:8080/"
    },
    "id": "o-jIhLgMsEPW",
    "outputId": "f26babda-8b57-4842-82fc-21d9be4e5d53"
   },
   "outputs": [
    {
     "name": "stdout",
     "output_type": "stream",
     "text": [
      "Collecting en-core-web-lg==3.7.1\n",
      "  Downloading https://github.com/explosion/spacy-models/releases/download/en_core_web_lg-3.7.1/en_core_web_lg-3.7.1-py3-none-any.whl (587.7 MB)\n",
      "\u001b[2K     \u001b[38;2;114;156;31m━━━━━━━━━━━━━━━━━━━━━━━━━━━━━━━━━━━━━━━\u001b[0m \u001b[32m587.7/587.7 MB\u001b[0m \u001b[31m3.3 MB/s\u001b[0m eta \u001b[36m0:00:00\u001b[0mm eta \u001b[36m0:00:01\u001b[0m[36m0:00:02\u001b[0m\n",
      "\u001b[?25hRequirement already satisfied: spacy<3.8.0,>=3.7.2 in /home/hari/anaconda3/lib/python3.9/site-packages (from en-core-web-lg==3.7.1) (3.7.2)\n",
      "Requirement already satisfied: pydantic!=1.8,!=1.8.1,<3.0.0,>=1.7.4 in /home/hari/anaconda3/lib/python3.9/site-packages (from spacy<3.8.0,>=3.7.2->en-core-web-lg==3.7.1) (2.6.1)\n",
      "Requirement already satisfied: spacy-loggers<2.0.0,>=1.0.0 in /home/hari/anaconda3/lib/python3.9/site-packages (from spacy<3.8.0,>=3.7.2->en-core-web-lg==3.7.1) (1.0.5)\n",
      "Requirement already satisfied: numpy>=1.19.0 in /home/hari/anaconda3/lib/python3.9/site-packages (from spacy<3.8.0,>=3.7.2->en-core-web-lg==3.7.1) (1.26.4)\n",
      "Requirement already satisfied: cymem<2.1.0,>=2.0.2 in /home/hari/anaconda3/lib/python3.9/site-packages (from spacy<3.8.0,>=3.7.2->en-core-web-lg==3.7.1) (2.0.8)\n",
      "Requirement already satisfied: typer<0.10.0,>=0.3.0 in /home/hari/anaconda3/lib/python3.9/site-packages (from spacy<3.8.0,>=3.7.2->en-core-web-lg==3.7.1) (0.9.0)\n",
      "Requirement already satisfied: tqdm<5.0.0,>=4.38.0 in /home/hari/anaconda3/lib/python3.9/site-packages (from spacy<3.8.0,>=3.7.2->en-core-web-lg==3.7.1) (4.64.1)\n",
      "Requirement already satisfied: thinc<8.3.0,>=8.1.8 in /home/hari/anaconda3/lib/python3.9/site-packages (from spacy<3.8.0,>=3.7.2->en-core-web-lg==3.7.1) (8.2.3)\n",
      "Requirement already satisfied: smart-open<7.0.0,>=5.2.1 in /home/hari/anaconda3/lib/python3.9/site-packages (from spacy<3.8.0,>=3.7.2->en-core-web-lg==3.7.1) (5.2.1)\n",
      "Requirement already satisfied: preshed<3.1.0,>=3.0.2 in /home/hari/anaconda3/lib/python3.9/site-packages (from spacy<3.8.0,>=3.7.2->en-core-web-lg==3.7.1) (3.0.9)\n",
      "Requirement already satisfied: wasabi<1.2.0,>=0.9.1 in /home/hari/anaconda3/lib/python3.9/site-packages (from spacy<3.8.0,>=3.7.2->en-core-web-lg==3.7.1) (1.1.2)\n",
      "Requirement already satisfied: weasel<0.4.0,>=0.1.0 in /home/hari/anaconda3/lib/python3.9/site-packages (from spacy<3.8.0,>=3.7.2->en-core-web-lg==3.7.1) (0.3.4)\n",
      "Requirement already satisfied: spacy-legacy<3.1.0,>=3.0.11 in /home/hari/anaconda3/lib/python3.9/site-packages (from spacy<3.8.0,>=3.7.2->en-core-web-lg==3.7.1) (3.0.12)\n",
      "Requirement already satisfied: catalogue<2.1.0,>=2.0.6 in /home/hari/anaconda3/lib/python3.9/site-packages (from spacy<3.8.0,>=3.7.2->en-core-web-lg==3.7.1) (2.0.10)\n",
      "Requirement already satisfied: packaging>=20.0 in /home/hari/anaconda3/lib/python3.9/site-packages (from spacy<3.8.0,>=3.7.2->en-core-web-lg==3.7.1) (23.1)\n",
      "Requirement already satisfied: jinja2 in /home/hari/anaconda3/lib/python3.9/site-packages (from spacy<3.8.0,>=3.7.2->en-core-web-lg==3.7.1) (2.11.3)\n",
      "Requirement already satisfied: murmurhash<1.1.0,>=0.28.0 in /home/hari/anaconda3/lib/python3.9/site-packages (from spacy<3.8.0,>=3.7.2->en-core-web-lg==3.7.1) (1.0.10)\n",
      "Requirement already satisfied: requests<3.0.0,>=2.13.0 in /home/hari/anaconda3/lib/python3.9/site-packages (from spacy<3.8.0,>=3.7.2->en-core-web-lg==3.7.1) (2.22.0)\n",
      "Requirement already satisfied: setuptools in /home/hari/anaconda3/lib/python3.9/site-packages (from spacy<3.8.0,>=3.7.2->en-core-web-lg==3.7.1) (63.4.1)\n",
      "Requirement already satisfied: langcodes<4.0.0,>=3.2.0 in /home/hari/anaconda3/lib/python3.9/site-packages (from spacy<3.8.0,>=3.7.2->en-core-web-lg==3.7.1) (3.3.0)\n",
      "Requirement already satisfied: srsly<3.0.0,>=2.4.3 in /home/hari/anaconda3/lib/python3.9/site-packages (from spacy<3.8.0,>=3.7.2->en-core-web-lg==3.7.1) (2.4.8)\n",
      "Requirement already satisfied: pydantic-core==2.16.2 in /home/hari/anaconda3/lib/python3.9/site-packages (from pydantic!=1.8,!=1.8.1,<3.0.0,>=1.7.4->spacy<3.8.0,>=3.7.2->en-core-web-lg==3.7.1) (2.16.2)\n",
      "Requirement already satisfied: typing-extensions>=4.6.1 in /home/hari/anaconda3/lib/python3.9/site-packages (from pydantic!=1.8,!=1.8.1,<3.0.0,>=1.7.4->spacy<3.8.0,>=3.7.2->en-core-web-lg==3.7.1) (4.9.0)\n",
      "Requirement already satisfied: annotated-types>=0.4.0 in /home/hari/anaconda3/lib/python3.9/site-packages (from pydantic!=1.8,!=1.8.1,<3.0.0,>=1.7.4->spacy<3.8.0,>=3.7.2->en-core-web-lg==3.7.1) (0.6.0)\n",
      "Requirement already satisfied: urllib3!=1.25.0,!=1.25.1,<1.26,>=1.21.1 in /home/hari/anaconda3/lib/python3.9/site-packages (from requests<3.0.0,>=2.13.0->spacy<3.8.0,>=3.7.2->en-core-web-lg==3.7.1) (1.25.8)\n",
      "Requirement already satisfied: idna<2.9,>=2.5 in /home/hari/anaconda3/lib/python3.9/site-packages (from requests<3.0.0,>=2.13.0->spacy<3.8.0,>=3.7.2->en-core-web-lg==3.7.1) (2.8)\n",
      "Requirement already satisfied: chardet<3.1.0,>=3.0.2 in /home/hari/anaconda3/lib/python3.9/site-packages (from requests<3.0.0,>=2.13.0->spacy<3.8.0,>=3.7.2->en-core-web-lg==3.7.1) (3.0.4)\n",
      "Requirement already satisfied: certifi>=2017.4.17 in /home/hari/anaconda3/lib/python3.9/site-packages (from requests<3.0.0,>=2.13.0->spacy<3.8.0,>=3.7.2->en-core-web-lg==3.7.1) (2019.11.28)\n",
      "Requirement already satisfied: blis<0.8.0,>=0.7.8 in /home/hari/anaconda3/lib/python3.9/site-packages (from thinc<8.3.0,>=8.1.8->spacy<3.8.0,>=3.7.2->en-core-web-lg==3.7.1) (0.7.11)\n",
      "Requirement already satisfied: confection<1.0.0,>=0.0.1 in /home/hari/anaconda3/lib/python3.9/site-packages (from thinc<8.3.0,>=8.1.8->spacy<3.8.0,>=3.7.2->en-core-web-lg==3.7.1) (0.1.4)\n",
      "Requirement already satisfied: click<9.0.0,>=7.1.1 in /home/hari/anaconda3/lib/python3.9/site-packages (from typer<0.10.0,>=0.3.0->spacy<3.8.0,>=3.7.2->en-core-web-lg==3.7.1) (8.0.4)\n",
      "Requirement already satisfied: cloudpathlib<0.17.0,>=0.7.0 in /home/hari/anaconda3/lib/python3.9/site-packages (from weasel<0.4.0,>=0.1.0->spacy<3.8.0,>=3.7.2->en-core-web-lg==3.7.1) (0.16.0)\n",
      "Requirement already satisfied: MarkupSafe>=0.23 in /home/hari/anaconda3/lib/python3.9/site-packages (from jinja2->spacy<3.8.0,>=3.7.2->en-core-web-lg==3.7.1) (2.0.1)\n",
      "\u001b[38;5;2m✔ Download and installation successful\u001b[0m\n",
      "You can now load the package via spacy.load('en_core_web_lg')\n",
      "Assessment NOUN compound\n",
      "- PUNCT punct\n",
      "Center PROPN nsubj\n",
      "are AUX ROOT\n",
      "usually ADV advmod\n",
      "group NOUN compound\n",
      "- PUNCT punct\n",
      "processes NOUN attr\n",
      "with ADP prep\n",
      "high ADJ amod\n",
      "validity NOUN pobj\n",
      "and CCONJ cc\n",
      "acceptance NOUN conj\n",
      "of ADP prep\n",
      "the DET det\n",
      "involved ADJ amod\n",
      "people NOUN pobj\n",
      ". PUNCT punct\n"
     ]
    }
   ],
   "source": [
    "import spacy\n",
    "!python -m spacy download en_core_web_lg\n",
    "\n",
    "nlp = spacy.load(\"en_core_web_lg\")\n",
    "doc = nlp(\"Assessment-Center are usually group-processes with high validity and acceptance of the involved people.\")\n",
    "for token in doc:\n",
    "    print(token.text, token.pos_, token.dep_)"
   ]
  },
  {
   "cell_type": "code",
   "execution_count": 5,
   "metadata": {
    "colab": {
     "base_uri": "https://localhost:8080/"
    },
    "id": "hbkjMBkFuWok",
    "outputId": "ba5b76a6-e2f0-4a23-c1df-9aae6b6569bf"
   },
   "outputs": [
    {
     "name": "stderr",
     "output_type": "stream",
     "text": [
      "[nltk_data] Downloading package brown to /home/hari/nltk_data...\n",
      "[nltk_data]   Unzipping corpora/brown.zip.\n"
     ]
    }
   ],
   "source": [
    "import nltk\n",
    "nltk.download('brown')\n",
    "\n",
    "from nltk.corpus import brown    # Consider changing corpus (more tokens, etc.)"
   ]
  },
  {
   "cell_type": "code",
   "execution_count": 6,
   "metadata": {
    "id": "fOulo6SiuuPb"
   },
   "outputs": [],
   "source": [
    "import gensim as gs\n",
    "from gensim.models import FastText\n",
    "\n",
    "md = FastText(brown.sents(), min_count=1, vector_size=100, window=5)"
   ]
  },
  {
   "cell_type": "code",
   "execution_count": 7,
   "metadata": {
    "id": "zYMDCzkuu-sP"
   },
   "outputs": [],
   "source": [
    "p1 = 'former charge'\n",
    "p2 = 'previous responsibility'\n",
    "\n",
    "def avg_sim(p1, p2):\n",
    "  p1_nlp = nlp(p1)\n",
    "  p2_nlp = nlp(p2)\n",
    "\n",
    "\n",
    "  avg_similarity = 0.0\n",
    "  for t1 in p1_nlp:\n",
    "    max_similarity = 0.0\n",
    "    if t1.tag_ in ['PUNCT']:\n",
    "      continue\n",
    "    for t2 in p2_nlp:\n",
    "      if t2.tag_ in ['PUNCT']:\n",
    "        continue\n",
    "      sim = md.wv.similarity(t1.text, t2.text)\n",
    "      if sim > max_similarity:\n",
    "        max_similarity = sim\n",
    "    avg_similarity += max_similarity\n",
    "    # print(avg_similarity)\n",
    "\n",
    "  avg_similarity /= len([token for token in p1_nlp if token.tag_ != 'PUNCT'])\n",
    "  if avg_similarity > 1:\n",
    "    return 1\n",
    "\n",
    "  return avg_similarity"
   ]
  },
  {
   "cell_type": "code",
   "execution_count": 8,
   "metadata": {
    "colab": {
     "base_uri": "https://localhost:8080/"
    },
    "id": "qxcjPN_Tv8Cv",
    "outputId": "30500694-4dab-4c3b-ed9a-86ede94ea9df"
   },
   "outputs": [
    {
     "data": {
      "text/plain": [
       "0.8866112232208252"
      ]
     },
     "execution_count": 8,
     "metadata": {},
     "output_type": "execute_result"
    }
   ],
   "source": [
    "avg_sim(p1, p2)"
   ]
  },
  {
   "cell_type": "code",
   "execution_count": 9,
   "metadata": {
    "colab": {
     "base_uri": "https://localhost:8080/"
    },
    "id": "BCcfSYp1v-ko",
    "outputId": "76918922-1597-4266-fb78-73287b52cfe5"
   },
   "outputs": [
    {
     "data": {
      "text/plain": [
       "0.6802492141723633"
      ]
     },
     "execution_count": 9,
     "metadata": {},
     "output_type": "execute_result"
    }
   ],
   "source": [
    "avg_sim('smooth one', 'polished item')"
   ]
  },
  {
   "cell_type": "code",
   "execution_count": 10,
   "metadata": {
    "colab": {
     "base_uri": "https://localhost:8080/"
    },
    "id": "uVpQrvREQ488",
    "outputId": "b67e6fa8-f82c-47ac-d7a8-6a82203eb71e"
   },
   "outputs": [
    {
     "data": {
      "text/plain": [
       "1.0"
      ]
     },
     "execution_count": 10,
     "metadata": {},
     "output_type": "execute_result"
    }
   ],
   "source": [
    "avg_sim('blue bag', 'blue ranch flavored bag')"
   ]
  },
  {
   "cell_type": "code",
   "execution_count": 14,
   "metadata": {
    "colab": {
     "base_uri": "https://localhost:8080/"
    },
    "id": "tFEP6um30YJW",
    "outputId": "624012cb-a364-46bb-b9a9-42d24ca795b2"
   },
   "outputs": [
    {
     "name": "stderr",
     "output_type": "stream",
     "text": [
      "[nltk_data] Downloading package wordnet to /home/hari/nltk_data...\n",
      "[nltk_data]   Package wordnet is already up-to-date!\n",
      "[nltk_data] Downloading package omw-1.4 to /home/hari/nltk_data...\n"
     ]
    }
   ],
   "source": [
    "import nltk\n",
    "nltk.download('wordnet')\n",
    "nltk.download('omw-1.4')\n",
    "\n",
    "from nltk.corpus import wordnet as wn"
   ]
  },
  {
   "cell_type": "code",
   "execution_count": 15,
   "metadata": {
    "id": "NnpP4osoH7IZ"
   },
   "outputs": [],
   "source": [
    "def content_words_similarity(phrase, sentence):\n",
    "  phrase_nlp = nlp(phrase)\n",
    "  sent_nlp = nlp(sentence)\n",
    "\n",
    "  root_phrase = phrase.split()[-1]\n",
    "\n",
    "  content_words = []\n",
    "  for token in sent_nlp:\n",
    "    if token.tag_ in ('NN', 'NNS', 'NNP', 'NNPS'):\n",
    "      content_words.append(token.text)\n",
    "\n",
    "  # print(content_words)\n",
    "  ents = []\n",
    "  for ent in sent_nlp.ents:\n",
    "    ents.append(ent.root.text)\n",
    "\n",
    "  content_words = [word for word in content_words if word not in ents and word != root_phrase]\n",
    "\n",
    "  avg_similarity = None\n",
    "  for synset1 in wn.synsets(root_phrase):\n",
    "    avg_similarity = 0.0\n",
    "    for word in content_words:\n",
    "      word_similarity = 0.0\n",
    "      for synset2 in wn.synsets(word):\n",
    "        sim = synset1.wup_similarity(synset2)\n",
    "        if sim > word_similarity:\n",
    "          word_similarity = sim\n",
    "      avg_similarity += word_similarity\n",
    "      # print(avg_similarity)\n",
    "\n",
    "  if avg_similarity is None:\n",
    "    return None\n",
    "\n",
    "  try:\n",
    "    avg_similarity /= len(content_words)\n",
    "  except ZeroDivisionError:\n",
    "    return None\n",
    "  # print(content_words)\n",
    "\n",
    "  return avg_similarity"
   ]
  },
  {
   "cell_type": "code",
   "execution_count": 16,
   "metadata": {
    "colab": {
     "base_uri": "https://localhost:8080/"
    },
    "id": "-JCi7LH0IdLT",
    "outputId": "f74d0251-9341-4c24-c833-3085b16478ff"
   },
   "outputs": [
    {
     "data": {
      "text/plain": [
       "0.26904761904761904"
      ]
     },
     "execution_count": 16,
     "metadata": {},
     "output_type": "execute_result"
    }
   ],
   "source": [
    "content_words_similarity('one ensemble', 'Since 2004, the music department has taken one ensemble on a short UK tour in the summer term.')"
   ]
  },
  {
   "cell_type": "code",
   "execution_count": 17,
   "metadata": {
    "colab": {
     "base_uri": "https://localhost:8080/"
    },
    "id": "oeOcZ8LCPpk2",
    "outputId": "ac6a4b25-8536-4856-af44-5c33b92ad9bb"
   },
   "outputs": [
    {
     "data": {
      "text/plain": [
       "0.18672438672438674"
      ]
     },
     "execution_count": 17,
     "metadata": {},
     "output_type": "execute_result"
    }
   ],
   "source": [
    "content_words_similarity('a group', 'Since 2004, the music department has taken a group on a short UK tour in the summer term.')"
   ]
  },
  {
   "cell_type": "code",
   "execution_count": 18,
   "metadata": {
    "colab": {
     "base_uri": "https://localhost:8080/"
    },
    "id": "YYj7s1e1JJUl",
    "outputId": "9dbeef18-b190-417e-d77d-1d58c4fd8237"
   },
   "outputs": [
    {
     "data": {
      "text/plain": [
       "(7004, 6)"
      ]
     },
     "execution_count": 18,
     "metadata": {},
     "output_type": "execute_result"
    }
   ],
   "source": [
    "train.shape"
   ]
  },
  {
   "cell_type": "code",
   "execution_count": 19,
   "metadata": {
    "id": "jwnvyyGRQYhc"
   },
   "outputs": [],
   "source": [
    "train_data = []\n",
    "for _, row in train.head(7000).iterrows():\n",
    "  train_data.append([avg_sim(row.phrase1, row.phrase2),\n",
    "                     content_words_similarity(row.phrase1, row.sentence1),\n",
    "                     content_words_similarity(row.phrase2, row.sentence2),\n",
    "                     row.label])\n",
    "\n",
    "test_data = []\n",
    "for _, row in test.head(1000).iterrows():\n",
    "  test_data.append([avg_sim(row.phrase1, row.phrase2),\n",
    "                     content_words_similarity(row.phrase1, row.sentence1),\n",
    "                     content_words_similarity(row.phrase2, row.sentence2),\n",
    "                    row.label])\n",
    "\n"
   ]
  },
  {
   "cell_type": "code",
   "execution_count": 20,
   "metadata": {
    "id": "WyGVYd9cRJWy"
   },
   "outputs": [],
   "source": [
    "train_data = pd.DataFrame(train_data)\n",
    "test_data = pd.DataFrame(test_data)\n",
    "\n",
    "train_data = train_data.dropna()\n",
    "test_data = test_data.dropna()\n",
    "\n",
    "X_train = train_data.iloc[:, :-1].values\n",
    "y_train = train_data.iloc[:, -1].values\n",
    "\n",
    "X_test = test_data.iloc[:, :-1].values\n",
    "y_test = test_data.iloc[:, -1].values"
   ]
  },
  {
   "cell_type": "code",
   "execution_count": 23,
   "metadata": {
    "colab": {
     "base_uri": "https://localhost:8080/"
    },
    "id": "bO9O7yuj_nso",
    "outputId": "8278cfa5-898d-418c-8f28-9c270648accd"
   },
   "outputs": [
    {
     "data": {
      "text/plain": [
       "array([[269, 266],\n",
       "       [218, 222]])"
      ]
     },
     "execution_count": 23,
     "metadata": {},
     "output_type": "execute_result"
    }
   ],
   "source": [
    "from sklearn.linear_model import LogisticRegression\n",
    "from sklearn.metrics import confusion_matrix, precision_score, recall_score, accuracy_score\n",
    "\n",
    "model = LogisticRegression()\n",
    "\n",
    "model.fit(X_train, y_train)\n",
    "y_pred = model.predict(X_test)\n",
    "\n",
    "confusion_matrix(y_pred, y_test)"
   ]
  },
  {
   "cell_type": "code",
   "execution_count": 24,
   "metadata": {
    "colab": {
     "base_uri": "https://localhost:8080/"
    },
    "id": "CEs9awTQ_vrp",
    "outputId": "29acaa9c-d4c6-4702-b836-9aa469ea5524"
   },
   "outputs": [
    {
     "data": {
      "text/plain": [
       "array([0, 0, 1, 0, 0, 0, 0, 1, 1, 0, 0, 0, 0, 0, 0, 1, 1, 0, 0, 0, 0, 1,\n",
       "       0, 1, 1, 1, 1, 0, 1, 1, 1, 0, 1, 0, 0, 1, 1, 1, 1, 0, 0, 0, 1, 0,\n",
       "       0, 1, 1, 1, 1, 1, 1, 0, 0, 0, 1, 0, 0, 1, 1, 1, 1, 0, 1, 1, 0, 0,\n",
       "       1, 1, 0, 0, 0, 1, 0, 0, 0, 1, 0, 0, 1, 0, 0, 0, 1, 0, 0, 0, 1, 1,\n",
       "       0, 1, 1, 0, 1, 0, 0, 1, 0, 1, 1, 0, 0, 0, 1, 1, 1, 0, 0, 1, 1, 0,\n",
       "       1, 0, 0, 1, 1, 0, 1, 0, 1, 0, 0, 0, 1, 0, 1, 1, 0, 0, 0, 1, 1, 1,\n",
       "       0, 1, 1, 1, 1, 0, 1, 1, 0, 0, 1, 0, 0, 0, 1, 0, 0, 0, 1, 1, 1, 0,\n",
       "       0, 1, 1, 0, 1, 0, 1, 1, 0, 1, 0, 0, 0, 1, 0, 1, 1, 1, 0, 1, 0, 1,\n",
       "       0, 0, 0, 1, 1, 0, 0, 0, 0, 1, 1, 1, 0, 1, 1, 0, 0, 1, 1, 0, 1, 1,\n",
       "       1, 0, 0, 0, 1, 1, 1, 0, 1, 1, 1, 0, 0, 0, 1, 0, 0, 0, 1, 0, 0, 1,\n",
       "       1, 1, 1, 0, 0, 0, 0, 1, 0, 1, 0, 1, 0, 1, 1, 1, 0, 1, 1, 0, 0, 1,\n",
       "       0, 1, 0, 0, 1, 0, 1, 1, 0, 0, 0, 1, 1, 1, 1, 0, 1, 0, 1, 1, 0, 0,\n",
       "       1, 0, 0, 1, 0, 1, 1, 0, 1, 1, 1, 1, 0, 1, 0, 0, 1, 1, 1, 0, 1, 0,\n",
       "       1, 0, 0, 1, 1, 0, 0, 0, 1, 1, 1, 1, 0, 0, 0, 1, 1, 1, 1, 1, 0, 1,\n",
       "       1, 1, 1, 1, 1, 1, 1, 1, 0, 1, 0, 1, 1, 1, 1, 1, 0, 1, 1, 1, 1, 0,\n",
       "       0, 0, 1, 1, 1, 0, 0, 0, 1, 1, 1, 1, 1, 1, 0, 1, 1, 0, 0, 0, 0, 0,\n",
       "       0, 0, 0, 1, 1, 0, 1, 0, 1, 1, 1, 0, 1, 1, 1, 0, 0, 0, 0, 0, 1, 0,\n",
       "       0, 1, 1, 1, 1, 0, 1, 0, 1, 0, 0, 0, 0, 1, 1, 0, 0, 0, 0, 1, 1, 0,\n",
       "       1, 0, 0, 1, 0, 1, 0, 0, 0, 0, 0, 1, 0, 1, 0, 0, 1, 0, 1, 0, 0, 0,\n",
       "       0, 1, 1, 1, 1, 0, 0, 1, 1, 1, 1, 1, 1, 0, 0, 0, 1, 1, 0, 1, 0, 1,\n",
       "       0, 0, 0, 0, 1, 1, 1, 0, 1, 0, 1, 1, 1, 1, 1, 1, 0, 1, 1, 1, 0, 1,\n",
       "       1, 1, 1, 1, 0, 1, 1, 0, 0, 1, 1, 0, 0, 0, 1, 0, 0, 0, 0, 0, 0, 1,\n",
       "       0, 1, 0, 0, 1, 1, 1, 0, 0, 1, 0, 0, 1, 1, 0, 0, 1, 1, 0, 1, 1, 1,\n",
       "       0, 0, 0, 0, 1, 1, 1, 0, 0, 1, 0, 0, 0, 0, 1, 1, 1, 0, 1, 0, 0, 0,\n",
       "       0, 0, 0, 0, 1, 1, 1, 0, 1, 0, 0, 1, 0, 0, 1, 1, 1, 1, 1, 0, 1, 1,\n",
       "       1, 0, 1, 1, 0, 1, 1, 1, 0, 1, 0, 1, 0, 1, 1, 1, 1, 1, 1, 0, 1, 0,\n",
       "       0, 1, 1, 0, 0, 0, 1, 1, 0, 0, 0, 0, 0, 1, 0, 1, 1, 1, 0, 0, 0, 0,\n",
       "       1, 0, 1, 0, 0, 0, 1, 0, 0, 0, 1, 0, 1, 1, 0, 0, 0, 0, 1, 0, 0, 0,\n",
       "       0, 0, 1, 1, 1, 1, 1, 0, 0, 1, 1, 1, 1, 0, 0, 0, 1, 0, 0, 1, 1, 0,\n",
       "       1, 1, 0, 0, 1, 1, 1, 0, 1, 1, 0, 0, 0, 1, 0, 0, 0, 0, 0, 1, 0, 0,\n",
       "       1, 0, 0, 1, 0, 1, 0, 0, 0, 1, 1, 1, 1, 1, 1, 1, 0, 1, 1, 1, 1, 0,\n",
       "       0, 0, 1, 0, 0, 1, 0, 1, 1, 1, 0, 1, 1, 0, 1, 1, 1, 0, 1, 1, 1, 1,\n",
       "       1, 1, 1, 0, 1, 1, 1, 1, 1, 1, 1, 1, 0, 1, 0, 0, 1, 1, 0, 0, 1, 1,\n",
       "       0, 1, 0, 1, 0, 0, 1, 0, 1, 0, 0, 0, 0, 0, 0, 0, 1, 0, 1, 0, 0, 0,\n",
       "       1, 0, 0, 0, 1, 1, 0, 1, 1, 1, 1, 0, 0, 0, 0, 0, 0, 1, 1, 1, 0, 0,\n",
       "       0, 0, 0, 1, 1, 0, 0, 1, 1, 0, 0, 0, 1, 0, 0, 0, 0, 1, 0, 0, 1, 0,\n",
       "       1, 1, 1, 1, 0, 0, 1, 1, 0, 0, 0, 0, 1, 1, 0, 0, 0, 0, 1, 1, 0, 1,\n",
       "       1, 1, 0, 0, 1, 0, 1, 1, 1, 1, 1, 1, 1, 0, 1, 0, 1, 1, 0, 1, 0, 0,\n",
       "       0, 1, 1, 1, 1, 1, 1, 0, 0, 0, 0, 1, 0, 1, 1, 0, 1, 1, 0, 0, 0, 1,\n",
       "       0, 0, 0, 1, 0, 0, 0, 0, 1, 0, 0, 1, 1, 1, 1, 0, 0, 1, 1, 1, 1, 0,\n",
       "       0, 1, 0, 0, 1, 0, 0, 0, 1, 1, 0, 0, 0, 1, 0, 1, 0, 0, 0, 0, 0, 0,\n",
       "       0, 0, 0, 1, 1, 1, 0, 0, 1, 1, 1, 0, 1, 1, 0, 0, 0, 0, 1, 1, 0, 1,\n",
       "       0, 1, 1, 0, 1, 0, 0, 1, 1, 0, 0, 1, 1, 1, 1, 0, 0, 0, 1, 1, 1, 0,\n",
       "       1, 0, 0, 1, 0, 1, 0, 0, 1, 1, 0, 1, 1, 0, 0, 0, 0, 0, 1, 0, 0, 1,\n",
       "       1, 1, 0, 0, 1, 1, 0])"
      ]
     },
     "execution_count": 24,
     "metadata": {},
     "output_type": "execute_result"
    }
   ],
   "source": [
    "y_test"
   ]
  },
  {
   "cell_type": "code",
   "execution_count": 25,
   "metadata": {
    "colab": {
     "base_uri": "https://localhost:8080/"
    },
    "id": "0-X96IzOAZ1P",
    "outputId": "33bf459d-80e7-4686-f13f-52c5837e2884"
   },
   "outputs": [
    {
     "data": {
      "text/plain": [
       "array([1, 0, 0, 1, 1, 1, 1, 0, 0, 0, 1, 1, 0, 0, 1, 0, 1, 0, 1, 1, 0, 0,\n",
       "       1, 1, 0, 0, 1, 0, 0, 1, 0, 0, 0, 0, 1, 1, 0, 0, 1, 0, 0, 0, 0, 0,\n",
       "       0, 0, 1, 1, 0, 1, 0, 0, 0, 1, 0, 1, 1, 1, 0, 1, 1, 0, 0, 1, 0, 1,\n",
       "       0, 0, 0, 1, 0, 0, 0, 0, 1, 1, 0, 1, 0, 1, 1, 0, 1, 0, 0, 1, 1, 0,\n",
       "       1, 1, 1, 0, 1, 0, 1, 0, 1, 1, 0, 1, 0, 0, 1, 0, 0, 1, 0, 1, 0, 1,\n",
       "       1, 0, 1, 0, 0, 0, 0, 0, 0, 0, 0, 0, 0, 0, 0, 0, 0, 0, 0, 0, 0, 0,\n",
       "       1, 0, 1, 0, 0, 1, 0, 1, 1, 0, 1, 0, 1, 0, 0, 1, 1, 0, 0, 0, 1, 0,\n",
       "       0, 1, 0, 0, 0, 1, 1, 0, 0, 1, 1, 0, 0, 1, 1, 0, 0, 0, 0, 1, 1, 1,\n",
       "       1, 0, 0, 0, 1, 0, 1, 1, 0, 1, 1, 1, 0, 0, 0, 1, 0, 0, 1, 1, 0, 1,\n",
       "       0, 1, 0, 1, 0, 1, 0, 0, 0, 0, 0, 0, 0, 0, 0, 1, 1, 0, 0, 1, 0, 0,\n",
       "       1, 0, 1, 0, 1, 0, 1, 1, 0, 0, 1, 0, 1, 1, 0, 1, 1, 1, 1, 1, 0, 0,\n",
       "       0, 0, 1, 0, 0, 0, 0, 0, 0, 0, 1, 1, 0, 0, 0, 1, 1, 1, 0, 1, 0, 1,\n",
       "       0, 1, 0, 1, 1, 0, 0, 1, 0, 1, 1, 0, 0, 1, 0, 1, 0, 1, 1, 0, 1, 0,\n",
       "       1, 0, 1, 0, 0, 0, 1, 0, 0, 0, 1, 1, 1, 0, 0, 1, 1, 1, 0, 0, 1, 0,\n",
       "       0, 1, 0, 1, 0, 0, 1, 1, 0, 0, 1, 1, 1, 1, 1, 0, 1, 1, 1, 0, 0, 1,\n",
       "       1, 1, 1, 0, 0, 1, 0, 1, 0, 1, 0, 1, 1, 0, 0, 0, 1, 1, 0, 1, 1, 1,\n",
       "       0, 1, 0, 0, 0, 0, 0, 0, 1, 0, 0, 1, 1, 0, 0, 1, 1, 0, 1, 1, 1, 1,\n",
       "       1, 1, 0, 1, 1, 1, 1, 0, 1, 0, 0, 1, 0, 0, 0, 1, 0, 0, 0, 1, 0, 0,\n",
       "       0, 0, 0, 0, 0, 1, 1, 1, 0, 0, 1, 0, 0, 1, 0, 0, 1, 0, 0, 0, 0, 0,\n",
       "       0, 1, 0, 0, 0, 1, 1, 1, 1, 0, 0, 0, 1, 1, 0, 0, 0, 1, 1, 0, 0, 0,\n",
       "       0, 0, 1, 0, 0, 0, 1, 1, 1, 1, 1, 0, 1, 0, 0, 1, 1, 0, 1, 1, 1, 0,\n",
       "       1, 1, 1, 0, 1, 0, 1, 0, 1, 0, 0, 0, 0, 0, 0, 1, 0, 0, 1, 1, 1, 1,\n",
       "       0, 1, 1, 1, 0, 1, 1, 0, 1, 0, 1, 1, 1, 1, 0, 0, 0, 0, 0, 1, 0, 0,\n",
       "       0, 1, 0, 1, 1, 0, 1, 1, 0, 1, 1, 1, 0, 0, 1, 1, 1, 0, 1, 0, 0, 0,\n",
       "       1, 0, 0, 0, 0, 0, 0, 0, 0, 0, 1, 1, 0, 1, 1, 0, 1, 1, 0, 1, 1, 1,\n",
       "       0, 0, 1, 1, 1, 0, 1, 1, 1, 0, 1, 1, 0, 1, 0, 0, 0, 0, 0, 0, 0, 1,\n",
       "       0, 0, 0, 1, 1, 0, 1, 1, 0, 0, 0, 0, 1, 1, 1, 0, 0, 0, 1, 1, 1, 0,\n",
       "       0, 1, 1, 0, 0, 0, 1, 0, 0, 1, 0, 0, 0, 1, 0, 1, 0, 1, 0, 1, 0, 1,\n",
       "       1, 0, 0, 1, 1, 1, 1, 0, 0, 0, 0, 1, 0, 1, 0, 0, 0, 0, 0, 0, 1, 1,\n",
       "       0, 1, 1, 1, 1, 1, 0, 1, 1, 1, 1, 0, 1, 0, 1, 0, 1, 1, 0, 1, 1, 0,\n",
       "       0, 1, 1, 1, 0, 1, 0, 0, 0, 0, 1, 0, 0, 0, 0, 0, 0, 0, 1, 0, 1, 1,\n",
       "       1, 1, 1, 0, 1, 1, 0, 0, 1, 0, 0, 0, 0, 1, 0, 0, 1, 1, 1, 0, 1, 1,\n",
       "       1, 1, 0, 1, 1, 0, 0, 0, 0, 1, 0, 0, 0, 0, 1, 0, 1, 0, 0, 0, 1, 0,\n",
       "       0, 0, 0, 1, 1, 0, 1, 0, 1, 1, 0, 0, 0, 1, 0, 1, 0, 0, 1, 1, 0, 1,\n",
       "       0, 0, 0, 1, 0, 1, 0, 1, 0, 1, 0, 0, 0, 0, 1, 0, 0, 0, 0, 0, 0, 1,\n",
       "       1, 0, 0, 1, 0, 0, 0, 0, 0, 0, 0, 0, 1, 0, 1, 1, 1, 0, 1, 0, 1, 1,\n",
       "       0, 1, 0, 0, 1, 1, 0, 0, 0, 1, 0, 1, 0, 1, 0, 1, 1, 0, 1, 1, 0, 0,\n",
       "       0, 0, 0, 0, 0, 0, 0, 1, 0, 0, 0, 0, 1, 1, 0, 0, 1, 1, 1, 0, 1, 0,\n",
       "       1, 1, 1, 1, 1, 0, 0, 0, 1, 0, 0, 0, 1, 0, 1, 1, 1, 1, 0, 0, 0, 1,\n",
       "       0, 0, 0, 0, 0, 1, 1, 1, 1, 1, 1, 1, 0, 0, 0, 0, 0, 1, 1, 0, 0, 0,\n",
       "       1, 0, 0, 1, 1, 0, 1, 0, 1, 0, 0, 0, 1, 0, 1, 1, 0, 0, 1, 1, 0, 0,\n",
       "       0, 1, 0, 0, 0, 1, 0, 0, 0, 1, 1, 1, 0, 1, 1, 0, 0, 0, 1, 1, 1, 1,\n",
       "       0, 1, 0, 1, 0, 1, 1, 1, 0, 0, 0, 1, 1, 0, 1, 0, 0, 0, 1, 1, 0, 1,\n",
       "       0, 0, 1, 0, 0, 1, 1, 1, 0, 1, 1, 1, 0, 1, 0, 0, 1, 1, 1, 0, 1, 1,\n",
       "       0, 1, 0, 0, 1, 0, 1])"
      ]
     },
     "execution_count": 25,
     "metadata": {},
     "output_type": "execute_result"
    }
   ],
   "source": [
    "y_pred"
   ]
  },
  {
   "cell_type": "code",
   "execution_count": 26,
   "metadata": {
    "colab": {
     "base_uri": "https://localhost:8080/"
    },
    "id": "RLTFntMGAbh0",
    "outputId": "37e3d1a0-1003-43bb-9538-fa9519ffa166"
   },
   "outputs": [
    {
     "data": {
      "text/plain": [
       "(6845, 3)"
      ]
     },
     "execution_count": 26,
     "metadata": {},
     "output_type": "execute_result"
    }
   ],
   "source": [
    "X_train.shape"
   ]
  },
  {
   "cell_type": "code",
   "execution_count": 27,
   "metadata": {
    "colab": {
     "base_uri": "https://localhost:8080/"
    },
    "id": "kv8bgNTFAk1X",
    "outputId": "df26bae4-bf43-4b3d-e44e-6a4c399de5c7"
   },
   "outputs": [
    {
     "data": {
      "text/plain": [
       "(975, 3)"
      ]
     },
     "execution_count": 27,
     "metadata": {},
     "output_type": "execute_result"
    }
   ],
   "source": [
    "X_test.shape"
   ]
  },
  {
   "cell_type": "code",
   "execution_count": 28,
   "metadata": {
    "colab": {
     "base_uri": "https://localhost:8080/"
    },
    "id": "cP0Y_AjoAnVi",
    "outputId": "875e9cc0-1025-4c76-89a9-09c19808a4b3"
   },
   "outputs": [
    {
     "data": {
      "text/plain": [
       "0.45491803278688525"
      ]
     },
     "execution_count": 28,
     "metadata": {},
     "output_type": "execute_result"
    }
   ],
   "source": [
    "precision_score(y_pred, y_test)"
   ]
  },
  {
   "cell_type": "code",
   "execution_count": 29,
   "metadata": {
    "colab": {
     "base_uri": "https://localhost:8080/"
    },
    "id": "lXWuTWIXGisl",
    "outputId": "f0561f81-be81-4336-aa10-7f06a74fd960"
   },
   "outputs": [
    {
     "data": {
      "text/plain": [
       "0.5045454545454545"
      ]
     },
     "execution_count": 29,
     "metadata": {},
     "output_type": "execute_result"
    }
   ],
   "source": [
    "recall_score(y_pred, y_test)"
   ]
  },
  {
   "cell_type": "code",
   "execution_count": 30,
   "metadata": {
    "colab": {
     "base_uri": "https://localhost:8080/"
    },
    "id": "69SkWaEu9whn",
    "outputId": "a74874ac-ae4a-4414-afdd-aed366f25875"
   },
   "outputs": [
    {
     "data": {
      "text/plain": [
       "0.5035897435897436"
      ]
     },
     "execution_count": 30,
     "metadata": {},
     "output_type": "execute_result"
    }
   ],
   "source": [
    "from sklearn.metrics import accuracy_score\n",
    "\n",
    "accuracy_score(y_pred, y_test)"
   ]
  },
  {
   "cell_type": "code",
   "execution_count": 31,
   "metadata": {
    "colab": {
     "base_uri": "https://localhost:8080/"
    },
    "id": "gdqnK93vGlUg",
    "outputId": "402cb0df-eff1-4969-c975-7f0878614518"
   },
   "outputs": [
    {
     "data": {
      "text/plain": [
       "array([[401, 366],\n",
       "       [ 86, 122]])"
      ]
     },
     "execution_count": 31,
     "metadata": {},
     "output_type": "execute_result"
    }
   ],
   "source": [
    "from sklearn.svm import SVC\n",
    "\n",
    "model = SVC()\n",
    "\n",
    "model.fit(X_train, y_train)\n",
    "y_pred = model.predict(X_test)\n",
    "\n",
    "confusion_matrix(y_pred, y_test)"
   ]
  },
  {
   "cell_type": "code",
   "execution_count": 32,
   "metadata": {
    "colab": {
     "base_uri": "https://localhost:8080/"
    },
    "id": "Gg0j1Hy9Gxwt",
    "outputId": "5dd875e8-ed27-41ca-a579-267d02f9ee23"
   },
   "outputs": [
    {
     "data": {
      "text/plain": [
       "0.5364102564102564"
      ]
     },
     "execution_count": 32,
     "metadata": {},
     "output_type": "execute_result"
    }
   ],
   "source": [
    "from sklearn.metrics import accuracy_score\n",
    "\n",
    "accuracy_score(y_pred, y_test)"
   ]
  },
  {
   "cell_type": "code",
   "execution_count": 33,
   "metadata": {
    "colab": {
     "base_uri": "https://localhost:8080/",
     "height": 424
    },
    "id": "snZUdX2ZG6O1",
    "outputId": "8578827e-e48e-4b35-847b-a5004be6b3e3"
   },
   "outputs": [
    {
     "data": {
      "text/html": [
       "<div>\n",
       "<style scoped>\n",
       "    .dataframe tbody tr th:only-of-type {\n",
       "        vertical-align: middle;\n",
       "    }\n",
       "\n",
       "    .dataframe tbody tr th {\n",
       "        vertical-align: top;\n",
       "    }\n",
       "\n",
       "    .dataframe thead th {\n",
       "        text-align: right;\n",
       "    }\n",
       "</style>\n",
       "<table border=\"1\" class=\"dataframe\">\n",
       "  <thead>\n",
       "    <tr style=\"text-align: right;\">\n",
       "      <th></th>\n",
       "      <th>0</th>\n",
       "      <th>1</th>\n",
       "    </tr>\n",
       "  </thead>\n",
       "  <tbody>\n",
       "    <tr>\n",
       "      <th>0</th>\n",
       "      <td>0</td>\n",
       "      <td>0</td>\n",
       "    </tr>\n",
       "    <tr>\n",
       "      <th>1</th>\n",
       "      <td>0</td>\n",
       "      <td>0</td>\n",
       "    </tr>\n",
       "    <tr>\n",
       "      <th>2</th>\n",
       "      <td>1</td>\n",
       "      <td>0</td>\n",
       "    </tr>\n",
       "    <tr>\n",
       "      <th>3</th>\n",
       "      <td>0</td>\n",
       "      <td>0</td>\n",
       "    </tr>\n",
       "    <tr>\n",
       "      <th>4</th>\n",
       "      <td>0</td>\n",
       "      <td>0</td>\n",
       "    </tr>\n",
       "    <tr>\n",
       "      <th>...</th>\n",
       "      <td>...</td>\n",
       "      <td>...</td>\n",
       "    </tr>\n",
       "    <tr>\n",
       "      <th>970</th>\n",
       "      <td>0</td>\n",
       "      <td>0</td>\n",
       "    </tr>\n",
       "    <tr>\n",
       "      <th>971</th>\n",
       "      <td>0</td>\n",
       "      <td>0</td>\n",
       "    </tr>\n",
       "    <tr>\n",
       "      <th>972</th>\n",
       "      <td>1</td>\n",
       "      <td>0</td>\n",
       "    </tr>\n",
       "    <tr>\n",
       "      <th>973</th>\n",
       "      <td>1</td>\n",
       "      <td>0</td>\n",
       "    </tr>\n",
       "    <tr>\n",
       "      <th>974</th>\n",
       "      <td>0</td>\n",
       "      <td>0</td>\n",
       "    </tr>\n",
       "  </tbody>\n",
       "</table>\n",
       "<p>975 rows × 2 columns</p>\n",
       "</div>"
      ],
      "text/plain": [
       "     0  1\n",
       "0    0  0\n",
       "1    0  0\n",
       "2    1  0\n",
       "3    0  0\n",
       "4    0  0\n",
       "..  .. ..\n",
       "970  0  0\n",
       "971  0  0\n",
       "972  1  0\n",
       "973  1  0\n",
       "974  0  0\n",
       "\n",
       "[975 rows x 2 columns]"
      ]
     },
     "execution_count": 33,
     "metadata": {},
     "output_type": "execute_result"
    }
   ],
   "source": [
    "pd.DataFrame(zip(y_test, y_pred))"
   ]
  },
  {
   "cell_type": "code",
   "execution_count": 34,
   "metadata": {
    "colab": {
     "base_uri": "https://localhost:8080/"
    },
    "id": "FuNWk1fCHLWn",
    "outputId": "31b86b1a-36ec-4ecb-ca75-b8d26fb316cc"
   },
   "outputs": [
    {
     "data": {
      "text/plain": [
       "487"
      ]
     },
     "execution_count": 34,
     "metadata": {},
     "output_type": "execute_result"
    }
   ],
   "source": [
    "list(y_test).count(0)"
   ]
  },
  {
   "cell_type": "code",
   "execution_count": 35,
   "metadata": {
    "colab": {
     "base_uri": "https://localhost:8080/",
     "height": 211
    },
    "id": "0CccINXVH2Kf",
    "outputId": "b12ce864-ccd6-4d6e-9efe-8329a08b2022"
   },
   "outputs": [],
   "source": [
    "val_data = []\n",
    "for _, row in val.head(2000).iterrows():\n",
    "  val_data.append([avg_sim(row.phrase1, row.phrase2),\n",
    "                     content_words_similarity(row.phrase1, row.sentence1),\n",
    "                     content_words_similarity(row.phrase2, row.sentence2),\n",
    "                    row.label])\n",
    "\n",
    "val_data = pd.DataFrame(val_data)\n",
    "\n",
    "val_data = val_data.dropna()\n",
    "\n",
    "X_val = val_data.iloc[:, :-1].values\n",
    "y_val = val_data.iloc[:, -1].values"
   ]
  },
  {
   "cell_type": "code",
   "execution_count": 36,
   "metadata": {
    "colab": {
     "base_uri": "https://localhost:8080/"
    },
    "id": "vG2Jb9sWIT7f",
    "outputId": "83c1f1d9-350f-4c29-ac08-8ac5a5fbeeb3"
   },
   "outputs": [
    {
     "data": {
      "text/plain": [
       "array([[0.81324235, 0.17249417, 0.32492997],\n",
       "       [0.96105299, 0.29444444, 0.30707283],\n",
       "       [0.88428345, 0.18492618, 0.51470588],\n",
       "       ...,\n",
       "       [0.94342157, 0.40357143, 0.61912519],\n",
       "       [0.94793642, 0.16233766, 0.35      ],\n",
       "       [0.74468341, 0.18636364, 0.17189523]])"
      ]
     },
     "execution_count": 36,
     "metadata": {},
     "output_type": "execute_result"
    }
   ],
   "source": [
    "X_val"
   ]
  },
  {
   "cell_type": "code",
   "execution_count": 37,
   "metadata": {
    "colab": {
     "base_uri": "https://localhost:8080/",
     "height": 300
    },
    "id": "cVy4rIDfJZhr",
    "outputId": "b67f1619-7005-4c32-b157-ea93a6c9cc2e"
   },
   "outputs": [
    {
     "data": {
      "text/html": [
       "<div>\n",
       "<style scoped>\n",
       "    .dataframe tbody tr th:only-of-type {\n",
       "        vertical-align: middle;\n",
       "    }\n",
       "\n",
       "    .dataframe tbody tr th {\n",
       "        vertical-align: top;\n",
       "    }\n",
       "\n",
       "    .dataframe thead th {\n",
       "        text-align: right;\n",
       "    }\n",
       "</style>\n",
       "<table border=\"1\" class=\"dataframe\">\n",
       "  <thead>\n",
       "    <tr style=\"text-align: right;\">\n",
       "      <th></th>\n",
       "      <th>0</th>\n",
       "      <th>1</th>\n",
       "      <th>2</th>\n",
       "      <th>3</th>\n",
       "    </tr>\n",
       "  </thead>\n",
       "  <tbody>\n",
       "    <tr>\n",
       "      <th>count</th>\n",
       "      <td>972.000000</td>\n",
       "      <td>972.000000</td>\n",
       "      <td>972.000000</td>\n",
       "      <td>972.000000</td>\n",
       "    </tr>\n",
       "    <tr>\n",
       "      <th>mean</th>\n",
       "      <td>0.857349</td>\n",
       "      <td>0.263864</td>\n",
       "      <td>0.285261</td>\n",
       "      <td>0.502058</td>\n",
       "    </tr>\n",
       "    <tr>\n",
       "      <th>std</th>\n",
       "      <td>0.078738</td>\n",
       "      <td>0.110261</td>\n",
       "      <td>0.115464</td>\n",
       "      <td>0.500253</td>\n",
       "    </tr>\n",
       "    <tr>\n",
       "      <th>min</th>\n",
       "      <td>0.366946</td>\n",
       "      <td>0.000000</td>\n",
       "      <td>0.000000</td>\n",
       "      <td>0.000000</td>\n",
       "    </tr>\n",
       "    <tr>\n",
       "      <th>25%</th>\n",
       "      <td>0.816156</td>\n",
       "      <td>0.192216</td>\n",
       "      <td>0.200162</td>\n",
       "      <td>0.000000</td>\n",
       "    </tr>\n",
       "    <tr>\n",
       "      <th>50%</th>\n",
       "      <td>0.870231</td>\n",
       "      <td>0.240823</td>\n",
       "      <td>0.267253</td>\n",
       "      <td>1.000000</td>\n",
       "    </tr>\n",
       "    <tr>\n",
       "      <th>75%</th>\n",
       "      <td>0.917461</td>\n",
       "      <td>0.311957</td>\n",
       "      <td>0.346151</td>\n",
       "      <td>1.000000</td>\n",
       "    </tr>\n",
       "    <tr>\n",
       "      <th>max</th>\n",
       "      <td>0.993685</td>\n",
       "      <td>1.000000</td>\n",
       "      <td>0.933333</td>\n",
       "      <td>1.000000</td>\n",
       "    </tr>\n",
       "  </tbody>\n",
       "</table>\n",
       "</div>"
      ],
      "text/plain": [
       "                0           1           2           3\n",
       "count  972.000000  972.000000  972.000000  972.000000\n",
       "mean     0.857349    0.263864    0.285261    0.502058\n",
       "std      0.078738    0.110261    0.115464    0.500253\n",
       "min      0.366946    0.000000    0.000000    0.000000\n",
       "25%      0.816156    0.192216    0.200162    0.000000\n",
       "50%      0.870231    0.240823    0.267253    1.000000\n",
       "75%      0.917461    0.311957    0.346151    1.000000\n",
       "max      0.993685    1.000000    0.933333    1.000000"
      ]
     },
     "execution_count": 37,
     "metadata": {},
     "output_type": "execute_result"
    }
   ],
   "source": [
    "val_data.describe()"
   ]
  },
  {
   "cell_type": "code",
   "execution_count": 38,
   "metadata": {
    "id": "EfwpknNeJi3f"
   },
   "outputs": [],
   "source": [
    "from sklearn.ensemble import RandomForestClassifier\n",
    "\n",
    "rfc = RandomForestClassifier(n_estimators=100)\n",
    "rfc.fit(X_train, y_train)\n",
    "\n",
    "y_pred = rfc.predict(X_test)"
   ]
  },
  {
   "cell_type": "code",
   "execution_count": 39,
   "metadata": {
    "colab": {
     "base_uri": "https://localhost:8080/"
    },
    "id": "waBrRyboYspW",
    "outputId": "8c3c8970-cd99-46e1-c178-b0d9a974f806"
   },
   "outputs": [
    {
     "data": {
      "text/plain": [
       "array([[223, 284],\n",
       "       [264, 204]])"
      ]
     },
     "execution_count": 39,
     "metadata": {},
     "output_type": "execute_result"
    }
   ],
   "source": [
    "confusion_matrix(y_pred, y_test)"
   ]
  },
  {
   "cell_type": "code",
   "execution_count": 40,
   "metadata": {
    "colab": {
     "base_uri": "https://localhost:8080/"
    },
    "id": "ssiQzJsgLj6J",
    "outputId": "3a721512-3f4a-47ce-9442-267bda36d044"
   },
   "outputs": [
    {
     "data": {
      "text/plain": [
       "0.4379487179487179"
      ]
     },
     "execution_count": 40,
     "metadata": {},
     "output_type": "execute_result"
    }
   ],
   "source": [
    "accuracy_score(y_pred, y_test)"
   ]
  },
  {
   "cell_type": "code",
   "execution_count": 41,
   "metadata": {
    "colab": {
     "base_uri": "https://localhost:8080/"
    },
    "id": "JYi1LRx2YvUl",
    "outputId": "74a74d15-1642-4a1c-eca6-7087aeebdfa9"
   },
   "outputs": [
    {
     "name": "stderr",
     "output_type": "stream",
     "text": [
      "2024-02-15 07:44:31.531970: I tensorflow/core/util/port.cc:113] oneDNN custom operations are on. You may see slightly different numerical results due to floating-point round-off errors from different computation orders. To turn them off, set the environment variable `TF_ENABLE_ONEDNN_OPTS=0`.\n",
      "2024-02-15 07:44:31.587903: I external/local_tsl/tsl/cuda/cudart_stub.cc:31] Could not find cuda drivers on your machine, GPU will not be used.\n",
      "2024-02-15 07:44:31.865034: E external/local_xla/xla/stream_executor/cuda/cuda_dnn.cc:9261] Unable to register cuDNN factory: Attempting to register factory for plugin cuDNN when one has already been registered\n",
      "2024-02-15 07:44:31.865175: E external/local_xla/xla/stream_executor/cuda/cuda_fft.cc:607] Unable to register cuFFT factory: Attempting to register factory for plugin cuFFT when one has already been registered\n",
      "2024-02-15 07:44:31.919652: E external/local_xla/xla/stream_executor/cuda/cuda_blas.cc:1515] Unable to register cuBLAS factory: Attempting to register factory for plugin cuBLAS when one has already been registered\n",
      "2024-02-15 07:44:32.030569: I tensorflow/core/platform/cpu_feature_guard.cc:182] This TensorFlow binary is optimized to use available CPU instructions in performance-critical operations.\n",
      "To enable the following instructions: AVX2 AVX_VNNI FMA, in other operations, rebuild TensorFlow with the appropriate compiler flags.\n",
      "2024-02-15 07:44:32.827874: W tensorflow/compiler/tf2tensorrt/utils/py_utils.cc:38] TF-TRT Warning: Could not find TensorRT\n"
     ]
    },
    {
     "name": "stdout",
     "output_type": "stream",
     "text": [
      "Epoch 1/100\n",
      "107/107 [==============================] - 1s 2ms/step - loss: 0.6931 - accuracy: 0.4999 - val_loss: 0.6944 - val_accuracy: 0.5010\n",
      "Epoch 2/100\n",
      "107/107 [==============================] - 0s 1ms/step - loss: 0.6930 - accuracy: 0.5096 - val_loss: 0.6938 - val_accuracy: 0.5031\n",
      "Epoch 3/100\n",
      "107/107 [==============================] - 0s 1ms/step - loss: 0.6929 - accuracy: 0.5112 - val_loss: 0.6942 - val_accuracy: 0.5021\n",
      "Epoch 4/100\n",
      "107/107 [==============================] - 0s 1ms/step - loss: 0.6934 - accuracy: 0.5043 - val_loss: 0.6937 - val_accuracy: 0.5041\n",
      "Epoch 5/100\n",
      "107/107 [==============================] - 0s 1ms/step - loss: 0.6929 - accuracy: 0.5156 - val_loss: 0.6934 - val_accuracy: 0.5000\n",
      "Epoch 6/100\n",
      "107/107 [==============================] - 0s 1ms/step - loss: 0.6928 - accuracy: 0.5110 - val_loss: 0.6935 - val_accuracy: 0.5010\n",
      "Epoch 7/100\n",
      "107/107 [==============================] - 0s 1ms/step - loss: 0.6932 - accuracy: 0.5064 - val_loss: 0.6935 - val_accuracy: 0.5113\n",
      "Epoch 8/100\n",
      "107/107 [==============================] - 0s 1ms/step - loss: 0.6928 - accuracy: 0.5071 - val_loss: 0.6936 - val_accuracy: 0.5000\n",
      "Epoch 9/100\n",
      "107/107 [==============================] - 0s 1ms/step - loss: 0.6930 - accuracy: 0.5091 - val_loss: 0.6936 - val_accuracy: 0.4979\n",
      "Epoch 10/100\n",
      "107/107 [==============================] - 0s 1ms/step - loss: 0.6926 - accuracy: 0.5055 - val_loss: 0.6937 - val_accuracy: 0.5031\n",
      "Epoch 11/100\n",
      "107/107 [==============================] - 0s 1ms/step - loss: 0.6926 - accuracy: 0.5151 - val_loss: 0.6937 - val_accuracy: 0.4949\n",
      "Epoch 12/100\n",
      "107/107 [==============================] - 0s 1ms/step - loss: 0.6927 - accuracy: 0.5094 - val_loss: 0.6938 - val_accuracy: 0.5010\n",
      "Epoch 13/100\n",
      "107/107 [==============================] - 0s 1ms/step - loss: 0.6928 - accuracy: 0.5125 - val_loss: 0.6937 - val_accuracy: 0.5123\n",
      "Epoch 14/100\n",
      "107/107 [==============================] - 0s 1ms/step - loss: 0.6930 - accuracy: 0.5112 - val_loss: 0.6936 - val_accuracy: 0.5165\n",
      "Epoch 15/100\n",
      "107/107 [==============================] - 0s 1ms/step - loss: 0.6927 - accuracy: 0.5122 - val_loss: 0.6938 - val_accuracy: 0.5000\n",
      "Epoch 16/100\n",
      "107/107 [==============================] - 0s 1ms/step - loss: 0.6926 - accuracy: 0.5157 - val_loss: 0.6944 - val_accuracy: 0.4887\n",
      "Epoch 17/100\n",
      "107/107 [==============================] - 0s 1ms/step - loss: 0.6928 - accuracy: 0.5113 - val_loss: 0.6938 - val_accuracy: 0.5062\n",
      "Epoch 18/100\n",
      "107/107 [==============================] - 0s 1ms/step - loss: 0.6927 - accuracy: 0.5068 - val_loss: 0.6938 - val_accuracy: 0.4959\n",
      "Epoch 19/100\n",
      "107/107 [==============================] - 0s 1ms/step - loss: 0.6924 - accuracy: 0.5140 - val_loss: 0.6943 - val_accuracy: 0.4887\n",
      "Epoch 20/100\n",
      "107/107 [==============================] - 0s 1ms/step - loss: 0.6928 - accuracy: 0.5153 - val_loss: 0.6938 - val_accuracy: 0.5123\n",
      "Epoch 21/100\n",
      "107/107 [==============================] - 0s 1ms/step - loss: 0.6925 - accuracy: 0.5099 - val_loss: 0.6937 - val_accuracy: 0.4959\n",
      "Epoch 22/100\n",
      "107/107 [==============================] - 0s 1ms/step - loss: 0.6925 - accuracy: 0.5140 - val_loss: 0.6940 - val_accuracy: 0.4979\n",
      "Epoch 23/100\n",
      "107/107 [==============================] - 0s 1ms/step - loss: 0.6924 - accuracy: 0.5109 - val_loss: 0.6940 - val_accuracy: 0.5072\n",
      "Epoch 24/100\n",
      "107/107 [==============================] - 0s 1ms/step - loss: 0.6926 - accuracy: 0.5138 - val_loss: 0.6937 - val_accuracy: 0.5021\n",
      "Epoch 25/100\n",
      "107/107 [==============================] - 0s 1ms/step - loss: 0.6926 - accuracy: 0.5167 - val_loss: 0.6940 - val_accuracy: 0.5021\n",
      "Epoch 26/100\n",
      "107/107 [==============================] - 0s 1ms/step - loss: 0.6926 - accuracy: 0.5128 - val_loss: 0.6936 - val_accuracy: 0.5134\n",
      "Epoch 27/100\n",
      "107/107 [==============================] - 0s 1ms/step - loss: 0.6926 - accuracy: 0.5113 - val_loss: 0.6938 - val_accuracy: 0.5154\n",
      "Epoch 28/100\n",
      "107/107 [==============================] - 0s 1ms/step - loss: 0.6925 - accuracy: 0.5141 - val_loss: 0.6939 - val_accuracy: 0.5175\n",
      "Epoch 29/100\n",
      "107/107 [==============================] - 0s 1ms/step - loss: 0.6925 - accuracy: 0.5135 - val_loss: 0.6938 - val_accuracy: 0.5072\n",
      "Epoch 30/100\n",
      "107/107 [==============================] - 0s 1ms/step - loss: 0.6926 - accuracy: 0.5138 - val_loss: 0.6935 - val_accuracy: 0.5144\n",
      "Epoch 31/100\n",
      "107/107 [==============================] - 0s 1ms/step - loss: 0.6925 - accuracy: 0.5122 - val_loss: 0.6939 - val_accuracy: 0.5154\n",
      "Epoch 32/100\n",
      "107/107 [==============================] - 0s 1ms/step - loss: 0.6924 - accuracy: 0.5173 - val_loss: 0.6939 - val_accuracy: 0.4990\n",
      "Epoch 33/100\n",
      "107/107 [==============================] - 0s 1ms/step - loss: 0.6925 - accuracy: 0.5102 - val_loss: 0.6937 - val_accuracy: 0.5113\n",
      "Epoch 34/100\n",
      "107/107 [==============================] - 0s 960us/step - loss: 0.6924 - accuracy: 0.5107 - val_loss: 0.6934 - val_accuracy: 0.5072\n",
      "Epoch 35/100\n",
      "107/107 [==============================] - 0s 1ms/step - loss: 0.6924 - accuracy: 0.5131 - val_loss: 0.6940 - val_accuracy: 0.5082\n",
      "Epoch 36/100\n",
      "107/107 [==============================] - 0s 1ms/step - loss: 0.6923 - accuracy: 0.5119 - val_loss: 0.6937 - val_accuracy: 0.5000\n",
      "Epoch 37/100\n",
      "107/107 [==============================] - 0s 1ms/step - loss: 0.6925 - accuracy: 0.5134 - val_loss: 0.6937 - val_accuracy: 0.5082\n",
      "Epoch 38/100\n",
      "107/107 [==============================] - 0s 1ms/step - loss: 0.6924 - accuracy: 0.5166 - val_loss: 0.6939 - val_accuracy: 0.5113\n",
      "Epoch 39/100\n",
      "107/107 [==============================] - 0s 1ms/step - loss: 0.6926 - accuracy: 0.5104 - val_loss: 0.6934 - val_accuracy: 0.4907\n",
      "Epoch 40/100\n",
      "107/107 [==============================] - 0s 1ms/step - loss: 0.6924 - accuracy: 0.5144 - val_loss: 0.6940 - val_accuracy: 0.5175\n",
      "Epoch 41/100\n",
      "107/107 [==============================] - 0s 1ms/step - loss: 0.6924 - accuracy: 0.5154 - val_loss: 0.6932 - val_accuracy: 0.5093\n",
      "Epoch 42/100\n",
      "107/107 [==============================] - 0s 1ms/step - loss: 0.6923 - accuracy: 0.5159 - val_loss: 0.6941 - val_accuracy: 0.4949\n",
      "Epoch 43/100\n",
      "107/107 [==============================] - 0s 1ms/step - loss: 0.6923 - accuracy: 0.5156 - val_loss: 0.6938 - val_accuracy: 0.5082\n",
      "Epoch 44/100\n",
      "107/107 [==============================] - 0s 1ms/step - loss: 0.6925 - accuracy: 0.5087 - val_loss: 0.6942 - val_accuracy: 0.4928\n",
      "Epoch 45/100\n",
      "107/107 [==============================] - 0s 1ms/step - loss: 0.6923 - accuracy: 0.5164 - val_loss: 0.6941 - val_accuracy: 0.4897\n",
      "Epoch 46/100\n",
      "107/107 [==============================] - 0s 942us/step - loss: 0.6923 - accuracy: 0.5148 - val_loss: 0.6938 - val_accuracy: 0.4949\n",
      "Epoch 47/100\n",
      "107/107 [==============================] - 0s 961us/step - loss: 0.6922 - accuracy: 0.5151 - val_loss: 0.6938 - val_accuracy: 0.5031\n",
      "Epoch 48/100\n",
      "107/107 [==============================] - 0s 992us/step - loss: 0.6924 - accuracy: 0.5161 - val_loss: 0.6939 - val_accuracy: 0.4907\n",
      "Epoch 49/100\n",
      "107/107 [==============================] - 0s 1ms/step - loss: 0.6923 - accuracy: 0.5100 - val_loss: 0.6941 - val_accuracy: 0.4907\n",
      "Epoch 50/100\n",
      "107/107 [==============================] - 0s 1ms/step - loss: 0.6922 - accuracy: 0.5182 - val_loss: 0.6946 - val_accuracy: 0.4928\n",
      "Epoch 51/100\n",
      "107/107 [==============================] - 0s 1ms/step - loss: 0.6922 - accuracy: 0.5234 - val_loss: 0.6939 - val_accuracy: 0.5041\n",
      "Epoch 52/100\n",
      "107/107 [==============================] - 0s 1ms/step - loss: 0.6922 - accuracy: 0.5113 - val_loss: 0.6940 - val_accuracy: 0.5051\n",
      "Epoch 53/100\n",
      "107/107 [==============================] - 0s 1ms/step - loss: 0.6922 - accuracy: 0.5131 - val_loss: 0.6935 - val_accuracy: 0.5154\n",
      "Epoch 54/100\n",
      "107/107 [==============================] - 0s 1ms/step - loss: 0.6926 - accuracy: 0.5115 - val_loss: 0.6938 - val_accuracy: 0.4918\n",
      "Epoch 55/100\n",
      "107/107 [==============================] - 0s 1ms/step - loss: 0.6924 - accuracy: 0.5125 - val_loss: 0.6933 - val_accuracy: 0.5093\n",
      "Epoch 56/100\n",
      "107/107 [==============================] - 0s 1ms/step - loss: 0.6922 - accuracy: 0.5189 - val_loss: 0.6940 - val_accuracy: 0.5144\n",
      "Epoch 57/100\n",
      "107/107 [==============================] - 0s 1ms/step - loss: 0.6922 - accuracy: 0.5128 - val_loss: 0.6933 - val_accuracy: 0.5103\n"
     ]
    },
    {
     "name": "stdout",
     "output_type": "stream",
     "text": [
      "Epoch 58/100\n",
      "107/107 [==============================] - 0s 1ms/step - loss: 0.6921 - accuracy: 0.5166 - val_loss: 0.6932 - val_accuracy: 0.4938\n",
      "Epoch 59/100\n",
      "107/107 [==============================] - 0s 1ms/step - loss: 0.6923 - accuracy: 0.5141 - val_loss: 0.6937 - val_accuracy: 0.5165\n",
      "Epoch 60/100\n",
      "107/107 [==============================] - 0s 1ms/step - loss: 0.6923 - accuracy: 0.5123 - val_loss: 0.6939 - val_accuracy: 0.5051\n",
      "Epoch 61/100\n",
      "107/107 [==============================] - 0s 1ms/step - loss: 0.6924 - accuracy: 0.5085 - val_loss: 0.6934 - val_accuracy: 0.5082\n",
      "Epoch 62/100\n",
      "107/107 [==============================] - 0s 1ms/step - loss: 0.6921 - accuracy: 0.5112 - val_loss: 0.6952 - val_accuracy: 0.5010\n",
      "Epoch 63/100\n",
      "107/107 [==============================] - 0s 1ms/step - loss: 0.6922 - accuracy: 0.5167 - val_loss: 0.6936 - val_accuracy: 0.5031\n",
      "Epoch 64/100\n",
      "107/107 [==============================] - 0s 1ms/step - loss: 0.6923 - accuracy: 0.5150 - val_loss: 0.6939 - val_accuracy: 0.5010\n",
      "Epoch 65/100\n",
      "107/107 [==============================] - 0s 1ms/step - loss: 0.6924 - accuracy: 0.5103 - val_loss: 0.6939 - val_accuracy: 0.5000\n",
      "Epoch 66/100\n",
      "107/107 [==============================] - 0s 1ms/step - loss: 0.6921 - accuracy: 0.5157 - val_loss: 0.6940 - val_accuracy: 0.4938\n",
      "Epoch 67/100\n",
      "107/107 [==============================] - 0s 1ms/step - loss: 0.6922 - accuracy: 0.5137 - val_loss: 0.6938 - val_accuracy: 0.5031\n",
      "Epoch 68/100\n",
      "107/107 [==============================] - 0s 1ms/step - loss: 0.6922 - accuracy: 0.5091 - val_loss: 0.6940 - val_accuracy: 0.5113\n",
      "Epoch 69/100\n",
      "107/107 [==============================] - 0s 1ms/step - loss: 0.6921 - accuracy: 0.5115 - val_loss: 0.6939 - val_accuracy: 0.5165\n",
      "Epoch 70/100\n",
      "107/107 [==============================] - 0s 1ms/step - loss: 0.6923 - accuracy: 0.5102 - val_loss: 0.6938 - val_accuracy: 0.5051\n",
      "Epoch 71/100\n",
      "107/107 [==============================] - 0s 1ms/step - loss: 0.6923 - accuracy: 0.5059 - val_loss: 0.6936 - val_accuracy: 0.5113\n",
      "Epoch 72/100\n",
      "107/107 [==============================] - 0s 1ms/step - loss: 0.6920 - accuracy: 0.5198 - val_loss: 0.6934 - val_accuracy: 0.5000\n",
      "Epoch 73/100\n",
      "107/107 [==============================] - 0s 1ms/step - loss: 0.6922 - accuracy: 0.5137 - val_loss: 0.6935 - val_accuracy: 0.5195\n",
      "Epoch 74/100\n",
      "107/107 [==============================] - 0s 997us/step - loss: 0.6921 - accuracy: 0.5153 - val_loss: 0.6938 - val_accuracy: 0.5093\n",
      "Epoch 75/100\n",
      "107/107 [==============================] - 0s 1ms/step - loss: 0.6924 - accuracy: 0.5115 - val_loss: 0.6938 - val_accuracy: 0.5103\n",
      "Epoch 76/100\n",
      "107/107 [==============================] - 0s 1ms/step - loss: 0.6920 - accuracy: 0.5163 - val_loss: 0.6942 - val_accuracy: 0.4969\n",
      "Epoch 77/100\n",
      "107/107 [==============================] - 0s 1ms/step - loss: 0.6922 - accuracy: 0.5142 - val_loss: 0.6934 - val_accuracy: 0.4990\n",
      "Epoch 78/100\n",
      "107/107 [==============================] - 0s 1ms/step - loss: 0.6921 - accuracy: 0.5131 - val_loss: 0.6939 - val_accuracy: 0.4990\n",
      "Epoch 79/100\n",
      "107/107 [==============================] - 0s 1ms/step - loss: 0.6920 - accuracy: 0.5134 - val_loss: 0.6936 - val_accuracy: 0.5072\n",
      "Epoch 80/100\n",
      "107/107 [==============================] - 0s 979us/step - loss: 0.6920 - accuracy: 0.5140 - val_loss: 0.6939 - val_accuracy: 0.4959\n",
      "Epoch 81/100\n",
      "107/107 [==============================] - 0s 1ms/step - loss: 0.6919 - accuracy: 0.5123 - val_loss: 0.6938 - val_accuracy: 0.4979\n",
      "Epoch 82/100\n",
      "107/107 [==============================] - 0s 994us/step - loss: 0.6919 - accuracy: 0.5138 - val_loss: 0.6939 - val_accuracy: 0.5072\n",
      "Epoch 83/100\n",
      "107/107 [==============================] - 0s 1ms/step - loss: 0.6921 - accuracy: 0.5195 - val_loss: 0.6939 - val_accuracy: 0.5010\n",
      "Epoch 84/100\n",
      "107/107 [==============================] - 0s 1ms/step - loss: 0.6922 - accuracy: 0.5153 - val_loss: 0.6939 - val_accuracy: 0.5113\n",
      "Epoch 85/100\n",
      "107/107 [==============================] - 0s 1ms/step - loss: 0.6920 - accuracy: 0.5138 - val_loss: 0.6940 - val_accuracy: 0.5093\n",
      "Epoch 86/100\n",
      "107/107 [==============================] - 0s 1ms/step - loss: 0.6921 - accuracy: 0.5128 - val_loss: 0.6940 - val_accuracy: 0.5185\n",
      "Epoch 87/100\n",
      "107/107 [==============================] - 0s 1ms/step - loss: 0.6922 - accuracy: 0.5125 - val_loss: 0.6935 - val_accuracy: 0.5123\n",
      "Epoch 88/100\n",
      "107/107 [==============================] - 0s 1ms/step - loss: 0.6923 - accuracy: 0.5208 - val_loss: 0.6939 - val_accuracy: 0.4938\n",
      "Epoch 89/100\n",
      "107/107 [==============================] - 0s 979us/step - loss: 0.6920 - accuracy: 0.5131 - val_loss: 0.6936 - val_accuracy: 0.5072\n",
      "Epoch 90/100\n",
      "107/107 [==============================] - 0s 1ms/step - loss: 0.6920 - accuracy: 0.5161 - val_loss: 0.6936 - val_accuracy: 0.5134\n",
      "Epoch 91/100\n",
      "107/107 [==============================] - 0s 1ms/step - loss: 0.6921 - accuracy: 0.5096 - val_loss: 0.6943 - val_accuracy: 0.5134\n",
      "Epoch 92/100\n",
      "107/107 [==============================] - 0s 1ms/step - loss: 0.6920 - accuracy: 0.5112 - val_loss: 0.6942 - val_accuracy: 0.5082\n",
      "Epoch 93/100\n",
      "107/107 [==============================] - 0s 932us/step - loss: 0.6921 - accuracy: 0.5140 - val_loss: 0.6940 - val_accuracy: 0.5123\n",
      "Epoch 94/100\n",
      "107/107 [==============================] - 0s 1ms/step - loss: 0.6918 - accuracy: 0.5178 - val_loss: 0.6938 - val_accuracy: 0.5154\n",
      "Epoch 95/100\n",
      "107/107 [==============================] - 0s 1ms/step - loss: 0.6919 - accuracy: 0.5134 - val_loss: 0.6945 - val_accuracy: 0.4949\n",
      "Epoch 96/100\n",
      "107/107 [==============================] - 0s 1ms/step - loss: 0.6917 - accuracy: 0.5159 - val_loss: 0.6936 - val_accuracy: 0.5103\n",
      "Epoch 97/100\n",
      "107/107 [==============================] - 0s 1ms/step - loss: 0.6921 - accuracy: 0.5107 - val_loss: 0.6939 - val_accuracy: 0.4949\n",
      "Epoch 98/100\n",
      "107/107 [==============================] - 0s 1ms/step - loss: 0.6919 - accuracy: 0.5161 - val_loss: 0.6939 - val_accuracy: 0.5031\n",
      "Epoch 99/100\n",
      "107/107 [==============================] - 0s 1ms/step - loss: 0.6919 - accuracy: 0.5160 - val_loss: 0.6940 - val_accuracy: 0.5185\n",
      "Epoch 100/100\n",
      "107/107 [==============================] - 0s 1ms/step - loss: 0.6919 - accuracy: 0.5185 - val_loss: 0.6943 - val_accuracy: 0.5123\n"
     ]
    },
    {
     "data": {
      "text/plain": [
       "<keras.src.callbacks.History at 0x7f110024e6d0>"
      ]
     },
     "execution_count": 41,
     "metadata": {},
     "output_type": "execute_result"
    }
   ],
   "source": [
    "import tensorflow as tf\n",
    "\n",
    "model = tf.keras.Sequential([\n",
    "    tf.keras.layers.Dense(128, activation='relu', input_shape=(3,)),\n",
    "    tf.keras.layers.Dense(64, activation='relu'),\n",
    "    tf.keras.layers.Dense(1, activation='sigmoid')  # Output layer with sigmoid activation for binary classification\n",
    "])\n",
    "\n",
    "model.compile(optimizer='adam',\n",
    "              loss='binary_crossentropy',\n",
    "              metrics=['accuracy'])\n",
    "\n",
    "\n",
    "model.fit(X_train, y_train, epochs=100, batch_size=64, validation_data=(X_val, y_val))"
   ]
  },
  {
   "cell_type": "code",
   "execution_count": 42,
   "metadata": {
    "colab": {
     "base_uri": "https://localhost:8080/"
    },
    "id": "_OSYLhnwZL8B",
    "outputId": "3cbe203f-9d83-43d3-a40a-11d4b8163732"
   },
   "outputs": [
    {
     "name": "stdout",
     "output_type": "stream",
     "text": [
      "31/31 [==============================] - 0s 697us/step - loss: 0.6918 - accuracy: 0.5005\n"
     ]
    },
    {
     "data": {
      "text/plain": [
       "[0.6918063163757324, 0.5005128383636475]"
      ]
     },
     "execution_count": 42,
     "metadata": {},
     "output_type": "execute_result"
    }
   ],
   "source": [
    "model.evaluate(X_test, y_test)"
   ]
  },
  {
   "cell_type": "code",
   "execution_count": 43,
   "metadata": {
    "colab": {
     "base_uri": "https://localhost:8080/"
    },
    "id": "r36Qb-4fZUNq",
    "outputId": "c5122e67-f336-49d9-d8fb-1d38d6baf6d7"
   },
   "outputs": [
    {
     "name": "stdout",
     "output_type": "stream",
     "text": [
      "31/31 [==============================] - 0s 739us/step\n"
     ]
    }
   ],
   "source": [
    "y_pred = model.predict(X_test)\n",
    "\n",
    "y_pred = [1 if i>0.5 else 0 for [i] in y_pred]"
   ]
  },
  {
   "cell_type": "code",
   "execution_count": 44,
   "metadata": {
    "colab": {
     "base_uri": "https://localhost:8080/"
    },
    "id": "OoU68VByZc7R",
    "outputId": "3c792e15-ae75-4fdf-bad3-c22910cbdaed"
   },
   "outputs": [
    {
     "name": "stdout",
     "output_type": "stream",
     "text": [
      "31/31 [==============================] - 0s 545us/step\n"
     ]
    },
    {
     "data": {
      "text/plain": [
       "array([[293, 293],\n",
       "       [194, 195]])"
      ]
     },
     "execution_count": 44,
     "metadata": {},
     "output_type": "execute_result"
    }
   ],
   "source": [
    "THRESHOLD = 0.5\n",
    "\n",
    "y_pred = model.predict(X_test)\n",
    "y_pred = [1 if i>THRESHOLD else 0 for [i] in y_pred]\n",
    "\n",
    "confusion_matrix(y_pred, y_test)"
   ]
  },
  {
   "cell_type": "code",
   "execution_count": 45,
   "metadata": {
    "colab": {
     "base_uri": "https://localhost:8080/"
    },
    "id": "MoCqn5oOL42m",
    "outputId": "0b115dbf-32a7-4853-e999-56d96096f2e0"
   },
   "outputs": [
    {
     "data": {
      "text/plain": [
       "0.5005128205128205"
      ]
     },
     "execution_count": 45,
     "metadata": {},
     "output_type": "execute_result"
    }
   ],
   "source": [
    "accuracy_score(y_pred, y_test)"
   ]
  },
  {
   "cell_type": "markdown",
   "metadata": {
    "id": "GqXnPkfAx_wM"
   },
   "source": [
    "# Unconstrained"
   ]
  },
  {
   "cell_type": "markdown",
   "metadata": {
    "id": "PfQ8T0weyCDw"
   },
   "source": [
    "Same features, except use similarity from `all-MiniLM-L6-v2` transformer instead of w2v word similarity, etc"
   ]
  },
  {
   "cell_type": "code",
   "execution_count": 54,
   "metadata": {
    "colab": {
     "base_uri": "https://localhost:8080/",
     "height": 837,
     "referenced_widgets": [
      "9cb8cbb64e35415b9998fdad895745d9",
      "29b28edb5fea4c8082f4f0cbe8a00522",
      "4582ce7c16874a5d8083a0f85b843514",
      "88e446e1ce5446d4a33106469e20d7b9",
      "e3b699c8b0ca4092bc27c15a9e2dc7d5",
      "2421961bf89d4d4db7da41d71c4b9c29",
      "1cec7377770f43f2a764479529f1e871",
      "90d35b10daa34c4dbcc3c7dbebb10c0b",
      "eabe0ddf16b84417aef609b9985c81b6",
      "d4992b5a28904b07bbc453e347281520",
      "0981b4c23bb04f12b30d92543269ad40",
      "05980264c59b4defbfcf78289bf45415",
      "d9fdc5716ea6425fb1c31808d08af17a",
      "416c144bed4d4e468d20f80839cda605",
      "0b0c65a0bd5b469aa44dba750034d500",
      "0a7c598ace6b4ac6b91c8b372909cc19",
      "eb5dc57b71ba4ba7865c181325b0542a",
      "032946b84a4a4fc3ab88a9c2607aebf6",
      "4383f1a118aa4e0391bb18990ecb9016",
      "4f54a9640bd74efb90202d64fd1e59bb",
      "62d43ab8569641448ede77a93339f316",
      "3e348caa55d94e3fa2c3da40f167d350",
      "d2f4d34f159442b49b43eb76c884538f",
      "e9d4f672645b436cb4eddea7be92aa43",
      "e2a36a4895e645c8a73db6eec7636833",
      "395a0464632549319a14ec14856edafb",
      "b1be2fa223c34c3faafce79f51d90cb8",
      "48d1e1d769884ef19cee5db9a9653e3c",
      "cc3780cb4a014d15b6e04f5d51bf3401",
      "c87f83f31bad49ad93fcdd36205a16bd",
      "a03052757ec645b2b36bdeec09e0969a",
      "0dea2f71479a4edfb98865235401b4a2",
      "4917243246304657b6dca2a3c3c6d9c9",
      "04ee351d4a864f2a9318058e76d2319c",
      "599deca878a44a0ebe1ee5fa79b46d58",
      "a28796413e154f94b92fde00f9a5c97a",
      "82c1c86539e047e9a38c4eafaa872ac5",
      "7485f04250284afc80ea930b17b87d69",
      "e5f48f6e067140bdb655d88a4b829061",
      "8100337878264285bbcfd46070961f0e",
      "91725fb8ae34456e821f75fe90902d58",
      "19f51470fc0f4136bb1d66501f54b942",
      "bede8f56dfdd4c9782061fc1bc8b9e0c",
      "1a0140263d5e40779e59dbbb85af996e",
      "233be581d8344493aa85f16d64ceb1e8",
      "62678330995c43bd8c61273e0c2a158d",
      "e7e19b9231f94997b51636196c52902a",
      "495380853d514e0686550d8f4d6a3e2d",
      "1e4d11502fc14146909bd2b4620f0277",
      "59dfb976a704460888b081aeb8539f21",
      "93bc4f82c49642ddabc7c96b5f08b3b5",
      "592d108383694c78872a095e13eb9a9a",
      "f4c7c39cf396442cbfe4c53c39c891af",
      "b515d00749294e5a8bbcfcff01c833d5",
      "ae55254a80ca4eea93f98690a4be9747"
     ]
    },
    "id": "H8lzYWxDx0mq",
    "outputId": "75806e6f-e50b-48a6-e970-7f92c747400f"
   },
   "outputs": [
    {
     "name": "stderr",
     "output_type": "stream",
     "text": [
      "huggingface/tokenizers: The current process just got forked, after parallelism has already been used. Disabling parallelism to avoid deadlocks...\n",
      "To disable this warning, you can either:\n",
      "\t- Avoid using `tokenizers` before the fork if possible\n",
      "\t- Explicitly set the environment variable TOKENIZERS_PARALLELISM=(true | false)\n"
     ]
    },
    {
     "name": "stdout",
     "output_type": "stream",
     "text": [
      "Requirement already satisfied: sentence-transformers in /home/hari/anaconda3/lib/python3.9/site-packages (2.3.1)\n",
      "Requirement already satisfied: scikit-learn in /home/hari/anaconda3/lib/python3.9/site-packages (from sentence-transformers) (1.0.2)\n",
      "Requirement already satisfied: sentencepiece in /home/hari/anaconda3/lib/python3.9/site-packages (from sentence-transformers) (0.1.99)\n",
      "Requirement already satisfied: huggingface-hub>=0.15.1 in /home/hari/anaconda3/lib/python3.9/site-packages (from sentence-transformers) (0.20.3)\n",
      "Requirement already satisfied: scipy in /home/hari/anaconda3/lib/python3.9/site-packages (from sentence-transformers) (1.9.1)\n",
      "Requirement already satisfied: nltk in /home/hari/anaconda3/lib/python3.9/site-packages (from sentence-transformers) (3.7)\n",
      "Requirement already satisfied: torch>=1.11.0 in /home/hari/anaconda3/lib/python3.9/site-packages (from sentence-transformers) (2.0.1)\n",
      "Requirement already satisfied: Pillow in /home/hari/anaconda3/lib/python3.9/site-packages (from sentence-transformers) (9.2.0)\n",
      "Requirement already satisfied: tqdm in /home/hari/anaconda3/lib/python3.9/site-packages (from sentence-transformers) (4.64.1)\n",
      "Requirement already satisfied: transformers<5.0.0,>=4.32.0 in /home/hari/anaconda3/lib/python3.9/site-packages (from sentence-transformers) (4.37.2)\n",
      "Requirement already satisfied: numpy in /home/hari/anaconda3/lib/python3.9/site-packages (from sentence-transformers) (1.24.4)\n",
      "Requirement already satisfied: filelock in /home/hari/anaconda3/lib/python3.9/site-packages (from huggingface-hub>=0.15.1->sentence-transformers) (3.6.0)\n",
      "Requirement already satisfied: typing-extensions>=3.7.4.3 in /home/hari/anaconda3/lib/python3.9/site-packages (from huggingface-hub>=0.15.1->sentence-transformers) (4.9.0)\n",
      "Requirement already satisfied: pyyaml>=5.1 in /home/hari/anaconda3/lib/python3.9/site-packages (from huggingface-hub>=0.15.1->sentence-transformers) (6.0)\n",
      "Requirement already satisfied: requests in /home/hari/anaconda3/lib/python3.9/site-packages (from huggingface-hub>=0.15.1->sentence-transformers) (2.22.0)\n",
      "Requirement already satisfied: packaging>=20.9 in /home/hari/anaconda3/lib/python3.9/site-packages (from huggingface-hub>=0.15.1->sentence-transformers) (23.1)\n",
      "Requirement already satisfied: fsspec>=2023.5.0 in /home/hari/anaconda3/lib/python3.9/site-packages (from huggingface-hub>=0.15.1->sentence-transformers) (2023.10.0)\n",
      "Requirement already satisfied: nvidia-cuda-runtime-cu11==11.7.99 in /home/hari/anaconda3/lib/python3.9/site-packages (from torch>=1.11.0->sentence-transformers) (11.7.99)\n",
      "Requirement already satisfied: nvidia-cuda-cupti-cu11==11.7.101 in /home/hari/anaconda3/lib/python3.9/site-packages (from torch>=1.11.0->sentence-transformers) (11.7.101)\n",
      "Requirement already satisfied: sympy in /home/hari/anaconda3/lib/python3.9/site-packages (from torch>=1.11.0->sentence-transformers) (1.10.1)\n",
      "Requirement already satisfied: jinja2 in /home/hari/anaconda3/lib/python3.9/site-packages (from torch>=1.11.0->sentence-transformers) (2.11.3)\n",
      "Requirement already satisfied: networkx in /home/hari/anaconda3/lib/python3.9/site-packages (from torch>=1.11.0->sentence-transformers) (2.8.4)\n",
      "Requirement already satisfied: nvidia-nvtx-cu11==11.7.91 in /home/hari/anaconda3/lib/python3.9/site-packages (from torch>=1.11.0->sentence-transformers) (11.7.91)\n",
      "Requirement already satisfied: nvidia-cusparse-cu11==11.7.4.91 in /home/hari/anaconda3/lib/python3.9/site-packages (from torch>=1.11.0->sentence-transformers) (11.7.4.91)\n",
      "Requirement already satisfied: nvidia-cusolver-cu11==11.4.0.1 in /home/hari/anaconda3/lib/python3.9/site-packages (from torch>=1.11.0->sentence-transformers) (11.4.0.1)\n",
      "Requirement already satisfied: nvidia-cudnn-cu11==8.5.0.96 in /home/hari/anaconda3/lib/python3.9/site-packages (from torch>=1.11.0->sentence-transformers) (8.5.0.96)\n",
      "Requirement already satisfied: nvidia-cufft-cu11==10.9.0.58 in /home/hari/anaconda3/lib/python3.9/site-packages (from torch>=1.11.0->sentence-transformers) (10.9.0.58)\n",
      "Requirement already satisfied: nvidia-curand-cu11==10.2.10.91 in /home/hari/anaconda3/lib/python3.9/site-packages (from torch>=1.11.0->sentence-transformers) (10.2.10.91)\n",
      "Requirement already satisfied: triton==2.0.0 in /home/hari/anaconda3/lib/python3.9/site-packages (from torch>=1.11.0->sentence-transformers) (2.0.0)\n",
      "Requirement already satisfied: nvidia-cublas-cu11==11.10.3.66 in /home/hari/anaconda3/lib/python3.9/site-packages (from torch>=1.11.0->sentence-transformers) (11.10.3.66)\n",
      "Requirement already satisfied: nvidia-nccl-cu11==2.14.3 in /home/hari/anaconda3/lib/python3.9/site-packages (from torch>=1.11.0->sentence-transformers) (2.14.3)\n",
      "Requirement already satisfied: nvidia-cuda-nvrtc-cu11==11.7.99 in /home/hari/anaconda3/lib/python3.9/site-packages (from torch>=1.11.0->sentence-transformers) (11.7.99)\n",
      "Requirement already satisfied: wheel in /home/hari/anaconda3/lib/python3.9/site-packages (from nvidia-cublas-cu11==11.10.3.66->torch>=1.11.0->sentence-transformers) (0.37.1)\n",
      "Requirement already satisfied: setuptools in /home/hari/anaconda3/lib/python3.9/site-packages (from nvidia-cublas-cu11==11.10.3.66->torch>=1.11.0->sentence-transformers) (63.4.1)\n",
      "Requirement already satisfied: cmake in /home/hari/anaconda3/lib/python3.9/site-packages (from triton==2.0.0->torch>=1.11.0->sentence-transformers) (3.26.4)\n",
      "Requirement already satisfied: lit in /home/hari/anaconda3/lib/python3.9/site-packages (from triton==2.0.0->torch>=1.11.0->sentence-transformers) (16.0.6)\n",
      "Requirement already satisfied: tokenizers<0.19,>=0.14 in /home/hari/anaconda3/lib/python3.9/site-packages (from transformers<5.0.0,>=4.32.0->sentence-transformers) (0.15.2)\n",
      "Requirement already satisfied: safetensors>=0.4.1 in /home/hari/anaconda3/lib/python3.9/site-packages (from transformers<5.0.0,>=4.32.0->sentence-transformers) (0.4.2)\n",
      "Requirement already satisfied: regex!=2019.12.17 in /home/hari/anaconda3/lib/python3.9/site-packages (from transformers<5.0.0,>=4.32.0->sentence-transformers) (2022.7.9)\n",
      "Requirement already satisfied: joblib in /home/hari/anaconda3/lib/python3.9/site-packages (from nltk->sentence-transformers) (1.1.0)\n",
      "Requirement already satisfied: click in /home/hari/anaconda3/lib/python3.9/site-packages (from nltk->sentence-transformers) (8.0.4)\n",
      "Requirement already satisfied: threadpoolctl>=2.0.0 in /home/hari/anaconda3/lib/python3.9/site-packages (from scikit-learn->sentence-transformers) (2.2.0)\n",
      "Requirement already satisfied: MarkupSafe>=0.23 in /home/hari/anaconda3/lib/python3.9/site-packages (from jinja2->torch>=1.11.0->sentence-transformers) (2.0.1)\n",
      "Requirement already satisfied: certifi>=2017.4.17 in /home/hari/anaconda3/lib/python3.9/site-packages (from requests->huggingface-hub>=0.15.1->sentence-transformers) (2019.11.28)\n",
      "Requirement already satisfied: urllib3!=1.25.0,!=1.25.1,<1.26,>=1.21.1 in /home/hari/anaconda3/lib/python3.9/site-packages (from requests->huggingface-hub>=0.15.1->sentence-transformers) (1.25.8)\n",
      "Requirement already satisfied: idna<2.9,>=2.5 in /home/hari/anaconda3/lib/python3.9/site-packages (from requests->huggingface-hub>=0.15.1->sentence-transformers) (2.8)\n",
      "Requirement already satisfied: chardet<3.1.0,>=3.0.2 in /home/hari/anaconda3/lib/python3.9/site-packages (from requests->huggingface-hub>=0.15.1->sentence-transformers) (3.0.4)\n",
      "Requirement already satisfied: mpmath>=0.19 in /home/hari/anaconda3/lib/python3.9/site-packages (from sympy->torch>=1.11.0->sentence-transformers) (1.2.1)\n"
     ]
    },
    {
     "data": {
      "application/vnd.jupyter.widget-view+json": {
       "model_id": "de61d84ab8d1459295c845177e74072e",
       "version_major": 2,
       "version_minor": 0
      },
      "text/plain": [
       "modules.json:   0%|          | 0.00/349 [00:00<?, ?B/s]"
      ]
     },
     "metadata": {},
     "output_type": "display_data"
    },
    {
     "data": {
      "application/vnd.jupyter.widget-view+json": {
       "model_id": "c383c971bf9d4ae090009f4de70ccee9",
       "version_major": 2,
       "version_minor": 0
      },
      "text/plain": [
       "config_sentence_transformers.json:   0%|          | 0.00/116 [00:00<?, ?B/s]"
      ]
     },
     "metadata": {},
     "output_type": "display_data"
    },
    {
     "data": {
      "application/vnd.jupyter.widget-view+json": {
       "model_id": "8bbac4d346e9497d956fb81993279bd1",
       "version_major": 2,
       "version_minor": 0
      },
      "text/plain": [
       "README.md:   0%|          | 0.00/10.7k [00:00<?, ?B/s]"
      ]
     },
     "metadata": {},
     "output_type": "display_data"
    },
    {
     "data": {
      "application/vnd.jupyter.widget-view+json": {
       "model_id": "fd49cf159571419c863fd40187b38dbb",
       "version_major": 2,
       "version_minor": 0
      },
      "text/plain": [
       "sentence_bert_config.json:   0%|          | 0.00/53.0 [00:00<?, ?B/s]"
      ]
     },
     "metadata": {},
     "output_type": "display_data"
    },
    {
     "data": {
      "application/vnd.jupyter.widget-view+json": {
       "model_id": "e1c971ec726f4d9f9e14380d391e00f8",
       "version_major": 2,
       "version_minor": 0
      },
      "text/plain": [
       "config.json:   0%|          | 0.00/612 [00:00<?, ?B/s]"
      ]
     },
     "metadata": {},
     "output_type": "display_data"
    },
    {
     "data": {
      "application/vnd.jupyter.widget-view+json": {
       "model_id": "1d42957827d14386adaa3dcb9515f45d",
       "version_major": 2,
       "version_minor": 0
      },
      "text/plain": [
       "pytorch_model.bin:   0%|          | 0.00/90.9M [00:00<?, ?B/s]"
      ]
     },
     "metadata": {},
     "output_type": "display_data"
    },
    {
     "name": "stderr",
     "output_type": "stream",
     "text": [
      "/home/hari/anaconda3/lib/python3.9/site-packages/torch/_utils.py:776: UserWarning: TypedStorage is deprecated. It will be removed in the future and UntypedStorage will be the only storage class. This should only matter to you if you are using storages directly.  To access UntypedStorage directly, use tensor.untyped_storage() instead of tensor.storage()\n",
      "  return self.fget.__get__(instance, owner)()\n"
     ]
    },
    {
     "data": {
      "application/vnd.jupyter.widget-view+json": {
       "model_id": "f159bd0d26f44491afc2d30f1b114fc6",
       "version_major": 2,
       "version_minor": 0
      },
      "text/plain": [
       "tokenizer_config.json:   0%|          | 0.00/350 [00:00<?, ?B/s]"
      ]
     },
     "metadata": {},
     "output_type": "display_data"
    },
    {
     "data": {
      "application/vnd.jupyter.widget-view+json": {
       "model_id": "7b16bfebf64b4dc4b140e1d459dfcb02",
       "version_major": 2,
       "version_minor": 0
      },
      "text/plain": [
       "tokenizer.json:   0%|          | 0.00/466k [00:00<?, ?B/s]"
      ]
     },
     "metadata": {},
     "output_type": "display_data"
    },
    {
     "data": {
      "application/vnd.jupyter.widget-view+json": {
       "model_id": "2f042a8958e447fca99e3da065ffd5fc",
       "version_major": 2,
       "version_minor": 0
      },
      "text/plain": [
       "special_tokens_map.json:   0%|          | 0.00/112 [00:00<?, ?B/s]"
      ]
     },
     "metadata": {},
     "output_type": "display_data"
    },
    {
     "data": {
      "application/vnd.jupyter.widget-view+json": {
       "model_id": "a8b4ce092a4c4220822eee12e2a710e3",
       "version_major": 2,
       "version_minor": 0
      },
      "text/plain": [
       "1_Pooling/config.json:   0%|          | 0.00/190 [00:00<?, ?B/s]"
      ]
     },
     "metadata": {},
     "output_type": "display_data"
    }
   ],
   "source": [
    "!pip install sentence-transformers\n",
    "\n",
    "from sentence_transformers import SentenceTransformer\n",
    "\n",
    "bert = SentenceTransformer('all-MiniLM-L6-v2')"
   ]
  },
  {
   "cell_type": "code",
   "execution_count": 55,
   "metadata": {
    "id": "mnvk2gqIM2d2"
   },
   "outputs": [],
   "source": [
    "import numpy as np\n",
    "\n",
    "def similarity(w1, w2):\n",
    "  v1, v2 = tuple(bert.encode([w1, w2]))\n",
    "  return np.dot(v1, v2) / (np.dot(v1, v1) * np.dot(v2, v2)) ** 0.5\n",
    "\n",
    "def avg_sim(p1, p2):\n",
    "  p1_nlp = nlp(p1)\n",
    "  p2_nlp = nlp(p2)\n",
    "\n",
    "\n",
    "  avg_similarity = 0.0\n",
    "  for t1 in p1_nlp:\n",
    "    max_similarity = 0.0\n",
    "    if t1.tag_ in ['PUNCT']:\n",
    "      continue\n",
    "    for t2 in p2_nlp:\n",
    "      if t2.tag_ in ['PUNCT']:\n",
    "        continue\n",
    "      sim = similarity(t1.text, t2.text)\n",
    "      if sim > max_similarity:\n",
    "        max_similarity = sim\n",
    "    avg_similarity += max_similarity\n",
    "    # print(avg_similarity)\n",
    "\n",
    "  avg_similarity /= len([token for token in p1_nlp if token.tag_ != 'PUNCT'])\n",
    "  if avg_similarity > 1:\n",
    "    return 1\n",
    "\n",
    "  return avg_similarity"
   ]
  },
  {
   "cell_type": "code",
   "execution_count": 56,
   "metadata": {},
   "outputs": [
    {
     "data": {
      "text/plain": [
       "0.587149346640746"
      ]
     },
     "execution_count": 56,
     "metadata": {},
     "output_type": "execute_result"
    }
   ],
   "source": [
    "similarity('good', 'bad')"
   ]
  },
  {
   "cell_type": "code",
   "execution_count": 57,
   "metadata": {
    "id": "QjILHg1zNSc8"
   },
   "outputs": [],
   "source": [
    "def content_words_similarity(phrase, sentence):\n",
    "  phrase_nlp = nlp(phrase)\n",
    "  sent_nlp = nlp(sentence)\n",
    "\n",
    "  root_phrase = phrase.split()[-1]\n",
    "\n",
    "  content_words = []\n",
    "  for token in sent_nlp:\n",
    "    if token.tag_ in ('NN', 'NNS', 'NNP', 'NNPS'):\n",
    "      content_words.append(token.text)\n",
    "\n",
    "  # print(content_words)\n",
    "  ents = []\n",
    "  for ent in sent_nlp.ents:\n",
    "    ents.append(ent.root.text)\n",
    "\n",
    "  content_words = [word for word in content_words if word not in ents and word != root_phrase]\n",
    "\n",
    "  sim = 1\n",
    "  for word in content_words:\n",
    "    sim *= (similarity(root_phrase, word))\n",
    "\n",
    "  if sim == 1:\n",
    "    return None\n",
    "\n",
    "  return sim"
   ]
  },
  {
   "cell_type": "code",
   "execution_count": 58,
   "metadata": {
    "id": "DuWvttUzNuCt"
   },
   "outputs": [],
   "source": [
    "train_data = []\n",
    "for _, row in train.head(7000).iterrows():\n",
    "  train_data.append([avg_sim(row.phrase1, row.phrase2),\n",
    "                     content_words_similarity(row.phrase1, row.sentence1),\n",
    "                     content_words_similarity(row.phrase2, row.sentence2),\n",
    "                     row.label])\n",
    "\n",
    "test_data = []\n",
    "for _, row in test.head(1000).iterrows():\n",
    "  test_data.append([avg_sim(row.phrase1, row.phrase2),\n",
    "                     content_words_similarity(row.phrase1, row.sentence1),\n",
    "                     content_words_similarity(row.phrase2, row.sentence2),\n",
    "                    row.label])\n",
    "\n"
   ]
  },
  {
   "cell_type": "code",
   "execution_count": 59,
   "metadata": {
    "id": "4jWg0TbxOJcL"
   },
   "outputs": [],
   "source": [
    "train_data = pd.DataFrame(train_data)\n",
    "test_data = pd.DataFrame(test_data)\n",
    "\n",
    "train_data = train_data.dropna()\n",
    "test_data = test_data.dropna()\n",
    "\n",
    "X_train = train_data.iloc[:, :-1].values\n",
    "y_train = train_data.iloc[:, -1].values\n",
    "\n",
    "X_test = test_data.iloc[:, :-1].values\n",
    "y_test = test_data.iloc[:, -1].values"
   ]
  },
  {
   "cell_type": "code",
   "execution_count": 60,
   "metadata": {
    "id": "NWIyB0NwOJcM"
   },
   "outputs": [
    {
     "data": {
      "text/plain": [
       "array([[310, 281],\n",
       "       [189, 216]])"
      ]
     },
     "execution_count": 60,
     "metadata": {},
     "output_type": "execute_result"
    }
   ],
   "source": [
    "model = LogisticRegression()\n",
    "\n",
    "model.fit(X_train, y_train)\n",
    "y_pred = model.predict(X_test)\n",
    "\n",
    "confusion_matrix(y_pred, y_test)"
   ]
  },
  {
   "cell_type": "code",
   "execution_count": 61,
   "metadata": {
    "id": "C6w59cWvOJcN"
   },
   "outputs": [
    {
     "data": {
      "text/plain": [
       "0.5281124497991968"
      ]
     },
     "execution_count": 61,
     "metadata": {},
     "output_type": "execute_result"
    }
   ],
   "source": [
    "from sklearn.metrics import accuracy_score\n",
    "\n",
    "accuracy_score(y_pred, y_test)"
   ]
  },
  {
   "cell_type": "code",
   "execution_count": 62,
   "metadata": {
    "id": "5zjGJIY0OJcN"
   },
   "outputs": [
    {
     "data": {
      "text/plain": [
       "array([[435, 434],\n",
       "       [ 64,  63]])"
      ]
     },
     "execution_count": 62,
     "metadata": {},
     "output_type": "execute_result"
    }
   ],
   "source": [
    "from sklearn.svm import SVC\n",
    "\n",
    "model = SVC()\n",
    "\n",
    "model.fit(X_train, y_train)\n",
    "y_pred = model.predict(X_test)\n",
    "\n",
    "confusion_matrix(y_pred, y_test)"
   ]
  },
  {
   "cell_type": "code",
   "execution_count": 63,
   "metadata": {
    "id": "8hmrJe3fOJcO"
   },
   "outputs": [
    {
     "data": {
      "text/plain": [
       "0.5"
      ]
     },
     "execution_count": 63,
     "metadata": {},
     "output_type": "execute_result"
    }
   ],
   "source": [
    "from sklearn.metrics import accuracy_score\n",
    "\n",
    "accuracy_score(y_pred, y_test)"
   ]
  },
  {
   "cell_type": "code",
   "execution_count": 64,
   "metadata": {
    "id": "NOgLkQh-OJcO"
   },
   "outputs": [],
   "source": [
    "val_data = []\n",
    "for _, row in val.head(2000).iterrows():\n",
    "  val_data.append([avg_sim(row.phrase1, row.phrase2),\n",
    "                     content_words_similarity(row.phrase1, row.sentence1),\n",
    "                     content_words_similarity(row.phrase2, row.sentence2),\n",
    "                    row.label])\n",
    "\n",
    "val_data = pd.DataFrame(val_data)\n",
    "\n",
    "val_data = val_data.dropna()\n",
    "\n",
    "X_val = val_data.iloc[:, :-1].values\n",
    "y_val = val_data.iloc[:, -1].values"
   ]
  },
  {
   "cell_type": "code",
   "execution_count": 72,
   "metadata": {
    "id": "zLG1DrxROJcP"
   },
   "outputs": [],
   "source": [
    "from sklearn.ensemble import RandomForestClassifier\n",
    "\n",
    "rfc = RandomForestClassifier(n_estimators=100)\n",
    "rfc.fit(X_train, y_train)\n",
    "\n",
    "y_pred = rfc.predict(X_test)"
   ]
  },
  {
   "cell_type": "code",
   "execution_count": 73,
   "metadata": {
    "id": "Z3V9G4EXOJcP"
   },
   "outputs": [
    {
     "data": {
      "text/plain": [
       "array([[265, 255],\n",
       "       [234, 242]])"
      ]
     },
     "execution_count": 73,
     "metadata": {},
     "output_type": "execute_result"
    }
   ],
   "source": [
    "confusion_matrix(y_pred, y_test)"
   ]
  },
  {
   "cell_type": "code",
   "execution_count": 74,
   "metadata": {},
   "outputs": [
    {
     "data": {
      "text/plain": [
       "0.5090361445783133"
      ]
     },
     "execution_count": 74,
     "metadata": {},
     "output_type": "execute_result"
    }
   ],
   "source": [
    "accuracy_score(y_pred, y_test)"
   ]
  },
  {
   "cell_type": "code",
   "execution_count": 67,
   "metadata": {
    "id": "tXZWh-1AOJcP"
   },
   "outputs": [
    {
     "name": "stdout",
     "output_type": "stream",
     "text": [
      "Epoch 1/100\n",
      "109/109 [==============================] - 1s 2ms/step - loss: 0.6927 - accuracy: 0.5106 - val_loss: 0.6931 - val_accuracy: 0.4995\n",
      "Epoch 2/100\n",
      "109/109 [==============================] - 0s 1ms/step - loss: 0.6932 - accuracy: 0.4976 - val_loss: 0.6913 - val_accuracy: 0.5559\n",
      "Epoch 3/100\n",
      "109/109 [==============================] - 0s 1ms/step - loss: 0.6920 - accuracy: 0.5130 - val_loss: 0.6905 - val_accuracy: 0.5347\n",
      "Epoch 4/100\n",
      "109/109 [==============================] - 0s 1ms/step - loss: 0.6924 - accuracy: 0.5091 - val_loss: 0.6896 - val_accuracy: 0.5690\n",
      "Epoch 5/100\n",
      "109/109 [==============================] - 0s 1ms/step - loss: 0.6913 - accuracy: 0.5238 - val_loss: 0.6886 - val_accuracy: 0.5650\n",
      "Epoch 6/100\n",
      "109/109 [==============================] - 0s 1ms/step - loss: 0.6912 - accuracy: 0.5215 - val_loss: 0.6901 - val_accuracy: 0.5045\n",
      "Epoch 7/100\n",
      "109/109 [==============================] - 0s 1ms/step - loss: 0.6910 - accuracy: 0.5217 - val_loss: 0.6882 - val_accuracy: 0.5680\n",
      "Epoch 8/100\n",
      "109/109 [==============================] - 0s 1ms/step - loss: 0.6908 - accuracy: 0.5291 - val_loss: 0.6881 - val_accuracy: 0.5418\n",
      "Epoch 9/100\n",
      "109/109 [==============================] - 0s 1ms/step - loss: 0.6903 - accuracy: 0.5248 - val_loss: 0.6875 - val_accuracy: 0.5690\n",
      "Epoch 10/100\n",
      "109/109 [==============================] - 0s 1ms/step - loss: 0.6903 - accuracy: 0.5271 - val_loss: 0.6876 - val_accuracy: 0.5468\n",
      "Epoch 11/100\n",
      "109/109 [==============================] - 0s 1ms/step - loss: 0.6902 - accuracy: 0.5277 - val_loss: 0.6874 - val_accuracy: 0.5619\n",
      "Epoch 12/100\n",
      "109/109 [==============================] - 0s 1ms/step - loss: 0.6902 - accuracy: 0.5222 - val_loss: 0.6882 - val_accuracy: 0.5317\n",
      "Epoch 13/100\n",
      "109/109 [==============================] - 0s 1ms/step - loss: 0.6897 - accuracy: 0.5254 - val_loss: 0.6918 - val_accuracy: 0.5176\n",
      "Epoch 14/100\n",
      "109/109 [==============================] - 0s 1ms/step - loss: 0.6897 - accuracy: 0.5251 - val_loss: 0.6877 - val_accuracy: 0.5418\n",
      "Epoch 15/100\n",
      "109/109 [==============================] - 0s 1ms/step - loss: 0.6894 - accuracy: 0.5378 - val_loss: 0.6864 - val_accuracy: 0.5670\n",
      "Epoch 16/100\n",
      "109/109 [==============================] - 0s 1ms/step - loss: 0.6899 - accuracy: 0.5291 - val_loss: 0.6869 - val_accuracy: 0.5458\n",
      "Epoch 17/100\n",
      "109/109 [==============================] - 0s 1ms/step - loss: 0.6893 - accuracy: 0.5334 - val_loss: 0.6878 - val_accuracy: 0.5368\n",
      "Epoch 18/100\n",
      "109/109 [==============================] - 0s 1ms/step - loss: 0.6891 - accuracy: 0.5333 - val_loss: 0.6866 - val_accuracy: 0.5660\n",
      "Epoch 19/100\n",
      "109/109 [==============================] - 0s 1ms/step - loss: 0.6891 - accuracy: 0.5362 - val_loss: 0.6867 - val_accuracy: 0.5378\n",
      "Epoch 20/100\n",
      "109/109 [==============================] - 0s 1ms/step - loss: 0.6889 - accuracy: 0.5301 - val_loss: 0.6867 - val_accuracy: 0.5247\n",
      "Epoch 21/100\n",
      "109/109 [==============================] - 0s 1ms/step - loss: 0.6886 - accuracy: 0.5382 - val_loss: 0.6900 - val_accuracy: 0.5347\n",
      "Epoch 22/100\n",
      "109/109 [==============================] - 0s 1ms/step - loss: 0.6887 - accuracy: 0.5342 - val_loss: 0.6859 - val_accuracy: 0.5478\n",
      "Epoch 23/100\n",
      "109/109 [==============================] - 0s 1ms/step - loss: 0.6881 - accuracy: 0.5358 - val_loss: 0.6853 - val_accuracy: 0.5639\n",
      "Epoch 24/100\n",
      "109/109 [==============================] - 0s 1ms/step - loss: 0.6889 - accuracy: 0.5307 - val_loss: 0.6858 - val_accuracy: 0.5428\n",
      "Epoch 25/100\n",
      "109/109 [==============================] - 0s 1ms/step - loss: 0.6891 - accuracy: 0.5310 - val_loss: 0.6855 - val_accuracy: 0.5488\n",
      "Epoch 26/100\n",
      "109/109 [==============================] - 0s 1ms/step - loss: 0.6881 - accuracy: 0.5334 - val_loss: 0.6854 - val_accuracy: 0.5418\n",
      "Epoch 27/100\n",
      "109/109 [==============================] - 0s 1ms/step - loss: 0.6882 - accuracy: 0.5378 - val_loss: 0.6859 - val_accuracy: 0.5378\n",
      "Epoch 28/100\n",
      "109/109 [==============================] - 0s 986us/step - loss: 0.6885 - accuracy: 0.5317 - val_loss: 0.6852 - val_accuracy: 0.5448\n",
      "Epoch 29/100\n",
      "109/109 [==============================] - 0s 1ms/step - loss: 0.6875 - accuracy: 0.5346 - val_loss: 0.6871 - val_accuracy: 0.5247\n",
      "Epoch 30/100\n",
      "109/109 [==============================] - 0s 1ms/step - loss: 0.6883 - accuracy: 0.5329 - val_loss: 0.6869 - val_accuracy: 0.5287\n",
      "Epoch 31/100\n",
      "109/109 [==============================] - 0s 1ms/step - loss: 0.6880 - accuracy: 0.5358 - val_loss: 0.6863 - val_accuracy: 0.5307\n",
      "Epoch 32/100\n",
      "109/109 [==============================] - 0s 989us/step - loss: 0.6881 - accuracy: 0.5327 - val_loss: 0.6850 - val_accuracy: 0.5317\n",
      "Epoch 33/100\n",
      "109/109 [==============================] - 0s 1ms/step - loss: 0.6882 - accuracy: 0.5343 - val_loss: 0.6848 - val_accuracy: 0.5478\n",
      "Epoch 34/100\n",
      "109/109 [==============================] - 0s 1ms/step - loss: 0.6876 - accuracy: 0.5349 - val_loss: 0.6852 - val_accuracy: 0.5478\n",
      "Epoch 35/100\n",
      "109/109 [==============================] - 0s 1ms/step - loss: 0.6880 - accuracy: 0.5376 - val_loss: 0.6841 - val_accuracy: 0.5529\n",
      "Epoch 36/100\n",
      "109/109 [==============================] - 0s 1ms/step - loss: 0.6879 - accuracy: 0.5301 - val_loss: 0.6848 - val_accuracy: 0.5418\n",
      "Epoch 37/100\n",
      "109/109 [==============================] - 0s 1ms/step - loss: 0.6867 - accuracy: 0.5388 - val_loss: 0.6868 - val_accuracy: 0.5206\n",
      "Epoch 38/100\n",
      "109/109 [==============================] - 0s 1ms/step - loss: 0.6877 - accuracy: 0.5363 - val_loss: 0.6838 - val_accuracy: 0.5458\n",
      "Epoch 39/100\n",
      "109/109 [==============================] - 0s 1ms/step - loss: 0.6878 - accuracy: 0.5368 - val_loss: 0.6856 - val_accuracy: 0.5428\n",
      "Epoch 40/100\n",
      "109/109 [==============================] - 0s 1ms/step - loss: 0.6866 - accuracy: 0.5350 - val_loss: 0.6838 - val_accuracy: 0.5428\n",
      "Epoch 41/100\n",
      "109/109 [==============================] - 0s 1ms/step - loss: 0.6872 - accuracy: 0.5381 - val_loss: 0.6833 - val_accuracy: 0.5438\n",
      "Epoch 42/100\n",
      "109/109 [==============================] - 0s 1ms/step - loss: 0.6869 - accuracy: 0.5363 - val_loss: 0.6836 - val_accuracy: 0.5438\n",
      "Epoch 43/100\n",
      "109/109 [==============================] - 0s 1ms/step - loss: 0.6868 - accuracy: 0.5405 - val_loss: 0.6836 - val_accuracy: 0.5418\n",
      "Epoch 44/100\n",
      "109/109 [==============================] - 0s 1ms/step - loss: 0.6867 - accuracy: 0.5411 - val_loss: 0.6828 - val_accuracy: 0.5468\n",
      "Epoch 45/100\n",
      "109/109 [==============================] - 0s 1ms/step - loss: 0.6867 - accuracy: 0.5347 - val_loss: 0.6883 - val_accuracy: 0.5448\n",
      "Epoch 46/100\n",
      "109/109 [==============================] - 0s 1ms/step - loss: 0.6861 - accuracy: 0.5427 - val_loss: 0.6884 - val_accuracy: 0.5176\n",
      "Epoch 47/100\n",
      "109/109 [==============================] - 0s 1ms/step - loss: 0.6871 - accuracy: 0.5383 - val_loss: 0.6831 - val_accuracy: 0.5428\n",
      "Epoch 48/100\n",
      "109/109 [==============================] - 0s 1ms/step - loss: 0.6867 - accuracy: 0.5339 - val_loss: 0.6823 - val_accuracy: 0.5448\n",
      "Epoch 49/100\n",
      "109/109 [==============================] - 0s 1ms/step - loss: 0.6857 - accuracy: 0.5432 - val_loss: 0.6831 - val_accuracy: 0.5337\n",
      "Epoch 50/100\n",
      "109/109 [==============================] - 0s 1ms/step - loss: 0.6852 - accuracy: 0.5421 - val_loss: 0.6828 - val_accuracy: 0.5478\n",
      "Epoch 51/100\n",
      "109/109 [==============================] - 0s 1ms/step - loss: 0.6856 - accuracy: 0.5398 - val_loss: 0.6812 - val_accuracy: 0.5418\n",
      "Epoch 52/100\n",
      "109/109 [==============================] - 0s 1ms/step - loss: 0.6863 - accuracy: 0.5396 - val_loss: 0.6828 - val_accuracy: 0.5448\n",
      "Epoch 53/100\n",
      "109/109 [==============================] - 0s 1ms/step - loss: 0.6855 - accuracy: 0.5451 - val_loss: 0.6826 - val_accuracy: 0.5438\n",
      "Epoch 54/100\n",
      "109/109 [==============================] - 0s 1ms/step - loss: 0.6852 - accuracy: 0.5447 - val_loss: 0.6819 - val_accuracy: 0.5388\n",
      "Epoch 55/100\n",
      "109/109 [==============================] - 0s 1ms/step - loss: 0.6856 - accuracy: 0.5393 - val_loss: 0.6854 - val_accuracy: 0.5418\n",
      "Epoch 56/100\n",
      "109/109 [==============================] - 0s 989us/step - loss: 0.6858 - accuracy: 0.5428 - val_loss: 0.6817 - val_accuracy: 0.5428\n",
      "Epoch 57/100\n",
      "109/109 [==============================] - 0s 990us/step - loss: 0.6853 - accuracy: 0.5448 - val_loss: 0.6825 - val_accuracy: 0.5337\n"
     ]
    },
    {
     "name": "stdout",
     "output_type": "stream",
     "text": [
      "Epoch 58/100\n",
      "109/109 [==============================] - 0s 1ms/step - loss: 0.6848 - accuracy: 0.5399 - val_loss: 0.6816 - val_accuracy: 0.5438\n",
      "Epoch 59/100\n",
      "109/109 [==============================] - 0s 1ms/step - loss: 0.6845 - accuracy: 0.5402 - val_loss: 0.6808 - val_accuracy: 0.5498\n",
      "Epoch 60/100\n",
      "109/109 [==============================] - 0s 1ms/step - loss: 0.6851 - accuracy: 0.5365 - val_loss: 0.6811 - val_accuracy: 0.5509\n",
      "Epoch 61/100\n",
      "109/109 [==============================] - 0s 1ms/step - loss: 0.6860 - accuracy: 0.5306 - val_loss: 0.6806 - val_accuracy: 0.5509\n",
      "Epoch 62/100\n",
      "109/109 [==============================] - 0s 1ms/step - loss: 0.6851 - accuracy: 0.5372 - val_loss: 0.6810 - val_accuracy: 0.5478\n",
      "Epoch 63/100\n",
      "109/109 [==============================] - 0s 1ms/step - loss: 0.6858 - accuracy: 0.5369 - val_loss: 0.6802 - val_accuracy: 0.5408\n",
      "Epoch 64/100\n",
      "109/109 [==============================] - 0s 1ms/step - loss: 0.6850 - accuracy: 0.5404 - val_loss: 0.6839 - val_accuracy: 0.5408\n",
      "Epoch 65/100\n",
      "109/109 [==============================] - 0s 1ms/step - loss: 0.6851 - accuracy: 0.5334 - val_loss: 0.6814 - val_accuracy: 0.5498\n",
      "Epoch 66/100\n",
      "109/109 [==============================] - 0s 1ms/step - loss: 0.6844 - accuracy: 0.5429 - val_loss: 0.6819 - val_accuracy: 0.5498\n",
      "Epoch 67/100\n",
      "109/109 [==============================] - 0s 1ms/step - loss: 0.6854 - accuracy: 0.5379 - val_loss: 0.6809 - val_accuracy: 0.5428\n",
      "Epoch 68/100\n",
      "109/109 [==============================] - 0s 1ms/step - loss: 0.6843 - accuracy: 0.5481 - val_loss: 0.6808 - val_accuracy: 0.5549\n",
      "Epoch 69/100\n",
      "109/109 [==============================] - 0s 969us/step - loss: 0.6841 - accuracy: 0.5415 - val_loss: 0.6810 - val_accuracy: 0.5398\n",
      "Epoch 70/100\n",
      "109/109 [==============================] - 0s 984us/step - loss: 0.6836 - accuracy: 0.5484 - val_loss: 0.6840 - val_accuracy: 0.5378\n",
      "Epoch 71/100\n",
      "109/109 [==============================] - 0s 988us/step - loss: 0.6845 - accuracy: 0.5444 - val_loss: 0.6807 - val_accuracy: 0.5539\n",
      "Epoch 72/100\n",
      "109/109 [==============================] - 0s 1ms/step - loss: 0.6850 - accuracy: 0.5373 - val_loss: 0.6813 - val_accuracy: 0.5509\n",
      "Epoch 73/100\n",
      "109/109 [==============================] - 0s 1ms/step - loss: 0.6834 - accuracy: 0.5487 - val_loss: 0.6828 - val_accuracy: 0.5327\n",
      "Epoch 74/100\n",
      "109/109 [==============================] - 0s 1ms/step - loss: 0.6851 - accuracy: 0.5414 - val_loss: 0.6809 - val_accuracy: 0.5428\n",
      "Epoch 75/100\n",
      "109/109 [==============================] - 0s 1ms/step - loss: 0.6839 - accuracy: 0.5465 - val_loss: 0.6808 - val_accuracy: 0.5398\n",
      "Epoch 76/100\n",
      "109/109 [==============================] - 0s 1ms/step - loss: 0.6840 - accuracy: 0.5421 - val_loss: 0.6808 - val_accuracy: 0.5428\n",
      "Epoch 77/100\n",
      "109/109 [==============================] - 0s 1ms/step - loss: 0.6840 - accuracy: 0.5432 - val_loss: 0.6814 - val_accuracy: 0.5368\n",
      "Epoch 78/100\n",
      "109/109 [==============================] - 0s 916us/step - loss: 0.6841 - accuracy: 0.5458 - val_loss: 0.6812 - val_accuracy: 0.5438\n",
      "Epoch 79/100\n",
      "109/109 [==============================] - 0s 1ms/step - loss: 0.6840 - accuracy: 0.5401 - val_loss: 0.6842 - val_accuracy: 0.5458\n",
      "Epoch 80/100\n",
      "109/109 [==============================] - 0s 1ms/step - loss: 0.6840 - accuracy: 0.5452 - val_loss: 0.6805 - val_accuracy: 0.5418\n",
      "Epoch 81/100\n",
      "109/109 [==============================] - 0s 1ms/step - loss: 0.6840 - accuracy: 0.5470 - val_loss: 0.6797 - val_accuracy: 0.5529\n",
      "Epoch 82/100\n",
      "109/109 [==============================] - 0s 1ms/step - loss: 0.6845 - accuracy: 0.5415 - val_loss: 0.6801 - val_accuracy: 0.5478\n",
      "Epoch 83/100\n",
      "109/109 [==============================] - 0s 1ms/step - loss: 0.6834 - accuracy: 0.5488 - val_loss: 0.6803 - val_accuracy: 0.5509\n",
      "Epoch 84/100\n",
      "109/109 [==============================] - 0s 1ms/step - loss: 0.6830 - accuracy: 0.5510 - val_loss: 0.6798 - val_accuracy: 0.5448\n",
      "Epoch 85/100\n",
      "109/109 [==============================] - 0s 1ms/step - loss: 0.6840 - accuracy: 0.5507 - val_loss: 0.6810 - val_accuracy: 0.5428\n",
      "Epoch 86/100\n",
      "109/109 [==============================] - 0s 1ms/step - loss: 0.6834 - accuracy: 0.5470 - val_loss: 0.6796 - val_accuracy: 0.5488\n",
      "Epoch 87/100\n",
      "109/109 [==============================] - 0s 1ms/step - loss: 0.6829 - accuracy: 0.5534 - val_loss: 0.6803 - val_accuracy: 0.5458\n",
      "Epoch 88/100\n",
      "109/109 [==============================] - 0s 1ms/step - loss: 0.6844 - accuracy: 0.5416 - val_loss: 0.6811 - val_accuracy: 0.5438\n",
      "Epoch 89/100\n",
      "109/109 [==============================] - 0s 1ms/step - loss: 0.6843 - accuracy: 0.5435 - val_loss: 0.6796 - val_accuracy: 0.5478\n",
      "Epoch 90/100\n",
      "109/109 [==============================] - 0s 1ms/step - loss: 0.6840 - accuracy: 0.5473 - val_loss: 0.6800 - val_accuracy: 0.5418\n",
      "Epoch 91/100\n",
      "109/109 [==============================] - 0s 1ms/step - loss: 0.6837 - accuracy: 0.5448 - val_loss: 0.6800 - val_accuracy: 0.5529\n",
      "Epoch 92/100\n",
      "109/109 [==============================] - 0s 1ms/step - loss: 0.6830 - accuracy: 0.5501 - val_loss: 0.6833 - val_accuracy: 0.5408\n",
      "Epoch 93/100\n",
      "109/109 [==============================] - 0s 1ms/step - loss: 0.6829 - accuracy: 0.5543 - val_loss: 0.6815 - val_accuracy: 0.5478\n",
      "Epoch 94/100\n",
      "109/109 [==============================] - 0s 1ms/step - loss: 0.6842 - accuracy: 0.5360 - val_loss: 0.6803 - val_accuracy: 0.5509\n",
      "Epoch 95/100\n",
      "109/109 [==============================] - 0s 1ms/step - loss: 0.6834 - accuracy: 0.5471 - val_loss: 0.6811 - val_accuracy: 0.5509\n",
      "Epoch 96/100\n",
      "109/109 [==============================] - 0s 1ms/step - loss: 0.6839 - accuracy: 0.5411 - val_loss: 0.6812 - val_accuracy: 0.5448\n",
      "Epoch 97/100\n",
      "109/109 [==============================] - 0s 1ms/step - loss: 0.6832 - accuracy: 0.5473 - val_loss: 0.6801 - val_accuracy: 0.5468\n",
      "Epoch 98/100\n",
      "109/109 [==============================] - 0s 1ms/step - loss: 0.6834 - accuracy: 0.5441 - val_loss: 0.6794 - val_accuracy: 0.5498\n",
      "Epoch 99/100\n",
      "109/109 [==============================] - 0s 1ms/step - loss: 0.6833 - accuracy: 0.5464 - val_loss: 0.6799 - val_accuracy: 0.5428\n",
      "Epoch 100/100\n",
      "109/109 [==============================] - 0s 1ms/step - loss: 0.6824 - accuracy: 0.5503 - val_loss: 0.6799 - val_accuracy: 0.5428\n"
     ]
    },
    {
     "data": {
      "text/plain": [
       "<keras.src.callbacks.History at 0x7f10f87a1b50>"
      ]
     },
     "execution_count": 67,
     "metadata": {},
     "output_type": "execute_result"
    }
   ],
   "source": [
    "import tensorflow as tf\n",
    "\n",
    "model = tf.keras.Sequential([\n",
    "    tf.keras.layers.Dense(128, activation='relu', input_shape=(3,)),\n",
    "    tf.keras.layers.Dense(64, activation='relu'),\n",
    "    tf.keras.layers.Dense(1, activation='sigmoid')  # Output layer with sigmoid activation for binary classification\n",
    "])\n",
    "\n",
    "model.compile(optimizer='adam',\n",
    "              loss='binary_crossentropy',\n",
    "              metrics=['accuracy'])\n",
    "\n",
    "\n",
    "model.fit(X_train, y_train, epochs=100, batch_size=64, validation_data=(X_val, y_val))"
   ]
  },
  {
   "cell_type": "code",
   "execution_count": 68,
   "metadata": {
    "id": "m-iViaMKOJcQ"
   },
   "outputs": [
    {
     "name": "stdout",
     "output_type": "stream",
     "text": [
      "32/32 [==============================] - 0s 672us/step - loss: 0.6910 - accuracy: 0.5402\n"
     ]
    },
    {
     "data": {
      "text/plain": [
       "[0.691016435623169, 0.5401606559753418]"
      ]
     },
     "execution_count": 68,
     "metadata": {},
     "output_type": "execute_result"
    }
   ],
   "source": [
    "model.evaluate(X_test, y_test)"
   ]
  },
  {
   "cell_type": "code",
   "execution_count": 69,
   "metadata": {
    "id": "31uUz8nOOJcQ"
   },
   "outputs": [
    {
     "name": "stdout",
     "output_type": "stream",
     "text": [
      "32/32 [==============================] - 0s 647us/step\n"
     ]
    }
   ],
   "source": [
    "y_pred = model.predict(X_test)\n",
    "\n",
    "y_pred = [1 if i>0.5 else 0 for [i] in y_pred]"
   ]
  },
  {
   "cell_type": "code",
   "execution_count": 70,
   "metadata": {
    "id": "VEEdQWdYOJcR"
   },
   "outputs": [
    {
     "name": "stdout",
     "output_type": "stream",
     "text": [
      "32/32 [==============================] - 0s 709us/step\n"
     ]
    },
    {
     "data": {
      "text/plain": [
       "array([[350, 309],\n",
       "       [149, 188]])"
      ]
     },
     "execution_count": 70,
     "metadata": {},
     "output_type": "execute_result"
    }
   ],
   "source": [
    "THRESHOLD = 0.5\n",
    "\n",
    "y_pred = model.predict(X_test)\n",
    "y_pred = [1 if i>THRESHOLD else 0 for [i] in y_pred]\n",
    "\n",
    "confusion_matrix(y_pred, y_test)"
   ]
  },
  {
   "cell_type": "code",
   "execution_count": 71,
   "metadata": {
    "id": "Yk8Wh3WgOJcR"
   },
   "outputs": [
    {
     "data": {
      "text/plain": [
       "0.5401606425702812"
      ]
     },
     "execution_count": 71,
     "metadata": {},
     "output_type": "execute_result"
    }
   ],
   "source": [
    "accuracy_score(y_pred, y_test)"
   ]
  },
  {
   "cell_type": "code",
   "execution_count": null,
   "metadata": {
    "id": "1zecPQHvOaak"
   },
   "outputs": [],
   "source": []
  }
 ],
 "metadata": {
  "colab": {
   "provenance": [],
   "toc_visible": true
  },
  "kernelspec": {
   "display_name": "Python 3 (ipykernel)",
   "language": "python",
   "name": "python3"
  },
  "language_info": {
   "codemirror_mode": {
    "name": "ipython",
    "version": 3
   },
   "file_extension": ".py",
   "mimetype": "text/x-python",
   "name": "python",
   "nbconvert_exporter": "python",
   "pygments_lexer": "ipython3",
   "version": "3.9.13"
  },
  "widgets": {
   "application/vnd.jupyter.widget-state+json": {
    "007a81f025134ca494ab190a3615ff78": {
     "model_module": "@jupyter-widgets/base",
     "model_module_version": "1.2.0",
     "model_name": "LayoutModel",
     "state": {
      "_model_module": "@jupyter-widgets/base",
      "_model_module_version": "1.2.0",
      "_model_name": "LayoutModel",
      "_view_count": null,
      "_view_module": "@jupyter-widgets/base",
      "_view_module_version": "1.2.0",
      "_view_name": "LayoutView",
      "align_content": null,
      "align_items": null,
      "align_self": null,
      "border": null,
      "bottom": null,
      "display": null,
      "flex": null,
      "flex_flow": null,
      "grid_area": null,
      "grid_auto_columns": null,
      "grid_auto_flow": null,
      "grid_auto_rows": null,
      "grid_column": null,
      "grid_gap": null,
      "grid_row": null,
      "grid_template_areas": null,
      "grid_template_columns": null,
      "grid_template_rows": null,
      "height": null,
      "justify_content": null,
      "justify_items": null,
      "left": null,
      "margin": null,
      "max_height": null,
      "max_width": null,
      "min_height": null,
      "min_width": null,
      "object_fit": null,
      "object_position": null,
      "order": null,
      "overflow": null,
      "overflow_x": null,
      "overflow_y": null,
      "padding": null,
      "right": null,
      "top": null,
      "visibility": null,
      "width": null
     }
    },
    "032946b84a4a4fc3ab88a9c2607aebf6": {
     "model_module": "@jupyter-widgets/controls",
     "model_module_version": "1.5.0",
     "model_name": "DescriptionStyleModel",
     "state": {
      "_model_module": "@jupyter-widgets/controls",
      "_model_module_version": "1.5.0",
      "_model_name": "DescriptionStyleModel",
      "_view_count": null,
      "_view_module": "@jupyter-widgets/base",
      "_view_module_version": "1.2.0",
      "_view_name": "StyleView",
      "description_width": ""
     }
    },
    "04ee351d4a864f2a9318058e76d2319c": {
     "model_module": "@jupyter-widgets/controls",
     "model_module_version": "1.5.0",
     "model_name": "HBoxModel",
     "state": {
      "_dom_classes": [],
      "_model_module": "@jupyter-widgets/controls",
      "_model_module_version": "1.5.0",
      "_model_name": "HBoxModel",
      "_view_count": null,
      "_view_module": "@jupyter-widgets/controls",
      "_view_module_version": "1.5.0",
      "_view_name": "HBoxView",
      "box_style": "",
      "children": [
       "IPY_MODEL_599deca878a44a0ebe1ee5fa79b46d58",
       "IPY_MODEL_a28796413e154f94b92fde00f9a5c97a",
       "IPY_MODEL_82c1c86539e047e9a38c4eafaa872ac5"
      ],
      "layout": "IPY_MODEL_7485f04250284afc80ea930b17b87d69"
     }
    },
    "05980264c59b4defbfcf78289bf45415": {
     "model_module": "@jupyter-widgets/controls",
     "model_module_version": "1.5.0",
     "model_name": "HBoxModel",
     "state": {
      "_dom_classes": [],
      "_model_module": "@jupyter-widgets/controls",
      "_model_module_version": "1.5.0",
      "_model_name": "HBoxModel",
      "_view_count": null,
      "_view_module": "@jupyter-widgets/controls",
      "_view_module_version": "1.5.0",
      "_view_name": "HBoxView",
      "box_style": "",
      "children": [
       "IPY_MODEL_d9fdc5716ea6425fb1c31808d08af17a",
       "IPY_MODEL_416c144bed4d4e468d20f80839cda605",
       "IPY_MODEL_0b0c65a0bd5b469aa44dba750034d500"
      ],
      "layout": "IPY_MODEL_0a7c598ace6b4ac6b91c8b372909cc19"
     }
    },
    "06746fbd74d242f79f7dc6fe6db46204": {
     "model_module": "@jupyter-widgets/controls",
     "model_module_version": "1.5.0",
     "model_name": "ProgressStyleModel",
     "state": {
      "_model_module": "@jupyter-widgets/controls",
      "_model_module_version": "1.5.0",
      "_model_name": "ProgressStyleModel",
      "_view_count": null,
      "_view_module": "@jupyter-widgets/base",
      "_view_module_version": "1.2.0",
      "_view_name": "StyleView",
      "bar_color": null,
      "description_width": ""
     }
    },
    "081eb4be25084fcfa177eb13a8dce9cc": {
     "model_module": "@jupyter-widgets/controls",
     "model_module_version": "1.5.0",
     "model_name": "FloatProgressModel",
     "state": {
      "_dom_classes": [],
      "_model_module": "@jupyter-widgets/controls",
      "_model_module_version": "1.5.0",
      "_model_name": "FloatProgressModel",
      "_view_count": null,
      "_view_module": "@jupyter-widgets/controls",
      "_view_module_version": "1.5.0",
      "_view_name": "ProgressView",
      "bar_style": "success",
      "description": "",
      "description_tooltip": null,
      "layout": "IPY_MODEL_b633141221034e82ad1c231e880c6cce",
      "max": 1416219,
      "min": 0,
      "orientation": "horizontal",
      "style": "IPY_MODEL_c9834bc962ea46f9acd7829ed6b17278",
      "value": 1416219
     }
    },
    "0981b4c23bb04f12b30d92543269ad40": {
     "model_module": "@jupyter-widgets/controls",
     "model_module_version": "1.5.0",
     "model_name": "DescriptionStyleModel",
     "state": {
      "_model_module": "@jupyter-widgets/controls",
      "_model_module_version": "1.5.0",
      "_model_name": "DescriptionStyleModel",
      "_view_count": null,
      "_view_module": "@jupyter-widgets/base",
      "_view_module_version": "1.2.0",
      "_view_name": "StyleView",
      "description_width": ""
     }
    },
    "0a7c598ace6b4ac6b91c8b372909cc19": {
     "model_module": "@jupyter-widgets/base",
     "model_module_version": "1.2.0",
     "model_name": "LayoutModel",
     "state": {
      "_model_module": "@jupyter-widgets/base",
      "_model_module_version": "1.2.0",
      "_model_name": "LayoutModel",
      "_view_count": null,
      "_view_module": "@jupyter-widgets/base",
      "_view_module_version": "1.2.0",
      "_view_name": "LayoutView",
      "align_content": null,
      "align_items": null,
      "align_self": null,
      "border": null,
      "bottom": null,
      "display": null,
      "flex": null,
      "flex_flow": null,
      "grid_area": null,
      "grid_auto_columns": null,
      "grid_auto_flow": null,
      "grid_auto_rows": null,
      "grid_column": null,
      "grid_gap": null,
      "grid_row": null,
      "grid_template_areas": null,
      "grid_template_columns": null,
      "grid_template_rows": null,
      "height": null,
      "justify_content": null,
      "justify_items": null,
      "left": null,
      "margin": null,
      "max_height": null,
      "max_width": null,
      "min_height": null,
      "min_width": null,
      "object_fit": null,
      "object_position": null,
      "order": null,
      "overflow": null,
      "overflow_x": null,
      "overflow_y": null,
      "padding": null,
      "right": null,
      "top": null,
      "visibility": null,
      "width": null
     }
    },
    "0b0c65a0bd5b469aa44dba750034d500": {
     "model_module": "@jupyter-widgets/controls",
     "model_module_version": "1.5.0",
     "model_name": "HTMLModel",
     "state": {
      "_dom_classes": [],
      "_model_module": "@jupyter-widgets/controls",
      "_model_module_version": "1.5.0",
      "_model_name": "HTMLModel",
      "_view_count": null,
      "_view_module": "@jupyter-widgets/controls",
      "_view_module_version": "1.5.0",
      "_view_name": "HTMLView",
      "description": "",
      "description_tooltip": null,
      "layout": "IPY_MODEL_62d43ab8569641448ede77a93339f316",
      "placeholder": "​",
      "style": "IPY_MODEL_3e348caa55d94e3fa2c3da40f167d350",
      "value": " 440M/440M [00:04&lt;00:00, 105MB/s]"
     }
    },
    "0bae0e3120e0473498ecdfcca2f34902": {
     "model_module": "@jupyter-widgets/controls",
     "model_module_version": "1.5.0",
     "model_name": "HTMLModel",
     "state": {
      "_dom_classes": [],
      "_model_module": "@jupyter-widgets/controls",
      "_model_module_version": "1.5.0",
      "_model_name": "HTMLModel",
      "_view_count": null,
      "_view_module": "@jupyter-widgets/controls",
      "_view_module_version": "1.5.0",
      "_view_name": "HTMLView",
      "description": "",
      "description_tooltip": null,
      "layout": "IPY_MODEL_c43eb7aabfd84178aec0fce0e5779a8e",
      "placeholder": "​",
      "style": "IPY_MODEL_20ad4823fd874a9b9d7eedf755ed94c4",
      "value": " 1.42M/1.42M [00:00&lt;00:00, 3.21MB/s]"
     }
    },
    "0dea2f71479a4edfb98865235401b4a2": {
     "model_module": "@jupyter-widgets/base",
     "model_module_version": "1.2.0",
     "model_name": "LayoutModel",
     "state": {
      "_model_module": "@jupyter-widgets/base",
      "_model_module_version": "1.2.0",
      "_model_name": "LayoutModel",
      "_view_count": null,
      "_view_module": "@jupyter-widgets/base",
      "_view_module_version": "1.2.0",
      "_view_name": "LayoutView",
      "align_content": null,
      "align_items": null,
      "align_self": null,
      "border": null,
      "bottom": null,
      "display": null,
      "flex": null,
      "flex_flow": null,
      "grid_area": null,
      "grid_auto_columns": null,
      "grid_auto_flow": null,
      "grid_auto_rows": null,
      "grid_column": null,
      "grid_gap": null,
      "grid_row": null,
      "grid_template_areas": null,
      "grid_template_columns": null,
      "grid_template_rows": null,
      "height": null,
      "justify_content": null,
      "justify_items": null,
      "left": null,
      "margin": null,
      "max_height": null,
      "max_width": null,
      "min_height": null,
      "min_width": null,
      "object_fit": null,
      "object_position": null,
      "order": null,
      "overflow": null,
      "overflow_x": null,
      "overflow_y": null,
      "padding": null,
      "right": null,
      "top": null,
      "visibility": null,
      "width": null
     }
    },
    "0f22fb9775ea42b7b71457833d252e3b": {
     "model_module": "@jupyter-widgets/controls",
     "model_module_version": "1.5.0",
     "model_name": "HTMLModel",
     "state": {
      "_dom_classes": [],
      "_model_module": "@jupyter-widgets/controls",
      "_model_module_version": "1.5.0",
      "_model_name": "HTMLModel",
      "_view_count": null,
      "_view_module": "@jupyter-widgets/controls",
      "_view_module_version": "1.5.0",
      "_view_name": "HTMLView",
      "description": "",
      "description_tooltip": null,
      "layout": "IPY_MODEL_9e626345c0ac44b1995d7eda95b079c1",
      "placeholder": "​",
      "style": "IPY_MODEL_37ed329cb7a4470bbcf750f355e52520",
      "value": "Generating validation split: 100%"
     }
    },
    "0f38ec1580ad4108a502b3a05ec75863": {
     "model_module": "@jupyter-widgets/controls",
     "model_module_version": "1.5.0",
     "model_name": "FloatProgressModel",
     "state": {
      "_dom_classes": [],
      "_model_module": "@jupyter-widgets/controls",
      "_model_module_version": "1.5.0",
      "_model_name": "FloatProgressModel",
      "_view_count": null,
      "_view_module": "@jupyter-widgets/controls",
      "_view_module_version": "1.5.0",
      "_view_name": "ProgressView",
      "bar_style": "success",
      "description": "",
      "description_tooltip": null,
      "layout": "IPY_MODEL_8d842a656ebf45729b2466d59474a07b",
      "max": 402715,
      "min": 0,
      "orientation": "horizontal",
      "style": "IPY_MODEL_3db84fb5556e40d88836503b19a052b6",
      "value": 402715
     }
    },
    "105fe7d7c1b849b486110dd1cc58c6b3": {
     "model_module": "@jupyter-widgets/controls",
     "model_module_version": "1.5.0",
     "model_name": "DescriptionStyleModel",
     "state": {
      "_model_module": "@jupyter-widgets/controls",
      "_model_module_version": "1.5.0",
      "_model_name": "DescriptionStyleModel",
      "_view_count": null,
      "_view_module": "@jupyter-widgets/base",
      "_view_module_version": "1.2.0",
      "_view_name": "StyleView",
      "description_width": ""
     }
    },
    "11736bbe3d474ecf91e918c77d065384": {
     "model_module": "@jupyter-widgets/controls",
     "model_module_version": "1.5.0",
     "model_name": "DescriptionStyleModel",
     "state": {
      "_model_module": "@jupyter-widgets/controls",
      "_model_module_version": "1.5.0",
      "_model_name": "DescriptionStyleModel",
      "_view_count": null,
      "_view_module": "@jupyter-widgets/base",
      "_view_module_version": "1.2.0",
      "_view_name": "StyleView",
      "description_width": ""
     }
    },
    "19f4e085a1144120a2e0e1e75847e7ac": {
     "model_module": "@jupyter-widgets/base",
     "model_module_version": "1.2.0",
     "model_name": "LayoutModel",
     "state": {
      "_model_module": "@jupyter-widgets/base",
      "_model_module_version": "1.2.0",
      "_model_name": "LayoutModel",
      "_view_count": null,
      "_view_module": "@jupyter-widgets/base",
      "_view_module_version": "1.2.0",
      "_view_name": "LayoutView",
      "align_content": null,
      "align_items": null,
      "align_self": null,
      "border": null,
      "bottom": null,
      "display": null,
      "flex": null,
      "flex_flow": null,
      "grid_area": null,
      "grid_auto_columns": null,
      "grid_auto_flow": null,
      "grid_auto_rows": null,
      "grid_column": null,
      "grid_gap": null,
      "grid_row": null,
      "grid_template_areas": null,
      "grid_template_columns": null,
      "grid_template_rows": null,
      "height": null,
      "justify_content": null,
      "justify_items": null,
      "left": null,
      "margin": null,
      "max_height": null,
      "max_width": null,
      "min_height": null,
      "min_width": null,
      "object_fit": null,
      "object_position": null,
      "order": null,
      "overflow": null,
      "overflow_x": null,
      "overflow_y": null,
      "padding": null,
      "right": null,
      "top": null,
      "visibility": null,
      "width": null
     }
    },
    "19f51470fc0f4136bb1d66501f54b942": {
     "model_module": "@jupyter-widgets/controls",
     "model_module_version": "1.5.0",
     "model_name": "ProgressStyleModel",
     "state": {
      "_model_module": "@jupyter-widgets/controls",
      "_model_module_version": "1.5.0",
      "_model_name": "ProgressStyleModel",
      "_view_count": null,
      "_view_module": "@jupyter-widgets/base",
      "_view_module_version": "1.2.0",
      "_view_name": "StyleView",
      "bar_color": null,
      "description_width": ""
     }
    },
    "1a0140263d5e40779e59dbbb85af996e": {
     "model_module": "@jupyter-widgets/controls",
     "model_module_version": "1.5.0",
     "model_name": "DescriptionStyleModel",
     "state": {
      "_model_module": "@jupyter-widgets/controls",
      "_model_module_version": "1.5.0",
      "_model_name": "DescriptionStyleModel",
      "_view_count": null,
      "_view_module": "@jupyter-widgets/base",
      "_view_module_version": "1.2.0",
      "_view_name": "StyleView",
      "description_width": ""
     }
    },
    "1b0a774c41c3408ca085c703ea172807": {
     "model_module": "@jupyter-widgets/base",
     "model_module_version": "1.2.0",
     "model_name": "LayoutModel",
     "state": {
      "_model_module": "@jupyter-widgets/base",
      "_model_module_version": "1.2.0",
      "_model_name": "LayoutModel",
      "_view_count": null,
      "_view_module": "@jupyter-widgets/base",
      "_view_module_version": "1.2.0",
      "_view_name": "LayoutView",
      "align_content": null,
      "align_items": null,
      "align_self": null,
      "border": null,
      "bottom": null,
      "display": null,
      "flex": null,
      "flex_flow": null,
      "grid_area": null,
      "grid_auto_columns": null,
      "grid_auto_flow": null,
      "grid_auto_rows": null,
      "grid_column": null,
      "grid_gap": null,
      "grid_row": null,
      "grid_template_areas": null,
      "grid_template_columns": null,
      "grid_template_rows": null,
      "height": null,
      "justify_content": null,
      "justify_items": null,
      "left": null,
      "margin": null,
      "max_height": null,
      "max_width": null,
      "min_height": null,
      "min_width": null,
      "object_fit": null,
      "object_position": null,
      "order": null,
      "overflow": null,
      "overflow_x": null,
      "overflow_y": null,
      "padding": null,
      "right": null,
      "top": null,
      "visibility": null,
      "width": null
     }
    },
    "1b7ef4b20f4a4fdb9364fcf32f09f80e": {
     "model_module": "@jupyter-widgets/controls",
     "model_module_version": "1.5.0",
     "model_name": "FloatProgressModel",
     "state": {
      "_dom_classes": [],
      "_model_module": "@jupyter-widgets/controls",
      "_model_module_version": "1.5.0",
      "_model_name": "FloatProgressModel",
      "_view_count": null,
      "_view_module": "@jupyter-widgets/controls",
      "_view_module_version": "1.5.0",
      "_view_name": "ProgressView",
      "bar_style": "success",
      "description": "",
      "description_tooltip": null,
      "layout": "IPY_MODEL_e7f855e299df4947a6713e9243e7d4f6",
      "max": 202396,
      "min": 0,
      "orientation": "horizontal",
      "style": "IPY_MODEL_1cae174588924ff6bdd9ba7ef64d0462",
      "value": 202396
     }
    },
    "1cae174588924ff6bdd9ba7ef64d0462": {
     "model_module": "@jupyter-widgets/controls",
     "model_module_version": "1.5.0",
     "model_name": "ProgressStyleModel",
     "state": {
      "_model_module": "@jupyter-widgets/controls",
      "_model_module_version": "1.5.0",
      "_model_name": "ProgressStyleModel",
      "_view_count": null,
      "_view_module": "@jupyter-widgets/base",
      "_view_module_version": "1.2.0",
      "_view_name": "StyleView",
      "bar_color": null,
      "description_width": ""
     }
    },
    "1cec7377770f43f2a764479529f1e871": {
     "model_module": "@jupyter-widgets/controls",
     "model_module_version": "1.5.0",
     "model_name": "DescriptionStyleModel",
     "state": {
      "_model_module": "@jupyter-widgets/controls",
      "_model_module_version": "1.5.0",
      "_model_name": "DescriptionStyleModel",
      "_view_count": null,
      "_view_module": "@jupyter-widgets/base",
      "_view_module_version": "1.2.0",
      "_view_name": "StyleView",
      "description_width": ""
     }
    },
    "1d2cc93841ab464e90ae48ad02ab1cc6": {
     "model_module": "@jupyter-widgets/controls",
     "model_module_version": "1.5.0",
     "model_name": "HTMLModel",
     "state": {
      "_dom_classes": [],
      "_model_module": "@jupyter-widgets/controls",
      "_model_module_version": "1.5.0",
      "_model_name": "HTMLModel",
      "_view_count": null,
      "_view_module": "@jupyter-widgets/controls",
      "_view_module_version": "1.5.0",
      "_view_name": "HTMLView",
      "description": "",
      "description_tooltip": null,
      "layout": "IPY_MODEL_796631dad761497581992b0ece6ff772",
      "placeholder": "​",
      "style": "IPY_MODEL_d1296a65773b4b2ca4c2337a929590c8",
      "value": "Downloading data: 100%"
     }
    },
    "1e4d11502fc14146909bd2b4620f0277": {
     "model_module": "@jupyter-widgets/base",
     "model_module_version": "1.2.0",
     "model_name": "LayoutModel",
     "state": {
      "_model_module": "@jupyter-widgets/base",
      "_model_module_version": "1.2.0",
      "_model_name": "LayoutModel",
      "_view_count": null,
      "_view_module": "@jupyter-widgets/base",
      "_view_module_version": "1.2.0",
      "_view_name": "LayoutView",
      "align_content": null,
      "align_items": null,
      "align_self": null,
      "border": null,
      "bottom": null,
      "display": null,
      "flex": null,
      "flex_flow": null,
      "grid_area": null,
      "grid_auto_columns": null,
      "grid_auto_flow": null,
      "grid_auto_rows": null,
      "grid_column": null,
      "grid_gap": null,
      "grid_row": null,
      "grid_template_areas": null,
      "grid_template_columns": null,
      "grid_template_rows": null,
      "height": null,
      "justify_content": null,
      "justify_items": null,
      "left": null,
      "margin": null,
      "max_height": null,
      "max_width": null,
      "min_height": null,
      "min_width": null,
      "object_fit": null,
      "object_position": null,
      "order": null,
      "overflow": null,
      "overflow_x": null,
      "overflow_y": null,
      "padding": null,
      "right": null,
      "top": null,
      "visibility": null,
      "width": null
     }
    },
    "1f8cccd9e1184e70a96a8b1174d925a8": {
     "model_module": "@jupyter-widgets/controls",
     "model_module_version": "1.5.0",
     "model_name": "DescriptionStyleModel",
     "state": {
      "_model_module": "@jupyter-widgets/controls",
      "_model_module_version": "1.5.0",
      "_model_name": "DescriptionStyleModel",
      "_view_count": null,
      "_view_module": "@jupyter-widgets/base",
      "_view_module_version": "1.2.0",
      "_view_name": "StyleView",
      "description_width": ""
     }
    },
    "204e741f8d76474b972e47b6e77ad44a": {
     "model_module": "@jupyter-widgets/controls",
     "model_module_version": "1.5.0",
     "model_name": "HBoxModel",
     "state": {
      "_dom_classes": [],
      "_model_module": "@jupyter-widgets/controls",
      "_model_module_version": "1.5.0",
      "_model_name": "HBoxModel",
      "_view_count": null,
      "_view_module": "@jupyter-widgets/controls",
      "_view_module_version": "1.5.0",
      "_view_name": "HBoxView",
      "box_style": "",
      "children": [
       "IPY_MODEL_0f22fb9775ea42b7b71457833d252e3b",
       "IPY_MODEL_b7e9e47bd9514015a10587643a58c254",
       "IPY_MODEL_f5108357b53041ffab4682ea12224b1b"
      ],
      "layout": "IPY_MODEL_1b0a774c41c3408ca085c703ea172807"
     }
    },
    "20ad4823fd874a9b9d7eedf755ed94c4": {
     "model_module": "@jupyter-widgets/controls",
     "model_module_version": "1.5.0",
     "model_name": "DescriptionStyleModel",
     "state": {
      "_model_module": "@jupyter-widgets/controls",
      "_model_module_version": "1.5.0",
      "_model_name": "DescriptionStyleModel",
      "_view_count": null,
      "_view_module": "@jupyter-widgets/base",
      "_view_module_version": "1.2.0",
      "_view_name": "StyleView",
      "description_width": ""
     }
    },
    "22ecd295b46549ea9b758bc1b6004486": {
     "model_module": "@jupyter-widgets/base",
     "model_module_version": "1.2.0",
     "model_name": "LayoutModel",
     "state": {
      "_model_module": "@jupyter-widgets/base",
      "_model_module_version": "1.2.0",
      "_model_name": "LayoutModel",
      "_view_count": null,
      "_view_module": "@jupyter-widgets/base",
      "_view_module_version": "1.2.0",
      "_view_name": "LayoutView",
      "align_content": null,
      "align_items": null,
      "align_self": null,
      "border": null,
      "bottom": null,
      "display": null,
      "flex": null,
      "flex_flow": null,
      "grid_area": null,
      "grid_auto_columns": null,
      "grid_auto_flow": null,
      "grid_auto_rows": null,
      "grid_column": null,
      "grid_gap": null,
      "grid_row": null,
      "grid_template_areas": null,
      "grid_template_columns": null,
      "grid_template_rows": null,
      "height": null,
      "justify_content": null,
      "justify_items": null,
      "left": null,
      "margin": null,
      "max_height": null,
      "max_width": null,
      "min_height": null,
      "min_width": null,
      "object_fit": null,
      "object_position": null,
      "order": null,
      "overflow": null,
      "overflow_x": null,
      "overflow_y": null,
      "padding": null,
      "right": null,
      "top": null,
      "visibility": null,
      "width": null
     }
    },
    "233be581d8344493aa85f16d64ceb1e8": {
     "model_module": "@jupyter-widgets/controls",
     "model_module_version": "1.5.0",
     "model_name": "HBoxModel",
     "state": {
      "_dom_classes": [],
      "_model_module": "@jupyter-widgets/controls",
      "_model_module_version": "1.5.0",
      "_model_name": "HBoxModel",
      "_view_count": null,
      "_view_module": "@jupyter-widgets/controls",
      "_view_module_version": "1.5.0",
      "_view_name": "HBoxView",
      "box_style": "",
      "children": [
       "IPY_MODEL_62678330995c43bd8c61273e0c2a158d",
       "IPY_MODEL_e7e19b9231f94997b51636196c52902a",
       "IPY_MODEL_495380853d514e0686550d8f4d6a3e2d"
      ],
      "layout": "IPY_MODEL_1e4d11502fc14146909bd2b4620f0277"
     }
    },
    "2421961bf89d4d4db7da41d71c4b9c29": {
     "model_module": "@jupyter-widgets/base",
     "model_module_version": "1.2.0",
     "model_name": "LayoutModel",
     "state": {
      "_model_module": "@jupyter-widgets/base",
      "_model_module_version": "1.2.0",
      "_model_name": "LayoutModel",
      "_view_count": null,
      "_view_module": "@jupyter-widgets/base",
      "_view_module_version": "1.2.0",
      "_view_name": "LayoutView",
      "align_content": null,
      "align_items": null,
      "align_self": null,
      "border": null,
      "bottom": null,
      "display": null,
      "flex": null,
      "flex_flow": null,
      "grid_area": null,
      "grid_auto_columns": null,
      "grid_auto_flow": null,
      "grid_auto_rows": null,
      "grid_column": null,
      "grid_gap": null,
      "grid_row": null,
      "grid_template_areas": null,
      "grid_template_columns": null,
      "grid_template_rows": null,
      "height": null,
      "justify_content": null,
      "justify_items": null,
      "left": null,
      "margin": null,
      "max_height": null,
      "max_width": null,
      "min_height": null,
      "min_width": null,
      "object_fit": null,
      "object_position": null,
      "order": null,
      "overflow": null,
      "overflow_x": null,
      "overflow_y": null,
      "padding": null,
      "right": null,
      "top": null,
      "visibility": null,
      "width": null
     }
    },
    "288c9b8c6b3e4045b5a1b23d9a0a472f": {
     "model_module": "@jupyter-widgets/controls",
     "model_module_version": "1.5.0",
     "model_name": "ProgressStyleModel",
     "state": {
      "_model_module": "@jupyter-widgets/controls",
      "_model_module_version": "1.5.0",
      "_model_name": "ProgressStyleModel",
      "_view_count": null,
      "_view_module": "@jupyter-widgets/base",
      "_view_module_version": "1.2.0",
      "_view_name": "StyleView",
      "bar_color": null,
      "description_width": ""
     }
    },
    "28b55a91eadf4dc3b55823a9aec34a0b": {
     "model_module": "@jupyter-widgets/controls",
     "model_module_version": "1.5.0",
     "model_name": "DescriptionStyleModel",
     "state": {
      "_model_module": "@jupyter-widgets/controls",
      "_model_module_version": "1.5.0",
      "_model_name": "DescriptionStyleModel",
      "_view_count": null,
      "_view_module": "@jupyter-widgets/base",
      "_view_module_version": "1.2.0",
      "_view_name": "StyleView",
      "description_width": ""
     }
    },
    "291d980dfaea4c2a91d2c56981230c6e": {
     "model_module": "@jupyter-widgets/controls",
     "model_module_version": "1.5.0",
     "model_name": "FloatProgressModel",
     "state": {
      "_dom_classes": [],
      "_model_module": "@jupyter-widgets/controls",
      "_model_module_version": "1.5.0",
      "_model_name": "FloatProgressModel",
      "_view_count": null,
      "_view_module": "@jupyter-widgets/controls",
      "_view_module_version": "1.5.0",
      "_view_name": "ProgressView",
      "bar_style": "success",
      "description": "",
      "description_tooltip": null,
      "layout": "IPY_MODEL_9ba32169136d495f99d5f666d853b27f",
      "max": 2000,
      "min": 0,
      "orientation": "horizontal",
      "style": "IPY_MODEL_06746fbd74d242f79f7dc6fe6db46204",
      "value": 2000
     }
    },
    "29b28edb5fea4c8082f4f0cbe8a00522": {
     "model_module": "@jupyter-widgets/controls",
     "model_module_version": "1.5.0",
     "model_name": "HTMLModel",
     "state": {
      "_dom_classes": [],
      "_model_module": "@jupyter-widgets/controls",
      "_model_module_version": "1.5.0",
      "_model_name": "HTMLModel",
      "_view_count": null,
      "_view_module": "@jupyter-widgets/controls",
      "_view_module_version": "1.5.0",
      "_view_name": "HTMLView",
      "description": "",
      "description_tooltip": null,
      "layout": "IPY_MODEL_2421961bf89d4d4db7da41d71c4b9c29",
      "placeholder": "​",
      "style": "IPY_MODEL_1cec7377770f43f2a764479529f1e871",
      "value": "config.json: 100%"
     }
    },
    "34ca5abb764f481881a681b87ac0c138": {
     "model_module": "@jupyter-widgets/controls",
     "model_module_version": "1.5.0",
     "model_name": "HTMLModel",
     "state": {
      "_dom_classes": [],
      "_model_module": "@jupyter-widgets/controls",
      "_model_module_version": "1.5.0",
      "_model_name": "HTMLModel",
      "_view_count": null,
      "_view_module": "@jupyter-widgets/controls",
      "_view_module_version": "1.5.0",
      "_view_name": "HTMLView",
      "description": "",
      "description_tooltip": null,
      "layout": "IPY_MODEL_007a81f025134ca494ab190a3615ff78",
      "placeholder": "​",
      "style": "IPY_MODEL_28b55a91eadf4dc3b55823a9aec34a0b",
      "value": " 403k/403k [00:00&lt;00:00, 1.72MB/s]"
     }
    },
    "37ed329cb7a4470bbcf750f355e52520": {
     "model_module": "@jupyter-widgets/controls",
     "model_module_version": "1.5.0",
     "model_name": "DescriptionStyleModel",
     "state": {
      "_model_module": "@jupyter-widgets/controls",
      "_model_module_version": "1.5.0",
      "_model_name": "DescriptionStyleModel",
      "_view_count": null,
      "_view_module": "@jupyter-widgets/base",
      "_view_module_version": "1.2.0",
      "_view_name": "StyleView",
      "description_width": ""
     }
    },
    "395a0464632549319a14ec14856edafb": {
     "model_module": "@jupyter-widgets/controls",
     "model_module_version": "1.5.0",
     "model_name": "HTMLModel",
     "state": {
      "_dom_classes": [],
      "_model_module": "@jupyter-widgets/controls",
      "_model_module_version": "1.5.0",
      "_model_name": "HTMLModel",
      "_view_count": null,
      "_view_module": "@jupyter-widgets/controls",
      "_view_module_version": "1.5.0",
      "_view_name": "HTMLView",
      "description": "",
      "description_tooltip": null,
      "layout": "IPY_MODEL_0dea2f71479a4edfb98865235401b4a2",
      "placeholder": "​",
      "style": "IPY_MODEL_4917243246304657b6dca2a3c3c6d9c9",
      "value": " 28.0/28.0 [00:00&lt;00:00, 394B/s]"
     }
    },
    "3db84fb5556e40d88836503b19a052b6": {
     "model_module": "@jupyter-widgets/controls",
     "model_module_version": "1.5.0",
     "model_name": "ProgressStyleModel",
     "state": {
      "_model_module": "@jupyter-widgets/controls",
      "_model_module_version": "1.5.0",
      "_model_name": "ProgressStyleModel",
      "_view_count": null,
      "_view_module": "@jupyter-widgets/base",
      "_view_module_version": "1.2.0",
      "_view_name": "StyleView",
      "bar_color": null,
      "description_width": ""
     }
    },
    "3e348caa55d94e3fa2c3da40f167d350": {
     "model_module": "@jupyter-widgets/controls",
     "model_module_version": "1.5.0",
     "model_name": "DescriptionStyleModel",
     "state": {
      "_model_module": "@jupyter-widgets/controls",
      "_model_module_version": "1.5.0",
      "_model_name": "DescriptionStyleModel",
      "_view_count": null,
      "_view_module": "@jupyter-widgets/base",
      "_view_module_version": "1.2.0",
      "_view_name": "StyleView",
      "description_width": ""
     }
    },
    "416c144bed4d4e468d20f80839cda605": {
     "model_module": "@jupyter-widgets/controls",
     "model_module_version": "1.5.0",
     "model_name": "FloatProgressModel",
     "state": {
      "_dom_classes": [],
      "_model_module": "@jupyter-widgets/controls",
      "_model_module_version": "1.5.0",
      "_model_name": "FloatProgressModel",
      "_view_count": null,
      "_view_module": "@jupyter-widgets/controls",
      "_view_module_version": "1.5.0",
      "_view_name": "ProgressView",
      "bar_style": "success",
      "description": "",
      "description_tooltip": null,
      "layout": "IPY_MODEL_4383f1a118aa4e0391bb18990ecb9016",
      "max": 440449768,
      "min": 0,
      "orientation": "horizontal",
      "style": "IPY_MODEL_4f54a9640bd74efb90202d64fd1e59bb",
      "value": 440449768
     }
    },
    "436ba13003544cd69d8c7d70bdc9ab5c": {
     "model_module": "@jupyter-widgets/base",
     "model_module_version": "1.2.0",
     "model_name": "LayoutModel",
     "state": {
      "_model_module": "@jupyter-widgets/base",
      "_model_module_version": "1.2.0",
      "_model_name": "LayoutModel",
      "_view_count": null,
      "_view_module": "@jupyter-widgets/base",
      "_view_module_version": "1.2.0",
      "_view_name": "LayoutView",
      "align_content": null,
      "align_items": null,
      "align_self": null,
      "border": null,
      "bottom": null,
      "display": null,
      "flex": null,
      "flex_flow": null,
      "grid_area": null,
      "grid_auto_columns": null,
      "grid_auto_flow": null,
      "grid_auto_rows": null,
      "grid_column": null,
      "grid_gap": null,
      "grid_row": null,
      "grid_template_areas": null,
      "grid_template_columns": null,
      "grid_template_rows": null,
      "height": null,
      "justify_content": null,
      "justify_items": null,
      "left": null,
      "margin": null,
      "max_height": null,
      "max_width": null,
      "min_height": null,
      "min_width": null,
      "object_fit": null,
      "object_position": null,
      "order": null,
      "overflow": null,
      "overflow_x": null,
      "overflow_y": null,
      "padding": null,
      "right": null,
      "top": null,
      "visibility": null,
      "width": null
     }
    },
    "4383f1a118aa4e0391bb18990ecb9016": {
     "model_module": "@jupyter-widgets/base",
     "model_module_version": "1.2.0",
     "model_name": "LayoutModel",
     "state": {
      "_model_module": "@jupyter-widgets/base",
      "_model_module_version": "1.2.0",
      "_model_name": "LayoutModel",
      "_view_count": null,
      "_view_module": "@jupyter-widgets/base",
      "_view_module_version": "1.2.0",
      "_view_name": "LayoutView",
      "align_content": null,
      "align_items": null,
      "align_self": null,
      "border": null,
      "bottom": null,
      "display": null,
      "flex": null,
      "flex_flow": null,
      "grid_area": null,
      "grid_auto_columns": null,
      "grid_auto_flow": null,
      "grid_auto_rows": null,
      "grid_column": null,
      "grid_gap": null,
      "grid_row": null,
      "grid_template_areas": null,
      "grid_template_columns": null,
      "grid_template_rows": null,
      "height": null,
      "justify_content": null,
      "justify_items": null,
      "left": null,
      "margin": null,
      "max_height": null,
      "max_width": null,
      "min_height": null,
      "min_width": null,
      "object_fit": null,
      "object_position": null,
      "order": null,
      "overflow": null,
      "overflow_x": null,
      "overflow_y": null,
      "padding": null,
      "right": null,
      "top": null,
      "visibility": null,
      "width": null
     }
    },
    "4582ce7c16874a5d8083a0f85b843514": {
     "model_module": "@jupyter-widgets/controls",
     "model_module_version": "1.5.0",
     "model_name": "FloatProgressModel",
     "state": {
      "_dom_classes": [],
      "_model_module": "@jupyter-widgets/controls",
      "_model_module_version": "1.5.0",
      "_model_name": "FloatProgressModel",
      "_view_count": null,
      "_view_module": "@jupyter-widgets/controls",
      "_view_module_version": "1.5.0",
      "_view_name": "ProgressView",
      "bar_style": "success",
      "description": "",
      "description_tooltip": null,
      "layout": "IPY_MODEL_90d35b10daa34c4dbcc3c7dbebb10c0b",
      "max": 570,
      "min": 0,
      "orientation": "horizontal",
      "style": "IPY_MODEL_eabe0ddf16b84417aef609b9985c81b6",
      "value": 570
     }
    },
    "48539b6a805f4c439669013fc3147b7e": {
     "model_module": "@jupyter-widgets/controls",
     "model_module_version": "1.5.0",
     "model_name": "HTMLModel",
     "state": {
      "_dom_classes": [],
      "_model_module": "@jupyter-widgets/controls",
      "_model_module_version": "1.5.0",
      "_model_name": "HTMLModel",
      "_view_count": null,
      "_view_module": "@jupyter-widgets/controls",
      "_view_module_version": "1.5.0",
      "_view_name": "HTMLView",
      "description": "",
      "description_tooltip": null,
      "layout": "IPY_MODEL_ced64c63d7a54181bb118cb6d66cfb16",
      "placeholder": "​",
      "style": "IPY_MODEL_11736bbe3d474ecf91e918c77d065384",
      "value": "Generating train split: 100%"
     }
    },
    "48d1e1d769884ef19cee5db9a9653e3c": {
     "model_module": "@jupyter-widgets/base",
     "model_module_version": "1.2.0",
     "model_name": "LayoutModel",
     "state": {
      "_model_module": "@jupyter-widgets/base",
      "_model_module_version": "1.2.0",
      "_model_name": "LayoutModel",
      "_view_count": null,
      "_view_module": "@jupyter-widgets/base",
      "_view_module_version": "1.2.0",
      "_view_name": "LayoutView",
      "align_content": null,
      "align_items": null,
      "align_self": null,
      "border": null,
      "bottom": null,
      "display": null,
      "flex": null,
      "flex_flow": null,
      "grid_area": null,
      "grid_auto_columns": null,
      "grid_auto_flow": null,
      "grid_auto_rows": null,
      "grid_column": null,
      "grid_gap": null,
      "grid_row": null,
      "grid_template_areas": null,
      "grid_template_columns": null,
      "grid_template_rows": null,
      "height": null,
      "justify_content": null,
      "justify_items": null,
      "left": null,
      "margin": null,
      "max_height": null,
      "max_width": null,
      "min_height": null,
      "min_width": null,
      "object_fit": null,
      "object_position": null,
      "order": null,
      "overflow": null,
      "overflow_x": null,
      "overflow_y": null,
      "padding": null,
      "right": null,
      "top": null,
      "visibility": null,
      "width": null
     }
    },
    "4917243246304657b6dca2a3c3c6d9c9": {
     "model_module": "@jupyter-widgets/controls",
     "model_module_version": "1.5.0",
     "model_name": "DescriptionStyleModel",
     "state": {
      "_model_module": "@jupyter-widgets/controls",
      "_model_module_version": "1.5.0",
      "_model_name": "DescriptionStyleModel",
      "_view_count": null,
      "_view_module": "@jupyter-widgets/base",
      "_view_module_version": "1.2.0",
      "_view_name": "StyleView",
      "description_width": ""
     }
    },
    "495380853d514e0686550d8f4d6a3e2d": {
     "model_module": "@jupyter-widgets/controls",
     "model_module_version": "1.5.0",
     "model_name": "HTMLModel",
     "state": {
      "_dom_classes": [],
      "_model_module": "@jupyter-widgets/controls",
      "_model_module_version": "1.5.0",
      "_model_name": "HTMLModel",
      "_view_count": null,
      "_view_module": "@jupyter-widgets/controls",
      "_view_module_version": "1.5.0",
      "_view_name": "HTMLView",
      "description": "",
      "description_tooltip": null,
      "layout": "IPY_MODEL_b515d00749294e5a8bbcfcff01c833d5",
      "placeholder": "​",
      "style": "IPY_MODEL_ae55254a80ca4eea93f98690a4be9747",
      "value": " 466k/466k [00:00&lt;00:00, 6.90MB/s]"
     }
    },
    "4f2c1d9e82ca4fa0a366e9a46d04acf4": {
     "model_module": "@jupyter-widgets/controls",
     "model_module_version": "1.5.0",
     "model_name": "DescriptionStyleModel",
     "state": {
      "_model_module": "@jupyter-widgets/controls",
      "_model_module_version": "1.5.0",
      "_model_name": "DescriptionStyleModel",
      "_view_count": null,
      "_view_module": "@jupyter-widgets/base",
      "_view_module_version": "1.2.0",
      "_view_name": "StyleView",
      "description_width": ""
     }
    },
    "4f54a9640bd74efb90202d64fd1e59bb": {
     "model_module": "@jupyter-widgets/controls",
     "model_module_version": "1.5.0",
     "model_name": "ProgressStyleModel",
     "state": {
      "_model_module": "@jupyter-widgets/controls",
      "_model_module_version": "1.5.0",
      "_model_name": "ProgressStyleModel",
      "_view_count": null,
      "_view_module": "@jupyter-widgets/base",
      "_view_module_version": "1.2.0",
      "_view_name": "StyleView",
      "bar_color": null,
      "description_width": ""
     }
    },
    "4fb441385a634d57a0133836aab14624": {
     "model_module": "@jupyter-widgets/controls",
     "model_module_version": "1.5.0",
     "model_name": "FloatProgressModel",
     "state": {
      "_dom_classes": [],
      "_model_module": "@jupyter-widgets/controls",
      "_model_module_version": "1.5.0",
      "_model_name": "FloatProgressModel",
      "_view_count": null,
      "_view_module": "@jupyter-widgets/controls",
      "_view_module_version": "1.5.0",
      "_view_name": "ProgressView",
      "bar_style": "success",
      "description": "",
      "description_tooltip": null,
      "layout": "IPY_MODEL_bb8bb9ecd8c344e08a40320add50525f",
      "max": 7004,
      "min": 0,
      "orientation": "horizontal",
      "style": "IPY_MODEL_d837a241ec004d1eb1ceb06391df9a3b",
      "value": 7004
     }
    },
    "592d108383694c78872a095e13eb9a9a": {
     "model_module": "@jupyter-widgets/base",
     "model_module_version": "1.2.0",
     "model_name": "LayoutModel",
     "state": {
      "_model_module": "@jupyter-widgets/base",
      "_model_module_version": "1.2.0",
      "_model_name": "LayoutModel",
      "_view_count": null,
      "_view_module": "@jupyter-widgets/base",
      "_view_module_version": "1.2.0",
      "_view_name": "LayoutView",
      "align_content": null,
      "align_items": null,
      "align_self": null,
      "border": null,
      "bottom": null,
      "display": null,
      "flex": null,
      "flex_flow": null,
      "grid_area": null,
      "grid_auto_columns": null,
      "grid_auto_flow": null,
      "grid_auto_rows": null,
      "grid_column": null,
      "grid_gap": null,
      "grid_row": null,
      "grid_template_areas": null,
      "grid_template_columns": null,
      "grid_template_rows": null,
      "height": null,
      "justify_content": null,
      "justify_items": null,
      "left": null,
      "margin": null,
      "max_height": null,
      "max_width": null,
      "min_height": null,
      "min_width": null,
      "object_fit": null,
      "object_position": null,
      "order": null,
      "overflow": null,
      "overflow_x": null,
      "overflow_y": null,
      "padding": null,
      "right": null,
      "top": null,
      "visibility": null,
      "width": null
     }
    },
    "599deca878a44a0ebe1ee5fa79b46d58": {
     "model_module": "@jupyter-widgets/controls",
     "model_module_version": "1.5.0",
     "model_name": "HTMLModel",
     "state": {
      "_dom_classes": [],
      "_model_module": "@jupyter-widgets/controls",
      "_model_module_version": "1.5.0",
      "_model_name": "HTMLModel",
      "_view_count": null,
      "_view_module": "@jupyter-widgets/controls",
      "_view_module_version": "1.5.0",
      "_view_name": "HTMLView",
      "description": "",
      "description_tooltip": null,
      "layout": "IPY_MODEL_e5f48f6e067140bdb655d88a4b829061",
      "placeholder": "​",
      "style": "IPY_MODEL_8100337878264285bbcfd46070961f0e",
      "value": "vocab.txt: 100%"
     }
    },
    "59dfb976a704460888b081aeb8539f21": {
     "model_module": "@jupyter-widgets/base",
     "model_module_version": "1.2.0",
     "model_name": "LayoutModel",
     "state": {
      "_model_module": "@jupyter-widgets/base",
      "_model_module_version": "1.2.0",
      "_model_name": "LayoutModel",
      "_view_count": null,
      "_view_module": "@jupyter-widgets/base",
      "_view_module_version": "1.2.0",
      "_view_name": "LayoutView",
      "align_content": null,
      "align_items": null,
      "align_self": null,
      "border": null,
      "bottom": null,
      "display": null,
      "flex": null,
      "flex_flow": null,
      "grid_area": null,
      "grid_auto_columns": null,
      "grid_auto_flow": null,
      "grid_auto_rows": null,
      "grid_column": null,
      "grid_gap": null,
      "grid_row": null,
      "grid_template_areas": null,
      "grid_template_columns": null,
      "grid_template_rows": null,
      "height": null,
      "justify_content": null,
      "justify_items": null,
      "left": null,
      "margin": null,
      "max_height": null,
      "max_width": null,
      "min_height": null,
      "min_width": null,
      "object_fit": null,
      "object_position": null,
      "order": null,
      "overflow": null,
      "overflow_x": null,
      "overflow_y": null,
      "padding": null,
      "right": null,
      "top": null,
      "visibility": null,
      "width": null
     }
    },
    "62678330995c43bd8c61273e0c2a158d": {
     "model_module": "@jupyter-widgets/controls",
     "model_module_version": "1.5.0",
     "model_name": "HTMLModel",
     "state": {
      "_dom_classes": [],
      "_model_module": "@jupyter-widgets/controls",
      "_model_module_version": "1.5.0",
      "_model_name": "HTMLModel",
      "_view_count": null,
      "_view_module": "@jupyter-widgets/controls",
      "_view_module_version": "1.5.0",
      "_view_name": "HTMLView",
      "description": "",
      "description_tooltip": null,
      "layout": "IPY_MODEL_59dfb976a704460888b081aeb8539f21",
      "placeholder": "​",
      "style": "IPY_MODEL_93bc4f82c49642ddabc7c96b5f08b3b5",
      "value": "tokenizer.json: 100%"
     }
    },
    "62d43ab8569641448ede77a93339f316": {
     "model_module": "@jupyter-widgets/base",
     "model_module_version": "1.2.0",
     "model_name": "LayoutModel",
     "state": {
      "_model_module": "@jupyter-widgets/base",
      "_model_module_version": "1.2.0",
      "_model_name": "LayoutModel",
      "_view_count": null,
      "_view_module": "@jupyter-widgets/base",
      "_view_module_version": "1.2.0",
      "_view_name": "LayoutView",
      "align_content": null,
      "align_items": null,
      "align_self": null,
      "border": null,
      "bottom": null,
      "display": null,
      "flex": null,
      "flex_flow": null,
      "grid_area": null,
      "grid_auto_columns": null,
      "grid_auto_flow": null,
      "grid_auto_rows": null,
      "grid_column": null,
      "grid_gap": null,
      "grid_row": null,
      "grid_template_areas": null,
      "grid_template_columns": null,
      "grid_template_rows": null,
      "height": null,
      "justify_content": null,
      "justify_items": null,
      "left": null,
      "margin": null,
      "max_height": null,
      "max_width": null,
      "min_height": null,
      "min_width": null,
      "object_fit": null,
      "object_position": null,
      "order": null,
      "overflow": null,
      "overflow_x": null,
      "overflow_y": null,
      "padding": null,
      "right": null,
      "top": null,
      "visibility": null,
      "width": null
     }
    },
    "6401ffe7631a403ba0a8b9d0ebfb2322": {
     "model_module": "@jupyter-widgets/controls",
     "model_module_version": "1.5.0",
     "model_name": "DescriptionStyleModel",
     "state": {
      "_model_module": "@jupyter-widgets/controls",
      "_model_module_version": "1.5.0",
      "_model_name": "DescriptionStyleModel",
      "_view_count": null,
      "_view_module": "@jupyter-widgets/base",
      "_view_module_version": "1.2.0",
      "_view_name": "StyleView",
      "description_width": ""
     }
    },
    "6742594b20b64574a1f3f77e1a585698": {
     "model_module": "@jupyter-widgets/controls",
     "model_module_version": "1.5.0",
     "model_name": "HBoxModel",
     "state": {
      "_dom_classes": [],
      "_model_module": "@jupyter-widgets/controls",
      "_model_module_version": "1.5.0",
      "_model_name": "HBoxModel",
      "_view_count": null,
      "_view_module": "@jupyter-widgets/controls",
      "_view_module_version": "1.5.0",
      "_view_name": "HBoxView",
      "box_style": "",
      "children": [
       "IPY_MODEL_bb51a8e0d52e4aef83e9f94bf2645afc",
       "IPY_MODEL_081eb4be25084fcfa177eb13a8dce9cc",
       "IPY_MODEL_0bae0e3120e0473498ecdfcca2f34902"
      ],
      "layout": "IPY_MODEL_897359da5d0a4c30b2739fc5b9744557"
     }
    },
    "695a9692a04a48c2942837ed3878380c": {
     "model_module": "@jupyter-widgets/controls",
     "model_module_version": "1.5.0",
     "model_name": "HTMLModel",
     "state": {
      "_dom_classes": [],
      "_model_module": "@jupyter-widgets/controls",
      "_model_module_version": "1.5.0",
      "_model_name": "HTMLModel",
      "_view_count": null,
      "_view_module": "@jupyter-widgets/controls",
      "_view_module_version": "1.5.0",
      "_view_name": "HTMLView",
      "description": "",
      "description_tooltip": null,
      "layout": "IPY_MODEL_b83bf1426ede4436b9ae7ad4fb667a20",
      "placeholder": "​",
      "style": "IPY_MODEL_1f8cccd9e1184e70a96a8b1174d925a8",
      "value": " 7004/7004 [00:00&lt;00:00, 39706.25 examples/s]"
     }
    },
    "6d0fffd8096c4893958bc6c8b45461cb": {
     "model_module": "@jupyter-widgets/controls",
     "model_module_version": "1.5.0",
     "model_name": "HTMLModel",
     "state": {
      "_dom_classes": [],
      "_model_module": "@jupyter-widgets/controls",
      "_model_module_version": "1.5.0",
      "_model_name": "HTMLModel",
      "_view_count": null,
      "_view_module": "@jupyter-widgets/controls",
      "_view_module_version": "1.5.0",
      "_view_name": "HTMLView",
      "description": "",
      "description_tooltip": null,
      "layout": "IPY_MODEL_436ba13003544cd69d8c7d70bdc9ab5c",
      "placeholder": "​",
      "style": "IPY_MODEL_da3d52654326435bb27523e27d970581",
      "value": " 202k/202k [00:00&lt;00:00, 1.05MB/s]"
     }
    },
    "7485f04250284afc80ea930b17b87d69": {
     "model_module": "@jupyter-widgets/base",
     "model_module_version": "1.2.0",
     "model_name": "LayoutModel",
     "state": {
      "_model_module": "@jupyter-widgets/base",
      "_model_module_version": "1.2.0",
      "_model_name": "LayoutModel",
      "_view_count": null,
      "_view_module": "@jupyter-widgets/base",
      "_view_module_version": "1.2.0",
      "_view_name": "LayoutView",
      "align_content": null,
      "align_items": null,
      "align_self": null,
      "border": null,
      "bottom": null,
      "display": null,
      "flex": null,
      "flex_flow": null,
      "grid_area": null,
      "grid_auto_columns": null,
      "grid_auto_flow": null,
      "grid_auto_rows": null,
      "grid_column": null,
      "grid_gap": null,
      "grid_row": null,
      "grid_template_areas": null,
      "grid_template_columns": null,
      "grid_template_rows": null,
      "height": null,
      "justify_content": null,
      "justify_items": null,
      "left": null,
      "margin": null,
      "max_height": null,
      "max_width": null,
      "min_height": null,
      "min_width": null,
      "object_fit": null,
      "object_position": null,
      "order": null,
      "overflow": null,
      "overflow_x": null,
      "overflow_y": null,
      "padding": null,
      "right": null,
      "top": null,
      "visibility": null,
      "width": null
     }
    },
    "796631dad761497581992b0ece6ff772": {
     "model_module": "@jupyter-widgets/base",
     "model_module_version": "1.2.0",
     "model_name": "LayoutModel",
     "state": {
      "_model_module": "@jupyter-widgets/base",
      "_model_module_version": "1.2.0",
      "_model_name": "LayoutModel",
      "_view_count": null,
      "_view_module": "@jupyter-widgets/base",
      "_view_module_version": "1.2.0",
      "_view_name": "LayoutView",
      "align_content": null,
      "align_items": null,
      "align_self": null,
      "border": null,
      "bottom": null,
      "display": null,
      "flex": null,
      "flex_flow": null,
      "grid_area": null,
      "grid_auto_columns": null,
      "grid_auto_flow": null,
      "grid_auto_rows": null,
      "grid_column": null,
      "grid_gap": null,
      "grid_row": null,
      "grid_template_areas": null,
      "grid_template_columns": null,
      "grid_template_rows": null,
      "height": null,
      "justify_content": null,
      "justify_items": null,
      "left": null,
      "margin": null,
      "max_height": null,
      "max_width": null,
      "min_height": null,
      "min_width": null,
      "object_fit": null,
      "object_position": null,
      "order": null,
      "overflow": null,
      "overflow_x": null,
      "overflow_y": null,
      "padding": null,
      "right": null,
      "top": null,
      "visibility": null,
      "width": null
     }
    },
    "8100337878264285bbcfd46070961f0e": {
     "model_module": "@jupyter-widgets/controls",
     "model_module_version": "1.5.0",
     "model_name": "DescriptionStyleModel",
     "state": {
      "_model_module": "@jupyter-widgets/controls",
      "_model_module_version": "1.5.0",
      "_model_name": "DescriptionStyleModel",
      "_view_count": null,
      "_view_module": "@jupyter-widgets/base",
      "_view_module_version": "1.2.0",
      "_view_name": "StyleView",
      "description_width": ""
     }
    },
    "82c1c86539e047e9a38c4eafaa872ac5": {
     "model_module": "@jupyter-widgets/controls",
     "model_module_version": "1.5.0",
     "model_name": "HTMLModel",
     "state": {
      "_dom_classes": [],
      "_model_module": "@jupyter-widgets/controls",
      "_model_module_version": "1.5.0",
      "_model_name": "HTMLModel",
      "_view_count": null,
      "_view_module": "@jupyter-widgets/controls",
      "_view_module_version": "1.5.0",
      "_view_name": "HTMLView",
      "description": "",
      "description_tooltip": null,
      "layout": "IPY_MODEL_bede8f56dfdd4c9782061fc1bc8b9e0c",
      "placeholder": "​",
      "style": "IPY_MODEL_1a0140263d5e40779e59dbbb85af996e",
      "value": " 232k/232k [00:00&lt;00:00, 2.40MB/s]"
     }
    },
    "88e446e1ce5446d4a33106469e20d7b9": {
     "model_module": "@jupyter-widgets/controls",
     "model_module_version": "1.5.0",
     "model_name": "HTMLModel",
     "state": {
      "_dom_classes": [],
      "_model_module": "@jupyter-widgets/controls",
      "_model_module_version": "1.5.0",
      "_model_name": "HTMLModel",
      "_view_count": null,
      "_view_module": "@jupyter-widgets/controls",
      "_view_module_version": "1.5.0",
      "_view_name": "HTMLView",
      "description": "",
      "description_tooltip": null,
      "layout": "IPY_MODEL_d4992b5a28904b07bbc453e347281520",
      "placeholder": "​",
      "style": "IPY_MODEL_0981b4c23bb04f12b30d92543269ad40",
      "value": " 570/570 [00:00&lt;00:00, 19.4kB/s]"
     }
    },
    "897359da5d0a4c30b2739fc5b9744557": {
     "model_module": "@jupyter-widgets/base",
     "model_module_version": "1.2.0",
     "model_name": "LayoutModel",
     "state": {
      "_model_module": "@jupyter-widgets/base",
      "_model_module_version": "1.2.0",
      "_model_name": "LayoutModel",
      "_view_count": null,
      "_view_module": "@jupyter-widgets/base",
      "_view_module_version": "1.2.0",
      "_view_name": "LayoutView",
      "align_content": null,
      "align_items": null,
      "align_self": null,
      "border": null,
      "bottom": null,
      "display": null,
      "flex": null,
      "flex_flow": null,
      "grid_area": null,
      "grid_auto_columns": null,
      "grid_auto_flow": null,
      "grid_auto_rows": null,
      "grid_column": null,
      "grid_gap": null,
      "grid_row": null,
      "grid_template_areas": null,
      "grid_template_columns": null,
      "grid_template_rows": null,
      "height": null,
      "justify_content": null,
      "justify_items": null,
      "left": null,
      "margin": null,
      "max_height": null,
      "max_width": null,
      "min_height": null,
      "min_width": null,
      "object_fit": null,
      "object_position": null,
      "order": null,
      "overflow": null,
      "overflow_x": null,
      "overflow_y": null,
      "padding": null,
      "right": null,
      "top": null,
      "visibility": null,
      "width": null
     }
    },
    "8d842a656ebf45729b2466d59474a07b": {
     "model_module": "@jupyter-widgets/base",
     "model_module_version": "1.2.0",
     "model_name": "LayoutModel",
     "state": {
      "_model_module": "@jupyter-widgets/base",
      "_model_module_version": "1.2.0",
      "_model_name": "LayoutModel",
      "_view_count": null,
      "_view_module": "@jupyter-widgets/base",
      "_view_module_version": "1.2.0",
      "_view_name": "LayoutView",
      "align_content": null,
      "align_items": null,
      "align_self": null,
      "border": null,
      "bottom": null,
      "display": null,
      "flex": null,
      "flex_flow": null,
      "grid_area": null,
      "grid_auto_columns": null,
      "grid_auto_flow": null,
      "grid_auto_rows": null,
      "grid_column": null,
      "grid_gap": null,
      "grid_row": null,
      "grid_template_areas": null,
      "grid_template_columns": null,
      "grid_template_rows": null,
      "height": null,
      "justify_content": null,
      "justify_items": null,
      "left": null,
      "margin": null,
      "max_height": null,
      "max_width": null,
      "min_height": null,
      "min_width": null,
      "object_fit": null,
      "object_position": null,
      "order": null,
      "overflow": null,
      "overflow_x": null,
      "overflow_y": null,
      "padding": null,
      "right": null,
      "top": null,
      "visibility": null,
      "width": null
     }
    },
    "90d35b10daa34c4dbcc3c7dbebb10c0b": {
     "model_module": "@jupyter-widgets/base",
     "model_module_version": "1.2.0",
     "model_name": "LayoutModel",
     "state": {
      "_model_module": "@jupyter-widgets/base",
      "_model_module_version": "1.2.0",
      "_model_name": "LayoutModel",
      "_view_count": null,
      "_view_module": "@jupyter-widgets/base",
      "_view_module_version": "1.2.0",
      "_view_name": "LayoutView",
      "align_content": null,
      "align_items": null,
      "align_self": null,
      "border": null,
      "bottom": null,
      "display": null,
      "flex": null,
      "flex_flow": null,
      "grid_area": null,
      "grid_auto_columns": null,
      "grid_auto_flow": null,
      "grid_auto_rows": null,
      "grid_column": null,
      "grid_gap": null,
      "grid_row": null,
      "grid_template_areas": null,
      "grid_template_columns": null,
      "grid_template_rows": null,
      "height": null,
      "justify_content": null,
      "justify_items": null,
      "left": null,
      "margin": null,
      "max_height": null,
      "max_width": null,
      "min_height": null,
      "min_width": null,
      "object_fit": null,
      "object_position": null,
      "order": null,
      "overflow": null,
      "overflow_x": null,
      "overflow_y": null,
      "padding": null,
      "right": null,
      "top": null,
      "visibility": null,
      "width": null
     }
    },
    "91725fb8ae34456e821f75fe90902d58": {
     "model_module": "@jupyter-widgets/base",
     "model_module_version": "1.2.0",
     "model_name": "LayoutModel",
     "state": {
      "_model_module": "@jupyter-widgets/base",
      "_model_module_version": "1.2.0",
      "_model_name": "LayoutModel",
      "_view_count": null,
      "_view_module": "@jupyter-widgets/base",
      "_view_module_version": "1.2.0",
      "_view_name": "LayoutView",
      "align_content": null,
      "align_items": null,
      "align_self": null,
      "border": null,
      "bottom": null,
      "display": null,
      "flex": null,
      "flex_flow": null,
      "grid_area": null,
      "grid_auto_columns": null,
      "grid_auto_flow": null,
      "grid_auto_rows": null,
      "grid_column": null,
      "grid_gap": null,
      "grid_row": null,
      "grid_template_areas": null,
      "grid_template_columns": null,
      "grid_template_rows": null,
      "height": null,
      "justify_content": null,
      "justify_items": null,
      "left": null,
      "margin": null,
      "max_height": null,
      "max_width": null,
      "min_height": null,
      "min_width": null,
      "object_fit": null,
      "object_position": null,
      "order": null,
      "overflow": null,
      "overflow_x": null,
      "overflow_y": null,
      "padding": null,
      "right": null,
      "top": null,
      "visibility": null,
      "width": null
     }
    },
    "926cc05437b94ba693de33db18564146": {
     "model_module": "@jupyter-widgets/controls",
     "model_module_version": "1.5.0",
     "model_name": "HTMLModel",
     "state": {
      "_dom_classes": [],
      "_model_module": "@jupyter-widgets/controls",
      "_model_module_version": "1.5.0",
      "_model_name": "HTMLModel",
      "_view_count": null,
      "_view_module": "@jupyter-widgets/controls",
      "_view_module_version": "1.5.0",
      "_view_name": "HTMLView",
      "description": "",
      "description_tooltip": null,
      "layout": "IPY_MODEL_b42feb25fc5443a0aa660a24536690ab",
      "placeholder": "​",
      "style": "IPY_MODEL_e01e07d998d44041a024475144f2486d",
      "value": "Downloading data: 100%"
     }
    },
    "93bc4f82c49642ddabc7c96b5f08b3b5": {
     "model_module": "@jupyter-widgets/controls",
     "model_module_version": "1.5.0",
     "model_name": "DescriptionStyleModel",
     "state": {
      "_model_module": "@jupyter-widgets/controls",
      "_model_module_version": "1.5.0",
      "_model_name": "DescriptionStyleModel",
      "_view_count": null,
      "_view_module": "@jupyter-widgets/base",
      "_view_module_version": "1.2.0",
      "_view_name": "StyleView",
      "description_width": ""
     }
    },
    "9ba32169136d495f99d5f666d853b27f": {
     "model_module": "@jupyter-widgets/base",
     "model_module_version": "1.2.0",
     "model_name": "LayoutModel",
     "state": {
      "_model_module": "@jupyter-widgets/base",
      "_model_module_version": "1.2.0",
      "_model_name": "LayoutModel",
      "_view_count": null,
      "_view_module": "@jupyter-widgets/base",
      "_view_module_version": "1.2.0",
      "_view_name": "LayoutView",
      "align_content": null,
      "align_items": null,
      "align_self": null,
      "border": null,
      "bottom": null,
      "display": null,
      "flex": null,
      "flex_flow": null,
      "grid_area": null,
      "grid_auto_columns": null,
      "grid_auto_flow": null,
      "grid_auto_rows": null,
      "grid_column": null,
      "grid_gap": null,
      "grid_row": null,
      "grid_template_areas": null,
      "grid_template_columns": null,
      "grid_template_rows": null,
      "height": null,
      "justify_content": null,
      "justify_items": null,
      "left": null,
      "margin": null,
      "max_height": null,
      "max_width": null,
      "min_height": null,
      "min_width": null,
      "object_fit": null,
      "object_position": null,
      "order": null,
      "overflow": null,
      "overflow_x": null,
      "overflow_y": null,
      "padding": null,
      "right": null,
      "top": null,
      "visibility": null,
      "width": null
     }
    },
    "9bf725e6736e433ba00481164a8f4a6e": {
     "model_module": "@jupyter-widgets/controls",
     "model_module_version": "1.5.0",
     "model_name": "HTMLModel",
     "state": {
      "_dom_classes": [],
      "_model_module": "@jupyter-widgets/controls",
      "_model_module_version": "1.5.0",
      "_model_name": "HTMLModel",
      "_view_count": null,
      "_view_module": "@jupyter-widgets/controls",
      "_view_module_version": "1.5.0",
      "_view_name": "HTMLView",
      "description": "",
      "description_tooltip": null,
      "layout": "IPY_MODEL_bd6382aabd844ab0bb5b3b9dc5a64ec7",
      "placeholder": "​",
      "style": "IPY_MODEL_4f2c1d9e82ca4fa0a366e9a46d04acf4",
      "value": " 2000/2000 [00:00&lt;00:00, 43386.28 examples/s]"
     }
    },
    "9cb8cbb64e35415b9998fdad895745d9": {
     "model_module": "@jupyter-widgets/controls",
     "model_module_version": "1.5.0",
     "model_name": "HBoxModel",
     "state": {
      "_dom_classes": [],
      "_model_module": "@jupyter-widgets/controls",
      "_model_module_version": "1.5.0",
      "_model_name": "HBoxModel",
      "_view_count": null,
      "_view_module": "@jupyter-widgets/controls",
      "_view_module_version": "1.5.0",
      "_view_name": "HBoxView",
      "box_style": "",
      "children": [
       "IPY_MODEL_29b28edb5fea4c8082f4f0cbe8a00522",
       "IPY_MODEL_4582ce7c16874a5d8083a0f85b843514",
       "IPY_MODEL_88e446e1ce5446d4a33106469e20d7b9"
      ],
      "layout": "IPY_MODEL_e3b699c8b0ca4092bc27c15a9e2dc7d5"
     }
    },
    "9e626345c0ac44b1995d7eda95b079c1": {
     "model_module": "@jupyter-widgets/base",
     "model_module_version": "1.2.0",
     "model_name": "LayoutModel",
     "state": {
      "_model_module": "@jupyter-widgets/base",
      "_model_module_version": "1.2.0",
      "_model_name": "LayoutModel",
      "_view_count": null,
      "_view_module": "@jupyter-widgets/base",
      "_view_module_version": "1.2.0",
      "_view_name": "LayoutView",
      "align_content": null,
      "align_items": null,
      "align_self": null,
      "border": null,
      "bottom": null,
      "display": null,
      "flex": null,
      "flex_flow": null,
      "grid_area": null,
      "grid_auto_columns": null,
      "grid_auto_flow": null,
      "grid_auto_rows": null,
      "grid_column": null,
      "grid_gap": null,
      "grid_row": null,
      "grid_template_areas": null,
      "grid_template_columns": null,
      "grid_template_rows": null,
      "height": null,
      "justify_content": null,
      "justify_items": null,
      "left": null,
      "margin": null,
      "max_height": null,
      "max_width": null,
      "min_height": null,
      "min_width": null,
      "object_fit": null,
      "object_position": null,
      "order": null,
      "overflow": null,
      "overflow_x": null,
      "overflow_y": null,
      "padding": null,
      "right": null,
      "top": null,
      "visibility": null,
      "width": null
     }
    },
    "a03052757ec645b2b36bdeec09e0969a": {
     "model_module": "@jupyter-widgets/controls",
     "model_module_version": "1.5.0",
     "model_name": "ProgressStyleModel",
     "state": {
      "_model_module": "@jupyter-widgets/controls",
      "_model_module_version": "1.5.0",
      "_model_name": "ProgressStyleModel",
      "_view_count": null,
      "_view_module": "@jupyter-widgets/base",
      "_view_module_version": "1.2.0",
      "_view_name": "StyleView",
      "bar_color": null,
      "description_width": ""
     }
    },
    "a28796413e154f94b92fde00f9a5c97a": {
     "model_module": "@jupyter-widgets/controls",
     "model_module_version": "1.5.0",
     "model_name": "FloatProgressModel",
     "state": {
      "_dom_classes": [],
      "_model_module": "@jupyter-widgets/controls",
      "_model_module_version": "1.5.0",
      "_model_name": "FloatProgressModel",
      "_view_count": null,
      "_view_module": "@jupyter-widgets/controls",
      "_view_module_version": "1.5.0",
      "_view_name": "ProgressView",
      "bar_style": "success",
      "description": "",
      "description_tooltip": null,
      "layout": "IPY_MODEL_91725fb8ae34456e821f75fe90902d58",
      "max": 231508,
      "min": 0,
      "orientation": "horizontal",
      "style": "IPY_MODEL_19f51470fc0f4136bb1d66501f54b942",
      "value": 231508
     }
    },
    "ae55254a80ca4eea93f98690a4be9747": {
     "model_module": "@jupyter-widgets/controls",
     "model_module_version": "1.5.0",
     "model_name": "DescriptionStyleModel",
     "state": {
      "_model_module": "@jupyter-widgets/controls",
      "_model_module_version": "1.5.0",
      "_model_name": "DescriptionStyleModel",
      "_view_count": null,
      "_view_module": "@jupyter-widgets/base",
      "_view_module_version": "1.2.0",
      "_view_name": "StyleView",
      "description_width": ""
     }
    },
    "b1be2fa223c34c3faafce79f51d90cb8": {
     "model_module": "@jupyter-widgets/base",
     "model_module_version": "1.2.0",
     "model_name": "LayoutModel",
     "state": {
      "_model_module": "@jupyter-widgets/base",
      "_model_module_version": "1.2.0",
      "_model_name": "LayoutModel",
      "_view_count": null,
      "_view_module": "@jupyter-widgets/base",
      "_view_module_version": "1.2.0",
      "_view_name": "LayoutView",
      "align_content": null,
      "align_items": null,
      "align_self": null,
      "border": null,
      "bottom": null,
      "display": null,
      "flex": null,
      "flex_flow": null,
      "grid_area": null,
      "grid_auto_columns": null,
      "grid_auto_flow": null,
      "grid_auto_rows": null,
      "grid_column": null,
      "grid_gap": null,
      "grid_row": null,
      "grid_template_areas": null,
      "grid_template_columns": null,
      "grid_template_rows": null,
      "height": null,
      "justify_content": null,
      "justify_items": null,
      "left": null,
      "margin": null,
      "max_height": null,
      "max_width": null,
      "min_height": null,
      "min_width": null,
      "object_fit": null,
      "object_position": null,
      "order": null,
      "overflow": null,
      "overflow_x": null,
      "overflow_y": null,
      "padding": null,
      "right": null,
      "top": null,
      "visibility": null,
      "width": null
     }
    },
    "b42feb25fc5443a0aa660a24536690ab": {
     "model_module": "@jupyter-widgets/base",
     "model_module_version": "1.2.0",
     "model_name": "LayoutModel",
     "state": {
      "_model_module": "@jupyter-widgets/base",
      "_model_module_version": "1.2.0",
      "_model_name": "LayoutModel",
      "_view_count": null,
      "_view_module": "@jupyter-widgets/base",
      "_view_module_version": "1.2.0",
      "_view_name": "LayoutView",
      "align_content": null,
      "align_items": null,
      "align_self": null,
      "border": null,
      "bottom": null,
      "display": null,
      "flex": null,
      "flex_flow": null,
      "grid_area": null,
      "grid_auto_columns": null,
      "grid_auto_flow": null,
      "grid_auto_rows": null,
      "grid_column": null,
      "grid_gap": null,
      "grid_row": null,
      "grid_template_areas": null,
      "grid_template_columns": null,
      "grid_template_rows": null,
      "height": null,
      "justify_content": null,
      "justify_items": null,
      "left": null,
      "margin": null,
      "max_height": null,
      "max_width": null,
      "min_height": null,
      "min_width": null,
      "object_fit": null,
      "object_position": null,
      "order": null,
      "overflow": null,
      "overflow_x": null,
      "overflow_y": null,
      "padding": null,
      "right": null,
      "top": null,
      "visibility": null,
      "width": null
     }
    },
    "b471132f79f84c5bb1b3e9f4c8875ab2": {
     "model_module": "@jupyter-widgets/controls",
     "model_module_version": "1.5.0",
     "model_name": "HBoxModel",
     "state": {
      "_dom_classes": [],
      "_model_module": "@jupyter-widgets/controls",
      "_model_module_version": "1.5.0",
      "_model_name": "HBoxModel",
      "_view_count": null,
      "_view_module": "@jupyter-widgets/controls",
      "_view_module_version": "1.5.0",
      "_view_name": "HBoxView",
      "box_style": "",
      "children": [
       "IPY_MODEL_da229c984c374e38833c2faa3443cfe9",
       "IPY_MODEL_291d980dfaea4c2a91d2c56981230c6e",
       "IPY_MODEL_9bf725e6736e433ba00481164a8f4a6e"
      ],
      "layout": "IPY_MODEL_edf6121c296e443aa26582effb456d7c"
     }
    },
    "b515d00749294e5a8bbcfcff01c833d5": {
     "model_module": "@jupyter-widgets/base",
     "model_module_version": "1.2.0",
     "model_name": "LayoutModel",
     "state": {
      "_model_module": "@jupyter-widgets/base",
      "_model_module_version": "1.2.0",
      "_model_name": "LayoutModel",
      "_view_count": null,
      "_view_module": "@jupyter-widgets/base",
      "_view_module_version": "1.2.0",
      "_view_name": "LayoutView",
      "align_content": null,
      "align_items": null,
      "align_self": null,
      "border": null,
      "bottom": null,
      "display": null,
      "flex": null,
      "flex_flow": null,
      "grid_area": null,
      "grid_auto_columns": null,
      "grid_auto_flow": null,
      "grid_auto_rows": null,
      "grid_column": null,
      "grid_gap": null,
      "grid_row": null,
      "grid_template_areas": null,
      "grid_template_columns": null,
      "grid_template_rows": null,
      "height": null,
      "justify_content": null,
      "justify_items": null,
      "left": null,
      "margin": null,
      "max_height": null,
      "max_width": null,
      "min_height": null,
      "min_width": null,
      "object_fit": null,
      "object_position": null,
      "order": null,
      "overflow": null,
      "overflow_x": null,
      "overflow_y": null,
      "padding": null,
      "right": null,
      "top": null,
      "visibility": null,
      "width": null
     }
    },
    "b633141221034e82ad1c231e880c6cce": {
     "model_module": "@jupyter-widgets/base",
     "model_module_version": "1.2.0",
     "model_name": "LayoutModel",
     "state": {
      "_model_module": "@jupyter-widgets/base",
      "_model_module_version": "1.2.0",
      "_model_name": "LayoutModel",
      "_view_count": null,
      "_view_module": "@jupyter-widgets/base",
      "_view_module_version": "1.2.0",
      "_view_name": "LayoutView",
      "align_content": null,
      "align_items": null,
      "align_self": null,
      "border": null,
      "bottom": null,
      "display": null,
      "flex": null,
      "flex_flow": null,
      "grid_area": null,
      "grid_auto_columns": null,
      "grid_auto_flow": null,
      "grid_auto_rows": null,
      "grid_column": null,
      "grid_gap": null,
      "grid_row": null,
      "grid_template_areas": null,
      "grid_template_columns": null,
      "grid_template_rows": null,
      "height": null,
      "justify_content": null,
      "justify_items": null,
      "left": null,
      "margin": null,
      "max_height": null,
      "max_width": null,
      "min_height": null,
      "min_width": null,
      "object_fit": null,
      "object_position": null,
      "order": null,
      "overflow": null,
      "overflow_x": null,
      "overflow_y": null,
      "padding": null,
      "right": null,
      "top": null,
      "visibility": null,
      "width": null
     }
    },
    "b7e9e47bd9514015a10587643a58c254": {
     "model_module": "@jupyter-widgets/controls",
     "model_module_version": "1.5.0",
     "model_name": "FloatProgressModel",
     "state": {
      "_dom_classes": [],
      "_model_module": "@jupyter-widgets/controls",
      "_model_module_version": "1.5.0",
      "_model_name": "FloatProgressModel",
      "_view_count": null,
      "_view_module": "@jupyter-widgets/controls",
      "_view_module_version": "1.5.0",
      "_view_name": "ProgressView",
      "bar_style": "success",
      "description": "",
      "description_tooltip": null,
      "layout": "IPY_MODEL_e4e610f0c7ce4b27aacf329c8a6689a2",
      "max": 1000,
      "min": 0,
      "orientation": "horizontal",
      "style": "IPY_MODEL_288c9b8c6b3e4045b5a1b23d9a0a472f",
      "value": 1000
     }
    },
    "b83bf1426ede4436b9ae7ad4fb667a20": {
     "model_module": "@jupyter-widgets/base",
     "model_module_version": "1.2.0",
     "model_name": "LayoutModel",
     "state": {
      "_model_module": "@jupyter-widgets/base",
      "_model_module_version": "1.2.0",
      "_model_name": "LayoutModel",
      "_view_count": null,
      "_view_module": "@jupyter-widgets/base",
      "_view_module_version": "1.2.0",
      "_view_name": "LayoutView",
      "align_content": null,
      "align_items": null,
      "align_self": null,
      "border": null,
      "bottom": null,
      "display": null,
      "flex": null,
      "flex_flow": null,
      "grid_area": null,
      "grid_auto_columns": null,
      "grid_auto_flow": null,
      "grid_auto_rows": null,
      "grid_column": null,
      "grid_gap": null,
      "grid_row": null,
      "grid_template_areas": null,
      "grid_template_columns": null,
      "grid_template_rows": null,
      "height": null,
      "justify_content": null,
      "justify_items": null,
      "left": null,
      "margin": null,
      "max_height": null,
      "max_width": null,
      "min_height": null,
      "min_width": null,
      "object_fit": null,
      "object_position": null,
      "order": null,
      "overflow": null,
      "overflow_x": null,
      "overflow_y": null,
      "padding": null,
      "right": null,
      "top": null,
      "visibility": null,
      "width": null
     }
    },
    "ba845c2c29b84043991fe0e21bbc882c": {
     "model_module": "@jupyter-widgets/base",
     "model_module_version": "1.2.0",
     "model_name": "LayoutModel",
     "state": {
      "_model_module": "@jupyter-widgets/base",
      "_model_module_version": "1.2.0",
      "_model_name": "LayoutModel",
      "_view_count": null,
      "_view_module": "@jupyter-widgets/base",
      "_view_module_version": "1.2.0",
      "_view_name": "LayoutView",
      "align_content": null,
      "align_items": null,
      "align_self": null,
      "border": null,
      "bottom": null,
      "display": null,
      "flex": null,
      "flex_flow": null,
      "grid_area": null,
      "grid_auto_columns": null,
      "grid_auto_flow": null,
      "grid_auto_rows": null,
      "grid_column": null,
      "grid_gap": null,
      "grid_row": null,
      "grid_template_areas": null,
      "grid_template_columns": null,
      "grid_template_rows": null,
      "height": null,
      "justify_content": null,
      "justify_items": null,
      "left": null,
      "margin": null,
      "max_height": null,
      "max_width": null,
      "min_height": null,
      "min_width": null,
      "object_fit": null,
      "object_position": null,
      "order": null,
      "overflow": null,
      "overflow_x": null,
      "overflow_y": null,
      "padding": null,
      "right": null,
      "top": null,
      "visibility": null,
      "width": null
     }
    },
    "bb51a8e0d52e4aef83e9f94bf2645afc": {
     "model_module": "@jupyter-widgets/controls",
     "model_module_version": "1.5.0",
     "model_name": "HTMLModel",
     "state": {
      "_dom_classes": [],
      "_model_module": "@jupyter-widgets/controls",
      "_model_module_version": "1.5.0",
      "_model_name": "HTMLModel",
      "_view_count": null,
      "_view_module": "@jupyter-widgets/controls",
      "_view_module_version": "1.5.0",
      "_view_name": "HTMLView",
      "description": "",
      "description_tooltip": null,
      "layout": "IPY_MODEL_bbb241ce5b2542e88f9d8d6868974817",
      "placeholder": "​",
      "style": "IPY_MODEL_105fe7d7c1b849b486110dd1cc58c6b3",
      "value": "Downloading data: 100%"
     }
    },
    "bb8bb9ecd8c344e08a40320add50525f": {
     "model_module": "@jupyter-widgets/base",
     "model_module_version": "1.2.0",
     "model_name": "LayoutModel",
     "state": {
      "_model_module": "@jupyter-widgets/base",
      "_model_module_version": "1.2.0",
      "_model_name": "LayoutModel",
      "_view_count": null,
      "_view_module": "@jupyter-widgets/base",
      "_view_module_version": "1.2.0",
      "_view_name": "LayoutView",
      "align_content": null,
      "align_items": null,
      "align_self": null,
      "border": null,
      "bottom": null,
      "display": null,
      "flex": null,
      "flex_flow": null,
      "grid_area": null,
      "grid_auto_columns": null,
      "grid_auto_flow": null,
      "grid_auto_rows": null,
      "grid_column": null,
      "grid_gap": null,
      "grid_row": null,
      "grid_template_areas": null,
      "grid_template_columns": null,
      "grid_template_rows": null,
      "height": null,
      "justify_content": null,
      "justify_items": null,
      "left": null,
      "margin": null,
      "max_height": null,
      "max_width": null,
      "min_height": null,
      "min_width": null,
      "object_fit": null,
      "object_position": null,
      "order": null,
      "overflow": null,
      "overflow_x": null,
      "overflow_y": null,
      "padding": null,
      "right": null,
      "top": null,
      "visibility": null,
      "width": null
     }
    },
    "bbb241ce5b2542e88f9d8d6868974817": {
     "model_module": "@jupyter-widgets/base",
     "model_module_version": "1.2.0",
     "model_name": "LayoutModel",
     "state": {
      "_model_module": "@jupyter-widgets/base",
      "_model_module_version": "1.2.0",
      "_model_name": "LayoutModel",
      "_view_count": null,
      "_view_module": "@jupyter-widgets/base",
      "_view_module_version": "1.2.0",
      "_view_name": "LayoutView",
      "align_content": null,
      "align_items": null,
      "align_self": null,
      "border": null,
      "bottom": null,
      "display": null,
      "flex": null,
      "flex_flow": null,
      "grid_area": null,
      "grid_auto_columns": null,
      "grid_auto_flow": null,
      "grid_auto_rows": null,
      "grid_column": null,
      "grid_gap": null,
      "grid_row": null,
      "grid_template_areas": null,
      "grid_template_columns": null,
      "grid_template_rows": null,
      "height": null,
      "justify_content": null,
      "justify_items": null,
      "left": null,
      "margin": null,
      "max_height": null,
      "max_width": null,
      "min_height": null,
      "min_width": null,
      "object_fit": null,
      "object_position": null,
      "order": null,
      "overflow": null,
      "overflow_x": null,
      "overflow_y": null,
      "padding": null,
      "right": null,
      "top": null,
      "visibility": null,
      "width": null
     }
    },
    "bbcf6dee07b9482f832ecf82fd0aa956": {
     "model_module": "@jupyter-widgets/controls",
     "model_module_version": "1.5.0",
     "model_name": "HBoxModel",
     "state": {
      "_dom_classes": [],
      "_model_module": "@jupyter-widgets/controls",
      "_model_module_version": "1.5.0",
      "_model_name": "HBoxModel",
      "_view_count": null,
      "_view_module": "@jupyter-widgets/controls",
      "_view_module_version": "1.5.0",
      "_view_name": "HBoxView",
      "box_style": "",
      "children": [
       "IPY_MODEL_48539b6a805f4c439669013fc3147b7e",
       "IPY_MODEL_4fb441385a634d57a0133836aab14624",
       "IPY_MODEL_695a9692a04a48c2942837ed3878380c"
      ],
      "layout": "IPY_MODEL_19f4e085a1144120a2e0e1e75847e7ac"
     }
    },
    "bd6382aabd844ab0bb5b3b9dc5a64ec7": {
     "model_module": "@jupyter-widgets/base",
     "model_module_version": "1.2.0",
     "model_name": "LayoutModel",
     "state": {
      "_model_module": "@jupyter-widgets/base",
      "_model_module_version": "1.2.0",
      "_model_name": "LayoutModel",
      "_view_count": null,
      "_view_module": "@jupyter-widgets/base",
      "_view_module_version": "1.2.0",
      "_view_name": "LayoutView",
      "align_content": null,
      "align_items": null,
      "align_self": null,
      "border": null,
      "bottom": null,
      "display": null,
      "flex": null,
      "flex_flow": null,
      "grid_area": null,
      "grid_auto_columns": null,
      "grid_auto_flow": null,
      "grid_auto_rows": null,
      "grid_column": null,
      "grid_gap": null,
      "grid_row": null,
      "grid_template_areas": null,
      "grid_template_columns": null,
      "grid_template_rows": null,
      "height": null,
      "justify_content": null,
      "justify_items": null,
      "left": null,
      "margin": null,
      "max_height": null,
      "max_width": null,
      "min_height": null,
      "min_width": null,
      "object_fit": null,
      "object_position": null,
      "order": null,
      "overflow": null,
      "overflow_x": null,
      "overflow_y": null,
      "padding": null,
      "right": null,
      "top": null,
      "visibility": null,
      "width": null
     }
    },
    "bda79f68b6244d4db7072b5f0a3e8a74": {
     "model_module": "@jupyter-widgets/controls",
     "model_module_version": "1.5.0",
     "model_name": "DescriptionStyleModel",
     "state": {
      "_model_module": "@jupyter-widgets/controls",
      "_model_module_version": "1.5.0",
      "_model_name": "DescriptionStyleModel",
      "_view_count": null,
      "_view_module": "@jupyter-widgets/base",
      "_view_module_version": "1.2.0",
      "_view_name": "StyleView",
      "description_width": ""
     }
    },
    "bede8f56dfdd4c9782061fc1bc8b9e0c": {
     "model_module": "@jupyter-widgets/base",
     "model_module_version": "1.2.0",
     "model_name": "LayoutModel",
     "state": {
      "_model_module": "@jupyter-widgets/base",
      "_model_module_version": "1.2.0",
      "_model_name": "LayoutModel",
      "_view_count": null,
      "_view_module": "@jupyter-widgets/base",
      "_view_module_version": "1.2.0",
      "_view_name": "LayoutView",
      "align_content": null,
      "align_items": null,
      "align_self": null,
      "border": null,
      "bottom": null,
      "display": null,
      "flex": null,
      "flex_flow": null,
      "grid_area": null,
      "grid_auto_columns": null,
      "grid_auto_flow": null,
      "grid_auto_rows": null,
      "grid_column": null,
      "grid_gap": null,
      "grid_row": null,
      "grid_template_areas": null,
      "grid_template_columns": null,
      "grid_template_rows": null,
      "height": null,
      "justify_content": null,
      "justify_items": null,
      "left": null,
      "margin": null,
      "max_height": null,
      "max_width": null,
      "min_height": null,
      "min_width": null,
      "object_fit": null,
      "object_position": null,
      "order": null,
      "overflow": null,
      "overflow_x": null,
      "overflow_y": null,
      "padding": null,
      "right": null,
      "top": null,
      "visibility": null,
      "width": null
     }
    },
    "c43eb7aabfd84178aec0fce0e5779a8e": {
     "model_module": "@jupyter-widgets/base",
     "model_module_version": "1.2.0",
     "model_name": "LayoutModel",
     "state": {
      "_model_module": "@jupyter-widgets/base",
      "_model_module_version": "1.2.0",
      "_model_name": "LayoutModel",
      "_view_count": null,
      "_view_module": "@jupyter-widgets/base",
      "_view_module_version": "1.2.0",
      "_view_name": "LayoutView",
      "align_content": null,
      "align_items": null,
      "align_self": null,
      "border": null,
      "bottom": null,
      "display": null,
      "flex": null,
      "flex_flow": null,
      "grid_area": null,
      "grid_auto_columns": null,
      "grid_auto_flow": null,
      "grid_auto_rows": null,
      "grid_column": null,
      "grid_gap": null,
      "grid_row": null,
      "grid_template_areas": null,
      "grid_template_columns": null,
      "grid_template_rows": null,
      "height": null,
      "justify_content": null,
      "justify_items": null,
      "left": null,
      "margin": null,
      "max_height": null,
      "max_width": null,
      "min_height": null,
      "min_width": null,
      "object_fit": null,
      "object_position": null,
      "order": null,
      "overflow": null,
      "overflow_x": null,
      "overflow_y": null,
      "padding": null,
      "right": null,
      "top": null,
      "visibility": null,
      "width": null
     }
    },
    "c65e6ee1781744f08874b448f127db98": {
     "model_module": "@jupyter-widgets/controls",
     "model_module_version": "1.5.0",
     "model_name": "HBoxModel",
     "state": {
      "_dom_classes": [],
      "_model_module": "@jupyter-widgets/controls",
      "_model_module_version": "1.5.0",
      "_model_name": "HBoxModel",
      "_view_count": null,
      "_view_module": "@jupyter-widgets/controls",
      "_view_module_version": "1.5.0",
      "_view_name": "HBoxView",
      "box_style": "",
      "children": [
       "IPY_MODEL_926cc05437b94ba693de33db18564146",
       "IPY_MODEL_1b7ef4b20f4a4fdb9364fcf32f09f80e",
       "IPY_MODEL_6d0fffd8096c4893958bc6c8b45461cb"
      ],
      "layout": "IPY_MODEL_22ecd295b46549ea9b758bc1b6004486"
     }
    },
    "c87f83f31bad49ad93fcdd36205a16bd": {
     "model_module": "@jupyter-widgets/base",
     "model_module_version": "1.2.0",
     "model_name": "LayoutModel",
     "state": {
      "_model_module": "@jupyter-widgets/base",
      "_model_module_version": "1.2.0",
      "_model_name": "LayoutModel",
      "_view_count": null,
      "_view_module": "@jupyter-widgets/base",
      "_view_module_version": "1.2.0",
      "_view_name": "LayoutView",
      "align_content": null,
      "align_items": null,
      "align_self": null,
      "border": null,
      "bottom": null,
      "display": null,
      "flex": null,
      "flex_flow": null,
      "grid_area": null,
      "grid_auto_columns": null,
      "grid_auto_flow": null,
      "grid_auto_rows": null,
      "grid_column": null,
      "grid_gap": null,
      "grid_row": null,
      "grid_template_areas": null,
      "grid_template_columns": null,
      "grid_template_rows": null,
      "height": null,
      "justify_content": null,
      "justify_items": null,
      "left": null,
      "margin": null,
      "max_height": null,
      "max_width": null,
      "min_height": null,
      "min_width": null,
      "object_fit": null,
      "object_position": null,
      "order": null,
      "overflow": null,
      "overflow_x": null,
      "overflow_y": null,
      "padding": null,
      "right": null,
      "top": null,
      "visibility": null,
      "width": null
     }
    },
    "c9834bc962ea46f9acd7829ed6b17278": {
     "model_module": "@jupyter-widgets/controls",
     "model_module_version": "1.5.0",
     "model_name": "ProgressStyleModel",
     "state": {
      "_model_module": "@jupyter-widgets/controls",
      "_model_module_version": "1.5.0",
      "_model_name": "ProgressStyleModel",
      "_view_count": null,
      "_view_module": "@jupyter-widgets/base",
      "_view_module_version": "1.2.0",
      "_view_name": "StyleView",
      "bar_color": null,
      "description_width": ""
     }
    },
    "cc3780cb4a014d15b6e04f5d51bf3401": {
     "model_module": "@jupyter-widgets/controls",
     "model_module_version": "1.5.0",
     "model_name": "DescriptionStyleModel",
     "state": {
      "_model_module": "@jupyter-widgets/controls",
      "_model_module_version": "1.5.0",
      "_model_name": "DescriptionStyleModel",
      "_view_count": null,
      "_view_module": "@jupyter-widgets/base",
      "_view_module_version": "1.2.0",
      "_view_name": "StyleView",
      "description_width": ""
     }
    },
    "ced64c63d7a54181bb118cb6d66cfb16": {
     "model_module": "@jupyter-widgets/base",
     "model_module_version": "1.2.0",
     "model_name": "LayoutModel",
     "state": {
      "_model_module": "@jupyter-widgets/base",
      "_model_module_version": "1.2.0",
      "_model_name": "LayoutModel",
      "_view_count": null,
      "_view_module": "@jupyter-widgets/base",
      "_view_module_version": "1.2.0",
      "_view_name": "LayoutView",
      "align_content": null,
      "align_items": null,
      "align_self": null,
      "border": null,
      "bottom": null,
      "display": null,
      "flex": null,
      "flex_flow": null,
      "grid_area": null,
      "grid_auto_columns": null,
      "grid_auto_flow": null,
      "grid_auto_rows": null,
      "grid_column": null,
      "grid_gap": null,
      "grid_row": null,
      "grid_template_areas": null,
      "grid_template_columns": null,
      "grid_template_rows": null,
      "height": null,
      "justify_content": null,
      "justify_items": null,
      "left": null,
      "margin": null,
      "max_height": null,
      "max_width": null,
      "min_height": null,
      "min_width": null,
      "object_fit": null,
      "object_position": null,
      "order": null,
      "overflow": null,
      "overflow_x": null,
      "overflow_y": null,
      "padding": null,
      "right": null,
      "top": null,
      "visibility": null,
      "width": null
     }
    },
    "d1296a65773b4b2ca4c2337a929590c8": {
     "model_module": "@jupyter-widgets/controls",
     "model_module_version": "1.5.0",
     "model_name": "DescriptionStyleModel",
     "state": {
      "_model_module": "@jupyter-widgets/controls",
      "_model_module_version": "1.5.0",
      "_model_name": "DescriptionStyleModel",
      "_view_count": null,
      "_view_module": "@jupyter-widgets/base",
      "_view_module_version": "1.2.0",
      "_view_name": "StyleView",
      "description_width": ""
     }
    },
    "d2f4d34f159442b49b43eb76c884538f": {
     "model_module": "@jupyter-widgets/controls",
     "model_module_version": "1.5.0",
     "model_name": "HBoxModel",
     "state": {
      "_dom_classes": [],
      "_model_module": "@jupyter-widgets/controls",
      "_model_module_version": "1.5.0",
      "_model_name": "HBoxModel",
      "_view_count": null,
      "_view_module": "@jupyter-widgets/controls",
      "_view_module_version": "1.5.0",
      "_view_name": "HBoxView",
      "box_style": "",
      "children": [
       "IPY_MODEL_e9d4f672645b436cb4eddea7be92aa43",
       "IPY_MODEL_e2a36a4895e645c8a73db6eec7636833",
       "IPY_MODEL_395a0464632549319a14ec14856edafb"
      ],
      "layout": "IPY_MODEL_b1be2fa223c34c3faafce79f51d90cb8"
     }
    },
    "d4992b5a28904b07bbc453e347281520": {
     "model_module": "@jupyter-widgets/base",
     "model_module_version": "1.2.0",
     "model_name": "LayoutModel",
     "state": {
      "_model_module": "@jupyter-widgets/base",
      "_model_module_version": "1.2.0",
      "_model_name": "LayoutModel",
      "_view_count": null,
      "_view_module": "@jupyter-widgets/base",
      "_view_module_version": "1.2.0",
      "_view_name": "LayoutView",
      "align_content": null,
      "align_items": null,
      "align_self": null,
      "border": null,
      "bottom": null,
      "display": null,
      "flex": null,
      "flex_flow": null,
      "grid_area": null,
      "grid_auto_columns": null,
      "grid_auto_flow": null,
      "grid_auto_rows": null,
      "grid_column": null,
      "grid_gap": null,
      "grid_row": null,
      "grid_template_areas": null,
      "grid_template_columns": null,
      "grid_template_rows": null,
      "height": null,
      "justify_content": null,
      "justify_items": null,
      "left": null,
      "margin": null,
      "max_height": null,
      "max_width": null,
      "min_height": null,
      "min_width": null,
      "object_fit": null,
      "object_position": null,
      "order": null,
      "overflow": null,
      "overflow_x": null,
      "overflow_y": null,
      "padding": null,
      "right": null,
      "top": null,
      "visibility": null,
      "width": null
     }
    },
    "d837a241ec004d1eb1ceb06391df9a3b": {
     "model_module": "@jupyter-widgets/controls",
     "model_module_version": "1.5.0",
     "model_name": "ProgressStyleModel",
     "state": {
      "_model_module": "@jupyter-widgets/controls",
      "_model_module_version": "1.5.0",
      "_model_name": "ProgressStyleModel",
      "_view_count": null,
      "_view_module": "@jupyter-widgets/base",
      "_view_module_version": "1.2.0",
      "_view_name": "StyleView",
      "bar_color": null,
      "description_width": ""
     }
    },
    "d9fdc5716ea6425fb1c31808d08af17a": {
     "model_module": "@jupyter-widgets/controls",
     "model_module_version": "1.5.0",
     "model_name": "HTMLModel",
     "state": {
      "_dom_classes": [],
      "_model_module": "@jupyter-widgets/controls",
      "_model_module_version": "1.5.0",
      "_model_name": "HTMLModel",
      "_view_count": null,
      "_view_module": "@jupyter-widgets/controls",
      "_view_module_version": "1.5.0",
      "_view_name": "HTMLView",
      "description": "",
      "description_tooltip": null,
      "layout": "IPY_MODEL_eb5dc57b71ba4ba7865c181325b0542a",
      "placeholder": "​",
      "style": "IPY_MODEL_032946b84a4a4fc3ab88a9c2607aebf6",
      "value": "model.safetensors: 100%"
     }
    },
    "da229c984c374e38833c2faa3443cfe9": {
     "model_module": "@jupyter-widgets/controls",
     "model_module_version": "1.5.0",
     "model_name": "HTMLModel",
     "state": {
      "_dom_classes": [],
      "_model_module": "@jupyter-widgets/controls",
      "_model_module_version": "1.5.0",
      "_model_name": "HTMLModel",
      "_view_count": null,
      "_view_module": "@jupyter-widgets/controls",
      "_view_module_version": "1.5.0",
      "_view_name": "HTMLView",
      "description": "",
      "description_tooltip": null,
      "layout": "IPY_MODEL_ba845c2c29b84043991fe0e21bbc882c",
      "placeholder": "​",
      "style": "IPY_MODEL_6401ffe7631a403ba0a8b9d0ebfb2322",
      "value": "Generating test split: 100%"
     }
    },
    "da3d52654326435bb27523e27d970581": {
     "model_module": "@jupyter-widgets/controls",
     "model_module_version": "1.5.0",
     "model_name": "DescriptionStyleModel",
     "state": {
      "_model_module": "@jupyter-widgets/controls",
      "_model_module_version": "1.5.0",
      "_model_name": "DescriptionStyleModel",
      "_view_count": null,
      "_view_module": "@jupyter-widgets/base",
      "_view_module_version": "1.2.0",
      "_view_name": "StyleView",
      "description_width": ""
     }
    },
    "dca66a11646b426b8bf17dc4f55170d2": {
     "model_module": "@jupyter-widgets/base",
     "model_module_version": "1.2.0",
     "model_name": "LayoutModel",
     "state": {
      "_model_module": "@jupyter-widgets/base",
      "_model_module_version": "1.2.0",
      "_model_name": "LayoutModel",
      "_view_count": null,
      "_view_module": "@jupyter-widgets/base",
      "_view_module_version": "1.2.0",
      "_view_name": "LayoutView",
      "align_content": null,
      "align_items": null,
      "align_self": null,
      "border": null,
      "bottom": null,
      "display": null,
      "flex": null,
      "flex_flow": null,
      "grid_area": null,
      "grid_auto_columns": null,
      "grid_auto_flow": null,
      "grid_auto_rows": null,
      "grid_column": null,
      "grid_gap": null,
      "grid_row": null,
      "grid_template_areas": null,
      "grid_template_columns": null,
      "grid_template_rows": null,
      "height": null,
      "justify_content": null,
      "justify_items": null,
      "left": null,
      "margin": null,
      "max_height": null,
      "max_width": null,
      "min_height": null,
      "min_width": null,
      "object_fit": null,
      "object_position": null,
      "order": null,
      "overflow": null,
      "overflow_x": null,
      "overflow_y": null,
      "padding": null,
      "right": null,
      "top": null,
      "visibility": null,
      "width": null
     }
    },
    "e01e07d998d44041a024475144f2486d": {
     "model_module": "@jupyter-widgets/controls",
     "model_module_version": "1.5.0",
     "model_name": "DescriptionStyleModel",
     "state": {
      "_model_module": "@jupyter-widgets/controls",
      "_model_module_version": "1.5.0",
      "_model_name": "DescriptionStyleModel",
      "_view_count": null,
      "_view_module": "@jupyter-widgets/base",
      "_view_module_version": "1.2.0",
      "_view_name": "StyleView",
      "description_width": ""
     }
    },
    "e2a36a4895e645c8a73db6eec7636833": {
     "model_module": "@jupyter-widgets/controls",
     "model_module_version": "1.5.0",
     "model_name": "FloatProgressModel",
     "state": {
      "_dom_classes": [],
      "_model_module": "@jupyter-widgets/controls",
      "_model_module_version": "1.5.0",
      "_model_name": "FloatProgressModel",
      "_view_count": null,
      "_view_module": "@jupyter-widgets/controls",
      "_view_module_version": "1.5.0",
      "_view_name": "ProgressView",
      "bar_style": "success",
      "description": "",
      "description_tooltip": null,
      "layout": "IPY_MODEL_c87f83f31bad49ad93fcdd36205a16bd",
      "max": 28,
      "min": 0,
      "orientation": "horizontal",
      "style": "IPY_MODEL_a03052757ec645b2b36bdeec09e0969a",
      "value": 28
     }
    },
    "e3b699c8b0ca4092bc27c15a9e2dc7d5": {
     "model_module": "@jupyter-widgets/base",
     "model_module_version": "1.2.0",
     "model_name": "LayoutModel",
     "state": {
      "_model_module": "@jupyter-widgets/base",
      "_model_module_version": "1.2.0",
      "_model_name": "LayoutModel",
      "_view_count": null,
      "_view_module": "@jupyter-widgets/base",
      "_view_module_version": "1.2.0",
      "_view_name": "LayoutView",
      "align_content": null,
      "align_items": null,
      "align_self": null,
      "border": null,
      "bottom": null,
      "display": null,
      "flex": null,
      "flex_flow": null,
      "grid_area": null,
      "grid_auto_columns": null,
      "grid_auto_flow": null,
      "grid_auto_rows": null,
      "grid_column": null,
      "grid_gap": null,
      "grid_row": null,
      "grid_template_areas": null,
      "grid_template_columns": null,
      "grid_template_rows": null,
      "height": null,
      "justify_content": null,
      "justify_items": null,
      "left": null,
      "margin": null,
      "max_height": null,
      "max_width": null,
      "min_height": null,
      "min_width": null,
      "object_fit": null,
      "object_position": null,
      "order": null,
      "overflow": null,
      "overflow_x": null,
      "overflow_y": null,
      "padding": null,
      "right": null,
      "top": null,
      "visibility": null,
      "width": null
     }
    },
    "e3d045c2bd21433399d5841deb351c8d": {
     "model_module": "@jupyter-widgets/base",
     "model_module_version": "1.2.0",
     "model_name": "LayoutModel",
     "state": {
      "_model_module": "@jupyter-widgets/base",
      "_model_module_version": "1.2.0",
      "_model_name": "LayoutModel",
      "_view_count": null,
      "_view_module": "@jupyter-widgets/base",
      "_view_module_version": "1.2.0",
      "_view_name": "LayoutView",
      "align_content": null,
      "align_items": null,
      "align_self": null,
      "border": null,
      "bottom": null,
      "display": null,
      "flex": null,
      "flex_flow": null,
      "grid_area": null,
      "grid_auto_columns": null,
      "grid_auto_flow": null,
      "grid_auto_rows": null,
      "grid_column": null,
      "grid_gap": null,
      "grid_row": null,
      "grid_template_areas": null,
      "grid_template_columns": null,
      "grid_template_rows": null,
      "height": null,
      "justify_content": null,
      "justify_items": null,
      "left": null,
      "margin": null,
      "max_height": null,
      "max_width": null,
      "min_height": null,
      "min_width": null,
      "object_fit": null,
      "object_position": null,
      "order": null,
      "overflow": null,
      "overflow_x": null,
      "overflow_y": null,
      "padding": null,
      "right": null,
      "top": null,
      "visibility": null,
      "width": null
     }
    },
    "e4e610f0c7ce4b27aacf329c8a6689a2": {
     "model_module": "@jupyter-widgets/base",
     "model_module_version": "1.2.0",
     "model_name": "LayoutModel",
     "state": {
      "_model_module": "@jupyter-widgets/base",
      "_model_module_version": "1.2.0",
      "_model_name": "LayoutModel",
      "_view_count": null,
      "_view_module": "@jupyter-widgets/base",
      "_view_module_version": "1.2.0",
      "_view_name": "LayoutView",
      "align_content": null,
      "align_items": null,
      "align_self": null,
      "border": null,
      "bottom": null,
      "display": null,
      "flex": null,
      "flex_flow": null,
      "grid_area": null,
      "grid_auto_columns": null,
      "grid_auto_flow": null,
      "grid_auto_rows": null,
      "grid_column": null,
      "grid_gap": null,
      "grid_row": null,
      "grid_template_areas": null,
      "grid_template_columns": null,
      "grid_template_rows": null,
      "height": null,
      "justify_content": null,
      "justify_items": null,
      "left": null,
      "margin": null,
      "max_height": null,
      "max_width": null,
      "min_height": null,
      "min_width": null,
      "object_fit": null,
      "object_position": null,
      "order": null,
      "overflow": null,
      "overflow_x": null,
      "overflow_y": null,
      "padding": null,
      "right": null,
      "top": null,
      "visibility": null,
      "width": null
     }
    },
    "e5f48f6e067140bdb655d88a4b829061": {
     "model_module": "@jupyter-widgets/base",
     "model_module_version": "1.2.0",
     "model_name": "LayoutModel",
     "state": {
      "_model_module": "@jupyter-widgets/base",
      "_model_module_version": "1.2.0",
      "_model_name": "LayoutModel",
      "_view_count": null,
      "_view_module": "@jupyter-widgets/base",
      "_view_module_version": "1.2.0",
      "_view_name": "LayoutView",
      "align_content": null,
      "align_items": null,
      "align_self": null,
      "border": null,
      "bottom": null,
      "display": null,
      "flex": null,
      "flex_flow": null,
      "grid_area": null,
      "grid_auto_columns": null,
      "grid_auto_flow": null,
      "grid_auto_rows": null,
      "grid_column": null,
      "grid_gap": null,
      "grid_row": null,
      "grid_template_areas": null,
      "grid_template_columns": null,
      "grid_template_rows": null,
      "height": null,
      "justify_content": null,
      "justify_items": null,
      "left": null,
      "margin": null,
      "max_height": null,
      "max_width": null,
      "min_height": null,
      "min_width": null,
      "object_fit": null,
      "object_position": null,
      "order": null,
      "overflow": null,
      "overflow_x": null,
      "overflow_y": null,
      "padding": null,
      "right": null,
      "top": null,
      "visibility": null,
      "width": null
     }
    },
    "e7e19b9231f94997b51636196c52902a": {
     "model_module": "@jupyter-widgets/controls",
     "model_module_version": "1.5.0",
     "model_name": "FloatProgressModel",
     "state": {
      "_dom_classes": [],
      "_model_module": "@jupyter-widgets/controls",
      "_model_module_version": "1.5.0",
      "_model_name": "FloatProgressModel",
      "_view_count": null,
      "_view_module": "@jupyter-widgets/controls",
      "_view_module_version": "1.5.0",
      "_view_name": "ProgressView",
      "bar_style": "success",
      "description": "",
      "description_tooltip": null,
      "layout": "IPY_MODEL_592d108383694c78872a095e13eb9a9a",
      "max": 466062,
      "min": 0,
      "orientation": "horizontal",
      "style": "IPY_MODEL_f4c7c39cf396442cbfe4c53c39c891af",
      "value": 466062
     }
    },
    "e7f855e299df4947a6713e9243e7d4f6": {
     "model_module": "@jupyter-widgets/base",
     "model_module_version": "1.2.0",
     "model_name": "LayoutModel",
     "state": {
      "_model_module": "@jupyter-widgets/base",
      "_model_module_version": "1.2.0",
      "_model_name": "LayoutModel",
      "_view_count": null,
      "_view_module": "@jupyter-widgets/base",
      "_view_module_version": "1.2.0",
      "_view_name": "LayoutView",
      "align_content": null,
      "align_items": null,
      "align_self": null,
      "border": null,
      "bottom": null,
      "display": null,
      "flex": null,
      "flex_flow": null,
      "grid_area": null,
      "grid_auto_columns": null,
      "grid_auto_flow": null,
      "grid_auto_rows": null,
      "grid_column": null,
      "grid_gap": null,
      "grid_row": null,
      "grid_template_areas": null,
      "grid_template_columns": null,
      "grid_template_rows": null,
      "height": null,
      "justify_content": null,
      "justify_items": null,
      "left": null,
      "margin": null,
      "max_height": null,
      "max_width": null,
      "min_height": null,
      "min_width": null,
      "object_fit": null,
      "object_position": null,
      "order": null,
      "overflow": null,
      "overflow_x": null,
      "overflow_y": null,
      "padding": null,
      "right": null,
      "top": null,
      "visibility": null,
      "width": null
     }
    },
    "e9d4f672645b436cb4eddea7be92aa43": {
     "model_module": "@jupyter-widgets/controls",
     "model_module_version": "1.5.0",
     "model_name": "HTMLModel",
     "state": {
      "_dom_classes": [],
      "_model_module": "@jupyter-widgets/controls",
      "_model_module_version": "1.5.0",
      "_model_name": "HTMLModel",
      "_view_count": null,
      "_view_module": "@jupyter-widgets/controls",
      "_view_module_version": "1.5.0",
      "_view_name": "HTMLView",
      "description": "",
      "description_tooltip": null,
      "layout": "IPY_MODEL_48d1e1d769884ef19cee5db9a9653e3c",
      "placeholder": "​",
      "style": "IPY_MODEL_cc3780cb4a014d15b6e04f5d51bf3401",
      "value": "tokenizer_config.json: 100%"
     }
    },
    "eabe0ddf16b84417aef609b9985c81b6": {
     "model_module": "@jupyter-widgets/controls",
     "model_module_version": "1.5.0",
     "model_name": "ProgressStyleModel",
     "state": {
      "_model_module": "@jupyter-widgets/controls",
      "_model_module_version": "1.5.0",
      "_model_name": "ProgressStyleModel",
      "_view_count": null,
      "_view_module": "@jupyter-widgets/base",
      "_view_module_version": "1.2.0",
      "_view_name": "StyleView",
      "bar_color": null,
      "description_width": ""
     }
    },
    "eb5dc57b71ba4ba7865c181325b0542a": {
     "model_module": "@jupyter-widgets/base",
     "model_module_version": "1.2.0",
     "model_name": "LayoutModel",
     "state": {
      "_model_module": "@jupyter-widgets/base",
      "_model_module_version": "1.2.0",
      "_model_name": "LayoutModel",
      "_view_count": null,
      "_view_module": "@jupyter-widgets/base",
      "_view_module_version": "1.2.0",
      "_view_name": "LayoutView",
      "align_content": null,
      "align_items": null,
      "align_self": null,
      "border": null,
      "bottom": null,
      "display": null,
      "flex": null,
      "flex_flow": null,
      "grid_area": null,
      "grid_auto_columns": null,
      "grid_auto_flow": null,
      "grid_auto_rows": null,
      "grid_column": null,
      "grid_gap": null,
      "grid_row": null,
      "grid_template_areas": null,
      "grid_template_columns": null,
      "grid_template_rows": null,
      "height": null,
      "justify_content": null,
      "justify_items": null,
      "left": null,
      "margin": null,
      "max_height": null,
      "max_width": null,
      "min_height": null,
      "min_width": null,
      "object_fit": null,
      "object_position": null,
      "order": null,
      "overflow": null,
      "overflow_x": null,
      "overflow_y": null,
      "padding": null,
      "right": null,
      "top": null,
      "visibility": null,
      "width": null
     }
    },
    "edf6121c296e443aa26582effb456d7c": {
     "model_module": "@jupyter-widgets/base",
     "model_module_version": "1.2.0",
     "model_name": "LayoutModel",
     "state": {
      "_model_module": "@jupyter-widgets/base",
      "_model_module_version": "1.2.0",
      "_model_name": "LayoutModel",
      "_view_count": null,
      "_view_module": "@jupyter-widgets/base",
      "_view_module_version": "1.2.0",
      "_view_name": "LayoutView",
      "align_content": null,
      "align_items": null,
      "align_self": null,
      "border": null,
      "bottom": null,
      "display": null,
      "flex": null,
      "flex_flow": null,
      "grid_area": null,
      "grid_auto_columns": null,
      "grid_auto_flow": null,
      "grid_auto_rows": null,
      "grid_column": null,
      "grid_gap": null,
      "grid_row": null,
      "grid_template_areas": null,
      "grid_template_columns": null,
      "grid_template_rows": null,
      "height": null,
      "justify_content": null,
      "justify_items": null,
      "left": null,
      "margin": null,
      "max_height": null,
      "max_width": null,
      "min_height": null,
      "min_width": null,
      "object_fit": null,
      "object_position": null,
      "order": null,
      "overflow": null,
      "overflow_x": null,
      "overflow_y": null,
      "padding": null,
      "right": null,
      "top": null,
      "visibility": null,
      "width": null
     }
    },
    "f4395ded93504d3cb5e984c73194d8b1": {
     "model_module": "@jupyter-widgets/controls",
     "model_module_version": "1.5.0",
     "model_name": "HBoxModel",
     "state": {
      "_dom_classes": [],
      "_model_module": "@jupyter-widgets/controls",
      "_model_module_version": "1.5.0",
      "_model_name": "HBoxModel",
      "_view_count": null,
      "_view_module": "@jupyter-widgets/controls",
      "_view_module_version": "1.5.0",
      "_view_name": "HBoxView",
      "box_style": "",
      "children": [
       "IPY_MODEL_1d2cc93841ab464e90ae48ad02ab1cc6",
       "IPY_MODEL_0f38ec1580ad4108a502b3a05ec75863",
       "IPY_MODEL_34ca5abb764f481881a681b87ac0c138"
      ],
      "layout": "IPY_MODEL_dca66a11646b426b8bf17dc4f55170d2"
     }
    },
    "f4c7c39cf396442cbfe4c53c39c891af": {
     "model_module": "@jupyter-widgets/controls",
     "model_module_version": "1.5.0",
     "model_name": "ProgressStyleModel",
     "state": {
      "_model_module": "@jupyter-widgets/controls",
      "_model_module_version": "1.5.0",
      "_model_name": "ProgressStyleModel",
      "_view_count": null,
      "_view_module": "@jupyter-widgets/base",
      "_view_module_version": "1.2.0",
      "_view_name": "StyleView",
      "bar_color": null,
      "description_width": ""
     }
    },
    "f5108357b53041ffab4682ea12224b1b": {
     "model_module": "@jupyter-widgets/controls",
     "model_module_version": "1.5.0",
     "model_name": "HTMLModel",
     "state": {
      "_dom_classes": [],
      "_model_module": "@jupyter-widgets/controls",
      "_model_module_version": "1.5.0",
      "_model_name": "HTMLModel",
      "_view_count": null,
      "_view_module": "@jupyter-widgets/controls",
      "_view_module_version": "1.5.0",
      "_view_name": "HTMLView",
      "description": "",
      "description_tooltip": null,
      "layout": "IPY_MODEL_e3d045c2bd21433399d5841deb351c8d",
      "placeholder": "​",
      "style": "IPY_MODEL_bda79f68b6244d4db7072b5f0a3e8a74",
      "value": " 1000/1000 [00:00&lt;00:00, 18246.58 examples/s]"
     }
    }
   }
  }
 },
 "nbformat": 4,
 "nbformat_minor": 1
}
